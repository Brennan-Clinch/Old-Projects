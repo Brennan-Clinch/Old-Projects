{
 "cells": [
  {
   "cell_type": "code",
   "execution_count": null,
   "metadata": {},
   "outputs": [],
   "source": [
    "#problem 1\n",
    "import numpy as np\n",
    "a = np.random.randn(5,3)\n",
    "b = np.random.randn(5,3)\n",
    "c = a + b\n",
    "print('The maximum is', round(c.max(),2))\n",
    "print('The minimum is', round(c.min(),2))\n",
    "print('The sum is', round(c.sum(),2))\n",
    "print('The mean is', round(c.mean(), 2))\n",
    "print('The number of negative values is', np.where(c<0,1,0).sum())"
   ]
  },
  {
   "cell_type": "code",
   "execution_count": null,
   "metadata": {},
   "outputs": [],
   "source": [
    "#problem 2\n",
    "import numpy as np\n",
    "x = np.random.randn(5,4)\n",
    "print('the original matrix is:', x)\n",
    "print('the maximum values for each row:',x.max(axis = 1))\n",
    "print('the maximum values for each column:', x.max(axis = 0))\n",
    "print('the minimum values for each row:', x.min(axis = 1))\n",
    "print('the minimum values for each column:', x.min(axis = 0))\n",
    "print('the sub matrix:', x[2: , 1:])"
   ]
  },
  {
   "cell_type": "code",
   "execution_count": null,
   "metadata": {},
   "outputs": [],
   "source": [
    "#problem 3\n",
    "import numpy as np\n",
    "a = np.random.randn(10,10)\n",
    "print('The sum of all positive values is:', round((a*(a>0)).sum(), 2))\n",
    "print('The sum of all negative values is:', round((a*(a<0)).sum(), 2))"
   ]
  }
 ],
 "metadata": {
  "kernelspec": {
   "display_name": "Python 3",
   "language": "python",
   "name": "python3"
  },
  "language_info": {
   "codemirror_mode": {
    "name": "ipython",
    "version": 3
   },
   "file_extension": ".py",
   "mimetype": "text/x-python",
   "name": "python",
   "nbconvert_exporter": "python",
   "pygments_lexer": "ipython3",
   "version": "3.7.3"
  }
 },
 "nbformat": 4,
 "nbformat_minor": 2
}
