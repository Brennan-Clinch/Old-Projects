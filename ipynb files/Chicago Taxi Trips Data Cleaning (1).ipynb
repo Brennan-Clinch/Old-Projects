{
 "cells": [
  {
   "cell_type": "markdown",
   "id": "be3b8979",
   "metadata": {},
   "source": [
    "# Chicago Taxi Trips: Setup\n",
    "- In this file we will set up our data taken from Google BigQuery, discover initial trends, and wrangle it with weather data before doing our full EDA"
   ]
  },
  {
   "cell_type": "code",
   "execution_count": 1,
   "id": "b7454eab",
   "metadata": {},
   "outputs": [],
   "source": [
    "# Read in required libraries\n",
    "import pandas as pd\n",
    "import numpy as np\n",
    "import matplotlib.pyplot as plt\n",
    "import seaborn as sns"
   ]
  },
  {
   "cell_type": "markdown",
   "id": "bfcf7662",
   "metadata": {},
   "source": [
    "## Read in data files and combine them\n",
    "\n",
    "- Data was first queried on Google BigQuery"
   ]
  },
  {
   "cell_type": "code",
   "execution_count": 3,
   "id": "72d1b3c2",
   "metadata": {},
   "outputs": [],
   "source": [
    "#2021 Data\n",
    "df_2021 = pd.read_csv(\"C://Users//JCCLI//Downloads//ChicagoTaxiTrips2021.csv\", usecols = ('unique_key','trip_miles'\\\n",
    "                                                                                         ,'payment_type','company'\\\n",
    "                                                                                         ,'pickup_latitude','pickup_longitude'\\\n",
    "                                                                                         ,'dropoff_latitude','dropoff_longitude'\\\n",
    "                                                                                         ,'fare_dollars','trip_start_dt','trip_end_dt'\\\n",
    "                                                                                         ,'year','month','day','hour','weekday','cost_per_mile'\\\n",
    "                                                                                         ,'cost_per_minute','dropoff_area','pick_up_area','mph'))"
   ]
  },
  {
   "cell_type": "code",
   "execution_count": 4,
   "id": "4e2e20fb",
   "metadata": {},
   "outputs": [],
   "source": [
    "# 1st half of 2022 Data\n",
    "df_2022_P1 = pd.read_csv(\"C://Users//JCCLI//Downloads//ChicagoTaxiTrips2022P1.csv\",usecols=('unique_key','trip_miles'\\\n",
    "                                                                                ,'payment_type','company'\\\n",
    "                                                                                ,'pickup_latitude','pickup_longitude'\\\n",
    "                                                                                ,'dropoff_latitude','dropoff_longitude'\\\n",
    "                                                                                ,'fare_dollars','trip_start_dt'\\\n",
    "                                                                                ,'trip_end_dt','year','month','day','hour'\\\n",
    "                                                                                ,'weekday','cost_per_mile'\\\n",
    "                                                                                ,'cost_per_minute','dropoff_area'\\\n",
    "                                                                                ,'pick_up_area','mph'))"
   ]
  },
  {
   "cell_type": "code",
   "execution_count": 5,
   "id": "55853cf2",
   "metadata": {},
   "outputs": [],
   "source": [
    "# 2nd half of 2022 Data through 12/5\n",
    "df_2022_P2 = pd.read_csv(\"C://Users//JCCLI//Downloads//ChicagoTaxiTrips2022P2.csv\",usecols=('unique_key','trip_miles'\\\n",
    "                                                                            ,'payment_type','company','pickup_latitude'\\\n",
    "                                                                            ,'pickup_longitude','dropoff_latitude'\\\n",
    "                                                                            ,'dropoff_longitude','fare_dollars'\\\n",
    "                                                                            ,'trip_start_dt','trip_end_dt','year','month'\\\n",
    "                                                                            ,'day','hour','weekday','cost_per_mile'\\\n",
    "                                                                            ,'cost_per_minute','dropoff_area'\\\n",
    "                                                                            ,'pick_up_area','mph'))"
   ]
  },
  {
   "cell_type": "code",
   "execution_count": 7,
   "id": "b71ac991",
   "metadata": {},
   "outputs": [],
   "source": [
    "# December 2022 Data\n",
    "df_2022_end = pd.read_csv(\"C://Users//JCCLI//Downloads//Chicago_Taxi_Trips_2022E.csv\",usecols=('unique_key','trip_miles'\\\n",
    "                                                                             ,'payment_type','company','pickup_latitude'\\\n",
    "                                                                             ,'pickup_longitude','dropoff_latitude'\\\n",
    "                                                                             ,'dropoff_longitude','fare_dollars'\\\n",
    "                                                                             ,'trip_start_dt','trip_end_dt','year','month'\\\n",
    "                                                                             ,'day','hour','weekday'\\\n",
    "                                                                             ,'cost_per_minute','dropoff_area'\\\n",
    "                                                                             ,'pick_up_area','mph'))"
   ]
  },
  {
   "cell_type": "code",
   "execution_count": 8,
   "id": "293655ce",
   "metadata": {},
   "outputs": [],
   "source": [
    "# For modeling file\n",
    "df= pd.concat([df_2022_P1,df_2022_P2,df_2022_end],ignore_index=True)"
   ]
  },
  {
   "cell_type": "code",
   "execution_count": 8,
   "id": "8928cffa",
   "metadata": {},
   "outputs": [],
   "source": [
    "# Stack all datasets together\n",
    "# For EDA\n",
    "df_stack = pd.concat([df_2021,df_2022_P1,df_2022_P2,df_2022_end],ignore_index=True)"
   ]
  },
  {
   "cell_type": "code",
   "execution_count": 9,
   "id": "f55a8ab5",
   "metadata": {},
   "outputs": [
    {
     "name": "stdout",
     "output_type": "stream",
     "text": [
      "<class 'pandas.core.frame.DataFrame'>\n",
      "RangeIndex: 7017873 entries, 0 to 7017872\n",
      "Data columns (total 21 columns):\n",
      " #   Column             Dtype  \n",
      "---  ------             -----  \n",
      " 0   unique_key         object \n",
      " 1   trip_miles         float64\n",
      " 2   payment_type       object \n",
      " 3   company            object \n",
      " 4   pickup_latitude    float64\n",
      " 5   pickup_longitude   float64\n",
      " 6   dropoff_latitude   float64\n",
      " 7   dropoff_longitude  float64\n",
      " 8   fare_dollars       float64\n",
      " 9   trip_start_dt      object \n",
      " 10  trip_end_dt        object \n",
      " 11  year               int64  \n",
      " 12  month              int64  \n",
      " 13  day                int64  \n",
      " 14  hour               int64  \n",
      " 15  weekday            object \n",
      " 16  dropoff_area       object \n",
      " 17  cost_per_mile      float64\n",
      " 18  cost_per_minute    float64\n",
      " 19  pick_up_area       object \n",
      " 20  mph                float64\n",
      "dtypes: float64(9), int64(4), object(8)\n",
      "memory usage: 1.1+ GB\n"
     ]
    }
   ],
   "source": [
    "df_stack.info()"
   ]
  },
  {
   "cell_type": "code",
   "execution_count": 10,
   "id": "d671d7a3",
   "metadata": {},
   "outputs": [],
   "source": [
    "df_duration = pd.read_csv(\"C://Users//JCCLI//Downloads//Chicago_Taxi_Trips_Durations_EDA.csv\")"
   ]
  },
  {
   "cell_type": "code",
   "execution_count": 11,
   "id": "a431af72",
   "metadata": {},
   "outputs": [],
   "source": [
    "df = pd.merge(df_stack,df_duration, on=['unique_key','year','month','day','hour','weekday'])"
   ]
  },
  {
   "cell_type": "code",
   "execution_count": 12,
   "id": "a735f59b",
   "metadata": {},
   "outputs": [
    {
     "name": "stdout",
     "output_type": "stream",
     "text": [
      "<class 'pandas.core.frame.DataFrame'>\n",
      "Int64Index: 7017858 entries, 0 to 7017857\n",
      "Data columns (total 22 columns):\n",
      " #   Column             Dtype  \n",
      "---  ------             -----  \n",
      " 0   unique_key         object \n",
      " 1   trip_miles         float64\n",
      " 2   payment_type       object \n",
      " 3   company            object \n",
      " 4   pickup_latitude    float64\n",
      " 5   pickup_longitude   float64\n",
      " 6   dropoff_latitude   float64\n",
      " 7   dropoff_longitude  float64\n",
      " 8   fare_dollars       float64\n",
      " 9   trip_start_dt      object \n",
      " 10  trip_end_dt        object \n",
      " 11  year               int64  \n",
      " 12  month              int64  \n",
      " 13  day                int64  \n",
      " 14  hour               int64  \n",
      " 15  weekday            object \n",
      " 16  dropoff_area       object \n",
      " 17  cost_per_mile      float64\n",
      " 18  cost_per_minute    float64\n",
      " 19  pick_up_area       object \n",
      " 20  mph                float64\n",
      " 21  trip_seconds       float64\n",
      "dtypes: float64(10), int64(4), object(8)\n",
      "memory usage: 1.2+ GB\n"
     ]
    }
   ],
   "source": [
    "df.info()"
   ]
  },
  {
   "cell_type": "code",
   "execution_count": 14,
   "id": "a9b9b257",
   "metadata": {},
   "outputs": [],
   "source": [
    "# Drop trip minutes and unique key variables to free up memory\n",
    "df = df.drop(['unique_key'],axis=1)"
   ]
  },
  {
   "cell_type": "code",
   "execution_count": 21,
   "id": "72365960",
   "metadata": {},
   "outputs": [],
   "source": [
    "df=df.drop(['trip_minutes'],axis=1)"
   ]
  },
  {
   "cell_type": "code",
   "execution_count": 16,
   "id": "d2b7d985",
   "metadata": {},
   "outputs": [],
   "source": [
    "df['trip_minutes'] = df['trip_seconds']/60"
   ]
  },
  {
   "cell_type": "code",
   "execution_count": 17,
   "id": "bfedd113",
   "metadata": {},
   "outputs": [
    {
     "name": "stdout",
     "output_type": "stream",
     "text": [
      "<class 'pandas.core.frame.DataFrame'>\n",
      "Int64Index: 7017858 entries, 0 to 7017857\n",
      "Data columns (total 22 columns):\n",
      " #   Column             Dtype  \n",
      "---  ------             -----  \n",
      " 0   trip_miles         float64\n",
      " 1   payment_type       object \n",
      " 2   company            object \n",
      " 3   pickup_latitude    float64\n",
      " 4   pickup_longitude   float64\n",
      " 5   dropoff_latitude   float64\n",
      " 6   dropoff_longitude  float64\n",
      " 7   fare_dollars       float64\n",
      " 8   trip_start_dt      object \n",
      " 9   trip_end_dt        object \n",
      " 10  year               int64  \n",
      " 11  month              int64  \n",
      " 12  day                int64  \n",
      " 13  hour               int64  \n",
      " 14  weekday            object \n",
      " 15  dropoff_area       object \n",
      " 16  cost_per_mile      float64\n",
      " 17  cost_per_minute    float64\n",
      " 18  pick_up_area       object \n",
      " 19  mph                float64\n",
      " 20  trip_seconds       float64\n",
      " 21  trip_minutes       float64\n",
      "dtypes: float64(11), int64(4), object(7)\n",
      "memory usage: 1.2+ GB\n"
     ]
    }
   ],
   "source": [
    "df.info()"
   ]
  },
  {
   "cell_type": "markdown",
   "id": "ccb4bde4",
   "metadata": {},
   "source": [
    "**Check distributional trends**"
   ]
  },
  {
   "cell_type": "code",
   "execution_count": 23,
   "id": "a3129f34",
   "metadata": {},
   "outputs": [],
   "source": [
    "# Check distributions of continuous variables\n",
    "df_quant = df[['trip_miles','trip_minutes','fare_dollars','cost_per_minute','cost_per_mile',\\\n",
    "              'mph','tolls','tips']]"
   ]
  },
  {
   "cell_type": "code",
   "execution_count": 24,
   "id": "0be77822",
   "metadata": {},
   "outputs": [
    {
     "data": {
      "image/png": "[encoded data removed]",
      "text/plain": [
       "<Figure size 432x288 with 1 Axes>"
      ]
     },
     "metadata": {
      "needs_background": "light"
     },
     "output_type": "display_data"
    },
    {
     "data": {
      "image/png": "[encoded data removed]",
      "text/plain": [
       "<Figure size 432x288 with 1 Axes>"
      ]
     },
     "metadata": {
      "needs_background": "light"
     },
     "output_type": "display_data"
    },
    {
     "data": {
      "image/png": "[encoded data removed]",
      "text/plain": [
       "<Figure size 432x288 with 1 Axes>"
      ]
     },
     "metadata": {
      "needs_background": "light"
     },
     "output_type": "display_data"
    },
    {
     "data": {
      "image/png": "[encoded data removed]",
      "text/plain": [
       "<Figure size 432x288 with 1 Axes>"
      ]
     },
     "metadata": {
      "needs_background": "light"
     },
     "output_type": "display_data"
    },
    {
     "data": {
      "image/png": "[encoded data removed]",
      "text/plain": [
       "<Figure size 432x288 with 1 Axes>"
      ]
     },
     "metadata": {
      "needs_background": "light"
     },
     "output_type": "display_data"
    },
    {
     "data": {
      "image/png": "[encoded data removed]",
      "text/plain": [
       "<Figure size 432x288 with 1 Axes>"
      ]
     },
     "metadata": {
      "needs_background": "light"
     },
     "output_type": "display_data"
    },
    {
     "data": {
      "image/png": "[encoded data removed]",
      "text/plain": [
       "<Figure size 432x288 with 1 Axes>"
      ]
     },
     "metadata": {
      "needs_background": "light"
     },
     "output_type": "display_data"
    },
    {
     "data": {
      "image/png": "[encoded data removed]",
      "text/plain": [
       "<Figure size 432x288 with 1 Axes>"
      ]
     },
     "metadata": {
      "needs_background": "light"
     },
     "output_type": "display_data"
    }
   ],
   "source": [
    "col = list(df_quant.columns)\n",
    "for i in range(8):\n",
    "    pl = sns.boxplot(data=df_quant,x=col[i])\n",
    "    plt.xlabel(col[i])\n",
    "    plt.show()"
   ]
  },
  {
   "cell_type": "markdown",
   "id": "e97cb9c6",
   "metadata": {},
   "source": [
    "Looking at the distributions of current quantitative variables, there is obviously some cleaning we need to do with many of the variables. It makes total sense to filter out the outliers for most of these variables as they are probably scientifically impossible to get such as a mph greater than 90 or trip minutes that are negative along with fare being more than $200. These most likely represent measurement errors or noise in the data that was collected and should be removed prior to modeling because we don't want to make our model make scientifically impossible or insane predictions."
   ]
  },
  {
   "cell_type": "markdown",
   "id": "d4142b60",
   "metadata": {},
   "source": [
    "**Outlier Removal**\n",
    "\n",
    "To remove our outliers, we should first check and see how much of the total data our outliers for each variable take up so we can determine if it is safe to do so without getting rid of too much of the data.\n"
   ]
  },
  {
   "cell_type": "code",
   "execution_count": 25,
   "id": "08727fc8",
   "metadata": {},
   "outputs": [
    {
     "data": {
      "text/plain": [
       "trip_miles         0.007248\n",
       "trip_minutes       0.028934\n",
       "fare_dollars       0.007136\n",
       "cost_per_minute    0.036586\n",
       "cost_per_mile      0.096668\n",
       "mph                0.026975\n",
       "tolls              0.000167\n",
       "tips               0.002268\n",
       "dtype: float64"
      ]
     },
     "execution_count": 25,
     "metadata": {},
     "output_type": "execute_result"
    }
   ],
   "source": [
    "Q1 = df_quant.quantile(0.25)\n",
    "Q3 = df_quant.quantile(0.75)\n",
    "IQR=Q3-Q1\n",
    "((df_quant < (Q1 - 1.5 * IQR)) | (df_quant > (Q3 + 1.5 * IQR))).sum()/7017858"
   ]
  },
  {
   "cell_type": "code",
   "execution_count": 18,
   "id": "3c8b47af",
   "metadata": {},
   "outputs": [],
   "source": [
    "# We will mostly only clean out the values of columns we will want to use in the model such as trip miles, trip minutes,\n",
    "#fare dollars, and mph. Tips and tolls will not be considered in model along with mph but will clean it out\n",
    "df_cleaned = df[(df.fare_dollars < 150)\\\n",
    "                & (df.trip_minutes>0) & (df.trip_minutes < 90) & (df.mph < 100) & (df.trip_miles < 60)\n",
    "               ]"
   ]
  },
  {
   "cell_type": "code",
   "execution_count": 20,
   "id": "821e6f07",
   "metadata": {},
   "outputs": [
    {
     "name": "stdout",
     "output_type": "stream",
     "text": [
      "<class 'pandas.core.frame.DataFrame'>\n",
      "Int64Index: 6977387 entries, 0 to 7017857\n",
      "Data columns (total 22 columns):\n",
      " #   Column             Dtype  \n",
      "---  ------             -----  \n",
      " 0   trip_miles         float64\n",
      " 1   payment_type       object \n",
      " 2   company            object \n",
      " 3   pickup_latitude    float64\n",
      " 4   pickup_longitude   float64\n",
      " 5   dropoff_latitude   float64\n",
      " 6   dropoff_longitude  float64\n",
      " 7   fare_dollars       float64\n",
      " 8   trip_start_dt      object \n",
      " 9   trip_end_dt        object \n",
      " 10  year               int64  \n",
      " 11  month              int64  \n",
      " 12  day                int64  \n",
      " 13  hour               int64  \n",
      " 14  weekday            object \n",
      " 15  dropoff_area       object \n",
      " 16  cost_per_mile      float64\n",
      " 17  cost_per_minute    float64\n",
      " 18  pick_up_area       object \n",
      " 19  mph                float64\n",
      " 20  trip_seconds       float64\n",
      " 21  trip_minutes       float64\n",
      "dtypes: float64(11), int64(4), object(7)\n",
      "memory usage: 1.2+ GB\n"
     ]
    }
   ],
   "source": [
    "df_cleaned.info()"
   ]
  },
  {
   "cell_type": "code",
   "execution_count": 19,
   "id": "c8237e60",
   "metadata": {},
   "outputs": [],
   "source": [
    "df_cleaned.to_csv('C://Users//JCCLI//Downloads//Chicago_Taxi_Cleaned.csv',index=False,header=True)"
   ]
  },
  {
   "cell_type": "code",
   "execution_count": 29,
   "id": "12e5e52d",
   "metadata": {},
   "outputs": [
    {
     "data": {
      "text/plain": [
       "<AxesSubplot:xlabel='trip_miles'>"
      ]
     },
     "execution_count": 29,
     "metadata": {},
     "output_type": "execute_result"
    },
    {
     "data": {
      "image/png": "[encoded data removed]",
      "text/plain": [
       "<Figure size 432x288 with 1 Axes>"
      ]
     },
     "metadata": {
      "needs_background": "light"
     },
     "output_type": "display_data"
    }
   ],
   "source": [
    "sns.boxplot(x='trip_miles',data=df_cleaned)"
   ]
  },
  {
   "cell_type": "markdown",
   "id": "e3a886b2",
   "metadata": {},
   "source": [
    "### Chicago Weather Data \n",
    "- One factor that could impact fare rate would be weather since maybe certain weather could cause taxi demand to change thus reducing traffic or other available cabs\n",
    "- We will import Chicago hourly weather data taken from 2021-2022 for our analysis\n",
    "- Note that when starting this project the data from the end of December 2022 was not stored in BigQuery yet, so later the data was added together with the previous"
   ]
  },
  {
   "cell_type": "code",
   "execution_count": 21,
   "id": "77fee30e",
   "metadata": {},
   "outputs": [],
   "source": [
    "# Original Data\n",
    "weather_df = pd.read_csv('C://Users//JCCLI//Downloads//WeatherDataChicagoHourly.csv')"
   ]
  },
  {
   "cell_type": "code",
   "execution_count": 22,
   "id": "9a4c2bf6",
   "metadata": {},
   "outputs": [],
   "source": [
    "# Data From December 2022\n",
    "weather_df_end = pd.read_csv('C://Users//JCCLI//Downloads//WeatherDataChicagoHourlyend.csv')"
   ]
  },
  {
   "cell_type": "code",
   "execution_count": 23,
   "id": "35cc2ca0",
   "metadata": {},
   "outputs": [],
   "source": [
    "weather_df_full = pd.concat([weather_df,weather_df_end],ignore_index=True)"
   ]
  },
  {
   "cell_type": "code",
   "execution_count": 24,
   "id": "8e24e419",
   "metadata": {},
   "outputs": [
    {
     "name": "stdout",
     "output_type": "stream",
     "text": [
      "<class 'pandas.core.frame.DataFrame'>\n",
      "RangeIndex: 17424 entries, 0 to 17423\n",
      "Data columns (total 10 columns):\n",
      " #   Column                                       Non-Null Count  Dtype  \n",
      "---  ------                                       --------------  -----  \n",
      " 0   timestamp                                    17424 non-null  object \n",
      " 1   Basel Temperature [2 m elevation corrected]  17424 non-null  float64\n",
      " 2   Basel Precipitation Total                    17424 non-null  float64\n",
      " 3   Basel Snowfall Amount                        17424 non-null  float64\n",
      " 4   Basel Snow Depth                             16800 non-null  float64\n",
      " 5   Basel Wind Gust                              17424 non-null  float64\n",
      " 6   Basel Wind Speed [10 m]                      17424 non-null  float64\n",
      " 7   Basel Wind Direction [10 m]                  17424 non-null  float64\n",
      " 8   Basel Wind Speed [100 m]                     16800 non-null  float64\n",
      " 9   Basel Wind Direction [100 m]                 16800 non-null  float64\n",
      "dtypes: float64(9), object(1)\n",
      "memory usage: 1.3+ MB\n"
     ]
    }
   ],
   "source": [
    "weather_df_full.info()"
   ]
  },
  {
   "cell_type": "code",
   "execution_count": 25,
   "id": "b36af500",
   "metadata": {},
   "outputs": [],
   "source": [
    "# Change timestamp to datetime\n",
    "weather_df_full['timestamp'] = pd.to_datetime(weather_df_full['timestamp'])"
   ]
  },
  {
   "cell_type": "code",
   "execution_count": 26,
   "id": "12a8c721",
   "metadata": {},
   "outputs": [],
   "source": [
    "# Rename initial columns\n",
    "weather_df_full = weather_df_full.rename(columns={'timestamp': 'Date', 'Basel Temperature [2 m elevation corrected]':'Temperature',\\\n",
    "                                       'Basel Precipitation Total':'Total Precipitation', 'Basel Snowfall Amount':'Snow Amount', 'Basel Wind Gust':'Wind Gust', \\\n",
    "                                       'Basel Wind Speed [10 m]':'Wind Speed [10 m]'})"
   ]
  },
  {
   "cell_type": "code",
   "execution_count": 27,
   "id": "030e072f",
   "metadata": {},
   "outputs": [],
   "source": [
    "# Convert Wind Gust to MPH\n",
    "weather_df_full['Wind_Gust'] = weather_df_full['Wind Gust'] * 0.6213\n",
    "\n",
    "#Convert Snow Amount to inches\n",
    "weather_df_full['Snow_Amount_in'] = weather_df_full['Snow Amount'] * 0.393701\n",
    "\n",
    "#Convert Wind Speed to MPH\n",
    "weather_df_full['Wind_Speed [10 m]'] = weather_df_full['Wind Speed [10 m]'] * 0.6213\n",
    "weather_df_full['Wind Speed [100 m]'] = weather_df_full['Basel Wind Speed [100 m]'] * 0.6213"
   ]
  },
  {
   "cell_type": "code",
   "execution_count": 28,
   "id": "5dbedd55",
   "metadata": {},
   "outputs": [],
   "source": [
    "# Drop non-converted variables\n",
    "weather_df_full = weather_df_full.drop(['Snow Amount', 'Basel Snow Depth', 'Wind Gust', 'Wind Speed [10 m]', 'Basel Wind Direction [10 m]', 'Basel Wind Speed [100 m]', 'Basel Wind Direction [100 m]'], axis = 1)"
   ]
  },
  {
   "cell_type": "code",
   "execution_count": 29,
   "id": "87733354",
   "metadata": {},
   "outputs": [],
   "source": [
    "# Create hour, day, and month variables\n",
    "weather_df_full=weather_df_full.assign(hour=pd.to_datetime(weather_df_full['Date']).dt.strftime(\"%H\"),\\\n",
    "                             day=pd.to_datetime(weather_df_full['Date']).dt.strftime(\"%d\"), \\\n",
    "                             month=pd.to_datetime(weather_df_full['Date']).dt.strftime('%m'),year=pd.to_datetime(weather_df_full['Date']).dt.strftime('%Y'))"
   ]
  },
  {
   "cell_type": "code",
   "execution_count": 20,
   "id": "0d136492",
   "metadata": {},
   "outputs": [
    {
     "name": "stdout",
     "output_type": "stream",
     "text": [
      "<class 'pandas.core.frame.DataFrame'>\n",
      "RangeIndex: 17424 entries, 0 to 17423\n",
      "Data columns (total 11 columns):\n",
      " #   Column               Non-Null Count  Dtype         \n",
      "---  ------               --------------  -----         \n",
      " 0   Date                 17424 non-null  datetime64[ns]\n",
      " 1   Temperature          17424 non-null  float64       \n",
      " 2   Total Precipitation  17424 non-null  float64       \n",
      " 3   Wind_Gust            17424 non-null  float64       \n",
      " 4   Snow_Amount_in       17424 non-null  float64       \n",
      " 5   Wind_Speed [10 m]    17424 non-null  float64       \n",
      " 6   Wind Speed [100 m]   16800 non-null  float64       \n",
      " 7   hour                 17424 non-null  object        \n",
      " 8   day                  17424 non-null  object        \n",
      " 9   month                17424 non-null  object        \n",
      " 10  year                 17424 non-null  object        \n",
      "dtypes: datetime64[ns](1), float64(6), object(4)\n",
      "memory usage: 1.5+ MB\n"
     ]
    }
   ],
   "source": [
    "weather_df_full.info()"
   ]
  },
  {
   "cell_type": "code",
   "execution_count": 30,
   "id": "368469ec",
   "metadata": {},
   "outputs": [],
   "source": [
    "# Set variables as integers\n",
    "weather_df_full['hour'] = weather_df_full['hour'].astype(\"int64\")\n",
    "weather_df_full['day'] = weather_df_full['day'].astype(\"int64\")\n",
    "weather_df_full['month'] = weather_df_full['month'].astype(\"int64\")\n",
    "weather_df_full['year'] = weather_df_full['year'].astype(\"int64\")"
   ]
  },
  {
   "cell_type": "code",
   "execution_count": 31,
   "id": "c48a85c5",
   "metadata": {},
   "outputs": [],
   "source": [
    "# Inner join on year, month, day, and hour\n",
    "df_final_model = pd.merge(df_cleaned,weather_df_full,on=['year','month','day','hour'])"
   ]
  },
  {
   "cell_type": "code",
   "execution_count": 39,
   "id": "f8427ace",
   "metadata": {},
   "outputs": [
    {
     "name": "stdout",
     "output_type": "stream",
     "text": [
      "<class 'pandas.core.frame.DataFrame'>\n",
      "Int64Index: 6702136 entries, 0 to 6702135\n",
      "Data columns (total 47 columns):\n",
      " #   Column                        Dtype         \n",
      "---  ------                        -----         \n",
      " 0   unique_key                    object        \n",
      " 1   trip_start_timestamp          object        \n",
      " 2   trip_end_timestamp            object        \n",
      " 3   trip_miles                    float64       \n",
      " 4   pickup_census_tract           float64       \n",
      " 5   dropoff_census_tract          float64       \n",
      " 6   pickup_community_area         float64       \n",
      " 7   dropoff_community_area        float64       \n",
      " 8   payment_type                  object        \n",
      " 9   company                       object        \n",
      " 10  pickup_latitude               float64       \n",
      " 11  pickup_longitude              float64       \n",
      " 12  dropoff_latitude              float64       \n",
      " 13  dropoff_longitude             float64       \n",
      " 14  fare_dollars                  float64       \n",
      " 15  trip_start_dt                 object        \n",
      " 16  trip_end_dt                   object        \n",
      " 17  trip_minutes                  int64         \n",
      " 18  year                          int64         \n",
      " 19  month                         int64         \n",
      " 20  day                           int64         \n",
      " 21  hour                          int64         \n",
      " 22  weekday                       object        \n",
      " 23  is_outside_airport            int64         \n",
      " 24  is_airport                    int64         \n",
      " 25  is_navy_pier                  int64         \n",
      " 26  area                          float64       \n",
      " 27  dropoff_area                  object        \n",
      " 28  cost_per_mile                 float64       \n",
      " 29  cost_per_minute               float64       \n",
      " 30  pickup_area                   float64       \n",
      " 31  pick_up_area                  object        \n",
      " 32  mph                           float64       \n",
      " 33  Date                          datetime64[ns]\n",
      " 34  Temperature                   float64       \n",
      " 35  Total Precipitation           float64       \n",
      " 36  Snow Amount                   float64       \n",
      " 37  Basel Snow Depth              float64       \n",
      " 38  Wind Gust                     float64       \n",
      " 39  Wind Speed [10 m]             float64       \n",
      " 40  Basel Wind Direction [10 m]   float64       \n",
      " 41  Basel Wind Speed [100 m]      float64       \n",
      " 42  Basel Wind Direction [100 m]  float64       \n",
      " 43  Wind_Gust                     float64       \n",
      " 44  Snow_Amount_in                float64       \n",
      " 45  Wind_Speed [10 m]             float64       \n",
      " 46  Wind Speed [100 m]            float64       \n",
      "dtypes: datetime64[ns](1), float64(28), int64(8), object(10)\n",
      "memory usage: 2.4+ GB\n"
     ]
    }
   ],
   "source": [
    "# validate results of join\n",
    "df_final_model.info()"
   ]
  },
  {
   "cell_type": "code",
   "execution_count": 30,
   "id": "c6629e05",
   "metadata": {},
   "outputs": [],
   "source": [
    "df_final_model = df_final_model.drop(['Snow Amount', 'Basel Snow Depth', 'Wind Gust', 'Wind Speed [10 m]', 'Basel Wind Direction [10 m]', 'Basel Wind Speed [100 m]', 'Basel Wind Direction [100 m]'], axis = 1)"
   ]
  },
  {
   "cell_type": "code",
   "execution_count": 32,
   "id": "8cfc406c",
   "metadata": {},
   "outputs": [],
   "source": [
    "# Save joined dataset to csv\n",
    "df_final_model.to_csv('C://Users//JCCLI//Downloads//Chicago_Taxi_EDA.csv',index=False,header=True)"
   ]
  }
 ],
 "metadata": {
  "kernelspec": {
   "display_name": "Python 3 (ipykernel)",
   "language": "python",
   "name": "python3"
  },
  "language_info": {
   "codemirror_mode": {
    "name": "ipython",
    "version": 3
   },
   "file_extension": ".py",
   "mimetype": "text/x-python",
   "name": "python",
   "nbconvert_exporter": "python",
   "pygments_lexer": "ipython3",
   "version": "3.9.12"
  }
 },
 "nbformat": 4,
 "nbformat_minor": 5
}
