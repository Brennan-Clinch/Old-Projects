{
 "cells": [
  {
   "cell_type": "code",
   "execution_count": 1,
   "id": "930d43aa",
   "metadata": {},
   "outputs": [
    {
     "name": "stdout",
     "output_type": "stream",
     "text": [
      "26\n"
     ]
    }
   ],
   "source": [
    "import numpy as np\n",
    "n_array = np.array([1,0,2,0,3,0,0,5,6,7,5,0,8])\n",
    "res = np.where(n_array == 0)[0]\n",
    "print(res.sum())"
   ]
  },
  {
   "cell_type": "code",
   "execution_count": 4,
   "id": "17f5a007",
   "metadata": {},
   "outputs": [
    {
     "name": "stdout",
     "output_type": "stream",
     "text": [
      "2\n"
     ]
    }
   ],
   "source": [
    "import numpy as np\n",
    "p = [[1,0],[0,1]]\n",
    "q = [[1,2],[3,4]]\n",
    "result1 = np.cross(p,q)\n",
    "result2 = np.cross(q,p)\n",
    "print((result1==result2).shape[0])"
   ]
  },
  {
   "cell_type": "code",
   "execution_count": 10,
   "id": "becc5f01",
   "metadata": {},
   "outputs": [
    {
     "name": "stdout",
     "output_type": "stream",
     "text": [
      "2\n"
     ]
    }
   ],
   "source": [
    "import pandas as pd\n",
    "import numpy as np\n",
    "s = pd.Series(np.random.randn(2))\n",
    "print(s.size)"
   ]
  },
  {
   "cell_type": "code",
   "execution_count": null,
   "id": "510a147d",
   "metadata": {},
   "outputs": [],
   "source": []
  }
 ],
 "metadata": {
  "kernelspec": {
   "display_name": "Python 3 (ipykernel)",
   "language": "python",
   "name": "python3"
  },
  "language_info": {
   "codemirror_mode": {
    "name": "ipython",
    "version": 3
   },
   "file_extension": ".py",
   "mimetype": "text/x-python",
   "name": "python",
   "nbconvert_exporter": "python",
   "pygments_lexer": "ipython3",
   "version": "3.9.12"
  }
 },
 "nbformat": 4,
 "nbformat_minor": 5
}
