{
 "cells": [
  {
   "cell_type": "code",
   "execution_count": null,
   "id": "000daf21",
   "metadata": {},
   "outputs": [],
   "source": [
    "os.path.getsize('C://Users//JCCLI//Downloads//used_cars_data.csv')"
   ]
  },
  {
   "cell_type": "code",
   "execution_count": 2,
   "id": "12dc5d4b",
   "metadata": {},
   "outputs": [],
   "source": [
    "from pyspark.sql import SparkSession"
   ]
  },
  {
   "cell_type": "code",
   "execution_count": 3,
   "id": "4b721a8c",
   "metadata": {},
   "outputs": [],
   "source": [
    "from pyspark.sql import SQLContext"
   ]
  },
  {
   "cell_type": "code",
   "execution_count": 4,
   "id": "dcfd5e9f",
   "metadata": {},
   "outputs": [],
   "source": [
    "import os\n",
    "os.environ[\"HADOOP_HOME\"] = \"C:\\Hadoop\"\n",
    "os.environ[\"JAVA_HOME\"] =\"C:\\Program Files\\Java\\jdk1.8.0_341\""
   ]
  },
  {
   "cell_type": "code",
   "execution_count": 5,
   "id": "e82eac65",
   "metadata": {},
   "outputs": [],
   "source": [
    "if __name__ == '__main__':\n",
    "    scSpark = SparkSession \\\n",
    "        .builder \\\n",
    "        .appName(\"reading csv\") \\\n",
    "        .config('spark.driver.extraClassPath', 'C:/spark-3.3.0-bin-hadoop3/jars/sqljdbc42.jar')\\\n",
    "        .config('spark.executor.extraClassPath', 'C:/spark-3.3.0-bin-hadoop3/jars/sqljdbc42.jar')\\\n",
    "        .getOrCreate()"
   ]
  },
  {
   "cell_type": "code",
   "execution_count": null,
   "id": "9408e674",
   "metadata": {},
   "outputs": [],
   "source": [
    "sqlsUrl = 'jdbc:sqlserver://localhost:1433;database=YourSQLDB'"
   ]
  },
  {
   "cell_type": "code",
   "execution_count": 6,
   "id": "9dbe329e",
   "metadata": {},
   "outputs": [],
   "source": [
    "data_file = 'C://Users//JCCLI//Downloads//used_carsnew.csv'\n",
    "sdfData = scSpark.read.csv(data_file, header=True, sep=\",\").cache()"
   ]
  },
  {
   "cell_type": "code",
   "execution_count": 7,
   "id": "c11ee898",
   "metadata": {},
   "outputs": [
    {
     "name": "stderr",
     "output_type": "stream",
     "text": [
      "C:\\Users\\JCCLI\\Miniconda_3\\lib\\site-packages\\pyspark\\sql\\dataframe.py:229: FutureWarning: Deprecated in 2.0, use createOrReplaceTempView instead.\n",
      "  warnings.warn(\"Deprecated in 2.0, use createOrReplaceTempView instead.\", FutureWarning)\n"
     ]
    }
   ],
   "source": [
    "sdfData.registerTempTable(\"cars\")"
   ]
  },
  {
   "cell_type": "code",
   "execution_count": 8,
   "id": "4a309261",
   "metadata": {},
   "outputs": [
    {
     "name": "stdout",
     "output_type": "stream",
     "text": [
      "+-------+---------------+----+------------+----------+------------------+-------------+--------+-------------+\n",
      "| height|      body_type|year|daysonmarket| make_name|        model_name|has_accidents|    city|seller_rating|\n",
      "+-------+---------------+----+------------+----------+------------------+-------------+--------+-------------+\n",
      "|66.5 in|SUV / Crossover|2019|         522|      Jeep|          Renegade|         null| Bayamon|          2.8|\n",
      "|  68 in|SUV / Crossover|2020|         207|Land Rover|   Discovery Sport|         null|San Juan|          3.0|\n",
      "|58.1 in|          Sedan|2016|        1233|    Subaru|           WRX STI|        False|Guaynabo|         null|\n",
      "|  73 in|SUV / Crossover|2020|         196|Land Rover|         Discovery|         null|San Juan|          3.0|\n",
      "|  68 in|SUV / Crossover|2020|         137|Land Rover|   Discovery Sport|         null|San Juan|          3.0|\n",
      "|66.3 in|SUV / Crossover|2020|         242|Land Rover| Range Rover Velar|        False|San Juan|          3.0|\n",
      "|56.9 in|          Sedan|2019|         447|     Mazda|            MAZDA3|         null| Bayamon|          2.8|\n",
      "|66.3 in|SUV / Crossover|2020|          70|Land Rover| Range Rover Velar|         null|San Juan|          3.0|\n",
      "|  68 in|SUV / Crossover|2020|         196|Land Rover|   Discovery Sport|         null|San Juan|          3.0|\n",
      "|64.9 in|SUV / Crossover|2020|         510|Land Rover|Range Rover Evoque|        False|San Juan|          3.0|\n",
      "|46.6 in|          Coupe|2015|        1252|Alfa Romeo|                4C|        False|Guaynabo|         null|\n",
      "|64.9 in|SUV / Crossover|2020|         179|Land Rover|Range Rover Evoque|         null|San Juan|          3.0|\n",
      "|56.5 in|          Sedan|2016|        1233|       BMW|          3 Series|        False|Guaynabo|         null|\n",
      "|66.3 in|SUV / Crossover|2020|         201|Land Rover| Range Rover Velar|         null|San Juan|          3.0|\n",
      "|56.9 in|          Sedan|2019|         447|     Mazda|            MAZDA3|         null| Bayamon|          2.8|\n",
      "|56.9 in|          Sedan|2019|         447|     Mazda|            MAZDA3|         null| Bayamon|          2.8|\n",
      "|  68 in|SUV / Crossover|2020|         187|Land Rover|   Discovery Sport|         null|San Juan|          3.0|\n",
      "|66.3 in|SUV / Crossover|2020|          20|Land Rover| Range Rover Velar|         null|San Juan|          3.0|\n",
      "|66.3 in|SUV / Crossover|2020|          13|Land Rover| Range Rover Velar|         null|San Juan|          3.0|\n",
      "|  68 in|SUV / Crossover|2020|         230|Land Rover|   Discovery Sport|         null|San Juan|          3.0|\n",
      "+-------+---------------+----+------------+----------+------------------+-------------+--------+-------------+\n",
      "only showing top 20 rows\n",
      "\n"
     ]
    }
   ],
   "source": [
    "output =  scSpark.sql(\n",
    "    \"SELECT cars.height, cars.body_type, cars.year, cars.daysonmarket, cars.make_name, \\\n",
    "     cars.model_name, cars.has_accidents, cars.city, cars.seller_rating from cars\")\n",
    "output.show()"
   ]
  },
  {
   "cell_type": "code",
   "execution_count": 9,
   "id": "762b980a",
   "metadata": {},
   "outputs": [],
   "source": [
    "# Connnect to MS SQL\n",
    "dest_tbl = \"cars_table\"\n",
    "database = \"usedcars\"\n",
    "user = \"DESKTOP-CODJKMC\\JCCLI\"\n",
    "password = \"cars\""
   ]
  },
  {
   "cell_type": "code",
   "execution_count": 12,
   "id": "bb03dadb",
   "metadata": {},
   "outputs": [
    {
     "name": "stdout",
     "output_type": "stream",
     "text": [
      "Collecting psycopg2\n",
      "  Downloading psycopg2-2.9.4-cp39-cp39-win_amd64.whl (1.2 MB)\n",
      "Installing collected packages: psycopg2\n",
      "Successfully installed psycopg2-2.9.4\n",
      "Note: you may need to restart the kernel to use updated packages.\n"
     ]
    }
   ],
   "source": [
    "pip install psycopg2"
   ]
  },
  {
   "cell_type": "code",
   "execution_count": 13,
   "id": "bdad3cc8",
   "metadata": {},
   "outputs": [],
   "source": [
    "import psycopg2"
   ]
  },
  {
   "cell_type": "code",
   "execution_count": 15,
   "id": "c0e144f8",
   "metadata": {},
   "outputs": [],
   "source": [
    "conn = psycopg2.connect(\n",
    "        host = \"localhost\",\n",
    "        database = \"usedcars\",\n",
    "        user = \"postgres\",\n",
    "        password = \"postgres\")"
   ]
  },
  {
   "cell_type": "code",
   "execution_count": 16,
   "id": "3037cdd4",
   "metadata": {},
   "outputs": [],
   "source": [
    "cur = conn.cursor()"
   ]
  },
  {
   "cell_type": "code",
   "execution_count": 17,
   "id": "ef336aac",
   "metadata": {},
   "outputs": [],
   "source": [
    "def create_table(cursor):\n",
    "    \n",
    "    cursor.execute(\"CREATE TABLE IF NOT EXISTS cars_table \\\n",
    "    (  height VARCHAR(12) NULL, \\\n",
    "       body_type VARCHAR(30) NULL, \\\n",
    "       year integer NULL, \\\n",
    "       daysonmarket integer(20) NULL, \\\n",
    "       make_name VARCHAR(50) NULL, \\\n",
    "       model_name VARCHAR(50) NULL, \\\n",
    "       has_accidents VARCHAR(10) NULL, \\\n",
    "       city VARCHAR(15) NULL, \\\n",
    "       seller_rating DECIMAL(3,1) NULL);\")"
   ]
  },
  {
   "cell_type": "code",
   "execution_count": 21,
   "id": "d9318239",
   "metadata": {},
   "outputs": [],
   "source": [
    "def write_postgresql(output):\n",
    "    cars_seq = [tuple(x) for x in output.collect()]\n",
    "    records_list_template = ','.join(['%s'] * len(cars_seq))\n",
    "    insert_query = \"INSERT INTO cars_table (height, body_type, year, daysonmarket, make_name, model_name, \\\n",
    "                        has_accidents, city, seller_rating) VALUES {}\".format(records_list_template)\n",
    "    return insert_query, cars_seq"
   ]
  },
  {
   "cell_type": "code",
   "execution_count": 22,
   "id": "1d39ab1b",
   "metadata": {},
   "outputs": [
    {
     "ename": "NameError",
     "evalue": "name 'insert_query' is not defined",
     "output_type": "error",
     "traceback": [
      "\u001b[1;31m---------------------------------------------------------------------------\u001b[0m",
      "\u001b[1;31mNameError\u001b[0m                                 Traceback (most recent call last)",
      "Input \u001b[1;32mIn [22]\u001b[0m, in \u001b[0;36m<cell line: 1>\u001b[1;34m()\u001b[0m\n\u001b[1;32m----> 1\u001b[0m cur\u001b[38;5;241m.\u001b[39mexecute(\u001b[43minsert_query\u001b[49m, cars_seq)\n",
      "\u001b[1;31mNameError\u001b[0m: name 'insert_query' is not defined"
     ]
    }
   ],
   "source": [
    "cur.execute(insert_query, cars_seq)"
   ]
  },
  {
   "cell_type": "code",
   "execution_count": null,
   "id": "31623322",
   "metadata": {},
   "outputs": [],
   "source": [
    "insert_query, cars_seq = write_postgresql(output)"
   ]
  },
  {
   "cell_type": "code",
   "execution_count": null,
   "id": "aadedd89",
   "metadata": {},
   "outputs": [],
   "source": []
  }
 ],
 "metadata": {
  "kernelspec": {
   "display_name": "Python 3 (ipykernel)",
   "language": "python",
   "name": "python3"
  },
  "language_info": {
   "codemirror_mode": {
    "name": "ipython",
    "version": 3
   },
   "file_extension": ".py",
   "mimetype": "text/x-python",
   "name": "python",
   "nbconvert_exporter": "python",
   "pygments_lexer": "ipython3",
   "version": "3.9.12"
  }
 },
 "nbformat": 4,
 "nbformat_minor": 5
}
