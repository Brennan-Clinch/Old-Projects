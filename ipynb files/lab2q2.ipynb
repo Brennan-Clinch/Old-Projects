{
 "cells": [
  {
   "cell_type": "code",
   "execution_count": null,
   "metadata": {},
   "outputs": [],
   "source": [
    "#problem2\n",
    "price = input( \"Enter the price of an item: \")\n",
    "price = int(price) \n",
    "coins = ('quarter: 25', 'dime: 10', 'nickel: 5' )\n",
    "change = 100 - price\n",
    "\n",
    "quarter = change//25\n",
    "change = change - quarter*25\n",
    "dime = change//10\n",
    "change = change - dime*10\n",
    "nickel = change//5\n",
    "change = change - nickel*5\n",
    "str(quarter)\n",
    "str(nickel)\n",
    "str(dime)\n",
    "if price <25 :\n",
    "    \n",
    "    print(\"Please enter a price from 25 cents to a dollar\")\n",
    "\n",
    "if price >= 25: \n",
    "    print(\"You bought an item for\",price, \"cents and gave me a dollar, so your change is\", quarter, \"-\",\"quarter,\",dime, \"-\", \"dime,\", nickel, \"-\", \"nickel.\") \n",
    "    \n",
    "    print (\"The dictionary is:\", { 'quarter': quarter, 'dime': dime, 'nickel': nickel})\n",
    "    \n",
    "\n",
    "    \n",
    "            "
   ]
  },
  {
   "cell_type": "code",
   "execution_count": null,
   "metadata": {},
   "outputs": [],
   "source": []
  },
  {
   "cell_type": "code",
   "execution_count": null,
   "metadata": {},
   "outputs": [],
   "source": []
  }
 ],
 "metadata": {
  "kernelspec": {
   "display_name": "Python 3",
   "language": "python",
   "name": "python3"
  },
  "language_info": {
   "codemirror_mode": {
    "name": "ipython",
    "version": 3
   },
   "file_extension": ".py",
   "mimetype": "text/x-python",
   "name": "python",
   "nbconvert_exporter": "python",
   "pygments_lexer": "ipython3",
   "version": "3.7.3"
  }
 },
 "nbformat": 4,
 "nbformat_minor": 2
}
