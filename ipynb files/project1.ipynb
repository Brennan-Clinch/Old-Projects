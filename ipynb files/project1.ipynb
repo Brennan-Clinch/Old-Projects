{
 "cells": [
  {
   "cell_type": "code",
   "execution_count": 1,
   "metadata": {},
   "outputs": [
    {
     "ename": "AttributeError",
     "evalue": "'CaesarCipher' object has no attribute 'cipher_text'",
     "output_type": "error",
     "traceback": [
      "\u001b[1;31m---------------------------------------------------------------------------\u001b[0m",
      "\u001b[1;31mAttributeError\u001b[0m                            Traceback (most recent call last)",
      "\u001b[1;32m<ipython-input-1-05374b93548e>\u001b[0m in \u001b[0;36m<module>\u001b[1;34m\u001b[0m\n\u001b[0;32m     52\u001b[0m     \u001b[0mcaesar\u001b[0m \u001b[1;33m=\u001b[0m \u001b[0mCaesarCipher\u001b[0m\u001b[1;33m(\u001b[0m\u001b[1;36m89000\u001b[0m\u001b[1;33m,\u001b[0m\u001b[0mlook_up_list_gen\u001b[0m\u001b[1;33m(\u001b[0m\u001b[0mplain_text\u001b[0m\u001b[1;33m)\u001b[0m\u001b[1;33m)\u001b[0m\u001b[1;33m\u001b[0m\u001b[1;33m\u001b[0m\u001b[0m\n\u001b[0;32m     53\u001b[0m     \u001b[0mcaesar\u001b[0m\u001b[1;33m.\u001b[0m\u001b[0mencrypt\u001b[0m\u001b[1;33m(\u001b[0m\u001b[0mplain_text\u001b[0m\u001b[1;33m)\u001b[0m\u001b[1;33m\u001b[0m\u001b[1;33m\u001b[0m\u001b[0m\n\u001b[1;32m---> 54\u001b[1;33m     \u001b[0mprint\u001b[0m\u001b[1;33m(\u001b[0m\u001b[1;34m\"Encrypted text: \"\u001b[0m\u001b[1;33m+\u001b[0m \u001b[0mcaesar\u001b[0m\u001b[1;33m.\u001b[0m\u001b[0mcipher_text\u001b[0m\u001b[1;33m)\u001b[0m\u001b[1;33m\u001b[0m\u001b[1;33m\u001b[0m\u001b[0m\n\u001b[0m\u001b[0;32m     55\u001b[0m     \u001b[0mprint\u001b[0m\u001b[1;33m(\u001b[0m\u001b[1;34m\"Decrypted text: \"\u001b[0m\u001b[1;33m+\u001b[0m\u001b[0mcaesar\u001b[0m\u001b[1;33m.\u001b[0m\u001b[0mdecrypt\u001b[0m\u001b[1;33m(\u001b[0m\u001b[0mplain_text\u001b[0m\u001b[1;33m)\u001b[0m\u001b[1;33m)\u001b[0m\u001b[1;33m\u001b[0m\u001b[1;33m\u001b[0m\u001b[0m\n\u001b[0;32m     56\u001b[0m \u001b[1;33m\u001b[0m\u001b[0m\n",
      "\u001b[1;31mAttributeError\u001b[0m: 'CaesarCipher' object has no attribute 'cipher_text'"
     ]
    }
   ],
   "source": [
    "#The plain text \n",
    "plain_text = \"Talks between the United Auto Workers union and General Motors \\\"have taken a turn for the worse, according to the union's chief negotiator, suggesting that no immediate end is in sight for the auto industry's longest strike in decades. The setback in talks followed several days of reported progress between the two sides. They hope to reach a new four-year deal. Terry Dittes, the vice president of the United Auto Workers union negotiating team, sent a letter to members midday Sunday saying that the union found the company's latest contract proposal to be totally unacceptable to the union.\"\n",
    "\n",
    "def look_up_list_gen(text):\n",
    "    return list(set(text))\n",
    "\n",
    "\n",
    "class CaesarCipher:\n",
    "    def __init__(self, key, look_up_list):\n",
    "        assert(key > 0 and type(key) == int)\n",
    "        self.key = 3\n",
    "        self.look_up_list = look_up_list\n",
    "    def encrypt(self, plain_text):\n",
    "        plain_text = plain_text.upper()\n",
    "        Alpha = 'ABCDEFGHIJKLMNOPQRSTUVWXYZ'\n",
    "        result = ''\n",
    "        for i in plain_text:\n",
    "            if i in Alpha:\n",
    "                index = (Alpha.find(i) + self.key) % 26\n",
    "                result = result + Alpha[index]\n",
    "            else:\n",
    "                result = result + i\n",
    "            return result\n",
    "        \n",
    "    def decrypt(self,plain_text):   \n",
    "        plain_text = plain_text.upper()\n",
    "        Alpha = 'ABCDEFGHIJKLMNOPQRSTUVWXYZ'\n",
    "        result = \"\"\n",
    "        for i in plain_text:\n",
    "            if i in Alpha: #if the letter is actually a letter\n",
    "            #find the corresponding ciphertext letter in the alphabet\n",
    "                index = (Alpha.find(i) - self.key) % len(Alpha)\n",
    "                result = result + Alpha[index]\n",
    "            else:\n",
    "                result = result + i\n",
    "\n",
    "        return result           \n",
    "\n",
    "\n",
    "class VigenereCipher:\n",
    "    \n",
    "    def __init__(self, key, look_up_list):\n",
    "        assert(type(key) == str)\n",
    "        self.key = key\n",
    "        self.look_up_list = look_up_list\n",
    "    def encrypt(self, plain_text):\n",
    "        assert(len(self.key) <= len(plain_text))\n",
    "    \n",
    "    def decrypt(self):\n",
    "        g\n",
    "if __name__ == \"__main__\":\n",
    "    caesar = CaesarCipher(89000,look_up_list_gen(plain_text))\n",
    "    caesar.encrypt(plain_text)\n",
    "    print(\"Encrypted text: \"+ caesar.cipher_text)\n",
    "    print(\"Decrypted text: \"+caesar.decrypt(plain_text))\n",
    "\n",
    "    vigenere = VigenereCipher(plain_text[:5],look_up_list_gen(plain_text))\n",
    "    vigenere.encrypt(plain_text)\n",
    "    print(\"Encrypted text: \"+vigener.cipher_text)\n",
    "    print(\"Decrypted text: \"+vigener.decrypt())                         "
   ]
  },
  {
   "cell_type": "code",
   "execution_count": 1,
   "metadata": {},
   "outputs": [],
   "source": [
    "\n"
   ]
  },
  {
   "cell_type": "code",
   "execution_count": null,
   "metadata": {},
   "outputs": [],
   "source": []
  }
 ],
 "metadata": {
  "kernelspec": {
   "display_name": "Python 3",
   "language": "python",
   "name": "python3"
  },
  "language_info": {
   "codemirror_mode": {
    "name": "ipython",
    "version": 3
   },
   "file_extension": ".py",
   "mimetype": "text/x-python",
   "name": "python",
   "nbconvert_exporter": "python",
   "pygments_lexer": "ipython3",
   "version": "3.7.3"
  }
 },
 "nbformat": 4,
 "nbformat_minor": 2
}
