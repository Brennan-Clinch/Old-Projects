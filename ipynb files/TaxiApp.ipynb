{
 "cells": [
  {
   "cell_type": "code",
   "execution_count": 12,
   "id": "5808c4e5",
   "metadata": {},
   "outputs": [
    {
     "name": "stdout",
     "output_type": "stream",
     "text": [
      " * Serving Flask app '__main__' (lazy loading)\n",
      " * Environment: production\n",
      "\u001b[31m   WARNING: This is a development server. Do not use it in a production deployment.\u001b[0m\n",
      "\u001b[2m   Use a production WSGI server instead.\u001b[0m\n",
      " * Debug mode: off\n"
     ]
    },
    {
     "name": "stderr",
     "output_type": "stream",
     "text": [
      " * Running on http://127.0.0.1:5000/ (Press CTRL+C to quit)\n",
      "[2023-02-21 02:14:41,328] ERROR in app: Exception on / [GET]\n",
      "Traceback (most recent call last):\n",
      "  File \"C:\\Users\\JCCLI\\Miniconda_3\\lib\\site-packages\\flask\\app.py\", line 2073, in wsgi_app\n",
      "    response = self.full_dispatch_request()\n",
      "  File \"C:\\Users\\JCCLI\\Miniconda_3\\lib\\site-packages\\flask\\app.py\", line 1519, in full_dispatch_request\n",
      "    rv = self.handle_user_exception(e)\n",
      "  File \"C:\\Users\\JCCLI\\Miniconda_3\\lib\\site-packages\\flask\\app.py\", line 1517, in full_dispatch_request\n",
      "    rv = self.dispatch_request()\n",
      "  File \"C:\\Users\\JCCLI\\Miniconda_3\\lib\\site-packages\\flask\\app.py\", line 1503, in dispatch_request\n",
      "    return self.ensure_sync(self.view_functions[rule.endpoint])(**req.view_args)\n",
      "  File \"C:\\Users\\JCCLI\\AppData\\Local\\Temp\\ipykernel_13796\\1762181438.py\", line 11, in home\n",
      "    return render_template('C://Users//JCCLI//Documents//TaxiFarePrediction.html')\n",
      "  File \"C:\\Users\\JCCLI\\Miniconda_3\\lib\\site-packages\\flask\\templating.py\", line 155, in render_template\n",
      "    ctx.app.jinja_env.get_or_select_template(template_name_or_list),\n",
      "  File \"C:\\Users\\JCCLI\\Miniconda_3\\lib\\site-packages\\jinja2\\environment.py\", line 1068, in get_or_select_template\n",
      "    return self.get_template(template_name_or_list, parent, globals)\n",
      "  File \"C:\\Users\\JCCLI\\Miniconda_3\\lib\\site-packages\\jinja2\\environment.py\", line 997, in get_template\n",
      "    return self._load_template(name, globals)\n",
      "  File \"C:\\Users\\JCCLI\\Miniconda_3\\lib\\site-packages\\jinja2\\environment.py\", line 958, in _load_template\n",
      "    template = self.loader.load(self, name, self.make_globals(globals))\n",
      "  File \"C:\\Users\\JCCLI\\Miniconda_3\\lib\\site-packages\\jinja2\\loaders.py\", line 125, in load\n",
      "    source, filename, uptodate = self.get_source(environment, name)\n",
      "  File \"C:\\Users\\JCCLI\\Miniconda_3\\lib\\site-packages\\flask\\templating.py\", line 59, in get_source\n",
      "    return self._get_source_fast(environment, template)\n",
      "  File \"C:\\Users\\JCCLI\\Miniconda_3\\lib\\site-packages\\flask\\templating.py\", line 95, in _get_source_fast\n",
      "    raise TemplateNotFound(template)\n",
      "jinja2.exceptions.TemplateNotFound: C://Users//JCCLI//Documents//TaxiFarePrediction.html\n",
      "127.0.0.1 - - [21/Feb/2023 02:14:41] \"GET / HTTP/1.1\" 500 -\n"
     ]
    }
   ],
   "source": [
    "from flask import Flask, request, render_template\n",
    "import numpy as np\n",
    "import pickle\n",
    "import pandas as pd\n",
    "# Use pickle to load in the pre-trained model.\n",
    "app = Flask(__name__,template_folder='templates')\n",
    "model = pickle.load(open(\"C://Users//JCCLI//Downloads//LightGBM_Chicago_Taxi.pkl\", \"rb\"))\n",
    "\n",
    "@app.route('/', methods=['GET', 'POST'])\n",
    "def home():\n",
    "    return render_template('TaxiFarePrediction.html')\n",
    "@app.route('/predict',methods =['POST'])\n",
    "def predict():\n",
    "    float_features = [float(x) for x in request.form.values()]\n",
    "    final_features = [np.array(float_features)]\n",
    "    prediction = model.predict(final_features)\n",
    "    output = round(prediction[0],2)\n",
    "    return render_template('TaxiFarePrediction.html', prediction_text = 'Your Fare will be close to $ {}'.format(output))\n",
    "\n",
    "if __name__ == '__main__':\n",
    "    app.run(port=5000)\n"
   ]
  }
 ],
 "metadata": {
  "kernelspec": {
   "display_name": "Python 3 (ipykernel)",
   "language": "python",
   "name": "python3"
  },
  "language_info": {
   "codemirror_mode": {
    "name": "ipython",
    "version": 3
   },
   "file_extension": ".py",
   "mimetype": "text/x-python",
   "name": "python",
   "nbconvert_exporter": "python",
   "pygments_lexer": "ipython3",
   "version": "3.9.12"
  }
 },
 "nbformat": 4,
 "nbformat_minor": 5
}
