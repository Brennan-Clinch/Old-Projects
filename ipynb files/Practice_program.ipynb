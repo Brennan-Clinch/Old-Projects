{
 "cells": [
  {
   "cell_type": "code",
   "execution_count": null,
   "metadata": {},
   "outputs": [],
   "source": [
    "# -*- coding: utf-8 -*-\n",
    "\"\"\"\n",
    "Created on Sat Oct 07 18:45:17 2017\n",
    "\n",
    "@author: xfang13\n",
    "\"\"\"\n",
    "\n",
    "from Crypto.PublicKey import RSA\n",
    "from Crypto.Cipher import AES\n",
    "from Crypto import Random\n",
    "from Crypto.Hash import SHA256\n",
    "random_generator = Random.new().read\n",
    "\n",
    "\n",
    "print (\"Step 1 Client says hello.\")\n",
    "a = input('Type any key and press Enter to continue: ')\n",
    "\n",
    "print (\"Step 2 Server says hello and sends the public key certificate.\")\n",
    "a = input('Type any key and press Enter to continue:')\n",
    "# Generate a public key using RSA\n",
    "key = RSA.generate(1024, random_generator)\n",
    "public_key = key.publickey()\n",
    "\n",
    "print (\"Step 3 Client verifies the public key.\")\n",
    "a = input('Type any key and press Enter to continue: ')\n",
    "\n",
    "print (\"Step 4 Client sends the information to Server\")\n",
    "#Generate a Random 16 byte information and save it to secret_piece\n",
    "#Encrypt the secret_piece using the public key\n",
    "#Generate a hash value based on the secret piece\n",
    "#Save both above information into a list, L\n",
    "secret_piece = Random.get_random_bytes(16)\n",
    "enc_data = public_key.encrypt(secret_piece, 1568)\n",
    "hash_value = SHA256.new(secret_piece).digest()\n",
    "L = [enc_data, hash_value]\n",
    "\n",
    "print (\"Step 5 Server decrypts the encrypted data using its private key, computes a hash value and compares it with the sent piece.\")\n",
    "#decrypted the secret piece\n",
    "decrypted_info = key.decrypt(L[0])\n",
    "#compute the hash and match it with the one sent from the client\n",
    "match_or_not = SHA256.new(decrypted_info).digest() == L[1] \n",
    "\n",
    "if match_or_not:\n",
    "    print (\"Step 6 Server sends further information encrypted using AES based on the secret piece (key to the AES)\")\n",
    "    info_to_be_encrypted = \"It seems all secure. Let's talk!\"\n",
    "    aes = AES.new(decrypted_info, AES.MODE_ECB)\n",
    "    cipher_text = aes.encrypt(info_to_be_encrypted)\n",
    "    print (\"The real message is: \") \n",
    "    print (\"The encrypted message is: \", cipher_text)\n",
    "    print (\"The decrypted message is: \", aes.decrypt(cipher_text).decode())\n",
    "else:\n",
    "    print (\"SSL is no longer secure.\")"
   ]
  },
  {
   "cell_type": "code",
   "execution_count": null,
   "metadata": {},
   "outputs": [],
   "source": []
  }
 ],
 "metadata": {
  "kernelspec": {
   "display_name": "Python 3",
   "language": "python",
   "name": "python3"
  },
  "language_info": {
   "codemirror_mode": {
    "name": "ipython",
    "version": 3
   },
   "file_extension": ".py",
   "mimetype": "text/x-python",
   "name": "python",
   "nbconvert_exporter": "python",
   "pygments_lexer": "ipython3",
   "version": "3.7.3"
  }
 },
 "nbformat": 4,
 "nbformat_minor": 2
}
