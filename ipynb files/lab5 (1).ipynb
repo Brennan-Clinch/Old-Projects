{
 "cells": [
  {
   "cell_type": "code",
   "execution_count": 12,
   "metadata": {},
   "outputs": [
    {
     "name": "stdout",
     "output_type": "stream",
     "text": [
      "The length of the list is 200\n",
      "First 50 numbers of the list: [304, 361, 359, 439, 138, 15, 677, 543, 308, 326, 993, 923, 900, 25, 244, 512, 959, 642, 148, 833, 941, 301, 903, 471, 335, 654, 885, 246, 465, 733, 796, 403, 697, 266, 960, 797, 37, 917, 209, 956, 471, 118, 609, 542, 975, 390, 66, 438, 461, 891]\n",
      "The list after the function call: []\n"
     ]
    }
   ],
   "source": [
    "#problem 1\n",
    "import random\n",
    "L = [random.randint(1,1000) for i in range (200)]\n",
    "def empty_list():\n",
    "    while len(L) >0:\n",
    "        L.pop()\n",
    "            \n",
    "print(\"The length of the list is\", len(L))\n",
    "print(\"First 50 numbers of the list:\", L[0:50])\n",
    "empty_list()\n",
    "print(\"The list after the function call:\", L)"
   ]
  },
  {
   "cell_type": "code",
   "execution_count": 11,
   "metadata": {},
   "outputs": [
    {
     "name": "stdout",
     "output_type": "stream",
     "text": [
      "The generated dictionary: {1: [236, 183, 286, 462, 938], 2: [150, 956, 936, 556, 324], 3: [931, 330, 921, 270, 265], 4: [684, 523, 215, 613, 679], 5: [479, 3, 353, 980, 556], 6: [737, 243, 324, 662, 488], 7: [757, 728, 983, 182, 515], 8: [328, 768, 634, 509, 138], 9: [989, 85, 624, 722, 173], 10: [720, 848, 965, 37, 140]}\n",
      "The dictionary after the cleaning up: {1: [], 2: [], 3: [], 4: [], 5: [], 6: [], 7: [], 8: [], 9: [], 10: []}\n"
     ]
    }
   ],
   "source": [
    "#problem 2\n",
    "import random\n",
    "def empty_list(D):\n",
    "    while len(D)>0:\n",
    "        D.pop()\n",
    "def dict_gen():\n",
    "    return {i:[random.randint(1,1000) for _ in range(5)] for i in range(1,11)}\n",
    "D = dict_gen()\n",
    "print(\"The generated dictionary:\",D)\n",
    "for h in range(1,11):\n",
    "    while len(D.get(h))>0:\n",
    "        empty_list(D.get(h))\n",
    "print(\"The dictionary after the cleaning up:\",D)\n"
   ]
  },
  {
   "cell_type": "code",
   "execution_count": 1,
   "metadata": {},
   "outputs": [
    {
     "name": "stdout",
     "output_type": "stream",
     "text": [
      "The ground truth for e**15 is: 3269017.3724721107\n",
      "Result based on 10 expansions: 387262.2193080357\n",
      "Result based on 20 expansions: 2997784.0261694463\n",
      "Result based on 100 expansions: 3269017.3724721107\n"
     ]
    }
   ],
   "source": [
    "#problem 3\n",
    "import math\n",
    "from computation import exp\n",
    "\n",
    "print(\"The ground truth for e**15 is:\", math.exp(15))\n",
    "print(\"Result based on 10 expansions:\", exp(15,10))\n",
    "print(\"Result based on 20 expansions:\", exp(15,20))\n",
    "print(\"Result based on 100 expansions:\", exp(15,100))"
   ]
  },
  {
   "cell_type": "code",
   "execution_count": null,
   "metadata": {},
   "outputs": [],
   "source": []
  }
 ],
 "metadata": {
  "kernelspec": {
   "display_name": "Python 3",
   "language": "python",
   "name": "python3"
  },
  "language_info": {
   "codemirror_mode": {
    "name": "ipython",
    "version": 3
   },
   "file_extension": ".py",
   "mimetype": "text/x-python",
   "name": "python",
   "nbconvert_exporter": "python",
   "pygments_lexer": "ipython3",
   "version": "3.7.3"
  }
 },
 "nbformat": 4,
 "nbformat_minor": 2
}
