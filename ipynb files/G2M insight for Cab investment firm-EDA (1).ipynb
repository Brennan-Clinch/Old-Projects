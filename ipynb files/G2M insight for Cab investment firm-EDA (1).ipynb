{
 "cells": [
  {
   "cell_type": "markdown",
   "id": "9fc54638",
   "metadata": {},
   "source": [
    " # G2M insight for Cab investment firm\n",
    " ## By Brennan Clinch\n",
    " ### Data Science Intern at Data Glacier \n"
   ]
  },
  {
   "cell_type": "markdown",
   "id": "faf8a00a",
   "metadata": {},
   "source": [
    "Business Objective: XYZ is a private business firm located in the US. XYZ is wanting to invest in the Cab industry. The 2 main companies it is comparing are Pink Cab and Yellow Cab. XYZ needs our help with determining which of the 2 companies would be better to invest in.\n",
    "\n",
    "\n",
    "Goal: Determine the best Cab company for XYZ to invest in through exploratory data analysis"
   ]
  },
  {
   "cell_type": "markdown",
   "id": "8b2ea664",
   "metadata": {},
   "source": [
    "## Import Data and Libraries\n",
    "\n",
    "#### Import Libraries"
   ]
  },
  {
   "cell_type": "code",
   "execution_count": 8,
   "id": "71aaccbb",
   "metadata": {},
   "outputs": [],
   "source": [
    "import pandas as pd\n",
    "import numpy as np\n",
    "import matplotlib\n",
    "import matplotlib.pyplot as plt\n",
    "import seaborn as sns\n",
    "import datetime as dt\n",
    "from datetime import datetime\n",
    "from scipy.stats import ttest_ind"
   ]
  },
  {
   "cell_type": "markdown",
   "id": "73984d70",
   "metadata": {},
   "source": [
    "#### Import Data\n",
    "\n",
    "- First, we need to load in our data as csvs."
   ]
  },
  {
   "cell_type": "code",
   "execution_count": 9,
   "id": "bf58e4b5",
   "metadata": {},
   "outputs": [],
   "source": [
    "# Read in Cab Data and convert to csv\n",
    "CabData = pd.read_csv('C:\\\\Users\\\\JCCLI\\\\Downloads\\\\Cab_Data.csv')\n",
    "\n",
    "# Read in City data and convert to csv\n",
    "City = pd.read_csv('C:\\\\Users\\\\JCCLI\\\\Downloads\\\\City.csv')\n",
    "\n",
    "# Read in Customer ID data and convert to csv\n",
    "CustomerID = pd.read_csv('C:\\\\Users\\\\JCCLI\\\\Downloads\\\\Customer_ID.csv')\n",
    "\n",
    "# Read in Transaction ID data and convert to csv\n",
    "TransactionID = pd.read_csv('C:\\\\Users\\\\JCCLI\\\\Downloads\\\\Transaction_ID.csv')"
   ]
  },
  {
   "cell_type": "markdown",
   "id": "b48f2f8a",
   "metadata": {},
   "source": [
    "- Let's now take a look at the previews of our data\n",
    "- Let's look at the first 10 observations of the Cab data table"
   ]
  },
  {
   "cell_type": "code",
   "execution_count": 3,
   "id": "5ede9568",
   "metadata": {},
   "outputs": [
    {
     "data": {
      "text/html": [
       "<div>\n",
       "<style scoped>\n",
       "    .dataframe tbody tr th:only-of-type {\n",
       "        vertical-align: middle;\n",
       "    }\n",
       "\n",
       "    .dataframe tbody tr th {\n",
       "        vertical-align: top;\n",
       "    }\n",
       "\n",
       "    .dataframe thead th {\n",
       "        text-align: right;\n",
       "    }\n",
       "</style>\n",
       "<table border=\"1\" class=\"dataframe\">\n",
       "  <thead>\n",
       "    <tr style=\"text-align: right;\">\n",
       "      <th></th>\n",
       "      <th>Transaction ID</th>\n",
       "      <th>Date of Travel</th>\n",
       "      <th>Company</th>\n",
       "      <th>City</th>\n",
       "      <th>KM Travelled</th>\n",
       "      <th>Price Charged</th>\n",
       "      <th>Cost of Trip</th>\n",
       "    </tr>\n",
       "  </thead>\n",
       "  <tbody>\n",
       "    <tr>\n",
       "      <th>0</th>\n",
       "      <td>10000011</td>\n",
       "      <td>1/8/16</td>\n",
       "      <td>Pink Cab</td>\n",
       "      <td>ATLANTA GA</td>\n",
       "      <td>30.45</td>\n",
       "      <td>370.95</td>\n",
       "      <td>313.635</td>\n",
       "    </tr>\n",
       "    <tr>\n",
       "      <th>1</th>\n",
       "      <td>10000012</td>\n",
       "      <td>1/6/16</td>\n",
       "      <td>Pink Cab</td>\n",
       "      <td>ATLANTA GA</td>\n",
       "      <td>28.62</td>\n",
       "      <td>358.52</td>\n",
       "      <td>334.854</td>\n",
       "    </tr>\n",
       "    <tr>\n",
       "      <th>2</th>\n",
       "      <td>10000013</td>\n",
       "      <td>1/2/16</td>\n",
       "      <td>Pink Cab</td>\n",
       "      <td>ATLANTA GA</td>\n",
       "      <td>9.04</td>\n",
       "      <td>125.20</td>\n",
       "      <td>97.632</td>\n",
       "    </tr>\n",
       "    <tr>\n",
       "      <th>3</th>\n",
       "      <td>10000014</td>\n",
       "      <td>1/7/16</td>\n",
       "      <td>Pink Cab</td>\n",
       "      <td>ATLANTA GA</td>\n",
       "      <td>33.17</td>\n",
       "      <td>377.40</td>\n",
       "      <td>351.602</td>\n",
       "    </tr>\n",
       "    <tr>\n",
       "      <th>4</th>\n",
       "      <td>10000015</td>\n",
       "      <td>1/3/16</td>\n",
       "      <td>Pink Cab</td>\n",
       "      <td>ATLANTA GA</td>\n",
       "      <td>8.73</td>\n",
       "      <td>114.62</td>\n",
       "      <td>97.776</td>\n",
       "    </tr>\n",
       "    <tr>\n",
       "      <th>5</th>\n",
       "      <td>10000016</td>\n",
       "      <td>1/7/16</td>\n",
       "      <td>Pink Cab</td>\n",
       "      <td>ATLANTA GA</td>\n",
       "      <td>6.06</td>\n",
       "      <td>72.43</td>\n",
       "      <td>63.024</td>\n",
       "    </tr>\n",
       "    <tr>\n",
       "      <th>6</th>\n",
       "      <td>10000017</td>\n",
       "      <td>1/3/16</td>\n",
       "      <td>Pink Cab</td>\n",
       "      <td>AUSTIN TX</td>\n",
       "      <td>44.00</td>\n",
       "      <td>576.15</td>\n",
       "      <td>475.200</td>\n",
       "    </tr>\n",
       "    <tr>\n",
       "      <th>7</th>\n",
       "      <td>10000018</td>\n",
       "      <td>1/7/16</td>\n",
       "      <td>Pink Cab</td>\n",
       "      <td>AUSTIN TX</td>\n",
       "      <td>35.65</td>\n",
       "      <td>466.10</td>\n",
       "      <td>377.890</td>\n",
       "    </tr>\n",
       "    <tr>\n",
       "      <th>8</th>\n",
       "      <td>10000019</td>\n",
       "      <td>1/12/16</td>\n",
       "      <td>Pink Cab</td>\n",
       "      <td>BOSTON MA</td>\n",
       "      <td>14.40</td>\n",
       "      <td>191.61</td>\n",
       "      <td>146.880</td>\n",
       "    </tr>\n",
       "    <tr>\n",
       "      <th>9</th>\n",
       "      <td>10000020</td>\n",
       "      <td>1/6/16</td>\n",
       "      <td>Pink Cab</td>\n",
       "      <td>BOSTON MA</td>\n",
       "      <td>10.89</td>\n",
       "      <td>156.98</td>\n",
       "      <td>113.256</td>\n",
       "    </tr>\n",
       "  </tbody>\n",
       "</table>\n",
       "</div>"
      ],
      "text/plain": [
       "   Transaction ID Date of Travel   Company        City  KM Travelled  \\\n",
       "0        10000011         1/8/16  Pink Cab  ATLANTA GA         30.45   \n",
       "1        10000012         1/6/16  Pink Cab  ATLANTA GA         28.62   \n",
       "2        10000013         1/2/16  Pink Cab  ATLANTA GA          9.04   \n",
       "3        10000014         1/7/16  Pink Cab  ATLANTA GA         33.17   \n",
       "4        10000015         1/3/16  Pink Cab  ATLANTA GA          8.73   \n",
       "5        10000016         1/7/16  Pink Cab  ATLANTA GA          6.06   \n",
       "6        10000017         1/3/16  Pink Cab   AUSTIN TX         44.00   \n",
       "7        10000018         1/7/16  Pink Cab   AUSTIN TX         35.65   \n",
       "8        10000019        1/12/16  Pink Cab   BOSTON MA         14.40   \n",
       "9        10000020         1/6/16  Pink Cab   BOSTON MA         10.89   \n",
       "\n",
       "   Price Charged  Cost of Trip  \n",
       "0         370.95       313.635  \n",
       "1         358.52       334.854  \n",
       "2         125.20        97.632  \n",
       "3         377.40       351.602  \n",
       "4         114.62        97.776  \n",
       "5          72.43        63.024  \n",
       "6         576.15       475.200  \n",
       "7         466.10       377.890  \n",
       "8         191.61       146.880  \n",
       "9         156.98       113.256  "
      ]
     },
     "execution_count": 3,
     "metadata": {},
     "output_type": "execute_result"
    }
   ],
   "source": [
    "CabData.head(10)"
   ]
  },
  {
   "cell_type": "markdown",
   "id": "9ef54d45",
   "metadata": {},
   "source": [
    "- Now let's preview the City data table"
   ]
  },
  {
   "cell_type": "code",
   "execution_count": 4,
   "id": "6f3efe35",
   "metadata": {},
   "outputs": [
    {
     "data": {
      "text/html": [
       "<div>\n",
       "<style scoped>\n",
       "    .dataframe tbody tr th:only-of-type {\n",
       "        vertical-align: middle;\n",
       "    }\n",
       "\n",
       "    .dataframe tbody tr th {\n",
       "        vertical-align: top;\n",
       "    }\n",
       "\n",
       "    .dataframe thead th {\n",
       "        text-align: right;\n",
       "    }\n",
       "</style>\n",
       "<table border=\"1\" class=\"dataframe\">\n",
       "  <thead>\n",
       "    <tr style=\"text-align: right;\">\n",
       "      <th></th>\n",
       "      <th>City</th>\n",
       "      <th>Population</th>\n",
       "      <th>Users</th>\n",
       "    </tr>\n",
       "  </thead>\n",
       "  <tbody>\n",
       "    <tr>\n",
       "      <th>0</th>\n",
       "      <td>NEW YORK NY</td>\n",
       "      <td>8,405,837</td>\n",
       "      <td>302,149</td>\n",
       "    </tr>\n",
       "    <tr>\n",
       "      <th>1</th>\n",
       "      <td>CHICAGO IL</td>\n",
       "      <td>1,955,130</td>\n",
       "      <td>164,468</td>\n",
       "    </tr>\n",
       "    <tr>\n",
       "      <th>2</th>\n",
       "      <td>LOS ANGELES CA</td>\n",
       "      <td>1,595,037</td>\n",
       "      <td>144,132</td>\n",
       "    </tr>\n",
       "    <tr>\n",
       "      <th>3</th>\n",
       "      <td>MIAMI FL</td>\n",
       "      <td>1,339,155</td>\n",
       "      <td>17,675</td>\n",
       "    </tr>\n",
       "    <tr>\n",
       "      <th>4</th>\n",
       "      <td>SILICON VALLEY</td>\n",
       "      <td>1,177,609</td>\n",
       "      <td>27,247</td>\n",
       "    </tr>\n",
       "    <tr>\n",
       "      <th>5</th>\n",
       "      <td>ORANGE COUNTY</td>\n",
       "      <td>1,030,185</td>\n",
       "      <td>12,994</td>\n",
       "    </tr>\n",
       "    <tr>\n",
       "      <th>6</th>\n",
       "      <td>SAN DIEGO CA</td>\n",
       "      <td>959,307</td>\n",
       "      <td>69,995</td>\n",
       "    </tr>\n",
       "    <tr>\n",
       "      <th>7</th>\n",
       "      <td>PHOENIX AZ</td>\n",
       "      <td>943,999</td>\n",
       "      <td>6,133</td>\n",
       "    </tr>\n",
       "    <tr>\n",
       "      <th>8</th>\n",
       "      <td>DALLAS TX</td>\n",
       "      <td>942,908</td>\n",
       "      <td>22,157</td>\n",
       "    </tr>\n",
       "    <tr>\n",
       "      <th>9</th>\n",
       "      <td>ATLANTA GA</td>\n",
       "      <td>814,885</td>\n",
       "      <td>24,701</td>\n",
       "    </tr>\n",
       "    <tr>\n",
       "      <th>10</th>\n",
       "      <td>DENVER CO</td>\n",
       "      <td>754,233</td>\n",
       "      <td>12,421</td>\n",
       "    </tr>\n",
       "    <tr>\n",
       "      <th>11</th>\n",
       "      <td>AUSTIN TX</td>\n",
       "      <td>698,371</td>\n",
       "      <td>14,978</td>\n",
       "    </tr>\n",
       "    <tr>\n",
       "      <th>12</th>\n",
       "      <td>SEATTLE WA</td>\n",
       "      <td>671,238</td>\n",
       "      <td>25,063</td>\n",
       "    </tr>\n",
       "    <tr>\n",
       "      <th>13</th>\n",
       "      <td>TUCSON AZ</td>\n",
       "      <td>631,442</td>\n",
       "      <td>5,712</td>\n",
       "    </tr>\n",
       "    <tr>\n",
       "      <th>14</th>\n",
       "      <td>SAN FRANCISCO CA</td>\n",
       "      <td>629,591</td>\n",
       "      <td>213,609</td>\n",
       "    </tr>\n",
       "    <tr>\n",
       "      <th>15</th>\n",
       "      <td>SACRAMENTO CA</td>\n",
       "      <td>545,776</td>\n",
       "      <td>7,044</td>\n",
       "    </tr>\n",
       "    <tr>\n",
       "      <th>16</th>\n",
       "      <td>PITTSBURGH PA</td>\n",
       "      <td>542,085</td>\n",
       "      <td>3,643</td>\n",
       "    </tr>\n",
       "    <tr>\n",
       "      <th>17</th>\n",
       "      <td>WASHINGTON DC</td>\n",
       "      <td>418,859</td>\n",
       "      <td>127,001</td>\n",
       "    </tr>\n",
       "  </tbody>\n",
       "</table>\n",
       "</div>"
      ],
      "text/plain": [
       "                City   Population      Users\n",
       "0        NEW YORK NY   8,405,837    302,149 \n",
       "1         CHICAGO IL   1,955,130    164,468 \n",
       "2     LOS ANGELES CA   1,595,037    144,132 \n",
       "3           MIAMI FL   1,339,155     17,675 \n",
       "4     SILICON VALLEY   1,177,609     27,247 \n",
       "5      ORANGE COUNTY   1,030,185     12,994 \n",
       "6       SAN DIEGO CA     959,307     69,995 \n",
       "7         PHOENIX AZ     943,999      6,133 \n",
       "8          DALLAS TX     942,908     22,157 \n",
       "9         ATLANTA GA     814,885     24,701 \n",
       "10         DENVER CO     754,233     12,421 \n",
       "11         AUSTIN TX     698,371     14,978 \n",
       "12        SEATTLE WA     671,238     25,063 \n",
       "13         TUCSON AZ     631,442      5,712 \n",
       "14  SAN FRANCISCO CA     629,591    213,609 \n",
       "15     SACRAMENTO CA     545,776      7,044 \n",
       "16     PITTSBURGH PA     542,085      3,643 \n",
       "17     WASHINGTON DC     418,859    127,001 "
      ]
     },
     "execution_count": 4,
     "metadata": {},
     "output_type": "execute_result"
    }
   ],
   "source": [
    "City.head(18)"
   ]
  },
  {
   "cell_type": "markdown",
   "id": "60179cc5",
   "metadata": {},
   "source": [
    "- Next, let's preview the Customer ID data table"
   ]
  },
  {
   "cell_type": "code",
   "execution_count": 5,
   "id": "3cf9d2fd",
   "metadata": {},
   "outputs": [
    {
     "data": {
      "text/html": [
       "<div>\n",
       "<style scoped>\n",
       "    .dataframe tbody tr th:only-of-type {\n",
       "        vertical-align: middle;\n",
       "    }\n",
       "\n",
       "    .dataframe tbody tr th {\n",
       "        vertical-align: top;\n",
       "    }\n",
       "\n",
       "    .dataframe thead th {\n",
       "        text-align: right;\n",
       "    }\n",
       "</style>\n",
       "<table border=\"1\" class=\"dataframe\">\n",
       "  <thead>\n",
       "    <tr style=\"text-align: right;\">\n",
       "      <th></th>\n",
       "      <th>Customer ID</th>\n",
       "      <th>Gender</th>\n",
       "      <th>Age</th>\n",
       "      <th>Income (USD/Month)</th>\n",
       "    </tr>\n",
       "  </thead>\n",
       "  <tbody>\n",
       "    <tr>\n",
       "      <th>0</th>\n",
       "      <td>29290</td>\n",
       "      <td>Male</td>\n",
       "      <td>28</td>\n",
       "      <td>10813</td>\n",
       "    </tr>\n",
       "    <tr>\n",
       "      <th>1</th>\n",
       "      <td>27703</td>\n",
       "      <td>Male</td>\n",
       "      <td>27</td>\n",
       "      <td>9237</td>\n",
       "    </tr>\n",
       "    <tr>\n",
       "      <th>2</th>\n",
       "      <td>28712</td>\n",
       "      <td>Male</td>\n",
       "      <td>53</td>\n",
       "      <td>11242</td>\n",
       "    </tr>\n",
       "    <tr>\n",
       "      <th>3</th>\n",
       "      <td>28020</td>\n",
       "      <td>Male</td>\n",
       "      <td>23</td>\n",
       "      <td>23327</td>\n",
       "    </tr>\n",
       "    <tr>\n",
       "      <th>4</th>\n",
       "      <td>27182</td>\n",
       "      <td>Male</td>\n",
       "      <td>33</td>\n",
       "      <td>8536</td>\n",
       "    </tr>\n",
       "    <tr>\n",
       "      <th>5</th>\n",
       "      <td>27318</td>\n",
       "      <td>Male</td>\n",
       "      <td>25</td>\n",
       "      <td>13984</td>\n",
       "    </tr>\n",
       "    <tr>\n",
       "      <th>6</th>\n",
       "      <td>33788</td>\n",
       "      <td>Male</td>\n",
       "      <td>23</td>\n",
       "      <td>23788</td>\n",
       "    </tr>\n",
       "    <tr>\n",
       "      <th>7</th>\n",
       "      <td>34106</td>\n",
       "      <td>Male</td>\n",
       "      <td>19</td>\n",
       "      <td>19980</td>\n",
       "    </tr>\n",
       "    <tr>\n",
       "      <th>8</th>\n",
       "      <td>59799</td>\n",
       "      <td>Male</td>\n",
       "      <td>33</td>\n",
       "      <td>19271</td>\n",
       "    </tr>\n",
       "    <tr>\n",
       "      <th>9</th>\n",
       "      <td>57982</td>\n",
       "      <td>Male</td>\n",
       "      <td>57</td>\n",
       "      <td>5068</td>\n",
       "    </tr>\n",
       "  </tbody>\n",
       "</table>\n",
       "</div>"
      ],
      "text/plain": [
       "   Customer ID Gender  Age  Income (USD/Month)\n",
       "0        29290   Male   28               10813\n",
       "1        27703   Male   27                9237\n",
       "2        28712   Male   53               11242\n",
       "3        28020   Male   23               23327\n",
       "4        27182   Male   33                8536\n",
       "5        27318   Male   25               13984\n",
       "6        33788   Male   23               23788\n",
       "7        34106   Male   19               19980\n",
       "8        59799   Male   33               19271\n",
       "9        57982   Male   57                5068"
      ]
     },
     "execution_count": 5,
     "metadata": {},
     "output_type": "execute_result"
    }
   ],
   "source": [
    "CustomerID.head(10)"
   ]
  },
  {
   "cell_type": "markdown",
   "id": "053dffa4",
   "metadata": {},
   "source": [
    "- Finally, let's preview the Transaction ID data table"
   ]
  },
  {
   "cell_type": "code",
   "execution_count": 6,
   "id": "30e808d9",
   "metadata": {},
   "outputs": [
    {
     "data": {
      "text/html": [
       "<div>\n",
       "<style scoped>\n",
       "    .dataframe tbody tr th:only-of-type {\n",
       "        vertical-align: middle;\n",
       "    }\n",
       "\n",
       "    .dataframe tbody tr th {\n",
       "        vertical-align: top;\n",
       "    }\n",
       "\n",
       "    .dataframe thead th {\n",
       "        text-align: right;\n",
       "    }\n",
       "</style>\n",
       "<table border=\"1\" class=\"dataframe\">\n",
       "  <thead>\n",
       "    <tr style=\"text-align: right;\">\n",
       "      <th></th>\n",
       "      <th>Transaction ID</th>\n",
       "      <th>Customer ID</th>\n",
       "      <th>Payment_Mode</th>\n",
       "    </tr>\n",
       "  </thead>\n",
       "  <tbody>\n",
       "    <tr>\n",
       "      <th>0</th>\n",
       "      <td>10000011</td>\n",
       "      <td>29290</td>\n",
       "      <td>Card</td>\n",
       "    </tr>\n",
       "    <tr>\n",
       "      <th>1</th>\n",
       "      <td>10000012</td>\n",
       "      <td>27703</td>\n",
       "      <td>Card</td>\n",
       "    </tr>\n",
       "    <tr>\n",
       "      <th>2</th>\n",
       "      <td>10000013</td>\n",
       "      <td>28712</td>\n",
       "      <td>Cash</td>\n",
       "    </tr>\n",
       "    <tr>\n",
       "      <th>3</th>\n",
       "      <td>10000014</td>\n",
       "      <td>28020</td>\n",
       "      <td>Cash</td>\n",
       "    </tr>\n",
       "    <tr>\n",
       "      <th>4</th>\n",
       "      <td>10000015</td>\n",
       "      <td>27182</td>\n",
       "      <td>Card</td>\n",
       "    </tr>\n",
       "    <tr>\n",
       "      <th>5</th>\n",
       "      <td>10000016</td>\n",
       "      <td>27318</td>\n",
       "      <td>Cash</td>\n",
       "    </tr>\n",
       "    <tr>\n",
       "      <th>6</th>\n",
       "      <td>10000017</td>\n",
       "      <td>33788</td>\n",
       "      <td>Card</td>\n",
       "    </tr>\n",
       "    <tr>\n",
       "      <th>7</th>\n",
       "      <td>10000018</td>\n",
       "      <td>34106</td>\n",
       "      <td>Card</td>\n",
       "    </tr>\n",
       "    <tr>\n",
       "      <th>8</th>\n",
       "      <td>10000019</td>\n",
       "      <td>59799</td>\n",
       "      <td>Cash</td>\n",
       "    </tr>\n",
       "    <tr>\n",
       "      <th>9</th>\n",
       "      <td>10000020</td>\n",
       "      <td>57982</td>\n",
       "      <td>Cash</td>\n",
       "    </tr>\n",
       "  </tbody>\n",
       "</table>\n",
       "</div>"
      ],
      "text/plain": [
       "   Transaction ID  Customer ID Payment_Mode\n",
       "0        10000011        29290         Card\n",
       "1        10000012        27703         Card\n",
       "2        10000013        28712         Cash\n",
       "3        10000014        28020         Cash\n",
       "4        10000015        27182         Card\n",
       "5        10000016        27318         Cash\n",
       "6        10000017        33788         Card\n",
       "7        10000018        34106         Card\n",
       "8        10000019        59799         Cash\n",
       "9        10000020        57982         Cash"
      ]
     },
     "execution_count": 6,
     "metadata": {},
     "output_type": "execute_result"
    }
   ],
   "source": [
    "TransactionID.head(10)"
   ]
  },
  {
   "cell_type": "markdown",
   "id": "7c7e3635",
   "metadata": {},
   "source": [
    "## Data Cleaning & Wrangling"
   ]
  },
  {
   "cell_type": "markdown",
   "id": "7f57e7f1",
   "metadata": {},
   "source": [
    "Before we do our exploratory data analysis for XYZ on the two Cab companies, we need to make sure our data is accurate and any tables can be wrangled together."
   ]
  },
  {
   "cell_type": "markdown",
   "id": "1555979d",
   "metadata": {},
   "source": [
    "### Data Wrangling"
   ]
  },
  {
   "cell_type": "markdown",
   "id": "228689fe",
   "metadata": {},
   "source": [
    "#### Joining the data sets"
   ]
  },
  {
   "cell_type": "markdown",
   "id": "1c0119bb",
   "metadata": {},
   "source": [
    "- One thing that must be done before doing any analysis is to see if we can join any of our data sets. By looking at the data tables we can see that the CabData and TransactionID data tables have the same Transaction ID. We can start by merging those 2 data tables"
   ]
  },
  {
   "cell_type": "code",
   "execution_count": 10,
   "id": "82536ac9",
   "metadata": {},
   "outputs": [
    {
     "data": {
      "text/html": [
       "<div>\n",
       "<style scoped>\n",
       "    .dataframe tbody tr th:only-of-type {\n",
       "        vertical-align: middle;\n",
       "    }\n",
       "\n",
       "    .dataframe tbody tr th {\n",
       "        vertical-align: top;\n",
       "    }\n",
       "\n",
       "    .dataframe thead th {\n",
       "        text-align: right;\n",
       "    }\n",
       "</style>\n",
       "<table border=\"1\" class=\"dataframe\">\n",
       "  <thead>\n",
       "    <tr style=\"text-align: right;\">\n",
       "      <th></th>\n",
       "      <th>Transaction ID</th>\n",
       "      <th>Date of Travel</th>\n",
       "      <th>Company</th>\n",
       "      <th>City</th>\n",
       "      <th>KM Travelled</th>\n",
       "      <th>Price Charged</th>\n",
       "      <th>Cost of Trip</th>\n",
       "      <th>Customer ID</th>\n",
       "      <th>Payment_Mode</th>\n",
       "    </tr>\n",
       "  </thead>\n",
       "  <tbody>\n",
       "    <tr>\n",
       "      <th>0</th>\n",
       "      <td>10000011</td>\n",
       "      <td>1/8/16</td>\n",
       "      <td>Pink Cab</td>\n",
       "      <td>ATLANTA GA</td>\n",
       "      <td>30.45</td>\n",
       "      <td>370.95</td>\n",
       "      <td>313.635</td>\n",
       "      <td>29290</td>\n",
       "      <td>Card</td>\n",
       "    </tr>\n",
       "    <tr>\n",
       "      <th>1</th>\n",
       "      <td>10000012</td>\n",
       "      <td>1/6/16</td>\n",
       "      <td>Pink Cab</td>\n",
       "      <td>ATLANTA GA</td>\n",
       "      <td>28.62</td>\n",
       "      <td>358.52</td>\n",
       "      <td>334.854</td>\n",
       "      <td>27703</td>\n",
       "      <td>Card</td>\n",
       "    </tr>\n",
       "    <tr>\n",
       "      <th>2</th>\n",
       "      <td>10000013</td>\n",
       "      <td>1/2/16</td>\n",
       "      <td>Pink Cab</td>\n",
       "      <td>ATLANTA GA</td>\n",
       "      <td>9.04</td>\n",
       "      <td>125.20</td>\n",
       "      <td>97.632</td>\n",
       "      <td>28712</td>\n",
       "      <td>Cash</td>\n",
       "    </tr>\n",
       "    <tr>\n",
       "      <th>3</th>\n",
       "      <td>10000014</td>\n",
       "      <td>1/7/16</td>\n",
       "      <td>Pink Cab</td>\n",
       "      <td>ATLANTA GA</td>\n",
       "      <td>33.17</td>\n",
       "      <td>377.40</td>\n",
       "      <td>351.602</td>\n",
       "      <td>28020</td>\n",
       "      <td>Cash</td>\n",
       "    </tr>\n",
       "    <tr>\n",
       "      <th>4</th>\n",
       "      <td>10000015</td>\n",
       "      <td>1/3/16</td>\n",
       "      <td>Pink Cab</td>\n",
       "      <td>ATLANTA GA</td>\n",
       "      <td>8.73</td>\n",
       "      <td>114.62</td>\n",
       "      <td>97.776</td>\n",
       "      <td>27182</td>\n",
       "      <td>Card</td>\n",
       "    </tr>\n",
       "  </tbody>\n",
       "</table>\n",
       "</div>"
      ],
      "text/plain": [
       "   Transaction ID Date of Travel   Company        City  KM Travelled  \\\n",
       "0        10000011         1/8/16  Pink Cab  ATLANTA GA         30.45   \n",
       "1        10000012         1/6/16  Pink Cab  ATLANTA GA         28.62   \n",
       "2        10000013         1/2/16  Pink Cab  ATLANTA GA          9.04   \n",
       "3        10000014         1/7/16  Pink Cab  ATLANTA GA         33.17   \n",
       "4        10000015         1/3/16  Pink Cab  ATLANTA GA          8.73   \n",
       "\n",
       "   Price Charged  Cost of Trip  Customer ID Payment_Mode  \n",
       "0         370.95       313.635        29290         Card  \n",
       "1         358.52       334.854        27703         Card  \n",
       "2         125.20        97.632        28712         Cash  \n",
       "3         377.40       351.602        28020         Cash  \n",
       "4         114.62        97.776        27182         Card  "
      ]
     },
     "execution_count": 10,
     "metadata": {},
     "output_type": "execute_result"
    }
   ],
   "source": [
    "Transactionmerge = CabData.merge(TransactionID, on = \"Transaction ID\")\n",
    "Transactionmerge.head()"
   ]
  },
  {
   "cell_type": "markdown",
   "id": "46679fff",
   "metadata": {},
   "source": [
    "-Next, we also notice that the CustomerID data table and this data table both share Customer ID. Let's do another join on Customer ID."
   ]
  },
  {
   "cell_type": "code",
   "execution_count": 11,
   "id": "27c4de44",
   "metadata": {},
   "outputs": [
    {
     "data": {
      "text/html": [
       "<div>\n",
       "<style scoped>\n",
       "    .dataframe tbody tr th:only-of-type {\n",
       "        vertical-align: middle;\n",
       "    }\n",
       "\n",
       "    .dataframe tbody tr th {\n",
       "        vertical-align: top;\n",
       "    }\n",
       "\n",
       "    .dataframe thead th {\n",
       "        text-align: right;\n",
       "    }\n",
       "</style>\n",
       "<table border=\"1\" class=\"dataframe\">\n",
       "  <thead>\n",
       "    <tr style=\"text-align: right;\">\n",
       "      <th></th>\n",
       "      <th>Transaction ID</th>\n",
       "      <th>Date of Travel</th>\n",
       "      <th>Company</th>\n",
       "      <th>City</th>\n",
       "      <th>KM Travelled</th>\n",
       "      <th>Price Charged</th>\n",
       "      <th>Cost of Trip</th>\n",
       "      <th>Customer ID</th>\n",
       "      <th>Payment_Mode</th>\n",
       "      <th>Gender</th>\n",
       "      <th>Age</th>\n",
       "      <th>Income (USD/Month)</th>\n",
       "    </tr>\n",
       "  </thead>\n",
       "  <tbody>\n",
       "    <tr>\n",
       "      <th>0</th>\n",
       "      <td>10000011</td>\n",
       "      <td>1/8/16</td>\n",
       "      <td>Pink Cab</td>\n",
       "      <td>ATLANTA GA</td>\n",
       "      <td>30.45</td>\n",
       "      <td>370.95</td>\n",
       "      <td>313.6350</td>\n",
       "      <td>29290</td>\n",
       "      <td>Card</td>\n",
       "      <td>Male</td>\n",
       "      <td>28</td>\n",
       "      <td>10813</td>\n",
       "    </tr>\n",
       "    <tr>\n",
       "      <th>1</th>\n",
       "      <td>10351127</td>\n",
       "      <td>7/21/18</td>\n",
       "      <td>Yellow Cab</td>\n",
       "      <td>ATLANTA GA</td>\n",
       "      <td>26.19</td>\n",
       "      <td>598.70</td>\n",
       "      <td>317.4228</td>\n",
       "      <td>29290</td>\n",
       "      <td>Cash</td>\n",
       "      <td>Male</td>\n",
       "      <td>28</td>\n",
       "      <td>10813</td>\n",
       "    </tr>\n",
       "    <tr>\n",
       "      <th>2</th>\n",
       "      <td>10412921</td>\n",
       "      <td>11/23/18</td>\n",
       "      <td>Yellow Cab</td>\n",
       "      <td>ATLANTA GA</td>\n",
       "      <td>42.55</td>\n",
       "      <td>792.05</td>\n",
       "      <td>597.4020</td>\n",
       "      <td>29290</td>\n",
       "      <td>Card</td>\n",
       "      <td>Male</td>\n",
       "      <td>28</td>\n",
       "      <td>10813</td>\n",
       "    </tr>\n",
       "    <tr>\n",
       "      <th>3</th>\n",
       "      <td>10000012</td>\n",
       "      <td>1/6/16</td>\n",
       "      <td>Pink Cab</td>\n",
       "      <td>ATLANTA GA</td>\n",
       "      <td>28.62</td>\n",
       "      <td>358.52</td>\n",
       "      <td>334.8540</td>\n",
       "      <td>27703</td>\n",
       "      <td>Card</td>\n",
       "      <td>Male</td>\n",
       "      <td>27</td>\n",
       "      <td>9237</td>\n",
       "    </tr>\n",
       "    <tr>\n",
       "      <th>4</th>\n",
       "      <td>10320494</td>\n",
       "      <td>4/21/18</td>\n",
       "      <td>Yellow Cab</td>\n",
       "      <td>ATLANTA GA</td>\n",
       "      <td>36.38</td>\n",
       "      <td>721.10</td>\n",
       "      <td>467.1192</td>\n",
       "      <td>27703</td>\n",
       "      <td>Card</td>\n",
       "      <td>Male</td>\n",
       "      <td>27</td>\n",
       "      <td>9237</td>\n",
       "    </tr>\n",
       "  </tbody>\n",
       "</table>\n",
       "</div>"
      ],
      "text/plain": [
       "   Transaction ID Date of Travel     Company        City  KM Travelled  \\\n",
       "0        10000011         1/8/16    Pink Cab  ATLANTA GA         30.45   \n",
       "1        10351127        7/21/18  Yellow Cab  ATLANTA GA         26.19   \n",
       "2        10412921       11/23/18  Yellow Cab  ATLANTA GA         42.55   \n",
       "3        10000012         1/6/16    Pink Cab  ATLANTA GA         28.62   \n",
       "4        10320494        4/21/18  Yellow Cab  ATLANTA GA         36.38   \n",
       "\n",
       "   Price Charged  Cost of Trip  Customer ID Payment_Mode Gender  Age  \\\n",
       "0         370.95      313.6350        29290         Card   Male   28   \n",
       "1         598.70      317.4228        29290         Cash   Male   28   \n",
       "2         792.05      597.4020        29290         Card   Male   28   \n",
       "3         358.52      334.8540        27703         Card   Male   27   \n",
       "4         721.10      467.1192        27703         Card   Male   27   \n",
       "\n",
       "   Income (USD/Month)  \n",
       "0               10813  \n",
       "1               10813  \n",
       "2               10813  \n",
       "3                9237  \n",
       "4                9237  "
      ]
     },
     "execution_count": 11,
     "metadata": {},
     "output_type": "execute_result"
    }
   ],
   "source": [
    "Customermerge = Transactionmerge.merge(CustomerID, on = \"Customer ID\")\n",
    "Customermerge.head()"
   ]
  },
  {
   "cell_type": "markdown",
   "id": "db35f5fa",
   "metadata": {},
   "source": [
    "- Finally, we can finish joining the data tables by joining our previous merged data table with the City data table"
   ]
  },
  {
   "cell_type": "code",
   "execution_count": 12,
   "id": "4e83c1ab",
   "metadata": {},
   "outputs": [
    {
     "data": {
      "text/html": [
       "<div>\n",
       "<style scoped>\n",
       "    .dataframe tbody tr th:only-of-type {\n",
       "        vertical-align: middle;\n",
       "    }\n",
       "\n",
       "    .dataframe tbody tr th {\n",
       "        vertical-align: top;\n",
       "    }\n",
       "\n",
       "    .dataframe thead th {\n",
       "        text-align: right;\n",
       "    }\n",
       "</style>\n",
       "<table border=\"1\" class=\"dataframe\">\n",
       "  <thead>\n",
       "    <tr style=\"text-align: right;\">\n",
       "      <th></th>\n",
       "      <th>Transaction ID</th>\n",
       "      <th>Date of Travel</th>\n",
       "      <th>Company</th>\n",
       "      <th>City</th>\n",
       "      <th>KM Travelled</th>\n",
       "      <th>Price Charged</th>\n",
       "      <th>Cost of Trip</th>\n",
       "      <th>Customer ID</th>\n",
       "      <th>Payment_Mode</th>\n",
       "      <th>Gender</th>\n",
       "      <th>Age</th>\n",
       "      <th>Income (USD/Month)</th>\n",
       "      <th>Population</th>\n",
       "      <th>Users</th>\n",
       "    </tr>\n",
       "  </thead>\n",
       "  <tbody>\n",
       "    <tr>\n",
       "      <th>0</th>\n",
       "      <td>10000011</td>\n",
       "      <td>1/8/16</td>\n",
       "      <td>Pink Cab</td>\n",
       "      <td>ATLANTA GA</td>\n",
       "      <td>30.45</td>\n",
       "      <td>370.95</td>\n",
       "      <td>313.6350</td>\n",
       "      <td>29290</td>\n",
       "      <td>Card</td>\n",
       "      <td>Male</td>\n",
       "      <td>28</td>\n",
       "      <td>10813</td>\n",
       "      <td>814,885</td>\n",
       "      <td>24,701</td>\n",
       "    </tr>\n",
       "    <tr>\n",
       "      <th>1</th>\n",
       "      <td>10351127</td>\n",
       "      <td>7/21/18</td>\n",
       "      <td>Yellow Cab</td>\n",
       "      <td>ATLANTA GA</td>\n",
       "      <td>26.19</td>\n",
       "      <td>598.70</td>\n",
       "      <td>317.4228</td>\n",
       "      <td>29290</td>\n",
       "      <td>Cash</td>\n",
       "      <td>Male</td>\n",
       "      <td>28</td>\n",
       "      <td>10813</td>\n",
       "      <td>814,885</td>\n",
       "      <td>24,701</td>\n",
       "    </tr>\n",
       "    <tr>\n",
       "      <th>2</th>\n",
       "      <td>10412921</td>\n",
       "      <td>11/23/18</td>\n",
       "      <td>Yellow Cab</td>\n",
       "      <td>ATLANTA GA</td>\n",
       "      <td>42.55</td>\n",
       "      <td>792.05</td>\n",
       "      <td>597.4020</td>\n",
       "      <td>29290</td>\n",
       "      <td>Card</td>\n",
       "      <td>Male</td>\n",
       "      <td>28</td>\n",
       "      <td>10813</td>\n",
       "      <td>814,885</td>\n",
       "      <td>24,701</td>\n",
       "    </tr>\n",
       "    <tr>\n",
       "      <th>3</th>\n",
       "      <td>10000012</td>\n",
       "      <td>1/6/16</td>\n",
       "      <td>Pink Cab</td>\n",
       "      <td>ATLANTA GA</td>\n",
       "      <td>28.62</td>\n",
       "      <td>358.52</td>\n",
       "      <td>334.8540</td>\n",
       "      <td>27703</td>\n",
       "      <td>Card</td>\n",
       "      <td>Male</td>\n",
       "      <td>27</td>\n",
       "      <td>9237</td>\n",
       "      <td>814,885</td>\n",
       "      <td>24,701</td>\n",
       "    </tr>\n",
       "    <tr>\n",
       "      <th>4</th>\n",
       "      <td>10320494</td>\n",
       "      <td>4/21/18</td>\n",
       "      <td>Yellow Cab</td>\n",
       "      <td>ATLANTA GA</td>\n",
       "      <td>36.38</td>\n",
       "      <td>721.10</td>\n",
       "      <td>467.1192</td>\n",
       "      <td>27703</td>\n",
       "      <td>Card</td>\n",
       "      <td>Male</td>\n",
       "      <td>27</td>\n",
       "      <td>9237</td>\n",
       "      <td>814,885</td>\n",
       "      <td>24,701</td>\n",
       "    </tr>\n",
       "  </tbody>\n",
       "</table>\n",
       "</div>"
      ],
      "text/plain": [
       "   Transaction ID Date of Travel     Company        City  KM Travelled  \\\n",
       "0        10000011         1/8/16    Pink Cab  ATLANTA GA         30.45   \n",
       "1        10351127        7/21/18  Yellow Cab  ATLANTA GA         26.19   \n",
       "2        10412921       11/23/18  Yellow Cab  ATLANTA GA         42.55   \n",
       "3        10000012         1/6/16    Pink Cab  ATLANTA GA         28.62   \n",
       "4        10320494        4/21/18  Yellow Cab  ATLANTA GA         36.38   \n",
       "\n",
       "   Price Charged  Cost of Trip  Customer ID Payment_Mode Gender  Age  \\\n",
       "0         370.95      313.6350        29290         Card   Male   28   \n",
       "1         598.70      317.4228        29290         Cash   Male   28   \n",
       "2         792.05      597.4020        29290         Card   Male   28   \n",
       "3         358.52      334.8540        27703         Card   Male   27   \n",
       "4         721.10      467.1192        27703         Card   Male   27   \n",
       "\n",
       "   Income (USD/Month) Population     Users  \n",
       "0               10813   814,885    24,701   \n",
       "1               10813   814,885    24,701   \n",
       "2               10813   814,885    24,701   \n",
       "3                9237   814,885    24,701   \n",
       "4                9237   814,885    24,701   "
      ]
     },
     "execution_count": 12,
     "metadata": {},
     "output_type": "execute_result"
    }
   ],
   "source": [
    "Cab = Customermerge.merge(City, on = \"City\")\n",
    "Cab.head()"
   ]
  },
  {
   "cell_type": "markdown",
   "id": "3d638e24",
   "metadata": {},
   "source": [
    "### Data Cleaning"
   ]
  },
  {
   "cell_type": "markdown",
   "id": "58916f51",
   "metadata": {},
   "source": [
    "#### City Capitalization Change\n",
    "\n",
    "- One issue that should be resolved is changing all caps on the City variable to each word beginning in caps\n",
    "- A loop was created that took each line from the city column and replaced all caps with the first letter of each word beginning in caps"
   ]
  },
  {
   "cell_type": "code",
   "execution_count": 13,
   "id": "2875bf88",
   "metadata": {
    "scrolled": true
   },
   "outputs": [
    {
     "data": {
      "text/html": [
       "<div>\n",
       "<style scoped>\n",
       "    .dataframe tbody tr th:only-of-type {\n",
       "        vertical-align: middle;\n",
       "    }\n",
       "\n",
       "    .dataframe tbody tr th {\n",
       "        vertical-align: top;\n",
       "    }\n",
       "\n",
       "    .dataframe thead th {\n",
       "        text-align: right;\n",
       "    }\n",
       "</style>\n",
       "<table border=\"1\" class=\"dataframe\">\n",
       "  <thead>\n",
       "    <tr style=\"text-align: right;\">\n",
       "      <th></th>\n",
       "      <th>Transaction ID</th>\n",
       "      <th>Date of Travel</th>\n",
       "      <th>Company</th>\n",
       "      <th>City</th>\n",
       "      <th>KM Travelled</th>\n",
       "      <th>Price Charged</th>\n",
       "      <th>Cost of Trip</th>\n",
       "      <th>Customer ID</th>\n",
       "      <th>Payment_Mode</th>\n",
       "      <th>Gender</th>\n",
       "      <th>Age</th>\n",
       "      <th>Income (USD/Month)</th>\n",
       "      <th>Population</th>\n",
       "      <th>Users</th>\n",
       "    </tr>\n",
       "  </thead>\n",
       "  <tbody>\n",
       "    <tr>\n",
       "      <th>0</th>\n",
       "      <td>10000011</td>\n",
       "      <td>1/8/16</td>\n",
       "      <td>Pink Cab</td>\n",
       "      <td>Atlanta Ga</td>\n",
       "      <td>30.45</td>\n",
       "      <td>370.95</td>\n",
       "      <td>313.6350</td>\n",
       "      <td>29290</td>\n",
       "      <td>Card</td>\n",
       "      <td>Male</td>\n",
       "      <td>28</td>\n",
       "      <td>10813</td>\n",
       "      <td>814,885</td>\n",
       "      <td>24,701</td>\n",
       "    </tr>\n",
       "    <tr>\n",
       "      <th>1</th>\n",
       "      <td>10351127</td>\n",
       "      <td>7/21/18</td>\n",
       "      <td>Yellow Cab</td>\n",
       "      <td>Atlanta Ga</td>\n",
       "      <td>26.19</td>\n",
       "      <td>598.70</td>\n",
       "      <td>317.4228</td>\n",
       "      <td>29290</td>\n",
       "      <td>Cash</td>\n",
       "      <td>Male</td>\n",
       "      <td>28</td>\n",
       "      <td>10813</td>\n",
       "      <td>814,885</td>\n",
       "      <td>24,701</td>\n",
       "    </tr>\n",
       "    <tr>\n",
       "      <th>2</th>\n",
       "      <td>10412921</td>\n",
       "      <td>11/23/18</td>\n",
       "      <td>Yellow Cab</td>\n",
       "      <td>Atlanta Ga</td>\n",
       "      <td>42.55</td>\n",
       "      <td>792.05</td>\n",
       "      <td>597.4020</td>\n",
       "      <td>29290</td>\n",
       "      <td>Card</td>\n",
       "      <td>Male</td>\n",
       "      <td>28</td>\n",
       "      <td>10813</td>\n",
       "      <td>814,885</td>\n",
       "      <td>24,701</td>\n",
       "    </tr>\n",
       "    <tr>\n",
       "      <th>3</th>\n",
       "      <td>10000012</td>\n",
       "      <td>1/6/16</td>\n",
       "      <td>Pink Cab</td>\n",
       "      <td>Atlanta Ga</td>\n",
       "      <td>28.62</td>\n",
       "      <td>358.52</td>\n",
       "      <td>334.8540</td>\n",
       "      <td>27703</td>\n",
       "      <td>Card</td>\n",
       "      <td>Male</td>\n",
       "      <td>27</td>\n",
       "      <td>9237</td>\n",
       "      <td>814,885</td>\n",
       "      <td>24,701</td>\n",
       "    </tr>\n",
       "    <tr>\n",
       "      <th>4</th>\n",
       "      <td>10320494</td>\n",
       "      <td>4/21/18</td>\n",
       "      <td>Yellow Cab</td>\n",
       "      <td>Atlanta Ga</td>\n",
       "      <td>36.38</td>\n",
       "      <td>721.10</td>\n",
       "      <td>467.1192</td>\n",
       "      <td>27703</td>\n",
       "      <td>Card</td>\n",
       "      <td>Male</td>\n",
       "      <td>27</td>\n",
       "      <td>9237</td>\n",
       "      <td>814,885</td>\n",
       "      <td>24,701</td>\n",
       "    </tr>\n",
       "    <tr>\n",
       "      <th>...</th>\n",
       "      <td>...</td>\n",
       "      <td>...</td>\n",
       "      <td>...</td>\n",
       "      <td>...</td>\n",
       "      <td>...</td>\n",
       "      <td>...</td>\n",
       "      <td>...</td>\n",
       "      <td>...</td>\n",
       "      <td>...</td>\n",
       "      <td>...</td>\n",
       "      <td>...</td>\n",
       "      <td>...</td>\n",
       "      <td>...</td>\n",
       "      <td>...</td>\n",
       "    </tr>\n",
       "    <tr>\n",
       "      <th>9995</th>\n",
       "      <td>10112699</td>\n",
       "      <td>12/5/16</td>\n",
       "      <td>Pink Cab</td>\n",
       "      <td>Austin Tx</td>\n",
       "      <td>17.85</td>\n",
       "      <td>248.48</td>\n",
       "      <td>183.8550</td>\n",
       "      <td>33614</td>\n",
       "      <td>Card</td>\n",
       "      <td>Male</td>\n",
       "      <td>64</td>\n",
       "      <td>13173</td>\n",
       "      <td>698,371</td>\n",
       "      <td>14,978</td>\n",
       "    </tr>\n",
       "    <tr>\n",
       "      <th>9996</th>\n",
       "      <td>10112701</td>\n",
       "      <td>11/26/16</td>\n",
       "      <td>Pink Cab</td>\n",
       "      <td>Austin Tx</td>\n",
       "      <td>1.92</td>\n",
       "      <td>29.91</td>\n",
       "      <td>20.5440</td>\n",
       "      <td>33770</td>\n",
       "      <td>Cash</td>\n",
       "      <td>Female</td>\n",
       "      <td>26</td>\n",
       "      <td>21669</td>\n",
       "      <td>698,371</td>\n",
       "      <td>14,978</td>\n",
       "    </tr>\n",
       "    <tr>\n",
       "      <th>9997</th>\n",
       "      <td>10248805</td>\n",
       "      <td>10/29/17</td>\n",
       "      <td>Pink Cab</td>\n",
       "      <td>Austin Tx</td>\n",
       "      <td>23.60</td>\n",
       "      <td>474.81</td>\n",
       "      <td>266.6800</td>\n",
       "      <td>33770</td>\n",
       "      <td>Card</td>\n",
       "      <td>Female</td>\n",
       "      <td>26</td>\n",
       "      <td>21669</td>\n",
       "      <td>698,371</td>\n",
       "      <td>14,978</td>\n",
       "    </tr>\n",
       "    <tr>\n",
       "      <th>9998</th>\n",
       "      <td>10274784</td>\n",
       "      <td>12/15/17</td>\n",
       "      <td>Pink Cab</td>\n",
       "      <td>Austin Tx</td>\n",
       "      <td>15.84</td>\n",
       "      <td>188.36</td>\n",
       "      <td>185.3280</td>\n",
       "      <td>33770</td>\n",
       "      <td>Cash</td>\n",
       "      <td>Female</td>\n",
       "      <td>26</td>\n",
       "      <td>21669</td>\n",
       "      <td>698,371</td>\n",
       "      <td>14,978</td>\n",
       "    </tr>\n",
       "    <tr>\n",
       "      <th>9999</th>\n",
       "      <td>10112704</td>\n",
       "      <td>11/27/16</td>\n",
       "      <td>Pink Cab</td>\n",
       "      <td>Austin Tx</td>\n",
       "      <td>9.27</td>\n",
       "      <td>151.07</td>\n",
       "      <td>104.7510</td>\n",
       "      <td>33299</td>\n",
       "      <td>Card</td>\n",
       "      <td>Male</td>\n",
       "      <td>19</td>\n",
       "      <td>23144</td>\n",
       "      <td>698,371</td>\n",
       "      <td>14,978</td>\n",
       "    </tr>\n",
       "  </tbody>\n",
       "</table>\n",
       "<p>10000 rows × 14 columns</p>\n",
       "</div>"
      ],
      "text/plain": [
       "      Transaction ID Date of Travel     Company        City  KM Travelled  \\\n",
       "0           10000011         1/8/16    Pink Cab  Atlanta Ga         30.45   \n",
       "1           10351127        7/21/18  Yellow Cab  Atlanta Ga         26.19   \n",
       "2           10412921       11/23/18  Yellow Cab  Atlanta Ga         42.55   \n",
       "3           10000012         1/6/16    Pink Cab  Atlanta Ga         28.62   \n",
       "4           10320494        4/21/18  Yellow Cab  Atlanta Ga         36.38   \n",
       "...              ...            ...         ...         ...           ...   \n",
       "9995        10112699        12/5/16    Pink Cab   Austin Tx         17.85   \n",
       "9996        10112701       11/26/16    Pink Cab   Austin Tx          1.92   \n",
       "9997        10248805       10/29/17    Pink Cab   Austin Tx         23.60   \n",
       "9998        10274784       12/15/17    Pink Cab   Austin Tx         15.84   \n",
       "9999        10112704       11/27/16    Pink Cab   Austin Tx          9.27   \n",
       "\n",
       "      Price Charged  Cost of Trip  Customer ID Payment_Mode  Gender  Age  \\\n",
       "0            370.95      313.6350        29290         Card    Male   28   \n",
       "1            598.70      317.4228        29290         Cash    Male   28   \n",
       "2            792.05      597.4020        29290         Card    Male   28   \n",
       "3            358.52      334.8540        27703         Card    Male   27   \n",
       "4            721.10      467.1192        27703         Card    Male   27   \n",
       "...             ...           ...          ...          ...     ...  ...   \n",
       "9995         248.48      183.8550        33614         Card    Male   64   \n",
       "9996          29.91       20.5440        33770         Cash  Female   26   \n",
       "9997         474.81      266.6800        33770         Card  Female   26   \n",
       "9998         188.36      185.3280        33770         Cash  Female   26   \n",
       "9999         151.07      104.7510        33299         Card    Male   19   \n",
       "\n",
       "      Income (USD/Month) Population     Users  \n",
       "0                  10813   814,885    24,701   \n",
       "1                  10813   814,885    24,701   \n",
       "2                  10813   814,885    24,701   \n",
       "3                   9237   814,885    24,701   \n",
       "4                   9237   814,885    24,701   \n",
       "...                  ...        ...       ...  \n",
       "9995               13173   698,371    14,978   \n",
       "9996               21669   698,371    14,978   \n",
       "9997               21669   698,371    14,978   \n",
       "9998               21669   698,371    14,978   \n",
       "9999               23144   698,371    14,978   \n",
       "\n",
       "[10000 rows x 14 columns]"
      ]
     },
     "execution_count": 13,
     "metadata": {},
     "output_type": "execute_result"
    }
   ],
   "source": [
    "Cab['City']=Cab['City'].apply(lambda x: x.title())\n",
    "Cab.head(10000)"
   ]
  },
  {
   "cell_type": "markdown",
   "id": "b27c2900",
   "metadata": {},
   "source": [
    "#### NA Values/Duplicates \n",
    "\n",
    "- Let's now check our data for missing data and duplicates and remove any if necessary"
   ]
  },
  {
   "cell_type": "code",
   "execution_count": 11,
   "id": "9471a57f",
   "metadata": {},
   "outputs": [
    {
     "data": {
      "text/plain": [
       "Transaction ID        0\n",
       "Date of Travel        0\n",
       "Company               0\n",
       "City                  0\n",
       "KM Travelled          0\n",
       "Price Charged         0\n",
       "Cost of Trip          0\n",
       "Customer ID           0\n",
       "Payment_Mode          0\n",
       "Gender                0\n",
       "Age                   0\n",
       "Income (USD/Month)    0\n",
       "Population            0\n",
       "Users                 0\n",
       "dtype: int64"
      ]
     },
     "execution_count": 11,
     "metadata": {},
     "output_type": "execute_result"
    }
   ],
   "source": [
    "Cab.isna().sum()"
   ]
  },
  {
   "cell_type": "markdown",
   "id": "078cc486",
   "metadata": {},
   "source": [
    "- There doesn't appear to be any missing values in our dataset\n",
    "- Now let's check for duplicates"
   ]
  },
  {
   "cell_type": "code",
   "execution_count": 8,
   "id": "81121cab",
   "metadata": {},
   "outputs": [
    {
     "data": {
      "text/html": [
       "<div>\n",
       "<style scoped>\n",
       "    .dataframe tbody tr th:only-of-type {\n",
       "        vertical-align: middle;\n",
       "    }\n",
       "\n",
       "    .dataframe tbody tr th {\n",
       "        vertical-align: top;\n",
       "    }\n",
       "\n",
       "    .dataframe thead th {\n",
       "        text-align: right;\n",
       "    }\n",
       "</style>\n",
       "<table border=\"1\" class=\"dataframe\">\n",
       "  <thead>\n",
       "    <tr style=\"text-align: right;\">\n",
       "      <th></th>\n",
       "      <th>Transaction ID</th>\n",
       "      <th>Date of Travel</th>\n",
       "      <th>Company</th>\n",
       "      <th>City</th>\n",
       "      <th>KM Travelled</th>\n",
       "      <th>Price Charged</th>\n",
       "      <th>Cost of Trip</th>\n",
       "      <th>Customer ID</th>\n",
       "      <th>Payment_Mode</th>\n",
       "      <th>Gender</th>\n",
       "      <th>Age</th>\n",
       "      <th>Income (USD/Month)</th>\n",
       "      <th>Population</th>\n",
       "      <th>Users</th>\n",
       "    </tr>\n",
       "  </thead>\n",
       "  <tbody>\n",
       "  </tbody>\n",
       "</table>\n",
       "</div>"
      ],
      "text/plain": [
       "Empty DataFrame\n",
       "Columns: [Transaction ID, Date of Travel, Company, City, KM Travelled, Price Charged, Cost of Trip, Customer ID, Payment_Mode, Gender, Age, Income (USD/Month), Population, Users]\n",
       "Index: []"
      ]
     },
     "execution_count": 8,
     "metadata": {},
     "output_type": "execute_result"
    }
   ],
   "source": [
    "duplicates = Cab[Cab.duplicated()]\n",
    "duplicates"
   ]
  },
  {
   "cell_type": "markdown",
   "id": "70ad1269",
   "metadata": {},
   "source": [
    "- Looking at this data frame, there don't appear to be any duplicates. Now we are able to begin our exploratory data analysis"
   ]
  },
  {
   "cell_type": "markdown",
   "id": "3c871bf4",
   "metadata": {},
   "source": [
    "#### Data Type Changes\n",
    "- Let's check the metadata about the data to see if any data types should be changed for when we do our EDA"
   ]
  },
  {
   "cell_type": "code",
   "execution_count": 12,
   "id": "d151b83c",
   "metadata": {},
   "outputs": [
    {
     "name": "stdout",
     "output_type": "stream",
     "text": [
      "<class 'pandas.core.frame.DataFrame'>\n",
      "Int64Index: 359392 entries, 0 to 359391\n",
      "Data columns (total 14 columns):\n",
      " #   Column              Non-Null Count   Dtype  \n",
      "---  ------              --------------   -----  \n",
      " 0   Transaction ID      359392 non-null  int64  \n",
      " 1   Date of Travel      359392 non-null  object \n",
      " 2   Company             359392 non-null  object \n",
      " 3   City                359392 non-null  object \n",
      " 4   KM Travelled        359392 non-null  float64\n",
      " 5   Price Charged       359392 non-null  float64\n",
      " 6   Cost of Trip        359392 non-null  float64\n",
      " 7   Customer ID         359392 non-null  int64  \n",
      " 8   Payment_Mode        359392 non-null  object \n",
      " 9   Gender              359392 non-null  object \n",
      " 10  Age                 359392 non-null  int64  \n",
      " 11  Income (USD/Month)  359392 non-null  int64  \n",
      " 12  Population          359392 non-null  object \n",
      " 13  Users               359392 non-null  object \n",
      "dtypes: float64(3), int64(4), object(7)\n",
      "memory usage: 41.1+ MB\n"
     ]
    }
   ],
   "source": [
    "Cab.info()"
   ]
  },
  {
   "cell_type": "markdown",
   "id": "398e64a2",
   "metadata": {},
   "source": [
    "- Based on the metadata, we should change Population and Users to int64 so they can be included in our EDA"
   ]
  },
  {
   "cell_type": "code",
   "execution_count": 7,
   "id": "422f3e7b",
   "metadata": {},
   "outputs": [],
   "source": [
    "Cab['Population'] = Cab['Population'].apply(lambda x: x.replace(\",\",\"\"))\n",
    "Cab['Population'] = Cab['Population'].astype('int64')\n",
    "\n",
    "Cab['Users'] = Cab['Users'].apply(lambda x: x.replace(\",\",\"\"))\n",
    "Cab['Users'] = Cab['Users'].astype('int64')"
   ]
  },
  {
   "cell_type": "markdown",
   "id": "2a160e1e",
   "metadata": {},
   "source": [
    "### Exploratory Data Analysis"
   ]
  },
  {
   "cell_type": "markdown",
   "id": "b31fd52b",
   "metadata": {},
   "source": [
    "#### Correlation\n",
    "\n",
    "- To begin our exploratory data analysis, let's take a look at the correlation between our variables"
   ]
  },
  {
   "cell_type": "code",
   "execution_count": 14,
   "id": "dfe66da2",
   "metadata": {},
   "outputs": [
    {
     "data": {
      "text/html": [
       "<div>\n",
       "<style scoped>\n",
       "    .dataframe tbody tr th:only-of-type {\n",
       "        vertical-align: middle;\n",
       "    }\n",
       "\n",
       "    .dataframe tbody tr th {\n",
       "        vertical-align: top;\n",
       "    }\n",
       "\n",
       "    .dataframe thead th {\n",
       "        text-align: right;\n",
       "    }\n",
       "</style>\n",
       "<table border=\"1\" class=\"dataframe\">\n",
       "  <thead>\n",
       "    <tr style=\"text-align: right;\">\n",
       "      <th></th>\n",
       "      <th>Transaction ID</th>\n",
       "      <th>KM Travelled</th>\n",
       "      <th>Price Charged</th>\n",
       "      <th>Cost of Trip</th>\n",
       "      <th>Customer ID</th>\n",
       "      <th>Age</th>\n",
       "      <th>Income (USD/Month)</th>\n",
       "      <th>Population</th>\n",
       "      <th>Users</th>\n",
       "    </tr>\n",
       "  </thead>\n",
       "  <tbody>\n",
       "    <tr>\n",
       "      <th>Transaction ID</th>\n",
       "      <td>1.000000</td>\n",
       "      <td>-0.001429</td>\n",
       "      <td>-0.052902</td>\n",
       "      <td>-0.003462</td>\n",
       "      <td>-0.016912</td>\n",
       "      <td>-0.001267</td>\n",
       "      <td>-0.001570</td>\n",
       "      <td>0.023868</td>\n",
       "      <td>0.013526</td>\n",
       "    </tr>\n",
       "    <tr>\n",
       "      <th>KM Travelled</th>\n",
       "      <td>-0.001429</td>\n",
       "      <td>1.000000</td>\n",
       "      <td>0.835753</td>\n",
       "      <td>0.981848</td>\n",
       "      <td>0.000389</td>\n",
       "      <td>-0.000369</td>\n",
       "      <td>-0.000544</td>\n",
       "      <td>-0.002311</td>\n",
       "      <td>-0.000428</td>\n",
       "    </tr>\n",
       "    <tr>\n",
       "      <th>Price Charged</th>\n",
       "      <td>-0.052902</td>\n",
       "      <td>0.835753</td>\n",
       "      <td>1.000000</td>\n",
       "      <td>0.859812</td>\n",
       "      <td>-0.177324</td>\n",
       "      <td>-0.003084</td>\n",
       "      <td>0.003228</td>\n",
       "      <td>0.326589</td>\n",
       "      <td>0.281061</td>\n",
       "    </tr>\n",
       "    <tr>\n",
       "      <th>Cost of Trip</th>\n",
       "      <td>-0.003462</td>\n",
       "      <td>0.981848</td>\n",
       "      <td>0.859812</td>\n",
       "      <td>1.000000</td>\n",
       "      <td>0.003077</td>\n",
       "      <td>-0.000189</td>\n",
       "      <td>-0.000633</td>\n",
       "      <td>0.015108</td>\n",
       "      <td>0.023628</td>\n",
       "    </tr>\n",
       "    <tr>\n",
       "      <th>Customer ID</th>\n",
       "      <td>-0.016912</td>\n",
       "      <td>0.000389</td>\n",
       "      <td>-0.177324</td>\n",
       "      <td>0.003077</td>\n",
       "      <td>1.000000</td>\n",
       "      <td>-0.004735</td>\n",
       "      <td>-0.013608</td>\n",
       "      <td>-0.647052</td>\n",
       "      <td>-0.610742</td>\n",
       "    </tr>\n",
       "    <tr>\n",
       "      <th>Age</th>\n",
       "      <td>-0.001267</td>\n",
       "      <td>-0.000369</td>\n",
       "      <td>-0.003084</td>\n",
       "      <td>-0.000189</td>\n",
       "      <td>-0.004735</td>\n",
       "      <td>1.000000</td>\n",
       "      <td>0.003907</td>\n",
       "      <td>-0.009002</td>\n",
       "      <td>-0.005906</td>\n",
       "    </tr>\n",
       "    <tr>\n",
       "      <th>Income (USD/Month)</th>\n",
       "      <td>-0.001570</td>\n",
       "      <td>-0.000544</td>\n",
       "      <td>0.003228</td>\n",
       "      <td>-0.000633</td>\n",
       "      <td>-0.013608</td>\n",
       "      <td>0.003907</td>\n",
       "      <td>1.000000</td>\n",
       "      <td>0.011868</td>\n",
       "      <td>0.010464</td>\n",
       "    </tr>\n",
       "    <tr>\n",
       "      <th>Population</th>\n",
       "      <td>0.023868</td>\n",
       "      <td>-0.002311</td>\n",
       "      <td>0.326589</td>\n",
       "      <td>0.015108</td>\n",
       "      <td>-0.647052</td>\n",
       "      <td>-0.009002</td>\n",
       "      <td>0.011868</td>\n",
       "      <td>1.000000</td>\n",
       "      <td>0.915490</td>\n",
       "    </tr>\n",
       "    <tr>\n",
       "      <th>Users</th>\n",
       "      <td>0.013526</td>\n",
       "      <td>-0.000428</td>\n",
       "      <td>0.281061</td>\n",
       "      <td>0.023628</td>\n",
       "      <td>-0.610742</td>\n",
       "      <td>-0.005906</td>\n",
       "      <td>0.010464</td>\n",
       "      <td>0.915490</td>\n",
       "      <td>1.000000</td>\n",
       "    </tr>\n",
       "  </tbody>\n",
       "</table>\n",
       "</div>"
      ],
      "text/plain": [
       "                    Transaction ID  KM Travelled  Price Charged  Cost of Trip  \\\n",
       "Transaction ID            1.000000     -0.001429      -0.052902     -0.003462   \n",
       "KM Travelled             -0.001429      1.000000       0.835753      0.981848   \n",
       "Price Charged            -0.052902      0.835753       1.000000      0.859812   \n",
       "Cost of Trip             -0.003462      0.981848       0.859812      1.000000   \n",
       "Customer ID              -0.016912      0.000389      -0.177324      0.003077   \n",
       "Age                      -0.001267     -0.000369      -0.003084     -0.000189   \n",
       "Income (USD/Month)       -0.001570     -0.000544       0.003228     -0.000633   \n",
       "Population                0.023868     -0.002311       0.326589      0.015108   \n",
       "Users                     0.013526     -0.000428       0.281061      0.023628   \n",
       "\n",
       "                    Customer ID       Age  Income (USD/Month)  Population  \\\n",
       "Transaction ID        -0.016912 -0.001267           -0.001570    0.023868   \n",
       "KM Travelled           0.000389 -0.000369           -0.000544   -0.002311   \n",
       "Price Charged         -0.177324 -0.003084            0.003228    0.326589   \n",
       "Cost of Trip           0.003077 -0.000189           -0.000633    0.015108   \n",
       "Customer ID            1.000000 -0.004735           -0.013608   -0.647052   \n",
       "Age                   -0.004735  1.000000            0.003907   -0.009002   \n",
       "Income (USD/Month)    -0.013608  0.003907            1.000000    0.011868   \n",
       "Population            -0.647052 -0.009002            0.011868    1.000000   \n",
       "Users                 -0.610742 -0.005906            0.010464    0.915490   \n",
       "\n",
       "                       Users  \n",
       "Transaction ID      0.013526  \n",
       "KM Travelled       -0.000428  \n",
       "Price Charged       0.281061  \n",
       "Cost of Trip        0.023628  \n",
       "Customer ID        -0.610742  \n",
       "Age                -0.005906  \n",
       "Income (USD/Month)  0.010464  \n",
       "Population          0.915490  \n",
       "Users               1.000000  "
      ]
     },
     "execution_count": 14,
     "metadata": {},
     "output_type": "execute_result"
    }
   ],
   "source": [
    "Cab.corr()"
   ]
  },
  {
   "cell_type": "markdown",
   "id": "7f949f4d",
   "metadata": {},
   "source": [
    "- Based on the correlation, we can see that the top 5 variable relationships that have the highest correlation are KM Travelled:Price Charged, Cost of Trip:KM Travelled, Cost of Trip:Price Charged, Population:Users, and Population:Price Charged\n",
    "\n",
    "- The biggest correlation is Cost of Trip and KM Travelled"
   ]
  },
  {
   "cell_type": "markdown",
   "id": "77a96b64",
   "metadata": {},
   "source": [
    "#### User Preference of Company\n"
   ]
  },
  {
   "cell_type": "code",
   "execution_count": 13,
   "id": "040a2eca",
   "metadata": {},
   "outputs": [
    {
     "data": {
      "image/png": "[encoded data removed]",
      "text/plain": [
       "<Figure size 432x288 with 1 Axes>"
      ]
     },
     "metadata": {},
     "output_type": "display_data"
    }
   ],
   "source": [
    "plt.figure()\n",
    "plt.pie(Cab['Company'].value_counts().values, labels = Cab['Company'].value_counts().index,autopct='%1.2f%%')\n",
    "plt.title(\"Overall User Preferance of Cab Company\")\n",
    "plt.show()"
   ]
  },
  {
   "cell_type": "markdown",
   "id": "32aabb38",
   "metadata": {},
   "source": [
    "- From the diagram, we can see that around 75% of all users prefer Yellow Cab company while only a quarter prefer Pink Cab"
   ]
  },
  {
   "cell_type": "markdown",
   "id": "bf06ba44",
   "metadata": {},
   "source": [
    "##### User Preferance of Cab Company based on city\n",
    "\n",
    "- Let's create data tables querying both the companies along with the different cities"
   ]
  },
  {
   "cell_type": "code",
   "execution_count": 54,
   "id": "0ff2e53b",
   "metadata": {},
   "outputs": [],
   "source": [
    "# Create new data tables to query certain information from Cab data to be used in the visualizations\n",
    "Chicago = Cab[Cab['City'] == \"Chicago Il\"]\n",
    "New_York = Cab[Cab['City'] == \"New York Ny\"]\n",
    "Los_Angeles = Cab[Cab['City'] == \"Los Angeles Ca\"]\n",
    "Miami = Cab[Cab['City'] == \"Miami Fl\"]\n",
    "Silicon_Valley = Cab[Cab['City'] == \"Silicon Valley\"]\n",
    "Orange_County = Cab[Cab['City'] == \"Orange County\"]\n",
    "San_Diego = Cab[Cab['City'] == \"San Diego Ca\"]\n",
    "Phoenix = Cab[Cab['City'] == \"Phoenix Az\"]\n",
    "Dallas = Cab[Cab['City'] == \"Dallas Tx\"]\n",
    "Atlanta = Cab[Cab['City'] == \"Atlanta Ga\"]\n",
    "Denver = Cab[Cab['City'] == \"Denver Co\"]\n",
    "Pink = Cab[Cab['Company']=='Pink Cab']\n",
    "Yellow = Cab[Cab['Company']==\"Yellow Cab\"]\n",
    "San_Pink = San_Diego[San_Diego['Company']=='Pink Cab']\n",
    "New_York_Yellow = New_York[New_York['Company']=='Yellow Cab']"
   ]
  },
  {
   "cell_type": "markdown",
   "id": "9dc5f46a",
   "metadata": {},
   "source": [
    "- Below is a bar graph showing the user preference of Cab company based on the city"
   ]
  },
  {
   "cell_type": "code",
   "execution_count": 15,
   "id": "0e094bbe",
   "metadata": {},
   "outputs": [
    {
     "data": {
      "image/png": "[encoded data removed]",
      "text/plain": [
       "<Figure size 432x288 with 1 Axes>"
      ]
     },
     "metadata": {
      "needs_background": "light"
     },
     "output_type": "display_data"
    }
   ],
   "source": [
    "sns.countplot(y='City', hue='Company', data=Cab)\n",
    "plt.title(\"User Preference of Cab Company in Each City\")\n",
    "plt.show()"
   ]
  },
  {
   "cell_type": "markdown",
   "id": "88d86c1f",
   "metadata": {},
   "source": [
    "- From the new diagrams showing user preferences depending on cities, the city that had the most users that preferred Yellow Cab was New York\n",
    "- Likewise, the city that had the most users that preferred Pink Cab was San Diego with almost 1/2 of their users preferring it\n",
    "- Other cities that preferred Pink Cab over Yellow Cab were Nashville Tn, and Sacramento Ca\n",
    "- But, overall, Yellow Cab had the most users throughout all the cities"
   ]
  },
  {
   "cell_type": "markdown",
   "id": "cbfd623c",
   "metadata": {},
   "source": [
    "##### User Preferance of Cab company based on age\n",
    "\n",
    "- Before we look at the user preference based on age, we can create a new variable for our data set splitting up age into different age groups"
   ]
  },
  {
   "cell_type": "code",
   "execution_count": 14,
   "id": "e7d5e60c",
   "metadata": {},
   "outputs": [],
   "source": [
    "# Create new categorical variable to dataset breaking up age into segments. 18-19 late teens, 20-29 20's, 30-39 30's, \n",
    "# 40-49 40's, 50-59 50's, 60's + Seniors'\n",
    "\n",
    "def func(age):\n",
    "    if 18 <= age <= 19:\n",
    "        return '18-19'\n",
    "    elif 19 < age <= 29:\n",
    "        return '20-29'\n",
    "    elif 29 < age <= 39:\n",
    "        return '30-39'\n",
    "    elif 39 < age <= 49:\n",
    "        return '40-49'\n",
    "    elif 49 < age <= 59:\n",
    "        return '50-59'\n",
    "    else:\n",
    "        return '60+'\n",
    "\n",
    "Cab['Age_Group'] = Cab['Age'].apply(func)"
   ]
  },
  {
   "cell_type": "markdown",
   "id": "69a4736f",
   "metadata": {},
   "source": [
    "- Now that we have created the new variable, let's create visualizations for the age distributions of users"
   ]
  },
  {
   "cell_type": "code",
   "execution_count": 18,
   "id": "4148dd61",
   "metadata": {},
   "outputs": [
    {
     "data": {
      "image/png": "[encoded data removed]",
      "text/plain": [
       "<Figure size 432x288 with 1 Axes>"
      ]
     },
     "metadata": {},
     "output_type": "display_data"
    }
   ],
   "source": [
    "# Overall age range\n",
    "# Create pie chart on user age groups distribution\n",
    "plt.figure()\n",
    "plt.pie(Cab['Age_Group'].value_counts().values, labels = Cab['Age_Group'].value_counts().index,autopct='%1.2f%%')\n",
    "plt.title(\"Overall Age Distribution of Users\")\n",
    "plt.show()\n",
    "\n"
   ]
  },
  {
   "cell_type": "code",
   "execution_count": 19,
   "id": "4d0ebe15",
   "metadata": {},
   "outputs": [
    {
     "data": {
      "image/png": "[encoded data removed]",
      "text/plain": [
       "<Figure size 432x288 with 1 Axes>"
      ]
     },
     "metadata": {},
     "output_type": "display_data"
    }
   ],
   "source": [
    "# Pink Cab\n",
    "plt.figure()\n",
    "plt.pie(Pink['Age_Group'].value_counts().values, labels = Pink['Age_Group'].value_counts().index,autopct='%1.2f%%')\n",
    "plt.title(\"Overall Age Distribution of Users That Prefer Pink Cab\")\n",
    "plt.show()"
   ]
  },
  {
   "cell_type": "code",
   "execution_count": 20,
   "id": "8cbd2417",
   "metadata": {},
   "outputs": [
    {
     "data": {
      "image/png": "[encoded data removed]",
      "text/plain": [
       "<Figure size 432x288 with 1 Axes>"
      ]
     },
     "metadata": {},
     "output_type": "display_data"
    }
   ],
   "source": [
    "# Yellow Cab\n",
    "plt.figure()\n",
    "plt.pie(Yellow['Age_Group'].value_counts().values, labels = Yellow['Age_Group'].value_counts().index,autopct='%1.2f%%')\n",
    "plt.title(\"Overall Age Distribution of Users Who Prefer Yellow Cab\")\n",
    "plt.show()"
   ]
  },
  {
   "cell_type": "code",
   "execution_count": 21,
   "id": "2308800d",
   "metadata": {},
   "outputs": [
    {
     "data": {
      "image/png": "[encoded data removed]",
      "text/plain": [
       "<Figure size 432x288 with 1 Axes>"
      ]
     },
     "metadata": {},
     "output_type": "display_data"
    }
   ],
   "source": [
    "# San Diego Pink Cab\n",
    "plt.figure()\n",
    "plt.pie(San_Pink['Age_Group'].value_counts().values, labels = San_Pink['Age_Group'].value_counts().index,autopct='%1.2f%%')\n",
    "plt.title(\"Overall Age Distribution of Users That Use Pink Cab in San Diego\")\n",
    "plt.show()"
   ]
  },
  {
   "cell_type": "markdown",
   "id": "94776aa9",
   "metadata": {},
   "source": [
    "- Based on these pie charts, we can conclude that 20's were the most popular age group among all users, with 30's being a close second\n",
    "\n",
    "- Pink Cab has a little more users in their 20's than Yellow Cab with users who use Pink Cab and live in San Diego being the highest amount of users who are in their 20s\n",
    "\n",
    "- Pink Cab also has slightly more users who are seniors"
   ]
  },
  {
   "cell_type": "markdown",
   "id": "729b567e",
   "metadata": {},
   "source": [
    "#### Payment Method\n",
    "\n",
    "- We will now take a look at the user's preferences for mode of payment"
   ]
  },
  {
   "cell_type": "code",
   "execution_count": 22,
   "id": "bc584e4b",
   "metadata": {},
   "outputs": [
    {
     "data": {
      "image/png": "[encoded data removed]",
      "text/plain": [
       "<Figure size 432x288 with 1 Axes>"
      ]
     },
     "metadata": {
      "needs_background": "light"
     },
     "output_type": "display_data"
    }
   ],
   "source": [
    "#Overall \n",
    "sns.countplot(x = 'Payment_Mode', data = Cab)\n",
    "plt.xlabel('Method of Payment')\n",
    "plt.title('Information of Method of Payment By Users')\n",
    "plt.show()"
   ]
  },
  {
   "cell_type": "code",
   "execution_count": 23,
   "id": "79bb5c63",
   "metadata": {},
   "outputs": [
    {
     "data": {
      "image/png": "[encoded data removed]",
      "text/plain": [
       "<Figure size 432x288 with 1 Axes>"
      ]
     },
     "metadata": {
      "needs_background": "light"
     },
     "output_type": "display_data"
    }
   ],
   "source": [
    "# By company\n",
    "sns.countplot(x= 'Company', hue = 'Payment_Mode', data = Cab)\n",
    "plt.title('Payment Information By Company')\n",
    "plt.show()"
   ]
  },
  {
   "cell_type": "markdown",
   "id": "65f2e568",
   "metadata": {},
   "source": [
    " - Overall, both companie's users prefer to pay with a credit card as opposed to cash"
   ]
  },
  {
   "cell_type": "markdown",
   "id": "5e176e45",
   "metadata": {},
   "source": [
    "#### Cost of Trip"
   ]
  },
  {
   "cell_type": "code",
   "execution_count": 24,
   "id": "d24877da",
   "metadata": {},
   "outputs": [
    {
     "data": {
      "image/png": "[encoded data removed]",
      "text/plain": [
       "<Figure size 720x720 with 1 Axes>"
      ]
     },
     "metadata": {
      "needs_background": "light"
     },
     "output_type": "display_data"
    }
   ],
   "source": [
    "# Find distributions of Cost of Trip for each company\n",
    "plt.figure(figsize = (10,10))\n",
    "sns.boxplot(x = 'Company', y = 'Cost of Trip', data = Cab)\n",
    "plt.xticks(fontsize = 20)\n",
    "plt.yticks(fontsize = 20)\n",
    "plt.ylabel('Cost of Trip',fontsize = 20)\n",
    "plt.xlabel('Cab Company',fontsize = 20)\n",
    "plt.show()"
   ]
  },
  {
   "cell_type": "markdown",
   "id": "3a27f58a",
   "metadata": {},
   "source": [
    "- On average, Pink Cab has a lower cost of trip than Yellow Cab"
   ]
  },
  {
   "cell_type": "markdown",
   "id": "538ba28e",
   "metadata": {},
   "source": [
    "#### Time Period Analysis"
   ]
  },
  {
   "cell_type": "markdown",
   "id": "e5a1dc3d",
   "metadata": {},
   "source": [
    "- We will now do a time period analysis of our data by creating new categorical variables based on time periods\n",
    "- First we will make some changes to the Date of Travel column for us to be able to create our new variables"
   ]
  },
  {
   "cell_type": "code",
   "execution_count": 17,
   "id": "54b62c97",
   "metadata": {},
   "outputs": [],
   "source": [
    "Cab.rename(columns={'Date of Travel':'Date'},inplace=True)"
   ]
  },
  {
   "cell_type": "code",
   "execution_count": 18,
   "id": "81fa0d5d",
   "metadata": {},
   "outputs": [],
   "source": [
    "from datetime import datetime\n",
    "Cab['Date'] =  pd.to_datetime(Cab['Date'], infer_datetime_format=True)"
   ]
  },
  {
   "cell_type": "markdown",
   "id": "a311dbb8",
   "metadata": {},
   "source": [
    "- We will now create new categorical variables for time periods which will be used in our new visualizations"
   ]
  },
  {
   "cell_type": "code",
   "execution_count": 19,
   "id": "dd5cf7d3",
   "metadata": {},
   "outputs": [],
   "source": [
    "# Create new columns based on day, month, and year\n",
    "Cab['Year'] = Cab['Date'].dt.year\n",
    "Cab['Month'] = Cab['Date'].dt.month\n",
    "Cab['Day'] = Cab['Date'].dt.day\n",
    "Cab['Day of Week'] = Cab['Date'].dt.day_name()\n",
    "\n",
    "# Create Season Variable\n",
    "\n",
    "def func(Month):\n",
    "    if 1 <= Month <= 2:\n",
    "        return 'Winter'\n",
    "    elif 3 <= Month <= 5:\n",
    "        return 'Spring'\n",
    "    elif 6 <= Month <= 8:\n",
    "        return 'Summer'\n",
    "    elif 9 <= Month <= 12:\n",
    "        return 'Fall'\n",
    "    \n",
    "Cab['Season'] = Cab['Month'].apply(func)"
   ]
  },
  {
   "cell_type": "markdown",
   "id": "9cda4d12",
   "metadata": {},
   "source": [
    "- Now that we have created our new time analysis variables, we can now create visualizations based on it"
   ]
  },
  {
   "cell_type": "code",
   "execution_count": 29,
   "id": "1a5efcb7",
   "metadata": {},
   "outputs": [
    {
     "data": {
      "text/plain": [
       "Text(0, 0.5, 'Total Number of Users')"
      ]
     },
     "execution_count": 29,
     "metadata": {},
     "output_type": "execute_result"
    },
    {
     "data": {
      "image/png": "[encoded data removed]",
      "text/plain": [
       "<Figure size 576x396 with 1 Axes>"
      ]
     },
     "metadata": {},
     "output_type": "display_data"
    }
   ],
   "source": [
    "# Users by Day\n",
    "plt.style.use(\"seaborn\")\n",
    "x = plt.subplot()\n",
    "Cab.groupby('Day of Week')['Users'].sum().plot.bar()\n",
    "x.get_yaxis().set_major_formatter(\n",
    "    matplotlib.ticker.FuncFormatter(lambda x, p: format(int(x))))\n",
    "plt.title('Users Per Day of Week')\n",
    "plt.ylabel(\"Total Number of Users\")"
   ]
  },
  {
   "cell_type": "markdown",
   "id": "de35a524",
   "metadata": {},
   "source": [
    "- From the visualization above, it appears that Friday gets the most users along with Saturday and Sunday while Monday and Tuesday get the least users"
   ]
  },
  {
   "cell_type": "code",
   "execution_count": 32,
   "id": "db14aa17",
   "metadata": {},
   "outputs": [
    {
     "data": {
      "text/plain": [
       "Text(0, 0.5, 'Total Number of Users')"
      ]
     },
     "execution_count": 32,
     "metadata": {},
     "output_type": "execute_result"
    },
    {
     "data": {
      "image/png": "[encoded data removed]",
      "text/plain": [
       "<Figure size 576x396 with 1 Axes>"
      ]
     },
     "metadata": {},
     "output_type": "display_data"
    }
   ],
   "source": [
    "# Users by Year\n",
    "plt.style.use(\"seaborn\")\n",
    "x = plt.subplot()\n",
    "Pink.groupby(['Year'])['Users'].sum().plot.bar()\n",
    "plt.title('Users per Year')\n",
    "x.get_yaxis().set_major_formatter(\n",
    "    matplotlib.ticker.FuncFormatter(lambda x, p: format(int(x))))\n",
    "plt.ylabel(\"Total Number of Users\")"
   ]
  },
  {
   "cell_type": "markdown",
   "id": "ae848d40",
   "metadata": {},
   "source": [
    "- To summarize the above visualization, 2017 got the most users"
   ]
  },
  {
   "cell_type": "markdown",
   "id": "fc3935f8",
   "metadata": {},
   "source": [
    "#### Profit Analysis\n",
    "\n",
    "- For the next part of our EDA, we want to see whether Pink Cab or Yellow Cab would be a better investment based on the amount of profit it can make based on Cab trips\n",
    "- So to start, we can create a new variable called Profit which is the difference between the Price Charged and the Cost of Trip\n",
    "- After creating the variable we created boxplots of the distributions of the profit for each Cab company"
   ]
  },
  {
   "cell_type": "code",
   "execution_count": 20,
   "id": "edfef21a",
   "metadata": {},
   "outputs": [
    {
     "data": {
      "image/png": "[encoded data removed]",
      "text/plain": [
       "<Figure size 720x720 with 1 Axes>"
      ]
     },
     "metadata": {
      "needs_background": "light"
     },
     "output_type": "display_data"
    }
   ],
   "source": [
    "# Create new profit variable\n",
    "Cab['Profit'] = Cab['Price Charged'] - Cab['Cost of Trip']\n",
    "# Check profit distribution between companies\n",
    "plt.figure(figsize = (10,10))\n",
    "sns.boxplot( y = 'Profit', data = Cab)\n",
    "plt.xticks(fontsize = 20)\n",
    "plt.yticks(fontsize = 20)\n",
    "plt.ylabel('Profit',fontsize = 20)\n",
    "plt.title('Profit Per Company')\n",
    "plt.xlabel('Cab Company',fontsize = 20)\n",
    "plt.show()"
   ]
  },
  {
   "cell_type": "markdown",
   "id": "6c2722fc",
   "metadata": {},
   "source": [
    "- From the above boxplots, Yellow Cab gets on average more profit than Pink Cab\n",
    "- There do appear to be a lot of outliers though in both companies, which further investigation would be ideal in the case of modeling the amount of profit earned in order to make the results interpretable\n",
    "- Below are summary statistics for the amount of profit earned each year"
   ]
  },
  {
   "cell_type": "code",
   "execution_count": 23,
   "id": "7bac93e1",
   "metadata": {},
   "outputs": [
    {
     "ename": "NameError",
     "evalue": "name 'Yellow' is not defined",
     "output_type": "error",
     "traceback": [
      "\u001b[1;31m---------------------------------------------------------------------------\u001b[0m",
      "\u001b[1;31mNameError\u001b[0m                                 Traceback (most recent call last)",
      "Input \u001b[1;32mIn [23]\u001b[0m, in \u001b[0;36m<cell line: 1>\u001b[1;34m()\u001b[0m\n\u001b[1;32m----> 1\u001b[0m \u001b[43mYellow\u001b[49m[\u001b[38;5;124m'\u001b[39m\u001b[38;5;124mProfit\u001b[39m\u001b[38;5;124m'\u001b[39m]\u001b[38;5;241m.\u001b[39mgroupby(Cab\u001b[38;5;241m.\u001b[39mYear)\u001b[38;5;241m.\u001b[39mdescribe()\n",
      "\u001b[1;31mNameError\u001b[0m: name 'Yellow' is not defined"
     ]
    }
   ],
   "source": [
    "Yellow['Profit'].groupby(Cab.Year).describe()"
   ]
  },
  {
   "cell_type": "code",
   "execution_count": 120,
   "id": "ecab53b6",
   "metadata": {},
   "outputs": [
    {
     "data": {
      "text/html": [
       "<div>\n",
       "<style scoped>\n",
       "    .dataframe tbody tr th:only-of-type {\n",
       "        vertical-align: middle;\n",
       "    }\n",
       "\n",
       "    .dataframe tbody tr th {\n",
       "        vertical-align: top;\n",
       "    }\n",
       "\n",
       "    .dataframe thead th {\n",
       "        text-align: right;\n",
       "    }\n",
       "</style>\n",
       "<table border=\"1\" class=\"dataframe\">\n",
       "  <thead>\n",
       "    <tr style=\"text-align: right;\">\n",
       "      <th></th>\n",
       "      <th>count</th>\n",
       "      <th>mean</th>\n",
       "      <th>std</th>\n",
       "      <th>min</th>\n",
       "      <th>25%</th>\n",
       "      <th>50%</th>\n",
       "      <th>75%</th>\n",
       "      <th>max</th>\n",
       "    </tr>\n",
       "    <tr>\n",
       "      <th>Year</th>\n",
       "      <th></th>\n",
       "      <th></th>\n",
       "      <th></th>\n",
       "      <th></th>\n",
       "      <th></th>\n",
       "      <th></th>\n",
       "      <th></th>\n",
       "      <th></th>\n",
       "    </tr>\n",
       "  </thead>\n",
       "  <tbody>\n",
       "    <tr>\n",
       "      <th>2016</th>\n",
       "      <td>25080.0</td>\n",
       "      <td>68.321819</td>\n",
       "      <td>82.691391</td>\n",
       "      <td>-198.698</td>\n",
       "      <td>13.0475</td>\n",
       "      <td>46.092</td>\n",
       "      <td>103.67000</td>\n",
       "      <td>1119.48</td>\n",
       "    </tr>\n",
       "    <tr>\n",
       "      <th>2017</th>\n",
       "      <td>30321.0</td>\n",
       "      <td>67.070839</td>\n",
       "      <td>84.074658</td>\n",
       "      <td>-220.060</td>\n",
       "      <td>10.9580</td>\n",
       "      <td>44.180</td>\n",
       "      <td>102.12200</td>\n",
       "      <td>1056.11</td>\n",
       "    </tr>\n",
       "    <tr>\n",
       "      <th>2018</th>\n",
       "      <td>29310.0</td>\n",
       "      <td>53.229689</td>\n",
       "      <td>64.032374</td>\n",
       "      <td>-147.477</td>\n",
       "      <td>10.2465</td>\n",
       "      <td>35.939</td>\n",
       "      <td>79.78875</td>\n",
       "      <td>827.54</td>\n",
       "    </tr>\n",
       "  </tbody>\n",
       "</table>\n",
       "</div>"
      ],
      "text/plain": [
       "        count       mean        std      min      25%     50%        75%  \\\n",
       "Year                                                                       \n",
       "2016  25080.0  68.321819  82.691391 -198.698  13.0475  46.092  103.67000   \n",
       "2017  30321.0  67.070839  84.074658 -220.060  10.9580  44.180  102.12200   \n",
       "2018  29310.0  53.229689  64.032374 -147.477  10.2465  35.939   79.78875   \n",
       "\n",
       "          max  \n",
       "Year           \n",
       "2016  1119.48  \n",
       "2017  1056.11  \n",
       "2018   827.54  "
      ]
     },
     "execution_count": 120,
     "metadata": {},
     "output_type": "execute_result"
    }
   ],
   "source": [
    "Pink['Profit'].groupby(Cab.Year).describe()"
   ]
  },
  {
   "cell_type": "markdown",
   "id": "9ab89047",
   "metadata": {},
   "source": [
    "- From the summary statistics, it appears that the year that got the most profit on average for both companies was 2016\n",
    "- We can clearly see the effect of the outlying values since the mean and median are off by a little\n",
    "- Next, we created queries for the Profit earned by both companies each month which would then be used in the next visualization"
   ]
  },
  {
   "cell_type": "code",
   "execution_count": 61,
   "id": "fd331c26",
   "metadata": {},
   "outputs": [
    {
     "name": "stderr",
     "output_type": "stream",
     "text": [
      "C:\\Users\\JCCLI\\AppData\\Local\\Temp\\ipykernel_17984\\789297715.py:16: SettingWithCopyWarning: \n",
      "A value is trying to be set on a copy of a slice from a DataFrame.\n",
      "Try using .loc[row_indexer,col_indexer] = value instead\n",
      "\n",
      "See the caveats in the documentation: https://pandas.pydata.org/pandas-docs/stable/user_guide/indexing.html#returning-a-view-versus-a-copy\n",
      "  Profitjan['Profit'] = Profitjan['Profit'].astype('int64')\n",
      "C:\\Users\\JCCLI\\AppData\\Local\\Temp\\ipykernel_17984\\789297715.py:17: SettingWithCopyWarning: \n",
      "A value is trying to be set on a copy of a slice from a DataFrame.\n",
      "Try using .loc[row_indexer,col_indexer] = value instead\n",
      "\n",
      "See the caveats in the documentation: https://pandas.pydata.org/pandas-docs/stable/user_guide/indexing.html#returning-a-view-versus-a-copy\n",
      "  Profitfeb['Profit'] = Profitfeb['Profit'].astype('int64')\n",
      "C:\\Users\\JCCLI\\AppData\\Local\\Temp\\ipykernel_17984\\789297715.py:18: SettingWithCopyWarning: \n",
      "A value is trying to be set on a copy of a slice from a DataFrame.\n",
      "Try using .loc[row_indexer,col_indexer] = value instead\n",
      "\n",
      "See the caveats in the documentation: https://pandas.pydata.org/pandas-docs/stable/user_guide/indexing.html#returning-a-view-versus-a-copy\n",
      "  Profitmar['Profit'] = Profitmar['Profit'].astype('int64')\n",
      "C:\\Users\\JCCLI\\AppData\\Local\\Temp\\ipykernel_17984\\789297715.py:19: SettingWithCopyWarning: \n",
      "A value is trying to be set on a copy of a slice from a DataFrame.\n",
      "Try using .loc[row_indexer,col_indexer] = value instead\n",
      "\n",
      "See the caveats in the documentation: https://pandas.pydata.org/pandas-docs/stable/user_guide/indexing.html#returning-a-view-versus-a-copy\n",
      "  Profitapr['Profit'] = Profitapr['Profit'].astype('int64')\n",
      "C:\\Users\\JCCLI\\AppData\\Local\\Temp\\ipykernel_17984\\789297715.py:20: SettingWithCopyWarning: \n",
      "A value is trying to be set on a copy of a slice from a DataFrame.\n",
      "Try using .loc[row_indexer,col_indexer] = value instead\n",
      "\n",
      "See the caveats in the documentation: https://pandas.pydata.org/pandas-docs/stable/user_guide/indexing.html#returning-a-view-versus-a-copy\n",
      "  Profitmay['Profit'] = Profitmay['Profit'].astype('int64')\n",
      "C:\\Users\\JCCLI\\AppData\\Local\\Temp\\ipykernel_17984\\789297715.py:21: SettingWithCopyWarning: \n",
      "A value is trying to be set on a copy of a slice from a DataFrame.\n",
      "Try using .loc[row_indexer,col_indexer] = value instead\n",
      "\n",
      "See the caveats in the documentation: https://pandas.pydata.org/pandas-docs/stable/user_guide/indexing.html#returning-a-view-versus-a-copy\n",
      "  Profitjun['Profit'] = Profitjun['Profit'].astype('int64')\n",
      "C:\\Users\\JCCLI\\AppData\\Local\\Temp\\ipykernel_17984\\789297715.py:22: SettingWithCopyWarning: \n",
      "A value is trying to be set on a copy of a slice from a DataFrame.\n",
      "Try using .loc[row_indexer,col_indexer] = value instead\n",
      "\n",
      "See the caveats in the documentation: https://pandas.pydata.org/pandas-docs/stable/user_guide/indexing.html#returning-a-view-versus-a-copy\n",
      "  Profitjul['Profit'] = Profitjul['Profit'].astype('int64')\n",
      "C:\\Users\\JCCLI\\AppData\\Local\\Temp\\ipykernel_17984\\789297715.py:23: SettingWithCopyWarning: \n",
      "A value is trying to be set on a copy of a slice from a DataFrame.\n",
      "Try using .loc[row_indexer,col_indexer] = value instead\n",
      "\n",
      "See the caveats in the documentation: https://pandas.pydata.org/pandas-docs/stable/user_guide/indexing.html#returning-a-view-versus-a-copy\n",
      "  Profitaug['Profit'] = Profitaug['Profit'].astype('int64')\n",
      "C:\\Users\\JCCLI\\AppData\\Local\\Temp\\ipykernel_17984\\789297715.py:24: SettingWithCopyWarning: \n",
      "A value is trying to be set on a copy of a slice from a DataFrame.\n",
      "Try using .loc[row_indexer,col_indexer] = value instead\n",
      "\n",
      "See the caveats in the documentation: https://pandas.pydata.org/pandas-docs/stable/user_guide/indexing.html#returning-a-view-versus-a-copy\n",
      "  Profitsep['Profit'] = Profitsep['Profit'].astype('int64')\n",
      "C:\\Users\\JCCLI\\AppData\\Local\\Temp\\ipykernel_17984\\789297715.py:25: SettingWithCopyWarning: \n",
      "A value is trying to be set on a copy of a slice from a DataFrame.\n",
      "Try using .loc[row_indexer,col_indexer] = value instead\n",
      "\n",
      "See the caveats in the documentation: https://pandas.pydata.org/pandas-docs/stable/user_guide/indexing.html#returning-a-view-versus-a-copy\n",
      "  Profitoct['Profit'] = Profitoct['Profit'].astype('int64')\n",
      "C:\\Users\\JCCLI\\AppData\\Local\\Temp\\ipykernel_17984\\789297715.py:26: SettingWithCopyWarning: \n",
      "A value is trying to be set on a copy of a slice from a DataFrame.\n",
      "Try using .loc[row_indexer,col_indexer] = value instead\n",
      "\n",
      "See the caveats in the documentation: https://pandas.pydata.org/pandas-docs/stable/user_guide/indexing.html#returning-a-view-versus-a-copy\n",
      "  Profitnov['Profit'] = Profitnov['Profit'].astype('int64')\n",
      "C:\\Users\\JCCLI\\AppData\\Local\\Temp\\ipykernel_17984\\789297715.py:27: SettingWithCopyWarning: \n",
      "A value is trying to be set on a copy of a slice from a DataFrame.\n",
      "Try using .loc[row_indexer,col_indexer] = value instead\n",
      "\n",
      "See the caveats in the documentation: https://pandas.pydata.org/pandas-docs/stable/user_guide/indexing.html#returning-a-view-versus-a-copy\n",
      "  Profitdec['Profit'] = Profitdec['Profit'].astype('int64')\n"
     ]
    }
   ],
   "source": [
    "# Profit per month for both companies\n",
    "Profitjan = Cab[Cab['Month']==1]\n",
    "Profitfeb = Cab[Cab['Month']==2]\n",
    "Profitmar = Cab[Cab['Month']==3]\n",
    "Profitapr = Cab[Cab['Month']==4]\n",
    "Profitmay = Cab[Cab['Month']==5]\n",
    "Profitjun = Cab[Cab['Month']==6]\n",
    "Profitjul = Cab[Cab['Month']==7]\n",
    "Profitaug = Cab[Cab['Month']==8]\n",
    "Profitsep = Cab[Cab['Month']==9]\n",
    "Profitoct = Cab[Cab['Month']==10]\n",
    "Profitnov = Cab[Cab['Month']==11]\n",
    "Profitdec = Cab[Cab['Month']==12]\n",
    "\n",
    "# Convert to int\n",
    "Profitjan['Profit'] = Profitjan['Profit'].astype('int64')\n",
    "Profitfeb['Profit'] = Profitfeb['Profit'].astype('int64')\n",
    "Profitmar['Profit'] = Profitmar['Profit'].astype('int64')\n",
    "Profitapr['Profit'] = Profitapr['Profit'].astype('int64')\n",
    "Profitmay['Profit'] = Profitmay['Profit'].astype('int64')\n",
    "Profitjun['Profit'] = Profitjun['Profit'].astype('int64')\n",
    "Profitjul['Profit'] = Profitjul['Profit'].astype('int64')\n",
    "Profitaug['Profit'] = Profitaug['Profit'].astype('int64')\n",
    "Profitsep['Profit'] = Profitsep['Profit'].astype('int64')\n",
    "Profitoct['Profit'] = Profitoct['Profit'].astype('int64')\n",
    "Profitnov['Profit'] = Profitnov['Profit'].astype('int64')\n",
    "Profitdec['Profit'] = Profitdec['Profit'].astype('int64')\n",
    "\n",
    "# Find totals\n",
    "Profitsumjan = sum(Profitjan.Profit)\n",
    "Profitsumfeb = sum(Profitfeb.Profit)\n",
    "Profitsummar = sum(Profitmar.Profit)\n",
    "Profitsumapr = sum(Profitapr.Profit)\n",
    "Profitsummay = sum(Profitmay.Profit)\n",
    "Profitsumjun = sum(Profitjun.Profit)\n",
    "Profitsumjul = sum(Profitjul.Profit)\n",
    "Profitsumaug = sum(Profitaug.Profit)\n",
    "Profitsumsep = sum(Profitsep.Profit)\n",
    "Profitsumoct = sum(Profitoct.Profit)\n",
    "Profitsumnov = sum(Profitnov.Profit)\n",
    "Profitsumdec = sum(Profitdec.Profit)"
   ]
  },
  {
   "cell_type": "code",
   "execution_count": 128,
   "id": "d745c182",
   "metadata": {},
   "outputs": [
    {
     "data": {
      "image/png": "[encoded data removed]",
      "text/plain": [
       "<Figure size 576x396 with 1 Axes>"
      ]
     },
     "metadata": {},
     "output_type": "display_data"
    }
   ],
   "source": [
    "# Total Profit Per Month\n",
    "Profit_Per_Month = (Profitsumjan,Profitsumfeb,Profitsummar,Profitsumapr,Profitsummay,Profitsumjun,Profitsumjul,Profitsumaug,\n",
    "                   Profitsumsep,Profitsumoct,Profitsumnov,Profitsumdec)\n",
    "Month = ['Jan','Feb','Mar','Apr','May','Jun','Jul','Aug','Sep','Oct','Nov','Dec']\n",
    "ProfitDF = pd.DataFrame({'Profit Per Month': Profit_Per_Month})\n",
    "MonthDF = pd.DataFrame({'Month': Month})\n",
    "frame = [MonthDF,ProfitDF]\n",
    "ProfitPerMonth = pd.concat(frame,axis = 1, join = 'inner')\n",
    "ProfitPerMonth\n",
    "x = plt.subplot()\n",
    "sns.barplot(y= 'Profit Per Month',x= 'Month', data=ProfitPerMonth)\n",
    "x.get_yaxis().set_major_formatter(\n",
    "    matplotlib.ticker.FuncFormatter(lambda x, p: format(int(x))))\n",
    "plt.title(\"Profit Per month\")\n",
    "plt.show()"
   ]
  },
  {
   "cell_type": "markdown",
   "id": "981e5570",
   "metadata": {},
   "source": [
    "- Overall December had the most profit made whereas July made the least profit\n",
    "- We next want to check the seasonal trends on the profit being made, to do that, we will create more queries to be used for our visualization on the seasonal trends"
   ]
  },
  {
   "cell_type": "code",
   "execution_count": 55,
   "id": "fa20b789",
   "metadata": {},
   "outputs": [],
   "source": [
    "# Create queries for the pink cab industry and their profits\n",
    "Pink_2016 = Pink[Pink['Year']==2016]\n",
    "Pink_2017 = Pink[Pink['Year']==2017]\n",
    "Pink_2018 = Pink[Pink['Year']==2018]\n",
    "Pink_Wi2016pr = Pink_2016[Pink_2016['Season']=='Winter'].Profit.sum()\n",
    "Pink_Sp2016pr = Pink_2016[Pink_2016['Season']=='Spring'].Profit.sum()\n",
    "Pink_Su2016pr = Pink_2016[Pink_2016['Season']=='Summer'].Profit.sum()\n",
    "Pink_Fa2016pr = Pink_2016[Pink_2016['Season']=='Fall'].Profit.sum()\n",
    "\n",
    "#2017\n",
    "Pink_Wi2017pr = Pink_2017[Pink_2017['Season']=='Winter'].Profit.sum()\n",
    "Pink_Sp2017pr = Pink_2017[Pink_2017['Season']=='Spring'].Profit.sum()\n",
    "Pink_Su2017pr = Pink_2017[Pink_2017['Season']=='Summer'].Profit.sum()\n",
    "Pink_Fa2017pr = Pink_2017[Pink_2017['Season']=='Fall'].Profit.sum()\n",
    "\n",
    "#2018\n",
    "Pink_Wi2018pr = Pink_2018[Pink_2018['Season']=='Winter'].Profit.sum()\n",
    "Pink_Sp2018pr = Pink_2018[Pink_2018['Season']=='Spring'].Profit.sum()\n",
    "Pink_Su2018pr = Pink_2018[Pink_2018['Season']=='Summer'].Profit.sum()\n",
    "Pink_Fa2018pr = Pink_2018[Pink_2018['Season']=='Fall'].Profit.sum()"
   ]
  },
  {
   "cell_type": "code",
   "execution_count": 131,
   "id": "5a78e61e",
   "metadata": {},
   "outputs": [],
   "source": [
    "# Create queries for the yellow cab industry and their profits\n",
    "Yellow_2016 = Yellow[Yellow['Year']==2016]\n",
    "Yellow_2017 = Yellow[Yellow['Year']==2017]\n",
    "Yellow_2018 = Yellow[Yellow['Year']==2018]\n",
    "Yellow_Wi2016pr = Yellow_2016[Yellow_2016['Season']=='Winter'].Profit.sum()\n",
    "Yellow_Sp2016pr = Yellow_2016[Yellow_2016['Season']=='Spring'].Profit.sum()\n",
    "Yellow_Su2016pr = Yellow_2016[Yellow_2016['Season']=='Summer'].Profit.sum()\n",
    "Yellow_Fa2016pr = Yellow_2016[Yellow_2016['Season']=='Fall'].Profit.sum()\n",
    "\n",
    "#2017\n",
    "Yellow_Wi2017pr = Yellow_2017[Yellow_2017['Season']=='Winter'].Profit.sum()\n",
    "Yellow_Sp2017pr = Yellow_2017[Yellow_2017['Season']=='Spring'].Profit.sum()\n",
    "Yellow_Su2017pr = Yellow_2017[Yellow_2017['Season']=='Summer'].Profit.sum()\n",
    "Yellow_Fa2017pr = Yellow_2017[Yellow_2017['Season']=='Fall'].Profit.sum()\n",
    "\n",
    "#2018\n",
    "Yellow_Wi2018pr = Yellow_2018[Yellow_2018['Season']=='Winter'].Profit.sum()\n",
    "Yellow_Sp2018pr = Yellow_2018[Yellow_2018['Season']=='Spring'].Profit.sum()\n",
    "Yellow_Su2018pr = Yellow_2018[Yellow_2018['Season']=='Summer'].Profit.sum()\n",
    "Yellow_Fa2018pr = Yellow_2018[Yellow_2018['Season']=='Fall'].Profit.sum()"
   ]
  },
  {
   "cell_type": "code",
   "execution_count": 132,
   "id": "b780d556",
   "metadata": {},
   "outputs": [
    {
     "data": {
      "image/png": "[encoded data removed]",
      "text/plain": [
       "<Figure size 1080x360 with 1 Axes>"
      ]
     },
     "metadata": {},
     "output_type": "display_data"
    }
   ],
   "source": [
    "# Create line graph of profit by season\n",
    "plt.figure(figsize = (15,5))\n",
    "\n",
    "season = ['Winter 2016','Spring 2016','Summer 2016', 'Fall 2016', 'Winter 2017','Spring 2017', 'Summer 2017', 'Fall 2017',\n",
    "         'Winter 2018', 'Spring 2018', 'Summer 2018', 'Fall 2018']\n",
    "Pink_Season = [Pink_Wi2016pr, Pink_Sp2016pr, Pink_Su2016pr, Pink_Fa2016pr, Pink_Wi2017pr, Pink_Sp2017pr, Pink_Su2017pr,\n",
    "              Pink_Fa2017pr, Pink_Wi2018pr, Pink_Sp2018pr, Pink_Su2018pr, Pink_Fa2018pr]\n",
    "Yellow_Season = [Yellow_Wi2016pr, Yellow_Sp2016pr, Yellow_Su2016pr, Yellow_Fa2016pr, Yellow_Wi2017pr, Yellow_Sp2017pr, Yellow_Su2017pr,\n",
    "              Yellow_Fa2017pr, Yellow_Wi2018pr, Yellow_Sp2018pr, Yellow_Su2018pr, Yellow_Fa2018pr]\n",
    "x = plt.subplot()\n",
    "plt.plot(season, Pink_Season, label = \"Pink Cab\" )\n",
    "plt.plot(season, Yellow_Season, label = \"Yellow Cab\")\n",
    "plt.legend()\n",
    "plt.xlabel('Season')\n",
    "plt.ylabel('Total Profit')\n",
    "plt.title('Profit Trend Over Each Season From Each Year')\n",
    "x.get_yaxis().set_major_formatter(\n",
    "    matplotlib.ticker.FuncFormatter(lambda x, p: format(int(x))))\n",
    "plt.show()\n"
   ]
  },
  {
   "cell_type": "markdown",
   "id": "63b41e95",
   "metadata": {},
   "source": [
    "- From the above line graph, we can clearly see some important details:\n",
    "- For Pink Cab, Total Profit steadily increased from Winter 2016 to the beginning of the summer of 2016. It then increased at a significant rate from the summer to the fall of 2016, and then decreased during Winter 2017. It then did the same trend throughout 2017 as well as 2018 with Fall of 2017 having the peak amount of total profit.\n",
    "- For Yellow Cab, in 2016, profit increased during the winter and stayed relatively constant in the spring, then signficantly increasing in the fall, and then having a sharp decrease in Winter 2017. Profit then had similar trends for the rest of 2017 as well as 2018 except that Fall 2017 had the highest amount of profit made and Spring of 2017 and 2018 had a much higher decrease in profit than 2016 where it was close to constant\n",
    "- To sum it up, Yellow Cab made much more profit than Pink Cab over the whole time period and we can see that fall is the season where both companies make the most profit and winter they make the least profit"
   ]
  },
  {
   "cell_type": "markdown",
   "id": "63d584e2",
   "metadata": {},
   "source": [
    "###### Profit Ratio and Cost/KM Ratio"
   ]
  },
  {
   "cell_type": "markdown",
   "id": "4ef4b779",
   "metadata": {},
   "source": [
    "- For the final variables we would like to add to our dataset, they include Profit Ratio, which is the amount of profit made per KM travelled by the users, along with Cost per KM which is the cost of the trip for every KM travelled"
   ]
  },
  {
   "cell_type": "code",
   "execution_count": 21,
   "id": "92491c4c",
   "metadata": {},
   "outputs": [],
   "source": [
    "# Create new ratio variables for profit and cost per trip/km travelled\n",
    "Cab['Profit per KM'] = Cab['Profit']/Cab['KM Travelled']\n",
    "Cab['Cost per KM'] = Cab['Cost of Trip']/Cab['KM Travelled']"
   ]
  },
  {
   "cell_type": "markdown",
   "id": "611aeb1f",
   "metadata": {},
   "source": [
    "- Now that we have added our final variables to our dataset, let's look at the summary statistics for the Profit Ratios in the 2 companies"
   ]
  },
  {
   "cell_type": "code",
   "execution_count": 107,
   "id": "fdf80c19",
   "metadata": {},
   "outputs": [
    {
     "data": {
      "text/html": [
       "<div>\n",
       "<style scoped>\n",
       "    .dataframe tbody tr th:only-of-type {\n",
       "        vertical-align: middle;\n",
       "    }\n",
       "\n",
       "    .dataframe tbody tr th {\n",
       "        vertical-align: top;\n",
       "    }\n",
       "\n",
       "    .dataframe thead th {\n",
       "        text-align: right;\n",
       "    }\n",
       "</style>\n",
       "<table border=\"1\" class=\"dataframe\">\n",
       "  <thead>\n",
       "    <tr style=\"text-align: right;\">\n",
       "      <th></th>\n",
       "      <th>count</th>\n",
       "      <th>mean</th>\n",
       "      <th>std</th>\n",
       "      <th>min</th>\n",
       "      <th>25%</th>\n",
       "      <th>50%</th>\n",
       "      <th>75%</th>\n",
       "      <th>max</th>\n",
       "    </tr>\n",
       "    <tr>\n",
       "      <th>Year</th>\n",
       "      <th></th>\n",
       "      <th></th>\n",
       "      <th></th>\n",
       "      <th></th>\n",
       "      <th></th>\n",
       "      <th></th>\n",
       "      <th></th>\n",
       "      <th></th>\n",
       "    </tr>\n",
       "  </thead>\n",
       "  <tbody>\n",
       "    <tr>\n",
       "      <th>2016</th>\n",
       "      <td>82239.0</td>\n",
       "      <td>7.489847</td>\n",
       "      <td>6.012370</td>\n",
       "      <td>-4.014767</td>\n",
       "      <td>2.837624</td>\n",
       "      <td>5.935160</td>\n",
       "      <td>11.413375</td>\n",
       "      <td>32.790518</td>\n",
       "    </tr>\n",
       "    <tr>\n",
       "      <th>2017</th>\n",
       "      <td>98189.0</td>\n",
       "      <td>7.494612</td>\n",
       "      <td>5.997240</td>\n",
       "      <td>-4.998235</td>\n",
       "      <td>2.920640</td>\n",
       "      <td>6.115118</td>\n",
       "      <td>11.196156</td>\n",
       "      <td>41.115556</td>\n",
       "    </tr>\n",
       "    <tr>\n",
       "      <th>2018</th>\n",
       "      <td>94253.0</td>\n",
       "      <td>6.364805</td>\n",
       "      <td>5.280291</td>\n",
       "      <td>-3.884524</td>\n",
       "      <td>2.206485</td>\n",
       "      <td>4.743605</td>\n",
       "      <td>10.223590</td>\n",
       "      <td>32.419085</td>\n",
       "    </tr>\n",
       "  </tbody>\n",
       "</table>\n",
       "</div>"
      ],
      "text/plain": [
       "        count      mean       std       min       25%       50%        75%  \\\n",
       "Year                                                                         \n",
       "2016  82239.0  7.489847  6.012370 -4.014767  2.837624  5.935160  11.413375   \n",
       "2017  98189.0  7.494612  5.997240 -4.998235  2.920640  6.115118  11.196156   \n",
       "2018  94253.0  6.364805  5.280291 -3.884524  2.206485  4.743605  10.223590   \n",
       "\n",
       "            max  \n",
       "Year             \n",
       "2016  32.790518  \n",
       "2017  41.115556  \n",
       "2018  32.419085  "
      ]
     },
     "execution_count": 107,
     "metadata": {},
     "output_type": "execute_result"
    }
   ],
   "source": [
    "# Profit Ratio Per Year for Yellow Cab\n",
    "Yellow['Profit Ratio'].groupby(Yellow['Year']).describe()"
   ]
  },
  {
   "cell_type": "code",
   "execution_count": 108,
   "id": "291d7920",
   "metadata": {},
   "outputs": [
    {
     "data": {
      "text/html": [
       "<div>\n",
       "<style scoped>\n",
       "    .dataframe tbody tr th:only-of-type {\n",
       "        vertical-align: middle;\n",
       "    }\n",
       "\n",
       "    .dataframe tbody tr th {\n",
       "        vertical-align: top;\n",
       "    }\n",
       "\n",
       "    .dataframe thead th {\n",
       "        text-align: right;\n",
       "    }\n",
       "</style>\n",
       "<table border=\"1\" class=\"dataframe\">\n",
       "  <thead>\n",
       "    <tr style=\"text-align: right;\">\n",
       "      <th></th>\n",
       "      <th>count</th>\n",
       "      <th>mean</th>\n",
       "      <th>std</th>\n",
       "      <th>min</th>\n",
       "      <th>25%</th>\n",
       "      <th>50%</th>\n",
       "      <th>75%</th>\n",
       "      <th>max</th>\n",
       "    </tr>\n",
       "    <tr>\n",
       "      <th>Year</th>\n",
       "      <th></th>\n",
       "      <th></th>\n",
       "      <th></th>\n",
       "      <th></th>\n",
       "      <th></th>\n",
       "      <th></th>\n",
       "      <th></th>\n",
       "      <th></th>\n",
       "    </tr>\n",
       "  </thead>\n",
       "  <tbody>\n",
       "    <tr>\n",
       "      <th>2016</th>\n",
       "      <td>25080.0</td>\n",
       "      <td>3.026813</td>\n",
       "      <td>2.864716</td>\n",
       "      <td>-4.668656</td>\n",
       "      <td>1.037919</td>\n",
       "      <td>2.737027</td>\n",
       "      <td>4.656526</td>\n",
       "      <td>28.646939</td>\n",
       "    </tr>\n",
       "    <tr>\n",
       "      <th>2017</th>\n",
       "      <td>30321.0</td>\n",
       "      <td>2.962883</td>\n",
       "      <td>2.917109</td>\n",
       "      <td>-4.912054</td>\n",
       "      <td>0.855548</td>\n",
       "      <td>2.598469</td>\n",
       "      <td>4.699973</td>\n",
       "      <td>28.191991</td>\n",
       "    </tr>\n",
       "    <tr>\n",
       "      <th>2018</th>\n",
       "      <td>29310.0</td>\n",
       "      <td>2.350447</td>\n",
       "      <td>2.220392</td>\n",
       "      <td>-4.300000</td>\n",
       "      <td>0.827743</td>\n",
       "      <td>2.076777</td>\n",
       "      <td>3.586841</td>\n",
       "      <td>22.863026</td>\n",
       "    </tr>\n",
       "  </tbody>\n",
       "</table>\n",
       "</div>"
      ],
      "text/plain": [
       "        count      mean       std       min       25%       50%       75%  \\\n",
       "Year                                                                        \n",
       "2016  25080.0  3.026813  2.864716 -4.668656  1.037919  2.737027  4.656526   \n",
       "2017  30321.0  2.962883  2.917109 -4.912054  0.855548  2.598469  4.699973   \n",
       "2018  29310.0  2.350447  2.220392 -4.300000  0.827743  2.076777  3.586841   \n",
       "\n",
       "            max  \n",
       "Year             \n",
       "2016  28.646939  \n",
       "2017  28.191991  \n",
       "2018  22.863026  "
      ]
     },
     "execution_count": 108,
     "metadata": {},
     "output_type": "execute_result"
    }
   ],
   "source": [
    "# Profit Ratio Per Year for Pink Cab\n",
    "Pink['Profit Ratio'].groupby(Pink['Year']).describe()"
   ]
  },
  {
   "cell_type": "code",
   "execution_count": 109,
   "id": "29890e8f",
   "metadata": {},
   "outputs": [
    {
     "data": {
      "text/html": [
       "<div>\n",
       "<style scoped>\n",
       "    .dataframe tbody tr th:only-of-type {\n",
       "        vertical-align: middle;\n",
       "    }\n",
       "\n",
       "    .dataframe tbody tr th {\n",
       "        vertical-align: top;\n",
       "    }\n",
       "\n",
       "    .dataframe thead th {\n",
       "        text-align: right;\n",
       "    }\n",
       "</style>\n",
       "<table border=\"1\" class=\"dataframe\">\n",
       "  <thead>\n",
       "    <tr style=\"text-align: right;\">\n",
       "      <th></th>\n",
       "      <th>count</th>\n",
       "      <th>mean</th>\n",
       "      <th>std</th>\n",
       "      <th>min</th>\n",
       "      <th>25%</th>\n",
       "      <th>50%</th>\n",
       "      <th>75%</th>\n",
       "      <th>max</th>\n",
       "    </tr>\n",
       "    <tr>\n",
       "      <th>Year</th>\n",
       "      <th></th>\n",
       "      <th></th>\n",
       "      <th></th>\n",
       "      <th></th>\n",
       "      <th></th>\n",
       "      <th></th>\n",
       "      <th></th>\n",
       "      <th></th>\n",
       "    </tr>\n",
       "  </thead>\n",
       "  <tbody>\n",
       "    <tr>\n",
       "      <th>2016</th>\n",
       "      <td>107319.0</td>\n",
       "      <td>6.446855</td>\n",
       "      <td>5.760698</td>\n",
       "      <td>-4.668656</td>\n",
       "      <td>2.233850</td>\n",
       "      <td>4.799859</td>\n",
       "      <td>9.619257</td>\n",
       "      <td>32.790518</td>\n",
       "    </tr>\n",
       "    <tr>\n",
       "      <th>2017</th>\n",
       "      <td>128510.0</td>\n",
       "      <td>6.425384</td>\n",
       "      <td>5.761132</td>\n",
       "      <td>-4.998235</td>\n",
       "      <td>2.188149</td>\n",
       "      <td>4.943858</td>\n",
       "      <td>9.475964</td>\n",
       "      <td>41.115556</td>\n",
       "    </tr>\n",
       "    <tr>\n",
       "      <th>2018</th>\n",
       "      <td>123563.0</td>\n",
       "      <td>5.412571</td>\n",
       "      <td>5.035182</td>\n",
       "      <td>-4.300000</td>\n",
       "      <td>1.711047</td>\n",
       "      <td>3.757143</td>\n",
       "      <td>8.375572</td>\n",
       "      <td>32.419085</td>\n",
       "    </tr>\n",
       "  </tbody>\n",
       "</table>\n",
       "</div>"
      ],
      "text/plain": [
       "         count      mean       std       min       25%       50%       75%  \\\n",
       "Year                                                                         \n",
       "2016  107319.0  6.446855  5.760698 -4.668656  2.233850  4.799859  9.619257   \n",
       "2017  128510.0  6.425384  5.761132 -4.998235  2.188149  4.943858  9.475964   \n",
       "2018  123563.0  5.412571  5.035182 -4.300000  1.711047  3.757143  8.375572   \n",
       "\n",
       "            max  \n",
       "Year             \n",
       "2016  32.790518  \n",
       "2017  41.115556  \n",
       "2018  32.419085  "
      ]
     },
     "execution_count": 109,
     "metadata": {},
     "output_type": "execute_result"
    }
   ],
   "source": [
    "# Profit Ratio Per Year Overall\n",
    "Cab['Profit Ratio'].groupby(Cab['Year']).describe()"
   ]
  },
  {
   "cell_type": "code",
   "execution_count": 112,
   "id": "c7141777",
   "metadata": {},
   "outputs": [
    {
     "data": {
      "text/html": [
       "<div>\n",
       "<style scoped>\n",
       "    .dataframe tbody tr th:only-of-type {\n",
       "        vertical-align: middle;\n",
       "    }\n",
       "\n",
       "    .dataframe tbody tr th {\n",
       "        vertical-align: top;\n",
       "    }\n",
       "\n",
       "    .dataframe thead th {\n",
       "        text-align: right;\n",
       "    }\n",
       "</style>\n",
       "<table border=\"1\" class=\"dataframe\">\n",
       "  <thead>\n",
       "    <tr style=\"text-align: right;\">\n",
       "      <th></th>\n",
       "      <th>count</th>\n",
       "      <th>mean</th>\n",
       "      <th>std</th>\n",
       "      <th>min</th>\n",
       "      <th>25%</th>\n",
       "      <th>50%</th>\n",
       "      <th>75%</th>\n",
       "      <th>max</th>\n",
       "    </tr>\n",
       "    <tr>\n",
       "      <th>Year</th>\n",
       "      <th></th>\n",
       "      <th></th>\n",
       "      <th></th>\n",
       "      <th></th>\n",
       "      <th></th>\n",
       "      <th></th>\n",
       "      <th></th>\n",
       "      <th></th>\n",
       "    </tr>\n",
       "  </thead>\n",
       "  <tbody>\n",
       "    <tr>\n",
       "      <th>2016</th>\n",
       "      <td>82239.0</td>\n",
       "      <td>13.201233</td>\n",
       "      <td>0.726002</td>\n",
       "      <td>12.0</td>\n",
       "      <td>12.6</td>\n",
       "      <td>13.2</td>\n",
       "      <td>13.8</td>\n",
       "      <td>14.4</td>\n",
       "    </tr>\n",
       "    <tr>\n",
       "      <th>2017</th>\n",
       "      <td>98189.0</td>\n",
       "      <td>13.203314</td>\n",
       "      <td>0.727516</td>\n",
       "      <td>12.0</td>\n",
       "      <td>12.6</td>\n",
       "      <td>13.2</td>\n",
       "      <td>13.8</td>\n",
       "      <td>14.4</td>\n",
       "    </tr>\n",
       "    <tr>\n",
       "      <th>2018</th>\n",
       "      <td>94253.0</td>\n",
       "      <td>13.197118</td>\n",
       "      <td>0.727151</td>\n",
       "      <td>12.0</td>\n",
       "      <td>12.6</td>\n",
       "      <td>13.2</td>\n",
       "      <td>13.8</td>\n",
       "      <td>14.4</td>\n",
       "    </tr>\n",
       "  </tbody>\n",
       "</table>\n",
       "</div>"
      ],
      "text/plain": [
       "        count       mean       std   min   25%   50%   75%   max\n",
       "Year                                                            \n",
       "2016  82239.0  13.201233  0.726002  12.0  12.6  13.2  13.8  14.4\n",
       "2017  98189.0  13.203314  0.727516  12.0  12.6  13.2  13.8  14.4\n",
       "2018  94253.0  13.197118  0.727151  12.0  12.6  13.2  13.8  14.4"
      ]
     },
     "execution_count": 112,
     "metadata": {},
     "output_type": "execute_result"
    }
   ],
   "source": [
    "# Cost Ratio Per Year for Yellow Cab\n",
    "Yellow['Cost per KM'].groupby(Yellow['Year']).describe()"
   ]
  },
  {
   "cell_type": "code",
   "execution_count": 113,
   "id": "da6576ee",
   "metadata": {},
   "outputs": [
    {
     "data": {
      "text/html": [
       "<div>\n",
       "<style scoped>\n",
       "    .dataframe tbody tr th:only-of-type {\n",
       "        vertical-align: middle;\n",
       "    }\n",
       "\n",
       "    .dataframe tbody tr th {\n",
       "        vertical-align: top;\n",
       "    }\n",
       "\n",
       "    .dataframe thead th {\n",
       "        text-align: right;\n",
       "    }\n",
       "</style>\n",
       "<table border=\"1\" class=\"dataframe\">\n",
       "  <thead>\n",
       "    <tr style=\"text-align: right;\">\n",
       "      <th></th>\n",
       "      <th>count</th>\n",
       "      <th>mean</th>\n",
       "      <th>std</th>\n",
       "      <th>min</th>\n",
       "      <th>25%</th>\n",
       "      <th>50%</th>\n",
       "      <th>75%</th>\n",
       "      <th>max</th>\n",
       "    </tr>\n",
       "    <tr>\n",
       "      <th>Year</th>\n",
       "      <th></th>\n",
       "      <th></th>\n",
       "      <th></th>\n",
       "      <th></th>\n",
       "      <th></th>\n",
       "      <th></th>\n",
       "      <th></th>\n",
       "      <th></th>\n",
       "    </tr>\n",
       "  </thead>\n",
       "  <tbody>\n",
       "    <tr>\n",
       "      <th>2016</th>\n",
       "      <td>25080.0</td>\n",
       "      <td>10.992815</td>\n",
       "      <td>0.604748</td>\n",
       "      <td>10.0</td>\n",
       "      <td>10.5</td>\n",
       "      <td>11.0</td>\n",
       "      <td>11.5</td>\n",
       "      <td>12.0</td>\n",
       "    </tr>\n",
       "    <tr>\n",
       "      <th>2017</th>\n",
       "      <td>30321.0</td>\n",
       "      <td>10.998588</td>\n",
       "      <td>0.606996</td>\n",
       "      <td>10.0</td>\n",
       "      <td>10.5</td>\n",
       "      <td>11.0</td>\n",
       "      <td>11.5</td>\n",
       "      <td>12.0</td>\n",
       "    </tr>\n",
       "    <tr>\n",
       "      <th>2018</th>\n",
       "      <td>29310.0</td>\n",
       "      <td>11.003569</td>\n",
       "      <td>0.607741</td>\n",
       "      <td>10.0</td>\n",
       "      <td>10.5</td>\n",
       "      <td>11.0</td>\n",
       "      <td>11.5</td>\n",
       "      <td>12.0</td>\n",
       "    </tr>\n",
       "  </tbody>\n",
       "</table>\n",
       "</div>"
      ],
      "text/plain": [
       "        count       mean       std   min   25%   50%   75%   max\n",
       "Year                                                            \n",
       "2016  25080.0  10.992815  0.604748  10.0  10.5  11.0  11.5  12.0\n",
       "2017  30321.0  10.998588  0.606996  10.0  10.5  11.0  11.5  12.0\n",
       "2018  29310.0  11.003569  0.607741  10.0  10.5  11.0  11.5  12.0"
      ]
     },
     "execution_count": 113,
     "metadata": {},
     "output_type": "execute_result"
    }
   ],
   "source": [
    "# Cost Ratio Per Year for Pink Cab\n",
    "Pink['Cost per KM'].groupby(Pink['Year']).describe()"
   ]
  },
  {
   "cell_type": "code",
   "execution_count": 114,
   "id": "06575404",
   "metadata": {},
   "outputs": [
    {
     "data": {
      "text/html": [
       "<div>\n",
       "<style scoped>\n",
       "    .dataframe tbody tr th:only-of-type {\n",
       "        vertical-align: middle;\n",
       "    }\n",
       "\n",
       "    .dataframe tbody tr th {\n",
       "        vertical-align: top;\n",
       "    }\n",
       "\n",
       "    .dataframe thead th {\n",
       "        text-align: right;\n",
       "    }\n",
       "</style>\n",
       "<table border=\"1\" class=\"dataframe\">\n",
       "  <thead>\n",
       "    <tr style=\"text-align: right;\">\n",
       "      <th></th>\n",
       "      <th>count</th>\n",
       "      <th>mean</th>\n",
       "      <th>std</th>\n",
       "      <th>min</th>\n",
       "      <th>25%</th>\n",
       "      <th>50%</th>\n",
       "      <th>75%</th>\n",
       "      <th>max</th>\n",
       "    </tr>\n",
       "    <tr>\n",
       "      <th>Year</th>\n",
       "      <th></th>\n",
       "      <th></th>\n",
       "      <th></th>\n",
       "      <th></th>\n",
       "      <th></th>\n",
       "      <th></th>\n",
       "      <th></th>\n",
       "      <th></th>\n",
       "    </tr>\n",
       "  </thead>\n",
       "  <tbody>\n",
       "    <tr>\n",
       "      <th>2016</th>\n",
       "      <td>107319.0</td>\n",
       "      <td>12.685135</td>\n",
       "      <td>1.167381</td>\n",
       "      <td>10.0</td>\n",
       "      <td>12.0</td>\n",
       "      <td>12.84</td>\n",
       "      <td>13.68</td>\n",
       "      <td>14.4</td>\n",
       "    </tr>\n",
       "    <tr>\n",
       "      <th>2017</th>\n",
       "      <td>128510.0</td>\n",
       "      <td>12.683125</td>\n",
       "      <td>1.169450</td>\n",
       "      <td>10.0</td>\n",
       "      <td>12.0</td>\n",
       "      <td>12.84</td>\n",
       "      <td>13.68</td>\n",
       "      <td>14.4</td>\n",
       "    </tr>\n",
       "    <tr>\n",
       "      <th>2018</th>\n",
       "      <td>123563.0</td>\n",
       "      <td>12.676793</td>\n",
       "      <td>1.166860</td>\n",
       "      <td>10.0</td>\n",
       "      <td>12.0</td>\n",
       "      <td>12.84</td>\n",
       "      <td>13.68</td>\n",
       "      <td>14.4</td>\n",
       "    </tr>\n",
       "  </tbody>\n",
       "</table>\n",
       "</div>"
      ],
      "text/plain": [
       "         count       mean       std   min   25%    50%    75%   max\n",
       "Year                                                               \n",
       "2016  107319.0  12.685135  1.167381  10.0  12.0  12.84  13.68  14.4\n",
       "2017  128510.0  12.683125  1.169450  10.0  12.0  12.84  13.68  14.4\n",
       "2018  123563.0  12.676793  1.166860  10.0  12.0  12.84  13.68  14.4"
      ]
     },
     "execution_count": 114,
     "metadata": {},
     "output_type": "execute_result"
    }
   ],
   "source": [
    "Cab['Cost per KM'].groupby(Cab['Year']).describe()"
   ]
  },
  {
   "cell_type": "markdown",
   "id": "e1fa2938",
   "metadata": {},
   "source": [
    "Based on the summary of our new variables which are Cost per KM and Profit Ratio, we can see that over the 3 years, the mean numbers for each company have stayed relatively close to the same as one another. For Cost per KM, we see that for all 3, the mean and the median are almost the same, which means that the data must be relatively normal and either not have a lot of outliers or are heavily skewed. However, we can see that the distributions for Profit Ratio over Yellow Cab, Pink Cab, and overall might be a little skewed and have some outliers since the mean and median can be off by like 1-2 whole units approximately. So to see whether there was any difference in Profit Ratio over the 3 years (particularly 2016 and 2017), we can test the hypotheses in the next section of our EDA. So if we were going to do modeling/machine learning for the Profit Ratio, it would be wise to remove our outliers in order to have more interprebility."
   ]
  },
  {
   "cell_type": "markdown",
   "id": "1f6dd8ea",
   "metadata": {},
   "source": [
    "#### Hypothesis Testing\n",
    "\n",
    "- Now that we have created our visualizations, we want to test 3 hypotheses on some of the trends that we saw during our EDA that would be nice to investigate"
   ]
  },
  {
   "cell_type": "markdown",
   "id": "a931a2a4",
   "metadata": {},
   "source": [
    "###### Hypothesis 1: Is there a significant difference between the Cost of Trip from the Pink Cab company given the payment mode?\n",
    "\n",
    "- Null Hypothesis H0: There is no significant difference between the cost of trip from the Pink Cab company given the payment   mode\n",
    "- Alternative Hypothesis HA: There is a significant difference between the cost of trip from the Pink Cab company given the payment mode\n",
    "\n"
   ]
  },
  {
   "cell_type": "code",
   "execution_count": 193,
   "id": "ef115f10",
   "metadata": {},
   "outputs": [
    {
     "name": "stdout",
     "output_type": "stream",
     "text": [
      "P-Value: 0.37432686\n",
      "We fail to reject the null hypothesis and conclude that there is no significant difference between the cost of the trip based on payment method for Pink Cab company.\n"
     ]
    }
   ],
   "source": [
    "mu1 = Cab[(Cab.Company=='Pink Cab') & (Cab.Payment_Mode == 'Cash')].groupby('Transaction ID')['Cost of Trip'].mean()\n",
    "mu2 = Cab[(Cab.Company=='Pink Cab')  & (Cab.Payment_Mode =='Card')].groupby('Transaction ID')['Cost of Trip'].mean()\n",
    "_, p_value = ttest_ind(mu1.values,mu2.values)\n",
    "\n",
    "print(\"P-Value:\",round(p_value,8))\n",
    "if (p_value <= 0.05):\n",
    "    print(\"We can reject the null hypothesis and conclude that there is a significant difference between the cost of the trip based on payment method for Pink Cab company.\")\n",
    "else: \n",
    "    print(\"We fail to reject the null hypothesis and conclude that there is no significant difference between the cost of the trip based on payment method for Pink Cab company.\")"
   ]
  },
  {
   "cell_type": "markdown",
   "id": "f4e5cd3c",
   "metadata": {},
   "source": [
    "##### Hypothesis 2 : Is there a significant difference between the amount of users in 2017 and 2018?\n",
    "\n",
    "- Null Hypothesis H0: There is no significant difference between the amount of users in 2017 and 2018\n",
    "- Alternative Hypothesis HA: There is a significant difference between the amount of users in 2017 and 2018"
   ]
  },
  {
   "cell_type": "code",
   "execution_count": 49,
   "id": "9de74ba4",
   "metadata": {},
   "outputs": [
    {
     "ename": "AttributeError",
     "evalue": "'float' object has no attribute 'values'",
     "output_type": "error",
     "traceback": [
      "\u001b[1;31m---------------------------------------------------------------------------\u001b[0m",
      "\u001b[1;31mAttributeError\u001b[0m                            Traceback (most recent call last)",
      "Input \u001b[1;32mIn [49]\u001b[0m, in \u001b[0;36m<cell line: 3>\u001b[1;34m()\u001b[0m\n\u001b[0;32m      1\u001b[0m mu1 \u001b[38;5;241m=\u001b[39m Cab[(Cab\u001b[38;5;241m.\u001b[39mYear \u001b[38;5;241m==\u001b[39m \u001b[38;5;241m2017\u001b[39m) \u001b[38;5;241m&\u001b[39m (Cab\u001b[38;5;241m.\u001b[39mCompany \u001b[38;5;241m==\u001b[39m \u001b[38;5;124m\"\u001b[39m\u001b[38;5;124mYellow Cab\u001b[39m\u001b[38;5;124m\"\u001b[39m)][\u001b[38;5;124m'\u001b[39m\u001b[38;5;124mUsers\u001b[39m\u001b[38;5;124m'\u001b[39m]\u001b[38;5;241m.\u001b[39mmean()\n\u001b[0;32m      2\u001b[0m mu2 \u001b[38;5;241m=\u001b[39m Cab[(Cab\u001b[38;5;241m.\u001b[39mYear \u001b[38;5;241m==\u001b[39m \u001b[38;5;241m2018\u001b[39m) \u001b[38;5;241m&\u001b[39m (Cab\u001b[38;5;241m.\u001b[39mCompany \u001b[38;5;241m==\u001b[39m \u001b[38;5;124m\"\u001b[39m\u001b[38;5;124mYellow Cab\u001b[39m\u001b[38;5;124m\"\u001b[39m)][\u001b[38;5;124m'\u001b[39m\u001b[38;5;124mUsers\u001b[39m\u001b[38;5;124m'\u001b[39m]\u001b[38;5;241m.\u001b[39mmean()\n\u001b[1;32m----> 3\u001b[0m _, p_value \u001b[38;5;241m=\u001b[39m ttest_ind(\u001b[43mmu1\u001b[49m\u001b[38;5;241;43m.\u001b[39;49m\u001b[43mvalues\u001b[49m,mu2\u001b[38;5;241m.\u001b[39mvalues)\n\u001b[0;32m      5\u001b[0m \u001b[38;5;28mprint\u001b[39m(\u001b[38;5;124m\"\u001b[39m\u001b[38;5;124mP-Value:\u001b[39m\u001b[38;5;124m\"\u001b[39m,\u001b[38;5;28mround\u001b[39m(p_value,\u001b[38;5;241m8\u001b[39m))\n\u001b[0;32m      6\u001b[0m \u001b[38;5;28;01mif\u001b[39;00m (p_value \u001b[38;5;241m<\u001b[39m\u001b[38;5;241m=\u001b[39m \u001b[38;5;241m0.05\u001b[39m):\n",
      "\u001b[1;31mAttributeError\u001b[0m: 'float' object has no attribute 'values'"
     ]
    }
   ],
   "source": [
    "mu1 = Cab[(Cab.Year == 2017) & (Cab.Company == \"Yellow Cab\")]['Users'].mean()\n",
    "mu2 = Cab[(Cab.Year == 2018) & (Cab.Company == \"Yellow Cab\")].groupby('Transaction ID')['Users'].mean()\n",
    "_, p_value = ttest_ind(mu1.values,mu2.values)\n",
    "\n",
    "print(\"P-Value:\",round(p_value,8))\n",
    "if (p_value <= 0.05):\n",
    "    print(\"We can reject the null hypothesis and conclude that there is a significant difference between the amount of users in 2017 and 2018 for Yellow Cab.\")\n",
    "else: \n",
    "    print(\"We fail to reject the null hypothesis and conclude that there is no significant difference between the amount of users in 2017 and 2018 for Yellow Cab.\")\n",
    "    "
   ]
  },
  {
   "cell_type": "code",
   "execution_count": 240,
   "id": "503a9adc",
   "metadata": {},
   "outputs": [
    {
     "name": "stdout",
     "output_type": "stream",
     "text": [
      "P-Value: 0.38192002\n",
      "We fail to reject the null hypothesis and conclude that there is no significant difference between the amount of users in 2017 and 2018 for Pink Cab.\n"
     ]
    }
   ],
   "source": [
    "mu1 = Cab[(Cab.Year == 2017) & (Cab.Company == \"Pink Cab\")]['Users'].sum()\n",
    "mu2 = Cab[(Cab.Year == 2018) & (Cab.Company == \"Pink Cab\")]['Users'].sum()\n",
    "_, p_value = ttest_ind(mu1.values,mu2.values)\n",
    "\n",
    "print(\"P-Value:\",round(p_value,8))\n",
    "if (p_value <= 0.05):\n",
    "    print(\"We can reject the null hypothesis and conclude that there is a significant difference between the amount of users in 2017 and 2018 for Pink Cab.\")\n",
    "else: \n",
    "    print(\"We fail to reject the null hypothesis and conclude that there is no significant difference between the amount of users in 2017 and 2018 for Pink Cab.\")"
   ]
  },
  {
   "cell_type": "markdown",
   "id": "9db8d0a2",
   "metadata": {},
   "source": [
    "##### Hypothesis 3: Is there a significant difference in the Profit Ratio (Profit/KM Travelled) during 2016 and 2017?"
   ]
  },
  {
   "cell_type": "code",
   "execution_count": 117,
   "id": "96dc8e8d",
   "metadata": {},
   "outputs": [
    {
     "name": "stdout",
     "output_type": "stream",
     "text": [
      "P-Value: 0.00964014\n",
      "We can reject the null hypothesis and conclude that there is a significant difference between the Profit Ratio's in 2016 and 2017 for Pink Cab.\n"
     ]
    }
   ],
   "source": [
    "mu1 = Cab[(Cab.Year == 2016) & (Cab.Company == \"Pink Cab\")].groupby('Transaction ID')['Profit Ratio'].mean()\n",
    "mu2 = Cab[(Cab.Year == 2017) & (Cab.Company == \"Pink Cab\")].groupby('Transaction ID')['Profit Ratio'].mean()\n",
    "_, p_value = ttest_ind(mu1.values,mu2.values)\n",
    "\n",
    "print(\"P-Value:\",round(p_value,8))\n",
    "if (p_value <= 0.05):\n",
    "    print(\"We can reject the null hypothesis and conclude that there is a significant difference between the Profit Ratios in 2016 and 2017 for Pink Cab.\")\n",
    "else: \n",
    "    print(\"We fail to reject the null hypothesis and conclude that there is no significant difference between the Profit Ratios in 2016 and 2017 for Pink Cab.\")"
   ]
  },
  {
   "cell_type": "code",
   "execution_count": 116,
   "id": "445b9fc0",
   "metadata": {},
   "outputs": [
    {
     "name": "stdout",
     "output_type": "stream",
     "text": [
      "P-Value: 0.86666235\n",
      "We fail to reject the null hypothesis and conclude that there is no significant difference between the Profit Ratios in 2016 and 2017 for Yellow Cab.\n"
     ]
    }
   ],
   "source": [
    "mu1 = Cab[(Cab.Year == 2016) & (Cab.Company == \"Yellow Cab\")].groupby('Transaction ID')['Profit Ratio'].mean()\n",
    "mu2 = Cab[(Cab.Year == 2017) & (Cab.Company == \"Yellow Cab\")].groupby('Transaction ID')['Profit Ratio'].mean()\n",
    "_, p_value = ttest_ind(mu1.values,mu2.values)\n",
    "\n",
    "print(\"P-Value:\",round(p_value,8))\n",
    "if (p_value <= 0.05):\n",
    "    print(\"We can reject the null hypothesis and conclude that there is a significant difference between Profit Ratios in 2016 and 2017 for Yellow Cab.\")\n",
    "else: \n",
    "    print(\"We fail to reject the null hypothesis and conclude that there is no significant difference between the Profit Ratios in 2016 and 2017 for Yellow Cab.\")"
   ]
  },
  {
   "cell_type": "markdown",
   "id": "860e3460",
   "metadata": {},
   "source": [
    "## Conclusions"
   ]
  },
  {
   "cell_type": "markdown",
   "id": "8964d782",
   "metadata": {},
   "source": [
    "#### EDA Results"
   ]
  },
  {
   "cell_type": "markdown",
   "id": "6a39828d",
   "metadata": {},
   "source": [
    "Based on our results from the exploratory data analysis, here are the summaries of our findings from the visualizations:\n",
    "\n",
    "- Overall, Yellow Cab has more popularity than Pink Cab with around 75% of users prefering it\n",
    "- However, certain cities in the US prefer Pink Cab such as Nashville and San Diego\n",
    "- The most popular seasons where both Cab Companies have the most users and make the most profit is in the fall and early winter.\n",
    "- Young adults are the most popular user demographic for both Cab companie's services.\n",
    "- Overall most users prefer to pay with a credit card\n",
    "- Weekends are when both companies services are used the most\n",
    "- 2017 is the year both companies had the biggest success\n",
    "- December made the most total profit overall\n",
    "- New York, Chicago, and Washington DC have the most Yellow Cab users. This makes total sense since they are major metropolitan areas in the US \n",
    "\n"
   ]
  },
  {
   "cell_type": "markdown",
   "id": "75619b4f",
   "metadata": {},
   "source": [
    "#### Decision for XYZ"
   ]
  },
  {
   "cell_type": "markdown",
   "id": "f4c91526",
   "metadata": {},
   "source": [
    "Overall, based on the analysis, Yellow Cab is the best company to invest in.\n",
    "- For one, it attained the most popularity between users.\n",
    "- Second, it has made far more profit during all times from 2016-2018 than Pink Cab.\n",
    "- However, for users, it appears that Pink Cab would be a good company to use if they want lower prices, and that further analysis might be recommended for areas where users prefer Pink Cab like San Diego"
   ]
  },
  {
   "cell_type": "code",
   "execution_count": 25,
   "id": "72986fa7",
   "metadata": {},
   "outputs": [],
   "source": [
    "# Save final dataset as csv for modeling\n",
    "import os \n",
    "Cab.to_csv('Cab.csv')"
   ]
  },
  {
   "cell_type": "code",
   "execution_count": 34,
   "id": "685a4d0d",
   "metadata": {},
   "outputs": [
    {
     "data": {
      "text/plain": [
       "Transaction ID\n",
       "10129103     24701\n",
       "10129113     24701\n",
       "10129119     24701\n",
       "10129123     24701\n",
       "10129129     24701\n",
       "             ...  \n",
       "10291480    127001\n",
       "10291481    127001\n",
       "10291496    127001\n",
       "10291498    127001\n",
       "10291505    127001\n",
       "Name: Users, Length: 98189, dtype: int64"
      ]
     },
     "execution_count": 34,
     "metadata": {},
     "output_type": "execute_result"
    }
   ],
   "source": [
    "mu1"
   ]
  },
  {
   "cell_type": "code",
   "execution_count": 45,
   "id": "c21a7e8c",
   "metadata": {},
   "outputs": [
    {
     "data": {
      "text/plain": [
       "3826605399"
      ]
     },
     "execution_count": 45,
     "metadata": {},
     "output_type": "execute_result"
    }
   ],
   "source": [
    "mu1 = Cab[(Cab.Year == 2016) & (Cab.Company == \"Yellow Cab\")]['Users'].sum()\n",
    "\n",
    "\n",
    "mu2 = Cab[(Cab.Year == 2017) & (Cab.Company == \"Yellow Cab\")]['Users'].sum()\n",
    "mu2"
   ]
  },
  {
   "cell_type": "code",
   "execution_count": 38,
   "id": "386e0bed",
   "metadata": {},
   "outputs": [],
   "source": []
  },
  {
   "cell_type": "code",
   "execution_count": 46,
   "id": "78090a09",
   "metadata": {},
   "outputs": [
    {
     "data": {
      "text/plain": [
       "3133195861"
      ]
     },
     "execution_count": 46,
     "metadata": {},
     "output_type": "execute_result"
    }
   ],
   "source": [
    "mu1"
   ]
  },
  {
   "cell_type": "code",
   "execution_count": 59,
   "id": "4455aa98",
   "metadata": {},
   "outputs": [
    {
     "data": {
      "text/plain": [
       "3826605399"
      ]
     },
     "execution_count": 59,
     "metadata": {},
     "output_type": "execute_result"
    }
   ],
   "source": []
  },
  {
   "cell_type": "code",
   "execution_count": 58,
   "id": "d7703a26",
   "metadata": {},
   "outputs": [
    {
     "data": {
      "text/plain": [
       "3679122128"
      ]
     },
     "execution_count": 58,
     "metadata": {},
     "output_type": "execute_result"
    }
   ],
   "source": []
  },
  {
   "cell_type": "code",
   "execution_count": 22,
   "id": "d7a61692",
   "metadata": {},
   "outputs": [
    {
     "data": {
      "text/html": [
       "<div>\n",
       "<style scoped>\n",
       "    .dataframe tbody tr th:only-of-type {\n",
       "        vertical-align: middle;\n",
       "    }\n",
       "\n",
       "    .dataframe tbody tr th {\n",
       "        vertical-align: top;\n",
       "    }\n",
       "\n",
       "    .dataframe thead th {\n",
       "        text-align: right;\n",
       "    }\n",
       "</style>\n",
       "<table border=\"1\" class=\"dataframe\">\n",
       "  <thead>\n",
       "    <tr style=\"text-align: right;\">\n",
       "      <th></th>\n",
       "      <th>Transaction ID</th>\n",
       "      <th>Date</th>\n",
       "      <th>Company</th>\n",
       "      <th>City</th>\n",
       "      <th>KM Travelled</th>\n",
       "      <th>Price Charged</th>\n",
       "      <th>Cost of Trip</th>\n",
       "      <th>Customer ID</th>\n",
       "      <th>Payment_Mode</th>\n",
       "      <th>Gender</th>\n",
       "      <th>...</th>\n",
       "      <th>Users</th>\n",
       "      <th>Age_Group</th>\n",
       "      <th>Year</th>\n",
       "      <th>Month</th>\n",
       "      <th>Day</th>\n",
       "      <th>Day of Week</th>\n",
       "      <th>Season</th>\n",
       "      <th>Profit</th>\n",
       "      <th>Profit Ratio</th>\n",
       "      <th>Cost per KM</th>\n",
       "    </tr>\n",
       "  </thead>\n",
       "  <tbody>\n",
       "    <tr>\n",
       "      <th>0</th>\n",
       "      <td>10000011</td>\n",
       "      <td>2016-01-08</td>\n",
       "      <td>Pink Cab</td>\n",
       "      <td>Atlanta Ga</td>\n",
       "      <td>30.45</td>\n",
       "      <td>370.95</td>\n",
       "      <td>313.6350</td>\n",
       "      <td>29290</td>\n",
       "      <td>Card</td>\n",
       "      <td>Male</td>\n",
       "      <td>...</td>\n",
       "      <td>24701</td>\n",
       "      <td>20s</td>\n",
       "      <td>2016</td>\n",
       "      <td>1</td>\n",
       "      <td>8</td>\n",
       "      <td>Friday</td>\n",
       "      <td>Winter</td>\n",
       "      <td>57.3150</td>\n",
       "      <td>1.882266</td>\n",
       "      <td>10.30</td>\n",
       "    </tr>\n",
       "    <tr>\n",
       "      <th>1</th>\n",
       "      <td>10351127</td>\n",
       "      <td>2018-07-21</td>\n",
       "      <td>Yellow Cab</td>\n",
       "      <td>Atlanta Ga</td>\n",
       "      <td>26.19</td>\n",
       "      <td>598.70</td>\n",
       "      <td>317.4228</td>\n",
       "      <td>29290</td>\n",
       "      <td>Cash</td>\n",
       "      <td>Male</td>\n",
       "      <td>...</td>\n",
       "      <td>24701</td>\n",
       "      <td>20s</td>\n",
       "      <td>2018</td>\n",
       "      <td>7</td>\n",
       "      <td>21</td>\n",
       "      <td>Saturday</td>\n",
       "      <td>Summer</td>\n",
       "      <td>281.2772</td>\n",
       "      <td>10.739870</td>\n",
       "      <td>12.12</td>\n",
       "    </tr>\n",
       "    <tr>\n",
       "      <th>2</th>\n",
       "      <td>10412921</td>\n",
       "      <td>2018-11-23</td>\n",
       "      <td>Yellow Cab</td>\n",
       "      <td>Atlanta Ga</td>\n",
       "      <td>42.55</td>\n",
       "      <td>792.05</td>\n",
       "      <td>597.4020</td>\n",
       "      <td>29290</td>\n",
       "      <td>Card</td>\n",
       "      <td>Male</td>\n",
       "      <td>...</td>\n",
       "      <td>24701</td>\n",
       "      <td>20s</td>\n",
       "      <td>2018</td>\n",
       "      <td>11</td>\n",
       "      <td>23</td>\n",
       "      <td>Friday</td>\n",
       "      <td>Fall</td>\n",
       "      <td>194.6480</td>\n",
       "      <td>4.574571</td>\n",
       "      <td>14.04</td>\n",
       "    </tr>\n",
       "    <tr>\n",
       "      <th>3</th>\n",
       "      <td>10000012</td>\n",
       "      <td>2016-01-06</td>\n",
       "      <td>Pink Cab</td>\n",
       "      <td>Atlanta Ga</td>\n",
       "      <td>28.62</td>\n",
       "      <td>358.52</td>\n",
       "      <td>334.8540</td>\n",
       "      <td>27703</td>\n",
       "      <td>Card</td>\n",
       "      <td>Male</td>\n",
       "      <td>...</td>\n",
       "      <td>24701</td>\n",
       "      <td>20s</td>\n",
       "      <td>2016</td>\n",
       "      <td>1</td>\n",
       "      <td>6</td>\n",
       "      <td>Wednesday</td>\n",
       "      <td>Winter</td>\n",
       "      <td>23.6660</td>\n",
       "      <td>0.826904</td>\n",
       "      <td>11.70</td>\n",
       "    </tr>\n",
       "    <tr>\n",
       "      <th>4</th>\n",
       "      <td>10320494</td>\n",
       "      <td>2018-04-21</td>\n",
       "      <td>Yellow Cab</td>\n",
       "      <td>Atlanta Ga</td>\n",
       "      <td>36.38</td>\n",
       "      <td>721.10</td>\n",
       "      <td>467.1192</td>\n",
       "      <td>27703</td>\n",
       "      <td>Card</td>\n",
       "      <td>Male</td>\n",
       "      <td>...</td>\n",
       "      <td>24701</td>\n",
       "      <td>20s</td>\n",
       "      <td>2018</td>\n",
       "      <td>4</td>\n",
       "      <td>21</td>\n",
       "      <td>Saturday</td>\n",
       "      <td>Spring</td>\n",
       "      <td>253.9808</td>\n",
       "      <td>6.981330</td>\n",
       "      <td>12.84</td>\n",
       "    </tr>\n",
       "  </tbody>\n",
       "</table>\n",
       "<p>5 rows × 23 columns</p>\n",
       "</div>"
      ],
      "text/plain": [
       "   Transaction ID       Date     Company        City  KM Travelled  \\\n",
       "0        10000011 2016-01-08    Pink Cab  Atlanta Ga         30.45   \n",
       "1        10351127 2018-07-21  Yellow Cab  Atlanta Ga         26.19   \n",
       "2        10412921 2018-11-23  Yellow Cab  Atlanta Ga         42.55   \n",
       "3        10000012 2016-01-06    Pink Cab  Atlanta Ga         28.62   \n",
       "4        10320494 2018-04-21  Yellow Cab  Atlanta Ga         36.38   \n",
       "\n",
       "   Price Charged  Cost of Trip  Customer ID Payment_Mode Gender  ...  Users  \\\n",
       "0         370.95      313.6350        29290         Card   Male  ...  24701   \n",
       "1         598.70      317.4228        29290         Cash   Male  ...  24701   \n",
       "2         792.05      597.4020        29290         Card   Male  ...  24701   \n",
       "3         358.52      334.8540        27703         Card   Male  ...  24701   \n",
       "4         721.10      467.1192        27703         Card   Male  ...  24701   \n",
       "\n",
       "   Age_Group  Year  Month Day  Day of Week  Season    Profit Profit Ratio  \\\n",
       "0        20s  2016      1   8       Friday  Winter   57.3150     1.882266   \n",
       "1        20s  2018      7  21     Saturday  Summer  281.2772    10.739870   \n",
       "2        20s  2018     11  23       Friday    Fall  194.6480     4.574571   \n",
       "3        20s  2016      1   6    Wednesday  Winter   23.6660     0.826904   \n",
       "4        20s  2018      4  21     Saturday  Spring  253.9808     6.981330   \n",
       "\n",
       "  Cost per KM  \n",
       "0       10.30  \n",
       "1       12.12  \n",
       "2       14.04  \n",
       "3       11.70  \n",
       "4       12.84  \n",
       "\n",
       "[5 rows x 23 columns]"
      ]
     },
     "execution_count": 22,
     "metadata": {},
     "output_type": "execute_result"
    }
   ],
   "source": [
    "Cab.head()"
   ]
  },
  {
   "cell_type": "code",
   "execution_count": 23,
   "id": "1d88531f",
   "metadata": {},
   "outputs": [],
   "source": [
    "def income_group(x):\n",
    "    if x <= 5000:\n",
    "        return '$0-$5,000'\n",
    "    elif x > 5000 and x <= 10000:\n",
    "        return '$5,000-$10,000'\n",
    "    elif x > 10000 and x <= 15000:\n",
    "        return '$10,000-$15,000'\n",
    "    elif x > 15000 and x <= 20000:\n",
    "        return '$15,000-$20,000'\n",
    "    elif x > 20000 and x <= 25000:\n",
    "        return '$20,000-$25,000'\n",
    "    else:\n",
    "        return '$25,000+'\n",
    "Cab['Income group'] = Cab['Income (USD/Month)'].apply(income_group)"
   ]
  },
  {
   "cell_type": "code",
   "execution_count": 24,
   "id": "b89eb393",
   "metadata": {},
   "outputs": [],
   "source": [
    "Cab.to_csv('C://Users//JCCLI//Downloads//G2M_Data.csv',index=False,header=True)"
   ]
  },
  {
   "cell_type": "code",
   "execution_count": null,
   "id": "1b3fd1d8",
   "metadata": {},
   "outputs": [],
   "source": []
  }
 ],
 "metadata": {
  "kernelspec": {
   "display_name": "Python 3 (ipykernel)",
   "language": "python",
   "name": "python3"
  },
  "language_info": {
   "codemirror_mode": {
    "name": "ipython",
    "version": 3
   },
   "file_extension": ".py",
   "mimetype": "text/x-python",
   "name": "python",
   "nbconvert_exporter": "python",
   "pygments_lexer": "ipython3",
   "version": "3.9.12"
  }
 },
 "nbformat": 4,
 "nbformat_minor": 5
}
