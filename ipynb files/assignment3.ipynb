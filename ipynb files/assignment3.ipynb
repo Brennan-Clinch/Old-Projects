{
 "cells": [
  {
   "cell_type": "code",
   "execution_count": null,
   "metadata": {},
   "outputs": [],
   "source": [
    "class Person(object):\n",
    "    numPerson = 0\n",
    "    def __init__(self, firstname, lastname):\n",
    "        self.firstname = firstname\n",
    "        self.lastname = lastname\n",
    "    def fullname(self):\n",
    "        print(self.firstname + ''+ self.lastname)\n",
    "class Employee(Person):\n",
    "    numEmployee = 0\n",
    "    def __init__(self,firstname,lastname, pay, employeeID ):\n",
    "        super(Employee, self).__init__(firstname, lastname)\n",
    "        self.pay = pay\n",
    "        self.employeeID = employeeID\n",
    "        Employee.numEmployee += 1\n",
    "class Programmer(Employee):\n",
    "    def __init__(self,firstname, lastname, pay, employeeID, proLang):\n",
    "        super(Programmer, self).__init__(firstname,lastname,pay,employeeID)\n",
    "        self.proLang = proLang\n",
    "    def programemployee(self):\n",
    "        print(self.firstname, self.lastname, 'pay:', self.pay, 'ID:', self.employeeID, 'programming language:', self.proLang)\n",
    "class Manager(Employee):\n",
    "    def __init__(self, firstname, lastname, pay, employeeID, progList):\n",
    "        super(Manager, self).__init__(firstname, lastname, pay, employeeID)\n",
    "        self.progList = []\n",
    "    def addProgrammer(self, Programmer):\n",
    "        self.progList.append(Programmer.__dict__)\n",
    "    def removeProgrammer(self, Programmer):\n",
    "        try:\n",
    "            self.progList.pop(0)\n",
    "        except IndexError:\n",
    "            pass\n",
    "print('The 3 programmers are:')\n",
    "x = Programmer('Brennan', 'Clinch', 8.25, 849066560, 'Python')\n",
    "y = Programmer('Jacob', 'Gotzo', 15, 5556784, 'Java')\n",
    "z = Programmer('John', 'Franklin', 35, 6667843, 'c++')\n",
    "x.programemployee()\n",
    "y.programemployee()\n",
    "z.programemployee()        \n",
    "x = Manager('Brennan', 'Clinch', 8.25, 849066560,'Python')\n",
    "y = Manager('Jacob', 'Gotzo', 15, 5556784, 'Java')\n",
    "z = Manager('John', 'Franklin', 35, 6667843, 'c++')\n",
    "print('The initial manager list:',y.progList)\n",
    "print('The manager list of the 3 employees:')\n",
    "y.addProgrammer(x)\n",
    "y.addProgrammer(y)\n",
    "y.addProgrammer(z)\n",
    "print(y.progList)\n",
    "y.removeProgrammer(x)\n",
    "print('The manager list after the first programmer removed: ', y.progList)"
   ]
  }
 ],
 "metadata": {
  "kernelspec": {
   "display_name": "Python 3",
   "language": "python",
   "name": "python3"
  },
  "language_info": {
   "codemirror_mode": {
    "name": "ipython",
    "version": 3
   },
   "file_extension": ".py",
   "mimetype": "text/x-python",
   "name": "python",
   "nbconvert_exporter": "python",
   "pygments_lexer": "ipython3",
   "version": "3.7.3"
  }
 },
 "nbformat": 4,
 "nbformat_minor": 2
}
