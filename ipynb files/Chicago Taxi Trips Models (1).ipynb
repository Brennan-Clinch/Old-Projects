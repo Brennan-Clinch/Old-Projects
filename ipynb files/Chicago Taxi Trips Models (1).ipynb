{
 "cells": [
  {
   "cell_type": "code",
   "execution_count": 6,
   "id": "a06a0474",
   "metadata": {},
   "outputs": [],
   "source": [
    "import pandas as pd\n",
    "import numpy as np\n",
    "import matplotlib.pyplot as plt\n",
    "import seaborn as sns\n",
    "from sklearn import preprocessing\n",
    "from sklearn.model_selection import train_test_split\n",
    "from sklearn.linear_model import LinearRegression\n",
    "from sklearn.metrics import r2_score\n",
    "from sklearn.metrics import mean_squared_error\n",
    "from sklearn.ensemble import RandomForestRegressor\n",
    "from sklearn.tree import DecisionTreeRegressor\n",
    "from math import sqrt\n",
    "from xgboost import XGBRegressor\n",
    "from lightgbm import LGBMRegressor"
   ]
  },
  {
   "cell_type": "markdown",
   "id": "0239cf68",
   "metadata": {},
   "source": [
    "**Read in data and preprocessing**"
   ]
  },
  {
   "cell_type": "code",
   "execution_count": 8,
   "id": "1e17be56",
   "metadata": {},
   "outputs": [],
   "source": [
    "df = pd.read_csv(\"C://Users//JCCLI//Downloads//Chicago_Taxi_Model.csv\", \\\n",
    "                usecols = ('trip_miles', 'dropoff_longitude','dropoff_latitude','pickup_latitude','pickup_longitude','trip_minutes','payment_type','company','fare_dollars','month','Week','day','hour','weekday','pick_up_area',\\\n",
    "                          'dropoff_area','Is Holiday', 'Is Snow Day','Is Raining','Is Windy (Gust)', 'Is Windy (Speed)'))"
   ]
  },
  {
   "cell_type": "markdown",
   "id": "faef1c4d",
   "metadata": {},
   "source": [
    "There were some minor errors with setting the locations of dropoff and pickup in Google BigQuery, after looking at area maps using Tableau, some of the pickup and dropoff locations are inaccurate, so I am removing inaccurate locations to avoid errors when training the dataset for deployment later."
   ]
  },
  {
   "cell_type": "code",
   "execution_count": 9,
   "id": "a8738e1b",
   "metadata": {},
   "outputs": [],
   "source": [
    "df_filtered = df[(df.pickup_longitude >= -87.83)]"
   ]
  },
  {
   "cell_type": "code",
   "execution_count": 10,
   "id": "d6db61b6",
   "metadata": {},
   "outputs": [],
   "source": [
    "df_filtered_2 = df[(df.pickup_longitude <= -87.89)]"
   ]
  },
  {
   "cell_type": "code",
   "execution_count": 11,
   "id": "2347576a",
   "metadata": {},
   "outputs": [
    {
     "data": {
      "text/html": [
       "<div>\n",
       "<style scoped>\n",
       "    .dataframe tbody tr th:only-of-type {\n",
       "        vertical-align: middle;\n",
       "    }\n",
       "\n",
       "    .dataframe tbody tr th {\n",
       "        vertical-align: top;\n",
       "    }\n",
       "\n",
       "    .dataframe thead th {\n",
       "        text-align: right;\n",
       "    }\n",
       "</style>\n",
       "<table border=\"1\" class=\"dataframe\">\n",
       "  <thead>\n",
       "    <tr style=\"text-align: right;\">\n",
       "      <th></th>\n",
       "      <th>trip_miles</th>\n",
       "      <th>payment_type</th>\n",
       "      <th>company</th>\n",
       "      <th>pickup_latitude</th>\n",
       "      <th>pickup_longitude</th>\n",
       "      <th>dropoff_latitude</th>\n",
       "      <th>dropoff_longitude</th>\n",
       "      <th>fare_dollars</th>\n",
       "      <th>month</th>\n",
       "      <th>day</th>\n",
       "      <th>...</th>\n",
       "      <th>weekday</th>\n",
       "      <th>dropoff_area</th>\n",
       "      <th>pick_up_area</th>\n",
       "      <th>trip_minutes</th>\n",
       "      <th>Week</th>\n",
       "      <th>Is Raining</th>\n",
       "      <th>Is Snow Day</th>\n",
       "      <th>Is Windy (Speed)</th>\n",
       "      <th>Is Windy (Gust)</th>\n",
       "      <th>Is Holiday</th>\n",
       "    </tr>\n",
       "  </thead>\n",
       "  <tbody>\n",
       "    <tr>\n",
       "      <th>0</th>\n",
       "      <td>4.24</td>\n",
       "      <td>Mobile</td>\n",
       "      <td>Flash Cab</td>\n",
       "      <td>41.870415</td>\n",
       "      <td>-87.675086</td>\n",
       "      <td>41.900266</td>\n",
       "      <td>-87.632109</td>\n",
       "      <td>13.10</td>\n",
       "      <td>6</td>\n",
       "      <td>13</td>\n",
       "      <td>...</td>\n",
       "      <td>Mon</td>\n",
       "      <td>Navy Pier Area</td>\n",
       "      <td>UIC</td>\n",
       "      <td>19.150000</td>\n",
       "      <td>24</td>\n",
       "      <td>0</td>\n",
       "      <td>0</td>\n",
       "      <td>0</td>\n",
       "      <td>1</td>\n",
       "      <td>0</td>\n",
       "    </tr>\n",
       "    <tr>\n",
       "      <th>1</th>\n",
       "      <td>0.92</td>\n",
       "      <td>Credit Card</td>\n",
       "      <td>Sun Taxi</td>\n",
       "      <td>41.893216</td>\n",
       "      <td>-87.637844</td>\n",
       "      <td>41.877406</td>\n",
       "      <td>-87.621972</td>\n",
       "      <td>6.25</td>\n",
       "      <td>6</td>\n",
       "      <td>13</td>\n",
       "      <td>...</td>\n",
       "      <td>Mon</td>\n",
       "      <td>Soldier Field/Grant Park</td>\n",
       "      <td>Navy Pier Area</td>\n",
       "      <td>6.800000</td>\n",
       "      <td>24</td>\n",
       "      <td>0</td>\n",
       "      <td>0</td>\n",
       "      <td>0</td>\n",
       "      <td>1</td>\n",
       "      <td>0</td>\n",
       "    </tr>\n",
       "    <tr>\n",
       "      <th>2</th>\n",
       "      <td>12.17</td>\n",
       "      <td>Credit Card</td>\n",
       "      <td>Flash Cab</td>\n",
       "      <td>41.975171</td>\n",
       "      <td>-87.687516</td>\n",
       "      <td>41.980264</td>\n",
       "      <td>-87.913625</td>\n",
       "      <td>33.50</td>\n",
       "      <td>6</td>\n",
       "      <td>13</td>\n",
       "      <td>...</td>\n",
       "      <td>Mon</td>\n",
       "      <td>ORD Airport</td>\n",
       "      <td>East Lincolnwood/Wrigley</td>\n",
       "      <td>40.466667</td>\n",
       "      <td>24</td>\n",
       "      <td>0</td>\n",
       "      <td>0</td>\n",
       "      <td>0</td>\n",
       "      <td>1</td>\n",
       "      <td>0</td>\n",
       "    </tr>\n",
       "    <tr>\n",
       "      <th>3</th>\n",
       "      <td>1.18</td>\n",
       "      <td>Credit Card</td>\n",
       "      <td>Medallion Leasin</td>\n",
       "      <td>41.893216</td>\n",
       "      <td>-87.637844</td>\n",
       "      <td>41.895033</td>\n",
       "      <td>-87.619711</td>\n",
       "      <td>8.75</td>\n",
       "      <td>6</td>\n",
       "      <td>13</td>\n",
       "      <td>...</td>\n",
       "      <td>Mon</td>\n",
       "      <td>Navy Pier Area</td>\n",
       "      <td>Navy Pier Area</td>\n",
       "      <td>13.950000</td>\n",
       "      <td>24</td>\n",
       "      <td>0</td>\n",
       "      <td>0</td>\n",
       "      <td>0</td>\n",
       "      <td>1</td>\n",
       "      <td>0</td>\n",
       "    </tr>\n",
       "    <tr>\n",
       "      <th>4</th>\n",
       "      <td>3.34</td>\n",
       "      <td>Mobile</td>\n",
       "      <td>Sun Taxi</td>\n",
       "      <td>41.938666</td>\n",
       "      <td>-87.711211</td>\n",
       "      <td>41.944227</td>\n",
       "      <td>-87.655998</td>\n",
       "      <td>13.28</td>\n",
       "      <td>6</td>\n",
       "      <td>13</td>\n",
       "      <td>...</td>\n",
       "      <td>Mon</td>\n",
       "      <td>East Lincolnwood/Wrigley</td>\n",
       "      <td>Humboldt Park Area</td>\n",
       "      <td>19.216667</td>\n",
       "      <td>24</td>\n",
       "      <td>0</td>\n",
       "      <td>0</td>\n",
       "      <td>0</td>\n",
       "      <td>1</td>\n",
       "      <td>0</td>\n",
       "    </tr>\n",
       "  </tbody>\n",
       "</table>\n",
       "<p>5 rows × 21 columns</p>\n",
       "</div>"
      ],
      "text/plain": [
       "   trip_miles payment_type           company  pickup_latitude   \n",
       "0        4.24       Mobile         Flash Cab        41.870415  \\\n",
       "1        0.92  Credit Card          Sun Taxi        41.893216   \n",
       "2       12.17  Credit Card         Flash Cab        41.975171   \n",
       "3        1.18  Credit Card  Medallion Leasin        41.893216   \n",
       "4        3.34       Mobile          Sun Taxi        41.938666   \n",
       "\n",
       "   pickup_longitude  dropoff_latitude  dropoff_longitude  fare_dollars  month   \n",
       "0        -87.675086         41.900266         -87.632109         13.10      6  \\\n",
       "1        -87.637844         41.877406         -87.621972          6.25      6   \n",
       "2        -87.687516         41.980264         -87.913625         33.50      6   \n",
       "3        -87.637844         41.895033         -87.619711          8.75      6   \n",
       "4        -87.711211         41.944227         -87.655998         13.28      6   \n",
       "\n",
       "   day  ...  weekday              dropoff_area              pick_up_area   \n",
       "0   13  ...      Mon            Navy Pier Area                       UIC  \\\n",
       "1   13  ...      Mon  Soldier Field/Grant Park            Navy Pier Area   \n",
       "2   13  ...      Mon               ORD Airport  East Lincolnwood/Wrigley   \n",
       "3   13  ...      Mon            Navy Pier Area            Navy Pier Area   \n",
       "4   13  ...      Mon  East Lincolnwood/Wrigley        Humboldt Park Area   \n",
       "\n",
       "  trip_minutes  Week  Is Raining  Is Snow Day  Is Windy (Speed)   \n",
       "0    19.150000    24           0            0                 0  \\\n",
       "1     6.800000    24           0            0                 0   \n",
       "2    40.466667    24           0            0                 0   \n",
       "3    13.950000    24           0            0                 0   \n",
       "4    19.216667    24           0            0                 0   \n",
       "\n",
       "   Is Windy (Gust)  Is Holiday  \n",
       "0                1           0  \n",
       "1                1           0  \n",
       "2                1           0  \n",
       "3                1           0  \n",
       "4                1           0  \n",
       "\n",
       "[5 rows x 21 columns]"
      ]
     },
     "execution_count": 11,
     "metadata": {},
     "output_type": "execute_result"
    }
   ],
   "source": [
    "df_filtered.head()"
   ]
  },
  {
   "cell_type": "code",
   "execution_count": 12,
   "id": "6716d67b",
   "metadata": {},
   "outputs": [
    {
     "data": {
      "text/html": [
       "<div>\n",
       "<style scoped>\n",
       "    .dataframe tbody tr th:only-of-type {\n",
       "        vertical-align: middle;\n",
       "    }\n",
       "\n",
       "    .dataframe tbody tr th {\n",
       "        vertical-align: top;\n",
       "    }\n",
       "\n",
       "    .dataframe thead th {\n",
       "        text-align: right;\n",
       "    }\n",
       "</style>\n",
       "<table border=\"1\" class=\"dataframe\">\n",
       "  <thead>\n",
       "    <tr style=\"text-align: right;\">\n",
       "      <th></th>\n",
       "      <th>trip_miles</th>\n",
       "      <th>payment_type</th>\n",
       "      <th>company</th>\n",
       "      <th>pickup_latitude</th>\n",
       "      <th>pickup_longitude</th>\n",
       "      <th>dropoff_latitude</th>\n",
       "      <th>dropoff_longitude</th>\n",
       "      <th>fare_dollars</th>\n",
       "      <th>month</th>\n",
       "      <th>day</th>\n",
       "      <th>...</th>\n",
       "      <th>weekday</th>\n",
       "      <th>dropoff_area</th>\n",
       "      <th>pick_up_area</th>\n",
       "      <th>trip_minutes</th>\n",
       "      <th>Week</th>\n",
       "      <th>Is Raining</th>\n",
       "      <th>Is Snow Day</th>\n",
       "      <th>Is Windy (Speed)</th>\n",
       "      <th>Is Windy (Gust)</th>\n",
       "      <th>Is Holiday</th>\n",
       "    </tr>\n",
       "  </thead>\n",
       "  <tbody>\n",
       "    <tr>\n",
       "      <th>223</th>\n",
       "      <td>5.65</td>\n",
       "      <td>Credit Card</td>\n",
       "      <td>Flash Cab</td>\n",
       "      <td>41.980264</td>\n",
       "      <td>-87.913625</td>\n",
       "      <td>NaN</td>\n",
       "      <td>NaN</td>\n",
       "      <td>16.75</td>\n",
       "      <td>6</td>\n",
       "      <td>13</td>\n",
       "      <td>...</td>\n",
       "      <td>Mon</td>\n",
       "      <td>Loyola/Edgewater</td>\n",
       "      <td>ORD Airport</td>\n",
       "      <td>13.300000</td>\n",
       "      <td>24</td>\n",
       "      <td>0</td>\n",
       "      <td>0</td>\n",
       "      <td>0</td>\n",
       "      <td>1</td>\n",
       "      <td>0</td>\n",
       "    </tr>\n",
       "    <tr>\n",
       "      <th>224</th>\n",
       "      <td>0.90</td>\n",
       "      <td>Cash</td>\n",
       "      <td>Taxi Affiliation Services</td>\n",
       "      <td>41.980264</td>\n",
       "      <td>-87.913625</td>\n",
       "      <td>41.922686</td>\n",
       "      <td>-87.649489</td>\n",
       "      <td>40.75</td>\n",
       "      <td>6</td>\n",
       "      <td>13</td>\n",
       "      <td>...</td>\n",
       "      <td>Mon</td>\n",
       "      <td>Navy Pier Area</td>\n",
       "      <td>ORD Airport</td>\n",
       "      <td>54.000000</td>\n",
       "      <td>24</td>\n",
       "      <td>0</td>\n",
       "      <td>0</td>\n",
       "      <td>0</td>\n",
       "      <td>1</td>\n",
       "      <td>0</td>\n",
       "    </tr>\n",
       "    <tr>\n",
       "      <th>225</th>\n",
       "      <td>15.60</td>\n",
       "      <td>Credit Card</td>\n",
       "      <td>KOAM Taxi Association</td>\n",
       "      <td>41.980264</td>\n",
       "      <td>-87.913625</td>\n",
       "      <td>41.944227</td>\n",
       "      <td>-87.655998</td>\n",
       "      <td>42.50</td>\n",
       "      <td>6</td>\n",
       "      <td>13</td>\n",
       "      <td>...</td>\n",
       "      <td>Mon</td>\n",
       "      <td>East Lincolnwood/Wrigley</td>\n",
       "      <td>ORD Airport</td>\n",
       "      <td>56.000000</td>\n",
       "      <td>24</td>\n",
       "      <td>0</td>\n",
       "      <td>0</td>\n",
       "      <td>0</td>\n",
       "      <td>1</td>\n",
       "      <td>0</td>\n",
       "    </tr>\n",
       "    <tr>\n",
       "      <th>226</th>\n",
       "      <td>19.34</td>\n",
       "      <td>Credit Card</td>\n",
       "      <td>Flash Cab</td>\n",
       "      <td>41.980264</td>\n",
       "      <td>-87.913625</td>\n",
       "      <td>41.874005</td>\n",
       "      <td>-87.663518</td>\n",
       "      <td>48.25</td>\n",
       "      <td>6</td>\n",
       "      <td>13</td>\n",
       "      <td>...</td>\n",
       "      <td>Mon</td>\n",
       "      <td>UIC</td>\n",
       "      <td>ORD Airport</td>\n",
       "      <td>50.200000</td>\n",
       "      <td>24</td>\n",
       "      <td>0</td>\n",
       "      <td>0</td>\n",
       "      <td>0</td>\n",
       "      <td>1</td>\n",
       "      <td>0</td>\n",
       "    </tr>\n",
       "    <tr>\n",
       "      <th>227</th>\n",
       "      <td>14.82</td>\n",
       "      <td>Credit Card</td>\n",
       "      <td>Star North Taxi Management Llc</td>\n",
       "      <td>41.980264</td>\n",
       "      <td>-87.913625</td>\n",
       "      <td>NaN</td>\n",
       "      <td>NaN</td>\n",
       "      <td>38.25</td>\n",
       "      <td>6</td>\n",
       "      <td>13</td>\n",
       "      <td>...</td>\n",
       "      <td>Mon</td>\n",
       "      <td>Loyola/Edgewater</td>\n",
       "      <td>ORD Airport</td>\n",
       "      <td>28.366667</td>\n",
       "      <td>24</td>\n",
       "      <td>0</td>\n",
       "      <td>0</td>\n",
       "      <td>0</td>\n",
       "      <td>1</td>\n",
       "      <td>0</td>\n",
       "    </tr>\n",
       "  </tbody>\n",
       "</table>\n",
       "<p>5 rows × 21 columns</p>\n",
       "</div>"
      ],
      "text/plain": [
       "     trip_miles payment_type                         company  pickup_latitude   \n",
       "223        5.65  Credit Card                       Flash Cab        41.980264  \\\n",
       "224        0.90         Cash       Taxi Affiliation Services        41.980264   \n",
       "225       15.60  Credit Card           KOAM Taxi Association        41.980264   \n",
       "226       19.34  Credit Card                       Flash Cab        41.980264   \n",
       "227       14.82  Credit Card  Star North Taxi Management Llc        41.980264   \n",
       "\n",
       "     pickup_longitude  dropoff_latitude  dropoff_longitude  fare_dollars   \n",
       "223        -87.913625               NaN                NaN         16.75  \\\n",
       "224        -87.913625         41.922686         -87.649489         40.75   \n",
       "225        -87.913625         41.944227         -87.655998         42.50   \n",
       "226        -87.913625         41.874005         -87.663518         48.25   \n",
       "227        -87.913625               NaN                NaN         38.25   \n",
       "\n",
       "     month  day  ...  weekday              dropoff_area pick_up_area   \n",
       "223      6   13  ...      Mon          Loyola/Edgewater  ORD Airport  \\\n",
       "224      6   13  ...      Mon            Navy Pier Area  ORD Airport   \n",
       "225      6   13  ...      Mon  East Lincolnwood/Wrigley  ORD Airport   \n",
       "226      6   13  ...      Mon                       UIC  ORD Airport   \n",
       "227      6   13  ...      Mon          Loyola/Edgewater  ORD Airport   \n",
       "\n",
       "    trip_minutes  Week  Is Raining  Is Snow Day  Is Windy (Speed)   \n",
       "223    13.300000    24           0            0                 0  \\\n",
       "224    54.000000    24           0            0                 0   \n",
       "225    56.000000    24           0            0                 0   \n",
       "226    50.200000    24           0            0                 0   \n",
       "227    28.366667    24           0            0                 0   \n",
       "\n",
       "     Is Windy (Gust)  Is Holiday  \n",
       "223                1           0  \n",
       "224                1           0  \n",
       "225                1           0  \n",
       "226                1           0  \n",
       "227                1           0  \n",
       "\n",
       "[5 rows x 21 columns]"
      ]
     },
     "execution_count": 12,
     "metadata": {},
     "output_type": "execute_result"
    }
   ],
   "source": [
    "df_filtered_2.head()"
   ]
  },
  {
   "cell_type": "code",
   "execution_count": 13,
   "id": "003118d7",
   "metadata": {},
   "outputs": [],
   "source": [
    "# merge cleaned dataframes\n",
    "df_new = pd.concat([df_filtered,df_filtered_2],ignore_index=True)"
   ]
  },
  {
   "cell_type": "code",
   "execution_count": 14,
   "id": "36a7641e",
   "metadata": {
    "scrolled": false
   },
   "outputs": [
    {
     "name": "stdout",
     "output_type": "stream",
     "text": [
      "<class 'pandas.core.frame.DataFrame'>\n",
      "RangeIndex: 3954636 entries, 0 to 3954635\n",
      "Data columns (total 21 columns):\n",
      " #   Column             Dtype  \n",
      "---  ------             -----  \n",
      " 0   trip_miles         float64\n",
      " 1   payment_type       object \n",
      " 2   company            object \n",
      " 3   pickup_latitude    float64\n",
      " 4   pickup_longitude   float64\n",
      " 5   dropoff_latitude   float64\n",
      " 6   dropoff_longitude  float64\n",
      " 7   fare_dollars       float64\n",
      " 8   month              int64  \n",
      " 9   day                int64  \n",
      " 10  hour               int64  \n",
      " 11  weekday            object \n",
      " 12  dropoff_area       object \n",
      " 13  pick_up_area       object \n",
      " 14  trip_minutes       float64\n",
      " 15  Week               int64  \n",
      " 16  Is Raining         int64  \n",
      " 17  Is Snow Day        int64  \n",
      " 18  Is Windy (Speed)   int64  \n",
      " 19  Is Windy (Gust)    int64  \n",
      " 20  Is Holiday         int64  \n",
      "dtypes: float64(7), int64(9), object(5)\n",
      "memory usage: 633.6+ MB\n"
     ]
    }
   ],
   "source": [
    "df_new.info()"
   ]
  },
  {
   "cell_type": "code",
   "execution_count": 15,
   "id": "fc4f1785",
   "metadata": {},
   "outputs": [],
   "source": [
    "df_new['month'] = df_new['month'].astype('int64')\n",
    "df_new['day'] = df_new['day'].astype('int64')\n",
    "df_new['hour'] = df_new['hour'].astype('int64')\n",
    "#df_new['trip_end_dt'] = pd.to_datetime(df_new['trip_end_dt'])\n",
    "#df_new['Week'] = df_new_full['trip_end_dt'].dt.isocalendar().week"
   ]
  },
  {
   "cell_type": "code",
   "execution_count": 16,
   "id": "329ff891",
   "metadata": {},
   "outputs": [
    {
     "data": {
      "text/plain": [
       "Is Holiday\n",
       "0    3869702\n",
       "1      84934\n",
       "Name: count, dtype: int64"
      ]
     },
     "execution_count": 16,
     "metadata": {},
     "output_type": "execute_result"
    }
   ],
   "source": [
    "df_new['Is Holiday'].value_counts().head(35)"
   ]
  },
  {
   "cell_type": "markdown",
   "id": "acf452ad",
   "metadata": {},
   "source": [
    "**Feature Engineering**"
   ]
  },
  {
   "cell_type": "code",
   "execution_count": 17,
   "id": "6d0413d1",
   "metadata": {},
   "outputs": [],
   "source": [
    "# Hard code in 2022 Chicago weekly gas prices\n",
    "def func(x):\n",
    "    if x == 52:\n",
    "        return 3.251\n",
    "    elif x == 51:\n",
    "        return 3.334\n",
    "    elif x == 50:\n",
    "        return 3.469\n",
    "    elif x == 49:\n",
    "        return 3.659\n",
    "    elif x == 48:\n",
    "        return 3.899\n",
    "    elif x == 47:\n",
    "        return 4.08\n",
    "    elif x == 46:\n",
    "        return 4.264\n",
    "    elif x == 45:\n",
    "        return 4.482\n",
    "    elif x == 44:\n",
    "        return 4.266\n",
    "    elif x == 43:\n",
    "        return 4.36\n",
    "    elif x == 42:\n",
    "        return 4.462\n",
    "    elif x == 41:\n",
    "        return 4.558\n",
    "    elif x == 40:\n",
    "        return 4.248\n",
    "    elif x == 39:\n",
    "        return 4.1\n",
    "    elif x == 38:\n",
    "        return 4.076\n",
    "    elif x == 37:\n",
    "        return 4.212\n",
    "    elif x == 36:\n",
    "        return 4.32\n",
    "    elif x == 35:\n",
    "        return 4.373\n",
    "    elif x == 34:\n",
    "        return 4.459\n",
    "    elif x == 33:\n",
    "        return 4.499\n",
    "    elif x == 32:\n",
    "        return 4.659\n",
    "    elif x == 31:\n",
    "        return 4.854\n",
    "    elif x == 30:\n",
    "        return 5.046\n",
    "    elif x == 29:\n",
    "        return 5.238\n",
    "    elif x == 28:\n",
    "        return 5.372\n",
    "    elif x == 27:\n",
    "        return 5.536\n",
    "    elif x == 26:\n",
    "        return 5.647\n",
    "    elif x == 25:\n",
    "        return 5.742\n",
    "    elif x == 24:\n",
    "        return 5.803\n",
    "    elif x == 25:\n",
    "        return 5.579\n",
    "    elif x == 24:\n",
    "        return 5.264\n",
    "    elif x == 23:\n",
    "        return 5.133\n",
    "    elif x == 22:\n",
    "        return 4.929\n",
    "    elif x == 21:\n",
    "        return 4.672\n",
    "    elif x == 20:\n",
    "        return 4.467\n",
    "    elif x == 19:\n",
    "        return 4.447\n",
    "    elif x == 18:\n",
    "        return 4.39\n",
    "    elif x == 17:\n",
    "        return 4.411\n",
    "    elif x == 16:\n",
    "        return 4.473\n",
    "    elif x == 15:\n",
    "        return 4.535\n",
    "    elif x == 14:\n",
    "        return 4.531\n",
    "    elif x == 13:\n",
    "        return 4.57\n",
    "    elif x == 12:\n",
    "        return 4.403\n",
    "    elif x == 11:\n",
    "        return 3.921\n",
    "    elif x == 10:\n",
    "        return 3.722\n",
    "    elif x == 9:\n",
    "        return 3.681\n",
    "    elif x == 8:\n",
    "        return 3.62\n",
    "    elif x == 7:\n",
    "        return 3.514\n",
    "    elif x == 6:\n",
    "        return 3.444\n",
    "    elif x == 5:\n",
    "        return 3.404\n",
    "    elif x == 4:\n",
    "        return 3.457\n",
    "    elif x == 3:\n",
    "        return 3.32\n",
    "    elif x == 2:\n",
    "        return 3.34\n",
    "    else:\n",
    "        return 3.30\n",
    "df_new['Weekly Gas Price'] = df_new['Week'].apply(func)"
   ]
  },
  {
   "cell_type": "code",
   "execution_count": 18,
   "id": "b8ee09f2",
   "metadata": {},
   "outputs": [],
   "source": [
    "df_new = df_new[(df_new.fare_dollars < 120)\n",
    "               ]"
   ]
  },
  {
   "cell_type": "code",
   "execution_count": 19,
   "id": "d6b9d3e1",
   "metadata": {},
   "outputs": [
    {
     "name": "stdout",
     "output_type": "stream",
     "text": [
      "<class 'pandas.core.frame.DataFrame'>\n",
      "Index: 3953801 entries, 0 to 3954635\n",
      "Data columns (total 22 columns):\n",
      " #   Column             Dtype  \n",
      "---  ------             -----  \n",
      " 0   trip_miles         float64\n",
      " 1   payment_type       object \n",
      " 2   company            object \n",
      " 3   pickup_latitude    float64\n",
      " 4   pickup_longitude   float64\n",
      " 5   dropoff_latitude   float64\n",
      " 6   dropoff_longitude  float64\n",
      " 7   fare_dollars       float64\n",
      " 8   month              int64  \n",
      " 9   day                int64  \n",
      " 10  hour               int64  \n",
      " 11  weekday            object \n",
      " 12  dropoff_area       object \n",
      " 13  pick_up_area       object \n",
      " 14  trip_minutes       float64\n",
      " 15  Week               int64  \n",
      " 16  Is Raining         int64  \n",
      " 17  Is Snow Day        int64  \n",
      " 18  Is Windy (Speed)   int64  \n",
      " 19  Is Windy (Gust)    int64  \n",
      " 20  Is Holiday         int64  \n",
      " 21  Weekly Gas Price   float64\n",
      "dtypes: float64(8), int64(9), object(5)\n",
      "memory usage: 693.8+ MB\n"
     ]
    }
   ],
   "source": [
    "df_new.info()"
   ]
  },
  {
   "cell_type": "markdown",
   "id": "94239c88",
   "metadata": {},
   "source": [
    "## Modeling"
   ]
  },
  {
   "cell_type": "markdown",
   "id": "51b35508",
   "metadata": {},
   "source": [
    "### Preprocessing\n",
    "\n",
    "- Before we do modeling, we need to decide which variables to keep and which ones to drop. We will mainly first drop variables that won't be useful in the model. Since we are wanting to deploy our model on the web to be used by users to make better trip decisions, we want to drop any variables that aren't accounted for and are not known until the actual trip. These variables are:\n",
    "    - 1. pickup longitude\n",
    "    - 2. pickup latitude\n",
    "    - 3. dropoff latitude\n",
    "    - 4. dropoff longitude\n",
    "    - 5. Is Raining\n",
    "    - 6. Is Windy (Gust)\n",
    "    - 7. Is Windy (Speed)\n",
    "- We are removing some weather variables as most variables don't have an effect at all on fare rate except for if it is a snow  day or not.\n",
    "\n",
    "- After than we will get rid of any non-relevant variables and also consider removing variables from model depending on if issues exist such as large multicollinearity between variables."
   ]
  },
  {
   "cell_type": "markdown",
   "id": "d02cbe82",
   "metadata": {},
   "source": [
    "**Removal of non-important variables and encoding categorical features**"
   ]
  },
  {
   "cell_type": "code",
   "execution_count": 20,
   "id": "40faab89",
   "metadata": {},
   "outputs": [],
   "source": [
    "df_model = df_new.drop(['pickup_longitude','pickup_latitude','dropoff_latitude','dropoff_longitude', 'Is Raining', 'Is Windy (Gust)', 'Is Windy (Speed)'],axis=1)"
   ]
  },
  {
   "cell_type": "code",
   "execution_count": 21,
   "id": "563394e0",
   "metadata": {},
   "outputs": [
    {
     "data": {
      "text/html": [
       "<div>\n",
       "<style scoped>\n",
       "    .dataframe tbody tr th:only-of-type {\n",
       "        vertical-align: middle;\n",
       "    }\n",
       "\n",
       "    .dataframe tbody tr th {\n",
       "        vertical-align: top;\n",
       "    }\n",
       "\n",
       "    .dataframe thead th {\n",
       "        text-align: right;\n",
       "    }\n",
       "</style>\n",
       "<table border=\"1\" class=\"dataframe\">\n",
       "  <thead>\n",
       "    <tr style=\"text-align: right;\">\n",
       "      <th></th>\n",
       "      <th>trip_miles</th>\n",
       "      <th>payment_type</th>\n",
       "      <th>company</th>\n",
       "      <th>fare_dollars</th>\n",
       "      <th>month</th>\n",
       "      <th>day</th>\n",
       "      <th>hour</th>\n",
       "      <th>weekday</th>\n",
       "      <th>dropoff_area</th>\n",
       "      <th>pick_up_area</th>\n",
       "      <th>trip_minutes</th>\n",
       "      <th>Week</th>\n",
       "      <th>Is Snow Day</th>\n",
       "      <th>Is Holiday</th>\n",
       "      <th>Weekly Gas Price</th>\n",
       "    </tr>\n",
       "  </thead>\n",
       "  <tbody>\n",
       "    <tr>\n",
       "      <th>0</th>\n",
       "      <td>4.24</td>\n",
       "      <td>Mobile</td>\n",
       "      <td>Flash Cab</td>\n",
       "      <td>13.10</td>\n",
       "      <td>6</td>\n",
       "      <td>13</td>\n",
       "      <td>16</td>\n",
       "      <td>Mon</td>\n",
       "      <td>Navy Pier Area</td>\n",
       "      <td>UIC</td>\n",
       "      <td>19.150000</td>\n",
       "      <td>24</td>\n",
       "      <td>0</td>\n",
       "      <td>0</td>\n",
       "      <td>5.803</td>\n",
       "    </tr>\n",
       "    <tr>\n",
       "      <th>1</th>\n",
       "      <td>0.92</td>\n",
       "      <td>Credit Card</td>\n",
       "      <td>Sun Taxi</td>\n",
       "      <td>6.25</td>\n",
       "      <td>6</td>\n",
       "      <td>13</td>\n",
       "      <td>16</td>\n",
       "      <td>Mon</td>\n",
       "      <td>Soldier Field/Grant Park</td>\n",
       "      <td>Navy Pier Area</td>\n",
       "      <td>6.800000</td>\n",
       "      <td>24</td>\n",
       "      <td>0</td>\n",
       "      <td>0</td>\n",
       "      <td>5.803</td>\n",
       "    </tr>\n",
       "    <tr>\n",
       "      <th>2</th>\n",
       "      <td>12.17</td>\n",
       "      <td>Credit Card</td>\n",
       "      <td>Flash Cab</td>\n",
       "      <td>33.50</td>\n",
       "      <td>6</td>\n",
       "      <td>13</td>\n",
       "      <td>16</td>\n",
       "      <td>Mon</td>\n",
       "      <td>ORD Airport</td>\n",
       "      <td>East Lincolnwood/Wrigley</td>\n",
       "      <td>40.466667</td>\n",
       "      <td>24</td>\n",
       "      <td>0</td>\n",
       "      <td>0</td>\n",
       "      <td>5.803</td>\n",
       "    </tr>\n",
       "    <tr>\n",
       "      <th>3</th>\n",
       "      <td>1.18</td>\n",
       "      <td>Credit Card</td>\n",
       "      <td>Medallion Leasin</td>\n",
       "      <td>8.75</td>\n",
       "      <td>6</td>\n",
       "      <td>13</td>\n",
       "      <td>16</td>\n",
       "      <td>Mon</td>\n",
       "      <td>Navy Pier Area</td>\n",
       "      <td>Navy Pier Area</td>\n",
       "      <td>13.950000</td>\n",
       "      <td>24</td>\n",
       "      <td>0</td>\n",
       "      <td>0</td>\n",
       "      <td>5.803</td>\n",
       "    </tr>\n",
       "    <tr>\n",
       "      <th>4</th>\n",
       "      <td>3.34</td>\n",
       "      <td>Mobile</td>\n",
       "      <td>Sun Taxi</td>\n",
       "      <td>13.28</td>\n",
       "      <td>6</td>\n",
       "      <td>13</td>\n",
       "      <td>16</td>\n",
       "      <td>Mon</td>\n",
       "      <td>East Lincolnwood/Wrigley</td>\n",
       "      <td>Humboldt Park Area</td>\n",
       "      <td>19.216667</td>\n",
       "      <td>24</td>\n",
       "      <td>0</td>\n",
       "      <td>0</td>\n",
       "      <td>5.803</td>\n",
       "    </tr>\n",
       "  </tbody>\n",
       "</table>\n",
       "</div>"
      ],
      "text/plain": [
       "   trip_miles payment_type           company  fare_dollars  month  day  hour   \n",
       "0        4.24       Mobile         Flash Cab         13.10      6   13    16  \\\n",
       "1        0.92  Credit Card          Sun Taxi          6.25      6   13    16   \n",
       "2       12.17  Credit Card         Flash Cab         33.50      6   13    16   \n",
       "3        1.18  Credit Card  Medallion Leasin          8.75      6   13    16   \n",
       "4        3.34       Mobile          Sun Taxi         13.28      6   13    16   \n",
       "\n",
       "  weekday              dropoff_area              pick_up_area  trip_minutes   \n",
       "0     Mon            Navy Pier Area                       UIC     19.150000  \\\n",
       "1     Mon  Soldier Field/Grant Park            Navy Pier Area      6.800000   \n",
       "2     Mon               ORD Airport  East Lincolnwood/Wrigley     40.466667   \n",
       "3     Mon            Navy Pier Area            Navy Pier Area     13.950000   \n",
       "4     Mon  East Lincolnwood/Wrigley        Humboldt Park Area     19.216667   \n",
       "\n",
       "   Week  Is Snow Day  Is Holiday  Weekly Gas Price  \n",
       "0    24            0           0             5.803  \n",
       "1    24            0           0             5.803  \n",
       "2    24            0           0             5.803  \n",
       "3    24            0           0             5.803  \n",
       "4    24            0           0             5.803  "
      ]
     },
     "execution_count": 21,
     "metadata": {},
     "output_type": "execute_result"
    }
   ],
   "source": [
    "df_model.head()"
   ]
  },
  {
   "cell_type": "markdown",
   "id": "c36383c2",
   "metadata": {},
   "source": [
    "**Dummy variable creation for categorical variables**"
   ]
  },
  {
   "cell_type": "code",
   "execution_count": 22,
   "id": "9050fb51",
   "metadata": {},
   "outputs": [
    {
     "name": "stdout",
     "output_type": "stream",
     "text": [
      "<class 'pandas.core.frame.DataFrame'>\n",
      "Index: 3953801 entries, 0 to 3954635\n",
      "Data columns (total 15 columns):\n",
      " #   Column            Dtype  \n",
      "---  ------            -----  \n",
      " 0   trip_miles        float64\n",
      " 1   payment_type      object \n",
      " 2   company           object \n",
      " 3   fare_dollars      float64\n",
      " 4   month             int64  \n",
      " 5   day               int64  \n",
      " 6   hour              int64  \n",
      " 7   weekday           object \n",
      " 8   dropoff_area      object \n",
      " 9   pick_up_area      object \n",
      " 10  trip_minutes      float64\n",
      " 11  Week              int64  \n",
      " 12  Is Snow Day       int64  \n",
      " 13  Is Holiday        int64  \n",
      " 14  Weekly Gas Price  float64\n",
      "dtypes: float64(4), int64(6), object(5)\n",
      "memory usage: 482.6+ MB\n"
     ]
    }
   ],
   "source": [
    "df_model.info()"
   ]
  },
  {
   "cell_type": "markdown",
   "id": "74ba4128",
   "metadata": {},
   "source": [
    "**Converting Categorical Variables using Label Encoding**"
   ]
  },
  {
   "cell_type": "code",
   "execution_count": 23,
   "id": "d249d087",
   "metadata": {},
   "outputs": [],
   "source": [
    "# Including wind, and company variables\n",
    "le = preprocessing.LabelEncoder()\n",
    "df_model['weekday'] = le.fit_transform(df_model['weekday'])\n",
    "df_model['company'] = le.fit_transform(df_model['company'])\n",
    "df_model['pick_up_area'] = le.fit_transform(df_model['pick_up_area'])\n",
    "df_model['dropoff_area'] = le.fit_transform(df_model['dropoff_area'])"
   ]
  },
  {
   "cell_type": "code",
   "execution_count": 24,
   "id": "7c5ede1f",
   "metadata": {},
   "outputs": [
    {
     "data": {
      "text/html": [
       "<div>\n",
       "<style scoped>\n",
       "    .dataframe tbody tr th:only-of-type {\n",
       "        vertical-align: middle;\n",
       "    }\n",
       "\n",
       "    .dataframe tbody tr th {\n",
       "        vertical-align: top;\n",
       "    }\n",
       "\n",
       "    .dataframe thead th {\n",
       "        text-align: right;\n",
       "    }\n",
       "</style>\n",
       "<table border=\"1\" class=\"dataframe\">\n",
       "  <thead>\n",
       "    <tr style=\"text-align: right;\">\n",
       "      <th></th>\n",
       "      <th>trip_miles</th>\n",
       "      <th>payment_type</th>\n",
       "      <th>company</th>\n",
       "      <th>fare_dollars</th>\n",
       "      <th>month</th>\n",
       "      <th>day</th>\n",
       "      <th>hour</th>\n",
       "      <th>weekday</th>\n",
       "      <th>dropoff_area</th>\n",
       "      <th>pick_up_area</th>\n",
       "      <th>trip_minutes</th>\n",
       "      <th>Week</th>\n",
       "      <th>Is Snow Day</th>\n",
       "      <th>Is Holiday</th>\n",
       "      <th>Weekly Gas Price</th>\n",
       "    </tr>\n",
       "  </thead>\n",
       "  <tbody>\n",
       "    <tr>\n",
       "      <th>0</th>\n",
       "      <td>4.24</td>\n",
       "      <td>Mobile</td>\n",
       "      <td>16</td>\n",
       "      <td>13.10</td>\n",
       "      <td>6</td>\n",
       "      <td>13</td>\n",
       "      <td>16</td>\n",
       "      <td>1</td>\n",
       "      <td>16</td>\n",
       "      <td>20</td>\n",
       "      <td>19.150000</td>\n",
       "      <td>24</td>\n",
       "      <td>0</td>\n",
       "      <td>0</td>\n",
       "      <td>5.803</td>\n",
       "    </tr>\n",
       "    <tr>\n",
       "      <th>1</th>\n",
       "      <td>0.92</td>\n",
       "      <td>Credit Card</td>\n",
       "      <td>27</td>\n",
       "      <td>6.25</td>\n",
       "      <td>6</td>\n",
       "      <td>13</td>\n",
       "      <td>16</td>\n",
       "      <td>1</td>\n",
       "      <td>18</td>\n",
       "      <td>16</td>\n",
       "      <td>6.800000</td>\n",
       "      <td>24</td>\n",
       "      <td>0</td>\n",
       "      <td>0</td>\n",
       "      <td>5.803</td>\n",
       "    </tr>\n",
       "    <tr>\n",
       "      <th>2</th>\n",
       "      <td>12.17</td>\n",
       "      <td>Credit Card</td>\n",
       "      <td>16</td>\n",
       "      <td>33.50</td>\n",
       "      <td>6</td>\n",
       "      <td>13</td>\n",
       "      <td>16</td>\n",
       "      <td>1</td>\n",
       "      <td>17</td>\n",
       "      <td>5</td>\n",
       "      <td>40.466667</td>\n",
       "      <td>24</td>\n",
       "      <td>0</td>\n",
       "      <td>0</td>\n",
       "      <td>5.803</td>\n",
       "    </tr>\n",
       "    <tr>\n",
       "      <th>3</th>\n",
       "      <td>1.18</td>\n",
       "      <td>Credit Card</td>\n",
       "      <td>21</td>\n",
       "      <td>8.75</td>\n",
       "      <td>6</td>\n",
       "      <td>13</td>\n",
       "      <td>16</td>\n",
       "      <td>1</td>\n",
       "      <td>16</td>\n",
       "      <td>16</td>\n",
       "      <td>13.950000</td>\n",
       "      <td>24</td>\n",
       "      <td>0</td>\n",
       "      <td>0</td>\n",
       "      <td>5.803</td>\n",
       "    </tr>\n",
       "    <tr>\n",
       "      <th>4</th>\n",
       "      <td>3.34</td>\n",
       "      <td>Mobile</td>\n",
       "      <td>27</td>\n",
       "      <td>13.28</td>\n",
       "      <td>6</td>\n",
       "      <td>13</td>\n",
       "      <td>16</td>\n",
       "      <td>1</td>\n",
       "      <td>5</td>\n",
       "      <td>11</td>\n",
       "      <td>19.216667</td>\n",
       "      <td>24</td>\n",
       "      <td>0</td>\n",
       "      <td>0</td>\n",
       "      <td>5.803</td>\n",
       "    </tr>\n",
       "    <tr>\n",
       "      <th>...</th>\n",
       "      <td>...</td>\n",
       "      <td>...</td>\n",
       "      <td>...</td>\n",
       "      <td>...</td>\n",
       "      <td>...</td>\n",
       "      <td>...</td>\n",
       "      <td>...</td>\n",
       "      <td>...</td>\n",
       "      <td>...</td>\n",
       "      <td>...</td>\n",
       "      <td>...</td>\n",
       "      <td>...</td>\n",
       "      <td>...</td>\n",
       "      <td>...</td>\n",
       "      <td>...</td>\n",
       "    </tr>\n",
       "    <tr>\n",
       "      <th>9998</th>\n",
       "      <td>1.11</td>\n",
       "      <td>Cash</td>\n",
       "      <td>16</td>\n",
       "      <td>8.25</td>\n",
       "      <td>3</td>\n",
       "      <td>5</td>\n",
       "      <td>14</td>\n",
       "      <td>2</td>\n",
       "      <td>18</td>\n",
       "      <td>16</td>\n",
       "      <td>12.616667</td>\n",
       "      <td>9</td>\n",
       "      <td>0</td>\n",
       "      <td>0</td>\n",
       "      <td>3.681</td>\n",
       "    </tr>\n",
       "    <tr>\n",
       "      <th>9999</th>\n",
       "      <td>17.20</td>\n",
       "      <td>Credit Card</td>\n",
       "      <td>27</td>\n",
       "      <td>42.50</td>\n",
       "      <td>3</td>\n",
       "      <td>5</td>\n",
       "      <td>14</td>\n",
       "      <td>2</td>\n",
       "      <td>17</td>\n",
       "      <td>18</td>\n",
       "      <td>31.000000</td>\n",
       "      <td>9</td>\n",
       "      <td>0</td>\n",
       "      <td>0</td>\n",
       "      <td>3.681</td>\n",
       "    </tr>\n",
       "    <tr>\n",
       "      <th>10000</th>\n",
       "      <td>1.13</td>\n",
       "      <td>Mobile</td>\n",
       "      <td>27</td>\n",
       "      <td>8.00</td>\n",
       "      <td>3</td>\n",
       "      <td>5</td>\n",
       "      <td>14</td>\n",
       "      <td>2</td>\n",
       "      <td>18</td>\n",
       "      <td>18</td>\n",
       "      <td>9.783333</td>\n",
       "      <td>9</td>\n",
       "      <td>0</td>\n",
       "      <td>0</td>\n",
       "      <td>3.681</td>\n",
       "    </tr>\n",
       "    <tr>\n",
       "      <th>10001</th>\n",
       "      <td>2.50</td>\n",
       "      <td>Credit Card</td>\n",
       "      <td>28</td>\n",
       "      <td>9.50</td>\n",
       "      <td>3</td>\n",
       "      <td>5</td>\n",
       "      <td>14</td>\n",
       "      <td>2</td>\n",
       "      <td>18</td>\n",
       "      <td>18</td>\n",
       "      <td>9.000000</td>\n",
       "      <td>9</td>\n",
       "      <td>0</td>\n",
       "      <td>0</td>\n",
       "      <td>3.681</td>\n",
       "    </tr>\n",
       "    <tr>\n",
       "      <th>10002</th>\n",
       "      <td>1.20</td>\n",
       "      <td>Mobile</td>\n",
       "      <td>17</td>\n",
       "      <td>8.00</td>\n",
       "      <td>3</td>\n",
       "      <td>5</td>\n",
       "      <td>14</td>\n",
       "      <td>2</td>\n",
       "      <td>16</td>\n",
       "      <td>18</td>\n",
       "      <td>11.000000</td>\n",
       "      <td>9</td>\n",
       "      <td>0</td>\n",
       "      <td>0</td>\n",
       "      <td>3.681</td>\n",
       "    </tr>\n",
       "  </tbody>\n",
       "</table>\n",
       "<p>10000 rows × 15 columns</p>\n",
       "</div>"
      ],
      "text/plain": [
       "       trip_miles payment_type  company  fare_dollars  month  day  hour   \n",
       "0            4.24       Mobile       16         13.10      6   13    16  \\\n",
       "1            0.92  Credit Card       27          6.25      6   13    16   \n",
       "2           12.17  Credit Card       16         33.50      6   13    16   \n",
       "3            1.18  Credit Card       21          8.75      6   13    16   \n",
       "4            3.34       Mobile       27         13.28      6   13    16   \n",
       "...           ...          ...      ...           ...    ...  ...   ...   \n",
       "9998         1.11         Cash       16          8.25      3    5    14   \n",
       "9999        17.20  Credit Card       27         42.50      3    5    14   \n",
       "10000        1.13       Mobile       27          8.00      3    5    14   \n",
       "10001        2.50  Credit Card       28          9.50      3    5    14   \n",
       "10002        1.20       Mobile       17          8.00      3    5    14   \n",
       "\n",
       "       weekday  dropoff_area  pick_up_area  trip_minutes  Week  Is Snow Day   \n",
       "0            1            16            20     19.150000    24            0  \\\n",
       "1            1            18            16      6.800000    24            0   \n",
       "2            1            17             5     40.466667    24            0   \n",
       "3            1            16            16     13.950000    24            0   \n",
       "4            1             5            11     19.216667    24            0   \n",
       "...        ...           ...           ...           ...   ...          ...   \n",
       "9998         2            18            16     12.616667     9            0   \n",
       "9999         2            17            18     31.000000     9            0   \n",
       "10000        2            18            18      9.783333     9            0   \n",
       "10001        2            18            18      9.000000     9            0   \n",
       "10002        2            16            18     11.000000     9            0   \n",
       "\n",
       "       Is Holiday  Weekly Gas Price  \n",
       "0               0             5.803  \n",
       "1               0             5.803  \n",
       "2               0             5.803  \n",
       "3               0             5.803  \n",
       "4               0             5.803  \n",
       "...           ...               ...  \n",
       "9998            0             3.681  \n",
       "9999            0             3.681  \n",
       "10000           0             3.681  \n",
       "10001           0             3.681  \n",
       "10002           0             3.681  \n",
       "\n",
       "[10000 rows x 15 columns]"
      ]
     },
     "execution_count": 24,
     "metadata": {},
     "output_type": "execute_result"
    }
   ],
   "source": [
    "df_model.head(10000)"
   ]
  },
  {
   "cell_type": "markdown",
   "id": "f569abfb",
   "metadata": {},
   "source": [
    "#### Check label encodes for dictionary (Used for deployment purposes later)"
   ]
  },
  {
   "cell_type": "code",
   "execution_count": 25,
   "id": "64e312bd",
   "metadata": {},
   "outputs": [
    {
     "data": {
      "text/plain": [
       "weekday\n",
       "0    628448\n",
       "4    622404\n",
       "6    614554\n",
       "5    596975\n",
       "1    547835\n",
       "2    500843\n",
       "3    442742\n",
       "Name: count, dtype: int64"
      ]
     },
     "execution_count": 25,
     "metadata": {},
     "output_type": "execute_result"
    }
   ],
   "source": [
    "df_model['weekday'].value_counts().head(10)"
   ]
  },
  {
   "cell_type": "code",
   "execution_count": 24,
   "id": "ee72aed8",
   "metadata": {},
   "outputs": [
    {
     "data": {
      "text/plain": [
       "16    855107\n",
       "28    804801\n",
       "27    444388\n",
       "15    392422\n",
       "12    208997\n",
       "29    179061\n",
       "21    172540\n",
       "17    161576\n",
       "30    144360\n",
       "26    101068\n",
       "9      99735\n",
       "6      87733\n",
       "14     79086\n",
       "32     59713\n",
       "0      37081\n",
       "33     36356\n",
       "10     18406\n",
       "13     13043\n",
       "23     12214\n",
       "19      8815\n",
       "2       6315\n",
       "25      4812\n",
       "18      3527\n",
       "24      3126\n",
       "22      2936\n",
       "31      2911\n",
       "3       1693\n",
       "8       1151\n",
       "1       1020\n",
       "20       935\n",
       "7        704\n",
       "5        655\n",
       "4         69\n",
       "11         1\n",
       "Name: company, dtype: int64"
      ]
     },
     "execution_count": 24,
     "metadata": {},
     "output_type": "execute_result"
    }
   ],
   "source": [
    "df_model['company'].value_counts().head(45)"
   ]
  },
  {
   "cell_type": "code",
   "execution_count": 25,
   "id": "40350366",
   "metadata": {},
   "outputs": [
    {
     "data": {
      "text/plain": [
       "Flash Cab                               855107\n",
       "Taxi Affiliation Services               804801\n",
       "Sun Taxi                                444388\n",
       "City Service                            392422\n",
       "Chicago Independents                    208997\n",
       "Taxicab Insurance Agency Llc            179061\n",
       "Medallion Leasin                        172540\n",
       "Globe Taxi                              161576\n",
       "Taxicab Insurance Agency, LLC           144360\n",
       "Star North Taxi Management Llc          101068\n",
       "Blue Ribbon Taxi Association             99735\n",
       "5 Star Taxi                              87733\n",
       "Choice Taxi Association                  79086\n",
       "Top Cab Affiliation                      59713\n",
       "24 Seven Taxi                            37081\n",
       "U Taxicab                                36356\n",
       "Blue Ribbon Taxi Association Inc.        18406\n",
       "Chicago Taxicab                          13043\n",
       "Patriot Taxi Dba Peace Taxi Associat     12214\n",
       "Koam Taxi Association                     8815\n",
       "312 Medallion Management Corp             6315\n",
       "Setare Inc                                4812\n",
       "KOAM Taxi Association                     3527\n",
       "Petani Cab Corp                           3126\n",
       "Metro Jet Taxi A.                         2936\n",
       "Top Cab                                   2911\n",
       "3556 - 36214 RC Andrews Cab               1693\n",
       "6574 - Babylon Express Inc.               1151\n",
       "2733 - 74600 Benny Jona                   1020\n",
       "Leonard Cab Co                             935\n",
       "5062 - 34841 Sam Mestas                    704\n",
       "4053 - 40193 Adwar H. Nikola               655\n",
       "3620 - 52292 David K. Cab Corp.             69\n",
       "Chicago Carriage Cab Corp                    1\n",
       "Name: company, dtype: int64"
      ]
     },
     "execution_count": 25,
     "metadata": {},
     "output_type": "execute_result"
    }
   ],
   "source": [
    "df_cleaned['company'].value_counts().head(35)"
   ]
  },
  {
   "cell_type": "code",
   "execution_count": 146,
   "id": "0857282c",
   "metadata": {},
   "outputs": [
    {
     "data": {
      "text/plain": [
       "Fri    626233\n",
       "Thu    620477\n",
       "Wed    613531\n",
       "Tue    595762\n",
       "Mon    547357\n",
       "Sat    500475\n",
       "Sun    442522\n",
       "Name: weekday, dtype: int64"
      ]
     },
     "execution_count": 146,
     "metadata": {},
     "output_type": "execute_result"
    }
   ],
   "source": [
    "df_cleaned['weekday'].value_counts().head(10)"
   ]
  },
  {
   "cell_type": "code",
   "execution_count": 20,
   "id": "8e96860f",
   "metadata": {},
   "outputs": [
    {
     "data": {
      "text/plain": [
       "Navy Pier Area                    992203\n",
       "Soldier Field/Grant Park          700537\n",
       "East Lincolnwood/Wrigley          417662\n",
       "Loyola/Edgewater                  389474\n",
       "UIC                               334579\n",
       "ORD Airport                       253224\n",
       "Humboldt Park Area                220688\n",
       "Grand Boulevard/IIT               122891\n",
       "South Lincolnwood/Norridge        100528\n",
       "MDW Airport                        77606\n",
       "Chatham/Windsor Park Area          71882\n",
       "UOC                                68927\n",
       "Englewood Area                     48579\n",
       "Lawndale/Canalport                 27616\n",
       "Evergreen Park/South Englewood     27433\n",
       "Glendale/New City Area             24143\n",
       "CSU Area                           22136\n",
       "Calumet Park/East Side             14720\n",
       "Garfield Park                       9846\n",
       "Morgan Park Area                    8876\n",
       "Calumet Heights Area                8341\n",
       "Dolton Area                         4466\n",
       "Name: dropoff_area, dtype: int64"
      ]
     },
     "execution_count": 20,
     "metadata": {},
     "output_type": "execute_result"
    }
   ],
   "source": [
    "df_cleaned['dropoff_area'].value_counts().head(25)"
   ]
  },
  {
   "cell_type": "code",
   "execution_count": 23,
   "id": "82bb9464",
   "metadata": {},
   "outputs": [
    {
     "data": {
      "text/plain": [
       "Navy Pier Area                    962957\n",
       "ORD Airport                       854537\n",
       "Soldier Field/Grant Park          760481\n",
       "UIC                               320474\n",
       "East Lincolnwood/Wrigley          297003\n",
       "MDW Airport                       159564\n",
       "Grand Boulevard/IIT               101624\n",
       "Humboldt Park Area                 94509\n",
       "Chatham/Windsor Park Area          64575\n",
       "South Lincolnwood/Norridge         64495\n",
       "UOC                                52142\n",
       "Loyola/Edgewater                   51594\n",
       "Englewood Area                     41835\n",
       "Evergreen Park/South Englewood     24201\n",
       "CSU Area                           19182\n",
       "Calumet Park/East Side             19020\n",
       "Glendale/New City Area             15141\n",
       "Lawndale/Canalport                 13824\n",
       "Morgan Park Area                    8789\n",
       "Calumet Heights Area                7735\n",
       "Dolton Area                         6743\n",
       "Garfield Park                       5932\n",
       "Name: pick_up_area, dtype: int64"
      ]
     },
     "execution_count": 23,
     "metadata": {},
     "output_type": "execute_result"
    }
   ],
   "source": [
    "df_cleaned['pick_up_area'].value_counts()"
   ]
  },
  {
   "cell_type": "code",
   "execution_count": 24,
   "id": "ab6c02ac",
   "metadata": {},
   "outputs": [
    {
     "data": {
      "text/plain": [
       "16    962957\n",
       "17    854537\n",
       "18    760481\n",
       "20    320474\n",
       "5     297003\n",
       "14    159564\n",
       "10    101624\n",
       "11     94509\n",
       "3      64575\n",
       "19     64495\n",
       "21     52142\n",
       "13     51594\n",
       "6      41835\n",
       "7      24201\n",
       "0      19182\n",
       "2      19020\n",
       "9      15141\n",
       "12     13824\n",
       "15      8789\n",
       "1       7735\n",
       "4       6743\n",
       "8       5932\n",
       "Name: pick_up_area, dtype: int64"
      ]
     },
     "execution_count": 24,
     "metadata": {},
     "output_type": "execute_result"
    }
   ],
   "source": [
    "df_model['pick_up_area'].value_counts()"
   ]
  },
  {
   "cell_type": "code",
   "execution_count": 22,
   "id": "0d799846",
   "metadata": {},
   "outputs": [
    {
     "data": {
      "text/plain": [
       "16    992203\n",
       "18    700537\n",
       "5     417662\n",
       "13    389474\n",
       "20    334579\n",
       "17    253224\n",
       "11    220688\n",
       "10    122891\n",
       "19    100528\n",
       "14     77606\n",
       "3      71882\n",
       "21     68927\n",
       "6      48579\n",
       "12     27616\n",
       "7      27433\n",
       "9      24143\n",
       "0      22136\n",
       "2      14720\n",
       "8       9846\n",
       "15      8876\n",
       "1       8341\n",
       "4       4466\n",
       "Name: dropoff_area, dtype: int64"
      ]
     },
     "execution_count": 22,
     "metadata": {},
     "output_type": "execute_result"
    }
   ],
   "source": [
    "df_model['dropoff_area'].value_counts()"
   ]
  },
  {
   "cell_type": "code",
   "execution_count": 26,
   "id": "8c2725fe",
   "metadata": {},
   "outputs": [],
   "source": [
    "# Remove unimportant variables (excluding company and wind)\n",
    "df_model = df_model.drop(['payment_type'],axis=1)"
   ]
  },
  {
   "cell_type": "code",
   "execution_count": 27,
   "id": "66b76384",
   "metadata": {},
   "outputs": [
    {
     "data": {
      "text/plain": [
       "(array([104715., 141652.,  45843., 188065.,  55203.,  62895., 141120.,\n",
       "         67479.,      0.,      0., 112427.,      0., 154638.,  94811.,\n",
       "             0., 356632.,  82409., 245522., 419178., 335051., 314052.,\n",
       "             0., 167772.,      0.,      0.,  84035.,  92101.,      0.,\n",
       "         85548.,  93519.,      0.,  85583.,      0.,  88617.,      0.,\n",
       "         71008.,      0.,  79585.,      0., 184341.]),\n",
       " array([3.251 , 3.3148, 3.3786, 3.4424, 3.5062, 3.57  , 3.6338, 3.6976,\n",
       "        3.7614, 3.8252, 3.889 , 3.9528, 4.0166, 4.0804, 4.1442, 4.208 ,\n",
       "        4.2718, 4.3356, 4.3994, 4.4632, 4.527 , 4.5908, 4.6546, 4.7184,\n",
       "        4.7822, 4.846 , 4.9098, 4.9736, 5.0374, 5.1012, 5.165 , 5.2288,\n",
       "        5.2926, 5.3564, 5.4202, 5.484 , 5.5478, 5.6116, 5.6754, 5.7392,\n",
       "        5.803 ]),\n",
       " <BarContainer object of 40 artists>)"
      ]
     },
     "execution_count": 27,
     "metadata": {},
     "output_type": "execute_result"
    },
    {
     "data": {
      "image/png": "[encoded data removed]",
      "text/plain": [
       "<Figure size 432x288 with 1 Axes>"
      ]
     },
     "metadata": {
      "needs_background": "light"
     },
     "output_type": "display_data"
    }
   ],
   "source": [
    "plt.hist(df_model['Weekly Gas Price'], bins = 40)"
   ]
  },
  {
   "cell_type": "markdown",
   "id": "768d304c",
   "metadata": {},
   "source": [
    "### Train/Test Split"
   ]
  },
  {
   "cell_type": "code",
   "execution_count": 28,
   "id": "94604f9b",
   "metadata": {},
   "outputs": [],
   "source": [
    "# Set up target variable and features\n",
    "target = df_model['fare_dollars']\n",
    "features = df_model[['trip_miles','trip_minutes','company','month','Week','day','hour','weekday','dropoff_area','pick_up_area',\\\n",
    "                   'Is Holiday','Is Snow Day','Weekly Gas Price']]"
   ]
  },
  {
   "cell_type": "code",
   "execution_count": 29,
   "id": "da4b1435",
   "metadata": {},
   "outputs": [],
   "source": [
    "# Split up data into train and test set (Try 80/20 first)\n",
    "train_features, test_features, train_target, test_target = train_test_split(features,\n",
    "                                                                           target,\n",
    "                                                                           test_size=0.2,\n",
    "                                                                           random_state=31)"
   ]
  },
  {
   "cell_type": "code",
   "execution_count": 30,
   "id": "fca5b67d",
   "metadata": {},
   "outputs": [],
   "source": [
    "# Create RMSE variable\n",
    "def rmse(target,predictors):\n",
    "    return sqrt(mean_squared_error(target, predictors))"
   ]
  },
  {
   "cell_type": "markdown",
   "id": "e0dd65de",
   "metadata": {},
   "source": [
    "### Model 1: Linear Regression"
   ]
  },
  {
   "cell_type": "code",
   "execution_count": 31,
   "id": "c469e9be",
   "metadata": {},
   "outputs": [
    {
     "name": "stdout",
     "output_type": "stream",
     "text": [
      "Train R^2: 0.8592961813408254\n",
      "Test R^2: 0.8572320626159333\n",
      "Train RMSE: 5.873849002271189\n",
      "Test RMSE: 5.910194343703643\n"
     ]
    }
   ],
   "source": [
    "LR = LinearRegression()\n",
    "LR = LR.fit(train_features,train_target)\n",
    "y_pred_test = LR.predict(test_features)\n",
    "y_pred_train = LR.predict(train_features)\n",
    "print(\"Train R^2:\", LR.score(train_features,train_target))\n",
    "print(\"Test R^2:\", LR.score(test_features,test_target))\n",
    "print(\"Train RMSE:\",rmse(train_target,y_pred_train))\n",
    "print(\"Test RMSE:\",rmse(test_target,y_pred_test))"
   ]
  },
  {
   "cell_type": "markdown",
   "id": "b7f5b99a",
   "metadata": {},
   "source": [
    "While there is a tiny bit of overfitting here, the difference is not too bad as they are almost the same. We should check model diagnostics first to see if linear regression is the best model to use in our scenario."
   ]
  },
  {
   "cell_type": "code",
   "execution_count": 32,
   "id": "ec8904f6",
   "metadata": {},
   "outputs": [],
   "source": [
    "prediction = LR.predict(test_features)\n",
    "residual = (test_target - prediction)"
   ]
  },
  {
   "cell_type": "code",
   "execution_count": 33,
   "id": "336d3a2e",
   "metadata": {},
   "outputs": [
    {
     "data": {
      "text/plain": [
       "(1452731    10.75\n",
       " 3012462     6.50\n",
       " 551804     45.50\n",
       " 1515134    48.50\n",
       " 766969     30.00\n",
       "            ...  \n",
       " 2409398    62.00\n",
       " 978674      4.75\n",
       " 2793108    27.50\n",
       " 1130817     8.00\n",
       " 1685606    16.00\n",
       " Name: fare_dollars, Length: 790761, dtype: float64,\n",
       " array([13.43278631,  9.08801572, 45.23502407, ..., 26.51810617,\n",
       "         9.72427001, 19.5793801 ]))"
      ]
     },
     "execution_count": 33,
     "metadata": {},
     "output_type": "execute_result"
    }
   ],
   "source": [
    "df_res = (test_target,prediction)\n",
    "df_res"
   ]
  },
  {
   "cell_type": "code",
   "execution_count": 34,
   "id": "f65e94d9",
   "metadata": {},
   "outputs": [
    {
     "data": {
      "text/plain": [
       "<matplotlib.collections.PathCollection at 0x2e6abac8250>"
      ]
     },
     "execution_count": 34,
     "metadata": {},
     "output_type": "execute_result"
    },
    {
     "data": {
      "image/png": "[encoded data removed]",
      "text/plain": [
       "<Figure size 432x288 with 1 Axes>"
      ]
     },
     "metadata": {
      "needs_background": "light"
     },
     "output_type": "display_data"
    }
   ],
   "source": [
    "plt.scatter(prediction,residual)"
   ]
  },
  {
   "cell_type": "code",
   "execution_count": 35,
   "id": "bce0fd7a",
   "metadata": {},
   "outputs": [
    {
     "name": "stderr",
     "output_type": "stream",
     "text": [
      "C:\\Users\\JCCLI\\AppData\\Local\\Temp\\ipykernel_8188\\1108040850.py:1: UserWarning: \n",
      "\n",
      "`distplot` is a deprecated function and will be removed in seaborn v0.14.0.\n",
      "\n",
      "Please adapt your code to use either `displot` (a figure-level function with\n",
      "similar flexibility) or `histplot` (an axes-level function for histograms).\n",
      "\n",
      "For a guide to updating your code to use the new functions, please see\n",
      "https://gist.github.com/mwaskom/de44147ed2974457ad6372750bbe5751\n",
      "\n",
      "  sns.distplot(residual)\n"
     ]
    },
    {
     "data": {
      "text/plain": [
       "<Axes: xlabel='fare_dollars', ylabel='Density'>"
      ]
     },
     "execution_count": 35,
     "metadata": {},
     "output_type": "execute_result"
    },
    {
     "data": {
      "image/png": "[encoded data removed]",
      "text/plain": [
       "<Figure size 432x288 with 1 Axes>"
      ]
     },
     "metadata": {
      "needs_background": "light"
     },
     "output_type": "display_data"
    }
   ],
   "source": [
    "sns.distplot(residual)"
   ]
  },
  {
   "cell_type": "code",
   "execution_count": 38,
   "id": "66cda3d9",
   "metadata": {},
   "outputs": [],
   "source": [
    "# Check VIF to determine multicollinearity \n",
    "from statsmodels.stats.outliers_influence import variance_inflation_factor"
   ]
  },
  {
   "cell_type": "code",
   "execution_count": 37,
   "id": "72404b95",
   "metadata": {},
   "outputs": [
    {
     "name": "stdout",
     "output_type": "stream",
     "text": [
      "Collecting statsmodelsNote: you may need to restart the kernel to use updated packages.\n",
      "\n",
      "  Using cached statsmodels-0.13.5-cp39-cp39-win_amd64.whl (9.2 MB)\n",
      "Collecting patsy>=0.5.2\n",
      "  Using cached patsy-0.5.3-py2.py3-none-any.whl (233 kB)\n",
      "Requirement already satisfied: numpy>=1.17 in c:\\users\\jccli\\miniconda3\\lib\\site-packages (from statsmodels) (1.24.2)\n",
      "Requirement already satisfied: scipy>=1.3 in c:\\users\\jccli\\miniconda3\\lib\\site-packages (from statsmodels) (1.10.1)\n",
      "Requirement already satisfied: packaging>=21.3 in c:\\users\\jccli\\miniconda3\\lib\\site-packages (from statsmodels) (21.3)\n",
      "Requirement already satisfied: pandas>=0.25 in c:\\users\\jccli\\miniconda3\\lib\\site-packages (from statsmodels) (2.0.0)\n",
      "Requirement already satisfied: pyparsing!=3.0.5,>=2.0.2 in c:\\users\\jccli\\miniconda3\\lib\\site-packages (from packaging>=21.3->statsmodels) (3.0.4)\n",
      "Requirement already satisfied: tzdata>=2022.1 in c:\\users\\jccli\\miniconda3\\lib\\site-packages (from pandas>=0.25->statsmodels) (2023.3)\n",
      "Requirement already satisfied: pytz>=2020.1 in c:\\users\\jccli\\miniconda3\\lib\\site-packages (from pandas>=0.25->statsmodels) (2023.3)\n",
      "Requirement already satisfied: python-dateutil>=2.8.2 in c:\\users\\jccli\\miniconda3\\lib\\site-packages (from pandas>=0.25->statsmodels) (2.8.2)\n",
      "Requirement already satisfied: six in c:\\users\\jccli\\miniconda3\\lib\\site-packages (from patsy>=0.5.2->statsmodels) (1.16.0)\n",
      "Installing collected packages: patsy, statsmodels\n",
      "Successfully installed patsy-0.5.3 statsmodels-0.13.5\n"
     ]
    }
   ],
   "source": [
    "pip install statsmodels"
   ]
  },
  {
   "cell_type": "code",
   "execution_count": 39,
   "id": "66dfdbdc",
   "metadata": {},
   "outputs": [],
   "source": [
    "X_Variables = df_model[['trip_miles','trip_minutes','Weekly Gas Price']] "
   ]
  },
  {
   "cell_type": "code",
   "execution_count": 40,
   "id": "774ec61f",
   "metadata": {},
   "outputs": [],
   "source": [
    "vif_data = pd.DataFrame()\n",
    "vif_data[\"feature\"] = X_Variables.columns\n",
    "vif_data[\"VIF\"] = [variance_inflation_factor(X_Variables.values, i) for i in range(len(X_Variables.columns))]"
   ]
  },
  {
   "cell_type": "code",
   "execution_count": 41,
   "id": "6053ff00",
   "metadata": {},
   "outputs": [
    {
     "data": {
      "text/html": [
       "<div>\n",
       "<style scoped>\n",
       "    .dataframe tbody tr th:only-of-type {\n",
       "        vertical-align: middle;\n",
       "    }\n",
       "\n",
       "    .dataframe tbody tr th {\n",
       "        vertical-align: top;\n",
       "    }\n",
       "\n",
       "    .dataframe thead th {\n",
       "        text-align: right;\n",
       "    }\n",
       "</style>\n",
       "<table border=\"1\" class=\"dataframe\">\n",
       "  <thead>\n",
       "    <tr style=\"text-align: right;\">\n",
       "      <th></th>\n",
       "      <th>feature</th>\n",
       "      <th>VIF</th>\n",
       "    </tr>\n",
       "  </thead>\n",
       "  <tbody>\n",
       "    <tr>\n",
       "      <th>0</th>\n",
       "      <td>trip_miles</td>\n",
       "      <td>4.167029</td>\n",
       "    </tr>\n",
       "    <tr>\n",
       "      <th>1</th>\n",
       "      <td>trip_minutes</td>\n",
       "      <td>6.240675</td>\n",
       "    </tr>\n",
       "    <tr>\n",
       "      <th>2</th>\n",
       "      <td>Weekly Gas Price</td>\n",
       "      <td>3.410655</td>\n",
       "    </tr>\n",
       "  </tbody>\n",
       "</table>\n",
       "</div>"
      ],
      "text/plain": [
       "            feature       VIF\n",
       "0        trip_miles  4.167029\n",
       "1      trip_minutes  6.240675\n",
       "2  Weekly Gas Price  3.410655"
      ]
     },
     "execution_count": 41,
     "metadata": {},
     "output_type": "execute_result"
    }
   ],
   "source": [
    "vif_data"
   ]
  },
  {
   "cell_type": "markdown",
   "id": "fade7543",
   "metadata": {},
   "source": [
    "Nothing that alarming. There is a VIF greater than 5 for trip minutes but it isn't that big of a deal since it's only about 6 and it's at least below 10 since then it would be more of an issue."
   ]
  },
  {
   "cell_type": "markdown",
   "id": "07afd6ff",
   "metadata": {},
   "source": [
    "**Model 1: Transformations**\n",
    "\n",
    "If we are going to try using linear regression, let's compare our results if we square root transform our response and some of the predictors"
   ]
  },
  {
   "cell_type": "code",
   "execution_count": 42,
   "id": "930d7469",
   "metadata": {},
   "outputs": [],
   "source": [
    "df_model['trip_miles_sqrt'] = np.sqrt(df_model.trip_miles)"
   ]
  },
  {
   "cell_type": "code",
   "execution_count": 43,
   "id": "89a2b6cf",
   "metadata": {},
   "outputs": [],
   "source": [
    "df_model['trip_minutes_sqrt'] = np.sqrt(df_model.trip_minutes)"
   ]
  },
  {
   "cell_type": "code",
   "execution_count": 44,
   "id": "e64c8327",
   "metadata": {},
   "outputs": [],
   "source": [
    "target_sqrt = np.sqrt(df_model.fare_dollars)"
   ]
  },
  {
   "cell_type": "code",
   "execution_count": 45,
   "id": "72138cc0",
   "metadata": {},
   "outputs": [
    {
     "name": "stderr",
     "output_type": "stream",
     "text": [
      "C:\\Users\\JCCLI\\AppData\\Local\\Temp\\ipykernel_8188\\4040702826.py:1: UserWarning: \n",
      "\n",
      "`distplot` is a deprecated function and will be removed in seaborn v0.14.0.\n",
      "\n",
      "Please adapt your code to use either `displot` (a figure-level function with\n",
      "similar flexibility) or `histplot` (an axes-level function for histograms).\n",
      "\n",
      "For a guide to updating your code to use the new functions, please see\n",
      "https://gist.github.com/mwaskom/de44147ed2974457ad6372750bbe5751\n",
      "\n",
      "  sns.distplot(df_model['trip_miles_sqrt'])\n"
     ]
    },
    {
     "data": {
      "text/plain": [
       "<Axes: xlabel='trip_miles_sqrt', ylabel='Density'>"
      ]
     },
     "execution_count": 45,
     "metadata": {},
     "output_type": "execute_result"
    },
    {
     "data": {
      "image/png": "[encoded data removed]",
      "text/plain": [
       "<Figure size 432x288 with 1 Axes>"
      ]
     },
     "metadata": {
      "needs_background": "light"
     },
     "output_type": "display_data"
    }
   ],
   "source": [
    "sns.distplot(df_model['trip_miles_sqrt'])"
   ]
  },
  {
   "cell_type": "code",
   "execution_count": 46,
   "id": "d78f8052",
   "metadata": {},
   "outputs": [
    {
     "name": "stderr",
     "output_type": "stream",
     "text": [
      "C:\\Users\\JCCLI\\AppData\\Local\\Temp\\ipykernel_8188\\1656584234.py:1: UserWarning: \n",
      "\n",
      "`distplot` is a deprecated function and will be removed in seaborn v0.14.0.\n",
      "\n",
      "Please adapt your code to use either `displot` (a figure-level function with\n",
      "similar flexibility) or `histplot` (an axes-level function for histograms).\n",
      "\n",
      "For a guide to updating your code to use the new functions, please see\n",
      "https://gist.github.com/mwaskom/de44147ed2974457ad6372750bbe5751\n",
      "\n",
      "  sns.distplot(df_model['trip_minutes_sqrt'])\n"
     ]
    },
    {
     "data": {
      "text/plain": [
       "<Axes: xlabel='trip_minutes_sqrt', ylabel='Density'>"
      ]
     },
     "execution_count": 46,
     "metadata": {},
     "output_type": "execute_result"
    },
    {
     "data": {
      "image/png": "[encoded data removed]",
      "text/plain": [
       "<Figure size 432x288 with 1 Axes>"
      ]
     },
     "metadata": {
      "needs_background": "light"
     },
     "output_type": "display_data"
    }
   ],
   "source": [
    "sns.distplot(df_model['trip_minutes_sqrt'])"
   ]
  },
  {
   "cell_type": "code",
   "execution_count": 47,
   "id": "4ca71073",
   "metadata": {},
   "outputs": [
    {
     "name": "stderr",
     "output_type": "stream",
     "text": [
      "C:\\Users\\JCCLI\\AppData\\Local\\Temp\\ipykernel_8188\\171246675.py:1: UserWarning: \n",
      "\n",
      "`distplot` is a deprecated function and will be removed in seaborn v0.14.0.\n",
      "\n",
      "Please adapt your code to use either `displot` (a figure-level function with\n",
      "similar flexibility) or `histplot` (an axes-level function for histograms).\n",
      "\n",
      "For a guide to updating your code to use the new functions, please see\n",
      "https://gist.github.com/mwaskom/de44147ed2974457ad6372750bbe5751\n",
      "\n",
      "  sns.distplot(target_sqrt)\n"
     ]
    },
    {
     "data": {
      "text/plain": [
       "<Axes: xlabel='fare_dollars', ylabel='Density'>"
      ]
     },
     "execution_count": 47,
     "metadata": {},
     "output_type": "execute_result"
    },
    {
     "data": {
      "image/png": "[encoded data removed]",
      "text/plain": [
       "<Figure size 432x288 with 1 Axes>"
      ]
     },
     "metadata": {
      "needs_background": "light"
     },
     "output_type": "display_data"
    }
   ],
   "source": [
    "sns.distplot(target_sqrt)"
   ]
  },
  {
   "cell_type": "code",
   "execution_count": 48,
   "id": "051872a4",
   "metadata": {},
   "outputs": [],
   "source": [
    " features_trans = df_model[['trip_miles_sqrt','trip_minutes_sqrt','company','month','Week','day','hour','weekday','dropoff_area','pick_up_area',\\\n",
    "                   'Is Holiday','Is Snow Day', 'Weekly Gas Price']]"
   ]
  },
  {
   "cell_type": "code",
   "execution_count": 49,
   "id": "4e94e815",
   "metadata": {},
   "outputs": [],
   "source": [
    "train_features_trans, test_features_trans, train_target_trans, test_target_trans = train_test_split(features_trans,\n",
    "                                                                           target_sqrt,\n",
    "                                                                           test_size=0.2,\n",
    "                                                                           random_state=41)"
   ]
  },
  {
   "cell_type": "markdown",
   "id": "a1450415",
   "metadata": {},
   "source": [
    "#### Linear Regression with transformed response"
   ]
  },
  {
   "cell_type": "code",
   "execution_count": 50,
   "id": "4601b104",
   "metadata": {},
   "outputs": [
    {
     "name": "stdout",
     "output_type": "stream",
     "text": [
      "Train R^2: 0.8493910264008423\n",
      "Test R^2: 0.8490555675336059\n",
      "Train RMSE: 0.6117207818625163\n",
      "Test RMSE: 0.6129228942825679\n"
     ]
    }
   ],
   "source": [
    "LR = LinearRegression()\n",
    "LR = LR.fit(train_features_trans,train_target_trans)\n",
    "y_pred_test_trans = LR.predict(test_features_trans)\n",
    "y_pred_train_trans = LR.predict(train_features_trans)\n",
    "print(\"Train R^2:\", LR.score(train_features_trans,train_target_trans))\n",
    "print(\"Test R^2:\", LR.score(test_features_trans,test_target_trans))\n",
    "print(\"Train RMSE:\",rmse(train_target_trans,y_pred_train_trans))\n",
    "print(\"Test RMSE:\",rmse(test_target_trans,y_pred_test_trans))"
   ]
  },
  {
   "cell_type": "code",
   "execution_count": 51,
   "id": "1e86bed9",
   "metadata": {},
   "outputs": [],
   "source": [
    "prediction_trans = LR.predict(test_features_trans)\n",
    "residual_trans = (test_target_trans - prediction_trans)"
   ]
  },
  {
   "cell_type": "code",
   "execution_count": 52,
   "id": "a95760a1",
   "metadata": {},
   "outputs": [
    {
     "data": {
      "text/plain": [
       "<matplotlib.collections.PathCollection at 0x2e7336a4940>"
      ]
     },
     "execution_count": 52,
     "metadata": {},
     "output_type": "execute_result"
    },
    {
     "data": {
      "image/png": "[encoded data removed]",
      "text/plain": [
       "<Figure size 432x288 with 1 Axes>"
      ]
     },
     "metadata": {
      "needs_background": "light"
     },
     "output_type": "display_data"
    }
   ],
   "source": [
    "plt.scatter(prediction_trans,residual_trans)"
   ]
  },
  {
   "cell_type": "code",
   "execution_count": 53,
   "id": "099d4d79",
   "metadata": {},
   "outputs": [
    {
     "name": "stderr",
     "output_type": "stream",
     "text": [
      "C:\\Users\\JCCLI\\AppData\\Local\\Temp\\ipykernel_8188\\1045904564.py:1: UserWarning: \n",
      "\n",
      "`distplot` is a deprecated function and will be removed in seaborn v0.14.0.\n",
      "\n",
      "Please adapt your code to use either `displot` (a figure-level function with\n",
      "similar flexibility) or `histplot` (an axes-level function for histograms).\n",
      "\n",
      "For a guide to updating your code to use the new functions, please see\n",
      "https://gist.github.com/mwaskom/de44147ed2974457ad6372750bbe5751\n",
      "\n",
      "  sns.distplot(residual_trans)\n"
     ]
    },
    {
     "data": {
      "text/plain": [
       "<Axes: xlabel='fare_dollars', ylabel='Density'>"
      ]
     },
     "execution_count": 53,
     "metadata": {},
     "output_type": "execute_result"
    },
    {
     "data": {
      "image/png": "[encoded data removed]",
      "text/plain": [
       "<Figure size 432x288 with 1 Axes>"
      ]
     },
     "metadata": {
      "needs_background": "light"
     },
     "output_type": "display_data"
    }
   ],
   "source": [
    "sns.distplot(residual_trans)"
   ]
  },
  {
   "cell_type": "markdown",
   "id": "f389f4c9",
   "metadata": {},
   "source": [
    "While this regression model shows really good performance and no evidence of large overfitting or underfitting, it does look like there is presence of either multicollinearity or non-independence according to the residual vs fitted plot. Let's compare the performance with a few other machine learning algorithms that are more flexible with our type of data. We will use tree-based algorithms since they can handle skewed data and multicollinearity along with other issues a lot better."
   ]
  },
  {
   "cell_type": "markdown",
   "id": "72b98170",
   "metadata": {},
   "source": [
    "**Model 2: Regression Tree**"
   ]
  },
  {
   "cell_type": "markdown",
   "id": "4ac5dc61",
   "metadata": {},
   "source": [
    "*Find Optimal Depth*"
   ]
  },
  {
   "cell_type": "code",
   "execution_count": 54,
   "id": "7819b3ca",
   "metadata": {},
   "outputs": [
    {
     "name": "stdout",
     "output_type": "stream",
     "text": [
      "Depth: 2\n",
      "For a 2 depth the RMSE_train is 7.12901 $, the RMSE_val is 7.12188 $ and the difference -0.00713 $\n",
      "Depth: 3\n",
      "For a 3 depth the RMSE_train is 5.54157 $, the RMSE_val is 5.54225 $ and the difference 0.00067 $\n",
      "Depth: 4\n",
      "For a 4 depth the RMSE_train is 4.66470 $, the RMSE_val is 4.66395 $ and the difference -0.00075 $\n",
      "Depth: 5\n",
      "For a 5 depth the RMSE_train is 4.08145 $, the RMSE_val is 4.08010 $ and the difference -0.00135 $\n",
      "Depth: 6\n",
      "For a 6 depth the RMSE_train is 3.70370 $, the RMSE_val is 3.70728 $ and the difference 0.00359 $\n",
      "Depth: 7\n",
      "For a 7 depth the RMSE_train is 3.40698 $, the RMSE_val is 3.42857 $ and the difference 0.02159 $\n",
      "Depth: 8\n",
      "For a 8 depth the RMSE_train is 3.23653 $, the RMSE_val is 3.26479 $ and the difference 0.02826 $\n",
      "Depth: 9\n",
      "For a 9 depth the RMSE_train is 3.07738 $, the RMSE_val is 3.10549 $ and the difference 0.02811 $\n",
      "Depth: 10\n",
      "For a 10 depth the RMSE_train is 2.96527 $, the RMSE_val is 3.01681 $ and the difference 0.05153 $\n",
      "Depth: 11\n",
      "For a 11 depth the RMSE_train is 2.87221 $, the RMSE_val is 2.96852 $ and the difference 0.09631 $\n",
      "CPU times: total: 5min 17s\n",
      "Wall time: 5min 20s\n"
     ]
    }
   ],
   "source": [
    "%%time\n",
    "dicc_rt={}\n",
    "for depth in range(2,12):\n",
    "    print('Depth: %d' % (depth))\n",
    "    \n",
    "    # We train the model\n",
    "    taxi_model_rt = DecisionTreeRegressor(max_depth=depth,random_state=20)\n",
    "    \n",
    "    # We fit the model\n",
    "    taxi_model_rt.fit(train_features, train_target)\n",
    "    \n",
    "    # We predict train and validation\n",
    "    train_predictions = taxi_model_rt.predict(train_features)\n",
    "    test_predictions = taxi_model_rt.predict(test_features)\n",
    "    \n",
    "    # We get the errors\n",
    "    error_train = rmse(train_target, train_predictions)\n",
    "    error_test = rmse(test_target, test_predictions)\n",
    "    difference = error_test - error_train\n",
    "    \n",
    "    # We save the errors and the difference in a dictionary\n",
    "    dicc_rt[str(depth)]= [error_train,error_test,difference]\n",
    "    print ('For a %d depth the RMSE_train is %.5f $, the RMSE_val is %.5f $ and the difference %.5f $'\n",
    "               % (depth,error_train,error_test,difference)) "
   ]
  },
  {
   "cell_type": "code",
   "execution_count": 55,
   "id": "2b830338",
   "metadata": {},
   "outputs": [
    {
     "data": {
      "image/png": "[encoded data removed]",
      "text/plain": [
       "<Figure size 1080x720 with 1 Axes>"
      ]
     },
     "metadata": {
      "needs_background": "light"
     },
     "output_type": "display_data"
    }
   ],
   "source": [
    "# We convert the dictionary to Dataframe\n",
    "rt_df = pd.DataFrame.from_dict(dicc_rt).T\n",
    "rt_df.columns=['Training Error','Test Error','Difference']\n",
    "ax = rt_df.plot(kind='line', style='.-',figsize=(15,10))\n",
    "ax.set_title('Regression Tree Error Based on Depth', fontsize=20)\n",
    "ax.set_xlabel(\"Depth_Estimators\", fontsize=20)\n",
    "ax.set_ylabel(\"Rmse $\", fontsize=20)\n",
    "ax.legend(fontsize=20)\n",
    "\n",
    "plt.show()"
   ]
  },
  {
   "cell_type": "markdown",
   "id": "06c7845d",
   "metadata": {},
   "source": [
    "The best depth would be 6 since it has the lowest RMSE with no underfitting and the lowest amount of overfitting as well."
   ]
  },
  {
   "cell_type": "code",
   "execution_count": 56,
   "id": "e5473cb8",
   "metadata": {},
   "outputs": [
    {
     "name": "stdout",
     "output_type": "stream",
     "text": [
      "Train R^2: 0.9440589311830924\n",
      "Test R^2: 0.9438256123423466\n",
      "Train RMSE: 3.7036950047940036\n",
      "Test RMSE: 3.7072817463901537\n"
     ]
    }
   ],
   "source": [
    "# Train the model using the set depth\n",
    "RT = DecisionTreeRegressor(random_state =20,max_depth = 6)\n",
    "\n",
    "# Train Decision Tree Regressor\n",
    "RT = RT.fit(train_features,train_target)\n",
    "\n",
    "#Predict the response for test dataset\n",
    "y_predtrain = RT.predict(train_features)\n",
    "y_predtest = RT.predict(test_features)\n",
    "print(\"Train R^2:\",RT.score(train_features,train_target))\n",
    "print(\"Test R^2:\", RT.score(test_features,test_target))\n",
    "print(\"Train RMSE:\", rmse(train_target,y_predtrain))\n",
    "print(\"Test RMSE:\", rmse(test_target,y_predtest))"
   ]
  },
  {
   "cell_type": "markdown",
   "id": "5cafa4ed",
   "metadata": {},
   "source": [
    "The RMSE and R^2 values have definitely improved and has way less overfitting than linear regression. Let's try boosting methods such as LightGBM and XGBoost."
   ]
  },
  {
   "cell_type": "markdown",
   "id": "cc9094d8",
   "metadata": {},
   "source": [
    "**Model 3: LightGBM**"
   ]
  },
  {
   "cell_type": "code",
   "execution_count": 57,
   "id": "e43a041f",
   "metadata": {},
   "outputs": [
    {
     "name": "stdout",
     "output_type": "stream",
     "text": [
      "Depth: 2\n",
      "For a 2 depth the RMSE_train is 4.28293 $, the RMSE_val is 4.30058 $ and the difference 0.01766 $\n",
      "Depth: 3\n",
      "For a 3 depth the RMSE_train is 3.64664 $, the RMSE_val is 3.65655 $ and the difference 0.00991 $\n",
      "Depth: 4\n",
      "For a 4 depth the RMSE_train is 3.33197 $, the RMSE_val is 3.34033 $ and the difference 0.00837 $\n",
      "Depth: 5\n",
      "For a 5 depth the RMSE_train is 3.08683 $, the RMSE_val is 3.09552 $ and the difference 0.00869 $\n",
      "Depth: 6\n",
      "For a 6 depth the RMSE_train is 2.97370 $, the RMSE_val is 2.98314 $ and the difference 0.00945 $\n",
      "Depth: 7\n",
      "For a 7 depth the RMSE_train is 2.93063 $, the RMSE_val is 2.94448 $ and the difference 0.01384 $\n",
      "CPU times: total: 12min 17s\n",
      "Wall time: 4min 28s\n"
     ]
    }
   ],
   "source": [
    "%%time\n",
    "dicc_lgbm={}\n",
    "for depth in range(2,8):\n",
    "    print('Depth: %d' % (depth))\n",
    "    \n",
    "    # We train the model\n",
    "    taxi_model_lgbm = LGBMRegressor(max_depth=depth,random_state=40)\n",
    "    \n",
    "    # We fit the model\n",
    "    taxi_model_lgbm.fit(train_features, train_target)\n",
    "    \n",
    "    # We predict train and validation\n",
    "    train_predictions = taxi_model_lgbm.predict(train_features)\n",
    "    test_predictions = taxi_model_lgbm.predict(test_features)\n",
    "    \n",
    "    # We get the errors\n",
    "    error_train = rmse(train_target, train_predictions)\n",
    "    error_test = rmse(test_target, test_predictions)\n",
    "    difference = error_test - error_train\n",
    "    \n",
    "    # We save the errors and the difference in a dictionary\n",
    "    dicc_lgbm[str(depth)]= [error_train,error_test,difference]\n",
    "    print ('For a %d depth the RMSE_train is %.5f $, the RMSE_val is %.5f $ and the difference %.5f $'\n",
    "               % (depth,error_train,error_test,difference)) "
   ]
  },
  {
   "cell_type": "code",
   "execution_count": 58,
   "id": "8eecbf85",
   "metadata": {},
   "outputs": [
    {
     "data": {
      "image/png": "[encoded data removed]",
      "text/plain": [
       "<Figure size 1080x720 with 1 Axes>"
      ]
     },
     "metadata": {
      "needs_background": "light"
     },
     "output_type": "display_data"
    }
   ],
   "source": [
    "lgbm_df = pd.DataFrame.from_dict(dicc_lgbm).T\n",
    "lgbm_df.columns=['Training Error','Test Error','Difference']\n",
    "ax = lgbm_df.plot(kind='line', style='.-',figsize=(15,10))\n",
    "ax.set_title('LightGBM Error Based on Depth', fontsize=20)\n",
    "ax.set_xlabel(\"Depth_Estimators\", fontsize=20)\n",
    "ax.set_ylabel(\"Rmse $\", fontsize=20)\n",
    "ax.legend(fontsize=20)\n",
    "\n",
    "plt.show()"
   ]
  },
  {
   "cell_type": "code",
   "execution_count": 59,
   "id": "470f54eb",
   "metadata": {},
   "outputs": [
    {
     "name": "stdout",
     "output_type": "stream",
     "text": [
      "Train R^2: 0.9552569425131467\n",
      "Test R^2: 0.9549728672500635\n",
      "Train RMSE: 3.3123228829988243\n",
      "Test RMSE: 3.319124673150135\n"
     ]
    }
   ],
   "source": [
    "GBMRegressor = LGBMRegressor(random_state = 43, max_depth= 4)\n",
    "\n",
    "\n",
    "GBMRegressor = GBMRegressor.fit(train_features,train_target)\n",
    "\n",
    "\n",
    "y_predtrain = GBMRegressor.predict(train_features)\n",
    "y_predtest = GBMRegressor.predict(test_features)\n",
    "print(\"Train R^2:\",GBMRegressor.score(train_features,train_target))\n",
    "print(\"Test R^2:\", GBMRegressor.score(test_features,test_target))\n",
    "print(\"Train RMSE:\", rmse(train_target,y_predtrain))\n",
    "print(\"Test RMSE:\", rmse(test_target,y_predtest))"
   ]
  },
  {
   "cell_type": "markdown",
   "id": "df20c4cc",
   "metadata": {},
   "source": [
    "**Model 4: XGBoost**"
   ]
  },
  {
   "cell_type": "code",
   "execution_count": 67,
   "id": "0d950c80",
   "metadata": {},
   "outputs": [
    {
     "name": "stdout",
     "output_type": "stream",
     "text": [
      "Depth: 4\n",
      "For depth of 4, the train RMSE is 3.08744 $, and the test RMSE is 3.09970 $ and the difference 0.01226 $\n",
      "Depth: 5\n",
      "For depth of 5, the train RMSE is 2.89521 $, and the test RMSE is 2.92606 $ and the difference 0.03085 $\n",
      "CPU times: total: 43min 55s\n",
      "Wall time: 12min 32s\n"
     ]
    }
   ],
   "source": [
    "%%time\n",
    "dicc_dt={}\n",
    "for depth in range(4,6):\n",
    "    print('Depth: %d' % (depth))\n",
    "    \n",
    "    # We train the model\n",
    "    taxi_model_xgb = XGBRegressor(max_depth=depth,random_state=40)\n",
    "    \n",
    "    # We fit the model\n",
    "    taxi_model_xgb.fit(train_features, train_target)\n",
    "    \n",
    "    # We predict train and validation\n",
    "    train_predictions = taxi_model_xgb.predict(train_features)\n",
    "    test_predictions = taxi_model_xgb.predict(test_features)\n",
    "    \n",
    "    # We get the errors\n",
    "    error_train = rmse(train_target, train_predictions)\n",
    "    error_test = rmse(test_target, test_predictions)\n",
    "    difference = error_test - error_train\n",
    "    \n",
    "    # We save the errors and the difference in a dictionary\n",
    "    dicc_dt[str(depth)]= [error_train,error_test,difference]\n",
    "    print ('For depth of %d, the train RMSE is %.5f $, and the test RMSE is %.5f $ and the difference %.5f $'\n",
    "               % (depth,error_train,error_test,difference)) "
   ]
  },
  {
   "cell_type": "code",
   "execution_count": 70,
   "id": "b1c35c2f",
   "metadata": {},
   "outputs": [],
   "source": [
    "xgb_df = pd.DataFrame.from_dict(dicc_dt).T\n",
    "xgb_df.columns=['Training Error','Test Error','Difference']"
   ]
  },
  {
   "cell_type": "code",
   "execution_count": 71,
   "id": "b2f9279b",
   "metadata": {},
   "outputs": [
    {
     "data": {
      "text/html": [
       "<div>\n",
       "<style scoped>\n",
       "    .dataframe tbody tr th:only-of-type {\n",
       "        vertical-align: middle;\n",
       "    }\n",
       "\n",
       "    .dataframe tbody tr th {\n",
       "        vertical-align: top;\n",
       "    }\n",
       "\n",
       "    .dataframe thead th {\n",
       "        text-align: right;\n",
       "    }\n",
       "</style>\n",
       "<table border=\"1\" class=\"dataframe\">\n",
       "  <thead>\n",
       "    <tr style=\"text-align: right;\">\n",
       "      <th></th>\n",
       "      <th>Training Error</th>\n",
       "      <th>Test Error</th>\n",
       "      <th>Difference</th>\n",
       "    </tr>\n",
       "  </thead>\n",
       "  <tbody>\n",
       "    <tr>\n",
       "      <th>4</th>\n",
       "      <td>3.087443</td>\n",
       "      <td>3.099700</td>\n",
       "      <td>0.012258</td>\n",
       "    </tr>\n",
       "    <tr>\n",
       "      <th>5</th>\n",
       "      <td>2.895212</td>\n",
       "      <td>2.926064</td>\n",
       "      <td>0.030852</td>\n",
       "    </tr>\n",
       "  </tbody>\n",
       "</table>\n",
       "</div>"
      ],
      "text/plain": [
       "   Training Error  Test Error  Difference\n",
       "4        3.087443    3.099700    0.012258\n",
       "5        2.895212    2.926064    0.030852"
      ]
     },
     "execution_count": 71,
     "metadata": {},
     "output_type": "execute_result"
    }
   ],
   "source": [
    "xgb_df"
   ]
  },
  {
   "cell_type": "code",
   "execution_count": 72,
   "id": "c3aeafcb",
   "metadata": {},
   "outputs": [
    {
     "name": "stdout",
     "output_type": "stream",
     "text": [
      "Train R^2: 0.9529373104079311\n",
      "Test R^2: 0.9525406726717167\n",
      "Train RMSE: 3.3970990310997933\n",
      "Test RMSE: 3.407589007137152\n"
     ]
    }
   ],
   "source": [
    "Regressor = XGBRegressor(random_state = 43, max_depth = 3)\n",
    "\n",
    "\n",
    "Regressor = Regressor.fit(train_features,train_target)\n",
    "\n",
    "\n",
    "y_predtrain = Regressor.predict(train_features)\n",
    "y_predtest = Regressor.predict(test_features)\n",
    "print(\"Train R^2:\",Regressor.score(train_features,train_target))\n",
    "print(\"Test R^2:\", Regressor.score(test_features,test_target))\n",
    "print(\"Train RMSE:\", rmse(train_target,y_predtrain))\n",
    "print(\"Test RMSE:\", rmse(test_target,y_predtest))"
   ]
  },
  {
   "cell_type": "markdown",
   "id": "d0e6b25a",
   "metadata": {},
   "source": [
    "**Final Model Decision**\n",
    "\n",
    "Below are the performances of our models:\n",
    "\n",
    "**Linear Regression**\n",
    "\n",
    "Train RMSE: 5.87\n",
    "\n",
    "Test RMSE: 5.91\n",
    "\n",
    "Train R^2: 85.93%\n",
    "\n",
    "Test R^2: 85.72%\n",
    "\n",
    "\n",
    "**Linear Regression with transformation**\n",
    "\n",
    "Train RMSE: 0.6117\n",
    "\n",
    "Test RMSE: 0.6129\n",
    "\n",
    "Train R^2: 84.93%\n",
    "\n",
    "Test R^2: 84.91%\n",
    "\n",
    "**Regression Tree**\n",
    "\n",
    "Train RMSE: 3.7037\n",
    "\n",
    "Test RMSE:  3.7073\n",
    "\n",
    "Train R^2: 94.40%\n",
    "\n",
    "Test R^2: 94.38%\n",
    "\n",
    "**LightGBM**\n",
    "\n",
    " Train RMSE:  3.3123\n",
    "\n",
    " Test RMSE:  3.3191 \n",
    " \n",
    " Train R^2: 95.52%\n",
    " \n",
    " Test R^2: 95.50%\n",
    "\n",
    "**XGBoost**\n",
    "\n",
    "Train RMSE: 3.3971\n",
    "\n",
    "Test RMSE: 3.4076\n",
    "\n",
    "Train R^2: 95.29%\n",
    "\n",
    "Test R^2: 95.25%\n"
   ]
  },
  {
   "cell_type": "markdown",
   "id": "a272bf01",
   "metadata": {},
   "source": [
    "Overall, we will pick LightGBM with depth of 4 as the best performing model. It was shown that we could get the RMSE below 3 easily with XGBoost but we could use the same with a higher depth using LightGBM to get less overfitting. And since we want to minimize overfitting, and the fact that we have a great R^2 statistic, we will choose LightGBM over XGBoost."
   ]
  },
  {
   "cell_type": "markdown",
   "id": "d11bf0f4",
   "metadata": {},
   "source": [
    "**Dump final model for deployment**"
   ]
  },
  {
   "cell_type": "code",
   "execution_count": 73,
   "id": "780c29a1",
   "metadata": {},
   "outputs": [],
   "source": [
    "import pickle"
   ]
  },
  {
   "cell_type": "code",
   "execution_count": 74,
   "id": "8faf6189",
   "metadata": {},
   "outputs": [],
   "source": [
    "lgbm_pkl_file = 'LightGBM_Chicago_Taxi.pkl'\n",
    "lgbm_pkl = open(lgbm_pkl_file, 'wb')\n",
    "pickle.dump(GBMRegressor,lgbm_pkl)\n",
    "lgbm_pkl.close()"
   ]
  }
 ],
 "metadata": {
  "kernelspec": {
   "display_name": "Python 3 (ipykernel)",
   "language": "python",
   "name": "python3"
  },
  "language_info": {
   "codemirror_mode": {
    "name": "ipython",
    "version": 3
   },
   "file_extension": ".py",
   "mimetype": "text/x-python",
   "name": "python",
   "nbconvert_exporter": "python",
   "pygments_lexer": "ipython3",
   "version": "3.9.12"
  }
 },
 "nbformat": 4,
 "nbformat_minor": 5
}
