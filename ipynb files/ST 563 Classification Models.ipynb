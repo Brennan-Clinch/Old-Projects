{
 "cells": [
  {
   "cell_type": "code",
   "execution_count": 1,
   "id": "ea875167",
   "metadata": {},
   "outputs": [],
   "source": [
    "from sklearn.metrics import classification_report, confusion_matrix,\\\n",
    "    mean_squared_error, accuracy_score, r2_score\n",
    "from sklearn.model_selection import GridSearchCV\n",
    "from sklearn.svm import SVC\n",
    "from copy import deepcopy\n",
    "from sklearn.linear_model import LogisticRegression, Lasso\n",
    "from sklearn.decomposition import PCA, KernelPCA\n",
    "from sklearn.preprocessing import StandardScaler\n",
    "from sklearn.pipeline import Pipeline\n",
    "from sklearn.discriminant_analysis import LinearDiscriminantAnalysis\n",
    "import scipy.cluster.hierarchy as sch\n",
    "import scipy\n",
    "import os\n",
    "import sys\n",
    "\n",
    "# for manipulating data\n",
    "import numpy as np\n",
    "import pandas as pd\n",
    "\n",
    "# for ploting\n",
    "import seaborn as sns\n",
    "import matplotlib.pyplot as plt\n",
    "import matplotlib.lines as mlines"
   ]
  },
  {
   "cell_type": "code",
   "execution_count": 2,
   "id": "51c25fdf",
   "metadata": {},
   "outputs": [],
   "source": [
    "df_train = pd.read_csv(\"C://Users//JCCLI//Downloads//YearPredTrain.csv\")\n",
    "df_test = pd.read_csv(\"C://Users//JCCLI//Downloads//YearPredTest.csv\")"
   ]
  },
  {
   "cell_type": "code",
   "execution_count": 3,
   "id": "3a41ed13",
   "metadata": {},
   "outputs": [
    {
     "name": "stdout",
     "output_type": "stream",
     "text": [
      "<class 'pandas.core.frame.DataFrame'>\n",
      "RangeIndex: 90000 entries, 0 to 89999\n",
      "Data columns (total 98 columns):\n",
      " #   Column        Non-Null Count  Dtype  \n",
      "---  ------        --------------  -----  \n",
      " 0   Unnamed: 0    90000 non-null  int64  \n",
      " 1   timbreAvg1    90000 non-null  float64\n",
      " 2   timbreAvg2    90000 non-null  float64\n",
      " 3   timbreAvg3    90000 non-null  float64\n",
      " 4   timbreAvg4    90000 non-null  float64\n",
      " 5   timbreAvg5    90000 non-null  float64\n",
      " 6   timbreAvg6    90000 non-null  float64\n",
      " 7   timbreAvg7    90000 non-null  float64\n",
      " 8   timbreAvg8    90000 non-null  float64\n",
      " 9   timbreAvg9    90000 non-null  float64\n",
      " 10  timbreAvg10   90000 non-null  float64\n",
      " 11  timbreAvg11   90000 non-null  float64\n",
      " 12  timbreAvg12   90000 non-null  float64\n",
      " 13  timbreCov1    90000 non-null  float64\n",
      " 14  timbreCov2    90000 non-null  float64\n",
      " 15  timbreCov3    90000 non-null  float64\n",
      " 16  timbreCov4    90000 non-null  float64\n",
      " 17  timbreCov5    90000 non-null  float64\n",
      " 18  timbreCov6    90000 non-null  float64\n",
      " 19  timbreCov7    90000 non-null  float64\n",
      " 20  timbreCov8    90000 non-null  float64\n",
      " 21  timbreCov9    90000 non-null  float64\n",
      " 22  timbreCov10   90000 non-null  float64\n",
      " 23  timbreCov11   90000 non-null  float64\n",
      " 24  timbreCov12   90000 non-null  float64\n",
      " 25  timbreCov13   90000 non-null  float64\n",
      " 26  timbreCov14   90000 non-null  float64\n",
      " 27  timbreCov15   90000 non-null  float64\n",
      " 28  timbreCov16   90000 non-null  float64\n",
      " 29  timbreCov17   90000 non-null  float64\n",
      " 30  timbreCov18   90000 non-null  float64\n",
      " 31  timbreCov19   90000 non-null  float64\n",
      " 32  timbreCov20   90000 non-null  float64\n",
      " 33  timbreCov21   90000 non-null  float64\n",
      " 34  timbreCov22   90000 non-null  float64\n",
      " 35  timbreCov23   90000 non-null  float64\n",
      " 36  timbreCov24   90000 non-null  float64\n",
      " 37  timbreCov25   90000 non-null  float64\n",
      " 38  timbreCov26   90000 non-null  float64\n",
      " 39  timbreCov27   90000 non-null  float64\n",
      " 40  timbreCov28   90000 non-null  float64\n",
      " 41  timbreCov29   90000 non-null  float64\n",
      " 42  timbreCov30   90000 non-null  float64\n",
      " 43  timbreCov31   90000 non-null  float64\n",
      " 44  timbreCov32   90000 non-null  float64\n",
      " 45  timbreCov33   90000 non-null  float64\n",
      " 46  timbreCov34   90000 non-null  float64\n",
      " 47  timbreCov35   90000 non-null  float64\n",
      " 48  timbreCov36   90000 non-null  float64\n",
      " 49  timbreCov37   90000 non-null  float64\n",
      " 50  timbreCov38   90000 non-null  float64\n",
      " 51  timbreCov39   90000 non-null  float64\n",
      " 52  timbreCov40   90000 non-null  float64\n",
      " 53  timbreCov41   90000 non-null  float64\n",
      " 54  timbreCov42   90000 non-null  float64\n",
      " 55  timbreCov43   90000 non-null  float64\n",
      " 56  timbreCov44   90000 non-null  float64\n",
      " 57  timbreCov45   90000 non-null  float64\n",
      " 58  timbreCov46   90000 non-null  float64\n",
      " 59  timbreCov47   90000 non-null  float64\n",
      " 60  timbreCov48   90000 non-null  float64\n",
      " 61  timbreCov49   90000 non-null  float64\n",
      " 62  timbreCov50   90000 non-null  float64\n",
      " 63  timbreCov51   90000 non-null  float64\n",
      " 64  timbreCov52   90000 non-null  float64\n",
      " 65  timbreCov53   90000 non-null  float64\n",
      " 66  timbreCov54   90000 non-null  float64\n",
      " 67  timbreCov55   90000 non-null  float64\n",
      " 68  timbreCov56   90000 non-null  float64\n",
      " 69  timbreCov57   90000 non-null  float64\n",
      " 70  timbreCov58   90000 non-null  float64\n",
      " 71  timbreCov59   90000 non-null  float64\n",
      " 72  timbreCov60   90000 non-null  float64\n",
      " 73  timbreCov61   90000 non-null  float64\n",
      " 74  timbreCov62   90000 non-null  float64\n",
      " 75  timbreCov63   90000 non-null  float64\n",
      " 76  timbreCov64   90000 non-null  float64\n",
      " 77  timbreCov65   90000 non-null  float64\n",
      " 78  timbreCov66   90000 non-null  float64\n",
      " 79  timbreCov67   90000 non-null  float64\n",
      " 80  timbreCov68   90000 non-null  float64\n",
      " 81  timbreCov69   90000 non-null  float64\n",
      " 82  timbreCov70   90000 non-null  float64\n",
      " 83  timbreCov71   90000 non-null  float64\n",
      " 84  timbreCov72   90000 non-null  float64\n",
      " 85  timbreCov73   90000 non-null  float64\n",
      " 86  timbreCov74   90000 non-null  float64\n",
      " 87  timbreCov75   90000 non-null  float64\n",
      " 88  timbreCov76   90000 non-null  float64\n",
      " 89  timbreCov77   90000 non-null  float64\n",
      " 90  timbreCov78   90000 non-null  float64\n",
      " 91  Year          90000 non-null  int64  \n",
      " 92  Class         90000 non-null  object \n",
      " 93  averagesmean  90000 non-null  float64\n",
      " 94  averagescov   90000 non-null  float64\n",
      " 95  avgcat        90000 non-null  object \n",
      " 96  covcat        90000 non-null  object \n",
      " 97  decade        90000 non-null  object \n",
      "dtypes: float64(92), int64(2), object(4)\n",
      "memory usage: 67.3+ MB\n"
     ]
    }
   ],
   "source": [
    "df_train.info()"
   ]
  },
  {
   "cell_type": "code",
   "execution_count": 4,
   "id": "1e933aaa",
   "metadata": {},
   "outputs": [],
   "source": [
    "df_train.Class = df_train.Class.astype('category')\n",
    "# derive train sets for regression and classification task\n",
    "train_reg = df_train.drop('Class', axis=1)\n",
    "train_cat = df_train.drop('Year', axis=1)\n",
    "# derive X from train set\n",
    "train_X = df_train.drop(['Year', 'Class', 'averagesmean', 'Unnamed: 0', 'averagescov', 'avgcat', 'covcat','decade'], axis=1)\n",
    "# derive y from train set\n",
    "train_y_reg = df_train.Year\n",
    "train_y_cat = df_train.Class\n"
   ]
  },
  {
   "cell_type": "code",
   "execution_count": 6,
   "id": "4b0889fa",
   "metadata": {},
   "outputs": [],
   "source": [
    "df_test.Class = df_test.Class.astype('category')\n",
    "test_reg = df_test.drop('Class', axis=1)\n",
    "test_cat = df_test.drop('Year', axis=1)\n",
    "test_X = df_test.drop(['Year', 'Class', 'averagesmean','Unnamed: 0', 'averagescov','avgcat','covcat','decade'], axis=1)\n",
    "test_y_reg = df_test.Year\n",
    "test_y_cat = df_test.Class"
   ]
  },
  {
   "cell_type": "code",
   "execution_count": 7,
   "id": "70809db0",
   "metadata": {},
   "outputs": [],
   "source": [
    "scaler = StandardScaler()\n",
    "train_stand_X = scaler.fit_transform(train_X)\n",
    "test_stand_X = scaler.transform(test_X)"
   ]
  },
  {
   "cell_type": "code",
   "execution_count": 8,
   "id": "03b64337",
   "metadata": {},
   "outputs": [
    {
     "data": {
      "text/plain": [
       "[<matplotlib.lines.Line2D at 0x24da1783910>]"
      ]
     },
     "execution_count": 8,
     "metadata": {},
     "output_type": "execute_result"
    },
    {
     "data": {
      "image/png": "[encoded data removed]",
      "text/plain": [
       "<Figure size 432x288 with 1 Axes>"
      ]
     },
     "metadata": {
      "needs_background": "light"
     },
     "output_type": "display_data"
    }
   ],
   "source": [
    "pca = PCA()\n",
    "pca.fit(train_stand_X)\n",
    "cumsum = np.cumsum(pca.explained_variance_ratio_)\n",
    "plt.plot(cumsum)"
   ]
  },
  {
   "cell_type": "code",
   "execution_count": 9,
   "id": "6046956f",
   "metadata": {},
   "outputs": [],
   "source": [
    "pca = PCA(n_components=0.95)"
   ]
  },
  {
   "cell_type": "code",
   "execution_count": 10,
   "id": "07fe0ca8",
   "metadata": {},
   "outputs": [],
   "source": [
    "pca_X = pca.fit_transform(train_stand_X)"
   ]
  },
  {
   "cell_type": "code",
   "execution_count": 11,
   "id": "5a9a2c5d",
   "metadata": {},
   "outputs": [
    {
     "data": {
      "text/plain": [
       "(90000, 67)"
      ]
     },
     "execution_count": 11,
     "metadata": {},
     "output_type": "execute_result"
    }
   ],
   "source": [
    "pca_X.shape"
   ]
  },
  {
   "cell_type": "code",
   "execution_count": 12,
   "id": "6ec84f68",
   "metadata": {},
   "outputs": [
    {
     "data": {
      "text/plain": [
       "(67, 90)"
      ]
     },
     "execution_count": 12,
     "metadata": {},
     "output_type": "execute_result"
    }
   ],
   "source": [
    "pca.components_.shape"
   ]
  },
  {
   "cell_type": "code",
   "execution_count": 13,
   "id": "56abae4e",
   "metadata": {},
   "outputs": [
    {
     "data": {
      "text/html": [
       "<div>\n",
       "<style scoped>\n",
       "    .dataframe tbody tr th:only-of-type {\n",
       "        vertical-align: middle;\n",
       "    }\n",
       "\n",
       "    .dataframe tbody tr th {\n",
       "        vertical-align: top;\n",
       "    }\n",
       "\n",
       "    .dataframe thead th {\n",
       "        text-align: right;\n",
       "    }\n",
       "</style>\n",
       "<table border=\"1\" class=\"dataframe\">\n",
       "  <thead>\n",
       "    <tr style=\"text-align: right;\">\n",
       "      <th></th>\n",
       "      <th>0</th>\n",
       "      <th>1</th>\n",
       "      <th>2</th>\n",
       "      <th>3</th>\n",
       "      <th>4</th>\n",
       "      <th>5</th>\n",
       "      <th>6</th>\n",
       "      <th>7</th>\n",
       "      <th>8</th>\n",
       "      <th>9</th>\n",
       "      <th>...</th>\n",
       "      <th>57</th>\n",
       "      <th>58</th>\n",
       "      <th>59</th>\n",
       "      <th>60</th>\n",
       "      <th>61</th>\n",
       "      <th>62</th>\n",
       "      <th>63</th>\n",
       "      <th>64</th>\n",
       "      <th>65</th>\n",
       "      <th>66</th>\n",
       "    </tr>\n",
       "  </thead>\n",
       "  <tbody>\n",
       "    <tr>\n",
       "      <th>0</th>\n",
       "      <td>-2.728599</td>\n",
       "      <td>0.886468</td>\n",
       "      <td>-0.519867</td>\n",
       "      <td>-0.461802</td>\n",
       "      <td>-1.309740</td>\n",
       "      <td>0.326190</td>\n",
       "      <td>-0.393208</td>\n",
       "      <td>-0.999762</td>\n",
       "      <td>0.458353</td>\n",
       "      <td>1.597991</td>\n",
       "      <td>...</td>\n",
       "      <td>0.371482</td>\n",
       "      <td>0.376350</td>\n",
       "      <td>-0.190222</td>\n",
       "      <td>0.034285</td>\n",
       "      <td>0.207016</td>\n",
       "      <td>0.300190</td>\n",
       "      <td>0.284636</td>\n",
       "      <td>0.070339</td>\n",
       "      <td>-0.165063</td>\n",
       "      <td>0.510876</td>\n",
       "    </tr>\n",
       "    <tr>\n",
       "      <th>1</th>\n",
       "      <td>11.544699</td>\n",
       "      <td>-11.087562</td>\n",
       "      <td>12.018235</td>\n",
       "      <td>2.797902</td>\n",
       "      <td>-0.947746</td>\n",
       "      <td>0.318070</td>\n",
       "      <td>1.343339</td>\n",
       "      <td>-1.658545</td>\n",
       "      <td>-1.666087</td>\n",
       "      <td>3.277880</td>\n",
       "      <td>...</td>\n",
       "      <td>-2.685767</td>\n",
       "      <td>3.371664</td>\n",
       "      <td>-1.388381</td>\n",
       "      <td>-1.290396</td>\n",
       "      <td>-1.994359</td>\n",
       "      <td>-0.483968</td>\n",
       "      <td>-0.642723</td>\n",
       "      <td>-0.750562</td>\n",
       "      <td>1.165402</td>\n",
       "      <td>0.390251</td>\n",
       "    </tr>\n",
       "    <tr>\n",
       "      <th>2</th>\n",
       "      <td>-2.431057</td>\n",
       "      <td>1.854304</td>\n",
       "      <td>0.727199</td>\n",
       "      <td>1.230938</td>\n",
       "      <td>0.125526</td>\n",
       "      <td>0.461955</td>\n",
       "      <td>-0.725252</td>\n",
       "      <td>1.145686</td>\n",
       "      <td>0.438304</td>\n",
       "      <td>-0.635436</td>\n",
       "      <td>...</td>\n",
       "      <td>-0.369906</td>\n",
       "      <td>-0.186924</td>\n",
       "      <td>0.311388</td>\n",
       "      <td>-0.293261</td>\n",
       "      <td>0.476415</td>\n",
       "      <td>-0.019116</td>\n",
       "      <td>-0.267627</td>\n",
       "      <td>0.822466</td>\n",
       "      <td>0.040392</td>\n",
       "      <td>-0.273661</td>\n",
       "    </tr>\n",
       "    <tr>\n",
       "      <th>3</th>\n",
       "      <td>5.213087</td>\n",
       "      <td>1.488027</td>\n",
       "      <td>1.475934</td>\n",
       "      <td>-0.127776</td>\n",
       "      <td>1.454696</td>\n",
       "      <td>-2.185592</td>\n",
       "      <td>-0.089862</td>\n",
       "      <td>0.026901</td>\n",
       "      <td>-1.882517</td>\n",
       "      <td>0.880001</td>\n",
       "      <td>...</td>\n",
       "      <td>0.150939</td>\n",
       "      <td>-0.255776</td>\n",
       "      <td>-0.176656</td>\n",
       "      <td>1.245119</td>\n",
       "      <td>0.035021</td>\n",
       "      <td>-0.451251</td>\n",
       "      <td>-0.537667</td>\n",
       "      <td>0.418899</td>\n",
       "      <td>-0.846130</td>\n",
       "      <td>0.652313</td>\n",
       "    </tr>\n",
       "    <tr>\n",
       "      <th>4</th>\n",
       "      <td>1.885916</td>\n",
       "      <td>-2.072772</td>\n",
       "      <td>1.824640</td>\n",
       "      <td>-3.414723</td>\n",
       "      <td>1.275266</td>\n",
       "      <td>0.953257</td>\n",
       "      <td>0.768149</td>\n",
       "      <td>1.637670</td>\n",
       "      <td>2.254481</td>\n",
       "      <td>1.009500</td>\n",
       "      <td>...</td>\n",
       "      <td>-0.106715</td>\n",
       "      <td>0.051254</td>\n",
       "      <td>0.210676</td>\n",
       "      <td>-0.361337</td>\n",
       "      <td>-0.514755</td>\n",
       "      <td>1.410896</td>\n",
       "      <td>-0.525747</td>\n",
       "      <td>-0.299097</td>\n",
       "      <td>0.357705</td>\n",
       "      <td>-0.499393</td>\n",
       "    </tr>\n",
       "  </tbody>\n",
       "</table>\n",
       "<p>5 rows × 67 columns</p>\n",
       "</div>"
      ],
      "text/plain": [
       "          0          1          2         3         4         5         6   \\\n",
       "0  -2.728599   0.886468  -0.519867 -0.461802 -1.309740  0.326190 -0.393208   \n",
       "1  11.544699 -11.087562  12.018235  2.797902 -0.947746  0.318070  1.343339   \n",
       "2  -2.431057   1.854304   0.727199  1.230938  0.125526  0.461955 -0.725252   \n",
       "3   5.213087   1.488027   1.475934 -0.127776  1.454696 -2.185592 -0.089862   \n",
       "4   1.885916  -2.072772   1.824640 -3.414723  1.275266  0.953257  0.768149   \n",
       "\n",
       "         7         8         9   ...        57        58        59        60  \\\n",
       "0 -0.999762  0.458353  1.597991  ...  0.371482  0.376350 -0.190222  0.034285   \n",
       "1 -1.658545 -1.666087  3.277880  ... -2.685767  3.371664 -1.388381 -1.290396   \n",
       "2  1.145686  0.438304 -0.635436  ... -0.369906 -0.186924  0.311388 -0.293261   \n",
       "3  0.026901 -1.882517  0.880001  ...  0.150939 -0.255776 -0.176656  1.245119   \n",
       "4  1.637670  2.254481  1.009500  ... -0.106715  0.051254  0.210676 -0.361337   \n",
       "\n",
       "         61        62        63        64        65        66  \n",
       "0  0.207016  0.300190  0.284636  0.070339 -0.165063  0.510876  \n",
       "1 -1.994359 -0.483968 -0.642723 -0.750562  1.165402  0.390251  \n",
       "2  0.476415 -0.019116 -0.267627  0.822466  0.040392 -0.273661  \n",
       "3  0.035021 -0.451251 -0.537667  0.418899 -0.846130  0.652313  \n",
       "4 -0.514755  1.410896 -0.525747 -0.299097  0.357705 -0.499393  \n",
       "\n",
       "[5 rows x 67 columns]"
      ]
     },
     "execution_count": 13,
     "metadata": {},
     "output_type": "execute_result"
    }
   ],
   "source": [
    "# reduced dataset\n",
    "X_pca = pd.DataFrame(pca_X)\n",
    "X_pca.head()\n"
   ]
  },
  {
   "cell_type": "code",
   "execution_count": 14,
   "id": "2d73a49a",
   "metadata": {},
   "outputs": [],
   "source": [
    "rbf_pca = KernelPCA(n_components=10, kernel='rbf', gamma=0.4)"
   ]
  },
  {
   "cell_type": "code",
   "execution_count": 15,
   "id": "49ecf170",
   "metadata": {},
   "outputs": [],
   "source": [
    "param_grid = [{'C':[10, 50], 'kernel':['rbf'], 'gamma':[0.001, 0.1]}]"
   ]
  },
  {
   "cell_type": "code",
   "execution_count": 16,
   "id": "778465f8",
   "metadata": {},
   "outputs": [],
   "source": [
    "grid = GridSearchCV(estimator=SVC(), param_grid=param_grid, verbose=0, cv=3, scoring='accuracy')"
   ]
  },
  {
   "cell_type": "code",
   "execution_count": null,
   "id": "a8c9eb84",
   "metadata": {},
   "outputs": [],
   "source": [
    "grid.fit(train_stand_X, train_y_cat)\n"
   ]
  },
  {
   "cell_type": "code",
   "execution_count": null,
   "id": "c64d6200",
   "metadata": {},
   "outputs": [],
   "source": []
  }
 ],
 "metadata": {
  "kernelspec": {
   "display_name": "Python 3 (ipykernel)",
   "language": "python",
   "name": "python3"
  },
  "language_info": {
   "codemirror_mode": {
    "name": "ipython",
    "version": 3
   },
   "file_extension": ".py",
   "mimetype": "text/x-python",
   "name": "python",
   "nbconvert_exporter": "python",
   "pygments_lexer": "ipython3",
   "version": "3.9.12"
  }
 },
 "nbformat": 4,
 "nbformat_minor": 5
}
