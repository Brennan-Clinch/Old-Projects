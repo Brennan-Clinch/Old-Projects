{
 "cells": [
  {
   "cell_type": "code",
   "execution_count": 1,
   "id": "7343ced0",
   "metadata": {},
   "outputs": [],
   "source": [
    "import pandas as pd\n",
    "import numpy as np"
   ]
  },
  {
   "cell_type": "code",
   "execution_count": 2,
   "id": "91b8392d",
   "metadata": {},
   "outputs": [],
   "source": [
    "df_final = pd.read_csv(\"C://Users//JCCLI//Downloads//cust_seg_modeled.csv\")"
   ]
  },
  {
   "cell_type": "code",
   "execution_count": 3,
   "id": "bae51440",
   "metadata": {},
   "outputs": [
    {
     "name": "stdout",
     "output_type": "stream",
     "text": [
      "<class 'pandas.core.frame.DataFrame'>\n",
      "RangeIndex: 746563 entries, 0 to 746562\n",
      "Data columns (total 47 columns):\n",
      " #   Column                   Non-Null Count   Dtype  \n",
      "---  ------                   --------------   -----  \n",
      " 0   index                    746563 non-null  int64  \n",
      " 1   Saving account           746563 non-null  int64  \n",
      " 2   Guarantees               746563 non-null  int64  \n",
      " 3   Current account          746563 non-null  int64  \n",
      " 4   Derivada account         746563 non-null  int64  \n",
      " 5   Payroll account          746563 non-null  int64  \n",
      " 6   Junior account           746563 non-null  int64  \n",
      " 7   Most particular account  746563 non-null  int64  \n",
      " 8   Particular account       746563 non-null  int64  \n",
      " 9   Particular plus account  746563 non-null  int64  \n",
      " 10  Short-term deposits      746563 non-null  int64  \n",
      " 11  Medium-term deposits     746563 non-null  int64  \n",
      " 12  Long-term deposits       746563 non-null  int64  \n",
      " 13  e-account                746563 non-null  int64  \n",
      " 14  Funds                    746563 non-null  int64  \n",
      " 15  Mortage                  746563 non-null  int64  \n",
      " 16  Pensions_1               746563 non-null  int64  \n",
      " 17  Loans                    746563 non-null  int64  \n",
      " 18  Taxes                    746563 non-null  int64  \n",
      " 19  Credit card              746563 non-null  int64  \n",
      " 20  Securities               746563 non-null  int64  \n",
      " 21  Home account             746563 non-null  int64  \n",
      " 22  Payroll                  746563 non-null  int64  \n",
      " 23  Pensions_2               746563 non-null  int64  \n",
      " 24  Direct debit             746563 non-null  int64  \n",
      " 25  total_products           746563 non-null  int64  \n",
      " 26  Employee index           746563 non-null  int64  \n",
      " 27  Country                  746563 non-null  int64  \n",
      " 28  Sex                      746563 non-null  int64  \n",
      " 29  Age                      746563 non-null  int64  \n",
      " 30  Contract date            746563 non-null  int64  \n",
      " 31  New customer index       746563 non-null  int64  \n",
      " 32  Seniority(months)        746563 non-null  int64  \n",
      " 33  Primary                  746563 non-null  int64  \n",
      " 34  Customer type            746563 non-null  int64  \n",
      " 35  Customer relation type   746563 non-null  int64  \n",
      " 36  Residence index          746563 non-null  int64  \n",
      " 37  Foreigner index          746563 non-null  int64  \n",
      " 38  Channel                  746563 non-null  int64  \n",
      " 39  Deceased index           746563 non-null  int64  \n",
      " 40  Province name            746563 non-null  int64  \n",
      " 41  Activity index           746563 non-null  int64  \n",
      " 42  Income                   746563 non-null  float64\n",
      " 43  Age group                746563 non-null  int64  \n",
      " 44  Income group             746563 non-null  int64  \n",
      " 45  Seniority group          746563 non-null  int64  \n",
      " 46  Clusters                 746563 non-null  int64  \n",
      "dtypes: float64(1), int64(46)\n",
      "memory usage: 267.7 MB\n"
     ]
    }
   ],
   "source": [
    "df_final.info()"
   ]
  },
  {
   "cell_type": "code",
   "execution_count": 6,
   "id": "9d688b1d",
   "metadata": {},
   "outputs": [],
   "source": [
    "group_1 = df_final[df_final[\"Clusters\"] == 0]\n",
    "group_2 = df_final[df_final[\"Clusters\"] == 1]\n",
    "group_3 = df_final[df_final[\"Clusters\"] == 2]\n",
    "group_4 = df_final[df_final[\"Clusters\"] == 3]\n",
    "group_5 = df_final[df_final[\"Clusters\"] == 4]"
   ]
  },
  {
   "cell_type": "code",
   "execution_count": 19,
   "id": "15baac91",
   "metadata": {},
   "outputs": [
    {
     "data": {
      "text/plain": [
       "count    746563.000000\n",
       "mean         25.576592\n",
       "std          12.760480\n",
       "min           0.000000\n",
       "25%          16.000000\n",
       "50%          28.000000\n",
       "75%          29.000000\n",
       "max          49.000000\n",
       "Name: Province name, dtype: float64"
      ]
     },
     "execution_count": 19,
     "metadata": {},
     "output_type": "execute_result"
    }
   ],
   "source": [
    "df_final[\"Province name\"].describe()"
   ]
  },
  {
   "cell_type": "code",
   "execution_count": 7,
   "id": "71add8ae",
   "metadata": {},
   "outputs": [
    {
     "data": {
      "text/plain": [
       "count    188173.0\n",
       "mean          0.0\n",
       "std           0.0\n",
       "min           0.0\n",
       "25%           0.0\n",
       "50%           0.0\n",
       "75%           0.0\n",
       "max           0.0\n",
       "Name: Guarantees, dtype: float64"
      ]
     },
     "execution_count": 7,
     "metadata": {},
     "output_type": "execute_result"
    }
   ],
   "source": [
    "group_1.Guarantees.describe()"
   ]
  },
  {
   "cell_type": "code",
   "execution_count": 12,
   "id": "ce4a131c",
   "metadata": {},
   "outputs": [
    {
     "data": {
      "text/plain": [
       "count    188173.000000\n",
       "mean          1.612792\n",
       "std           0.856288\n",
       "min           0.000000\n",
       "25%           1.000000\n",
       "50%           1.000000\n",
       "75%           2.000000\n",
       "max           8.000000\n",
       "Name: total_products, dtype: float64"
      ]
     },
     "execution_count": 12,
     "metadata": {},
     "output_type": "execute_result"
    }
   ],
   "source": [
    "group_1.total_products.describe()"
   ]
  },
  {
   "cell_type": "code",
   "execution_count": 8,
   "id": "b09a35df",
   "metadata": {},
   "outputs": [
    {
     "data": {
      "text/plain": [
       "count    177876.0\n",
       "mean          0.0\n",
       "std           0.0\n",
       "min           0.0\n",
       "25%           0.0\n",
       "50%           0.0\n",
       "75%           0.0\n",
       "max           0.0\n",
       "Name: Guarantees, dtype: float64"
      ]
     },
     "execution_count": 8,
     "metadata": {},
     "output_type": "execute_result"
    }
   ],
   "source": [
    "group_2.Guarantees.describe()"
   ]
  },
  {
   "cell_type": "code",
   "execution_count": 13,
   "id": "3bed80c5",
   "metadata": {},
   "outputs": [
    {
     "data": {
      "text/plain": [
       "count    177876.000000\n",
       "mean          1.010648\n",
       "std           0.144379\n",
       "min           0.000000\n",
       "25%           1.000000\n",
       "50%           1.000000\n",
       "75%           1.000000\n",
       "max           4.000000\n",
       "Name: total_products, dtype: float64"
      ]
     },
     "execution_count": 13,
     "metadata": {},
     "output_type": "execute_result"
    }
   ],
   "source": [
    "group_2.total_products.describe()"
   ]
  },
  {
   "cell_type": "code",
   "execution_count": 9,
   "id": "572ea268",
   "metadata": {},
   "outputs": [
    {
     "data": {
      "text/plain": [
       "count    159252.0\n",
       "mean          0.0\n",
       "std           0.0\n",
       "min           0.0\n",
       "25%           0.0\n",
       "50%           0.0\n",
       "75%           0.0\n",
       "max           0.0\n",
       "Name: Guarantees, dtype: float64"
      ]
     },
     "execution_count": 9,
     "metadata": {},
     "output_type": "execute_result"
    }
   ],
   "source": [
    "group_3.Guarantees.describe()"
   ]
  },
  {
   "cell_type": "code",
   "execution_count": 14,
   "id": "0f9ac17b",
   "metadata": {},
   "outputs": [
    {
     "data": {
      "text/plain": [
       "count    159252.000000\n",
       "mean          1.063032\n",
       "std           0.553107\n",
       "min           0.000000\n",
       "25%           1.000000\n",
       "50%           1.000000\n",
       "75%           1.000000\n",
       "max           6.000000\n",
       "Name: total_products, dtype: float64"
      ]
     },
     "execution_count": 14,
     "metadata": {},
     "output_type": "execute_result"
    }
   ],
   "source": [
    "group_3.total_products.describe()"
   ]
  },
  {
   "cell_type": "code",
   "execution_count": 10,
   "id": "fc28daae",
   "metadata": {},
   "outputs": [
    {
     "data": {
      "text/plain": [
       "count    77426.000000\n",
       "mean         0.000336\n",
       "std          0.018322\n",
       "min          0.000000\n",
       "25%          0.000000\n",
       "50%          0.000000\n",
       "75%          0.000000\n",
       "max          1.000000\n",
       "Name: Guarantees, dtype: float64"
      ]
     },
     "execution_count": 10,
     "metadata": {},
     "output_type": "execute_result"
    }
   ],
   "source": [
    "group_4.Guarantees.describe()"
   ]
  },
  {
   "cell_type": "code",
   "execution_count": 15,
   "id": "cf19cc47",
   "metadata": {},
   "outputs": [
    {
     "data": {
      "text/plain": [
       "count    77426.000000\n",
       "mean         5.826389\n",
       "std          1.815694\n",
       "min          2.000000\n",
       "25%          4.000000\n",
       "50%          6.000000\n",
       "75%          7.000000\n",
       "max         15.000000\n",
       "Name: total_products, dtype: float64"
      ]
     },
     "execution_count": 15,
     "metadata": {},
     "output_type": "execute_result"
    }
   ],
   "source": [
    "group_4.total_products.describe()"
   ]
  },
  {
   "cell_type": "code",
   "execution_count": 11,
   "id": "d49733d2",
   "metadata": {},
   "outputs": [
    {
     "data": {
      "text/plain": [
       "count    143836.000000\n",
       "mean          0.000042\n",
       "std           0.006459\n",
       "min           0.000000\n",
       "25%           0.000000\n",
       "50%           0.000000\n",
       "75%           0.000000\n",
       "max           1.000000\n",
       "Name: Guarantees, dtype: float64"
      ]
     },
     "execution_count": 11,
     "metadata": {},
     "output_type": "execute_result"
    }
   ],
   "source": [
    "group_5.Guarantees.describe()"
   ]
  },
  {
   "cell_type": "markdown",
   "id": "92ddd858",
   "metadata": {},
   "source": [
    "Group 1: \n",
    "No Guarantees\n",
    "No more than 8 total products\n",
    "Not including 1 city\n",
    "\n",
    "Group 2:\n",
    "No Saving Account\n",
    "No Guarantees\n",
    "No Derivada account\n",
    "No Pensions_1\n",
    "No Mortage\n",
    "No more than 4 total products\n",
    "Employee Index not including B (ex employed), or A (active)\n",
    "Seniority less than 200 months\n",
    "\n",
    "Group 3: \n",
    "No Guarantees\n",
    "No more than 6 total products\n",
    "Not including 2 cities\n",
    "\n",
    "\n",
    "Group 4:\n",
    "2 or more products\n",
    "Not including 1 city\n",
    "\n",
    "Group 5:\n",
    "No Junior Account\n",
    "No more than 11 total products\n",
    "Not including 2 cities\n",
    "Ages 21, 20, 19 not included\n",
    "Channels KHE and KHK not included"
   ]
  },
  {
   "cell_type": "code",
   "execution_count": 3,
   "id": "63304804",
   "metadata": {},
   "outputs": [
    {
     "data": {
      "text/plain": [
       "2    316108\n",
       "0    187259\n",
       "1    122113\n",
       "3     75756\n",
       "4     45327\n",
       "Name: Age group, dtype: int64"
      ]
     },
     "execution_count": 3,
     "metadata": {},
     "output_type": "execute_result"
    }
   ],
   "source": [
    "df_final['Age group'].value_counts().head(10)"
   ]
  },
  {
   "cell_type": "code",
   "execution_count": 7,
   "id": "5badd7c0",
   "metadata": {},
   "outputs": [
    {
     "data": {
      "text/plain": [
       "0    422841\n",
       "1    323722\n",
       "Name: Sex, dtype: int64"
      ]
     },
     "execution_count": 7,
     "metadata": {},
     "output_type": "execute_result"
    }
   ],
   "source": [
    "df_final['Sex'].value_counts().head(10)"
   ]
  },
  {
   "cell_type": "code",
   "execution_count": 6,
   "id": "8d66f1b9",
   "metadata": {},
   "outputs": [],
   "source": [
    "def Age_Range(x):\n",
    "    if x== 2:\n",
    "        return '41-65'\n",
    "    elif x==0:\n",
    "        return '21-30'\n",
    "    elif x==1:\n",
    "        return '30-40'\n",
    "    elif x==3:\n",
    "        return '>65'\n",
    "    else:\n",
    "        return 'Less than 21'\n",
    "df_final['Age Demographic Group'] = df_final['Age group'].apply(Age_Range)"
   ]
  },
  {
   "cell_type": "code",
   "execution_count": 8,
   "id": "ee30f6ab",
   "metadata": {},
   "outputs": [],
   "source": [
    "def gender_demographic(x):\n",
    "    if x==0:\n",
    "        return 'F'\n",
    "    else:\n",
    "        return 'M'\n",
    "df_final['Gender'] = df_final['Sex'].apply(gender_demographic)"
   ]
  },
  {
   "cell_type": "code",
   "execution_count": 10,
   "id": "44bb208c",
   "metadata": {},
   "outputs": [],
   "source": [
    "def income_demographic(x):\n",
    "    if x==0:\n",
    "        return '$100k-$500k'\n",
    "    elif x==1:\n",
    "        return '$30k-$50k'\n",
    "    elif x==2:\n",
    "        return '$50k-$100k'\n",
    "    elif x==3:\n",
    "        return '> $500k'\n",
    "    else:\n",
    "        return '< $30k'\n",
    "df_final['Income Demographic'] = df_final['Income group'].apply(income_demographic)"
   ]
  },
  {
   "cell_type": "code",
   "execution_count": 34,
   "id": "a7f04168",
   "metadata": {},
   "outputs": [],
   "source": [
    "def seniority_demographic(x):\n",
    "    if x == 0:\n",
    "        return 'Between 0 and 50 months'\n",
    "    elif x==2:\n",
    "        return 'Between 151 and 200 months'\n",
    "    elif x==1:\n",
    "        return 'Between 101 and 150 months'\n",
    "    elif x==3:\n",
    "        return 'Between 51 and 100 months'\n",
    "    else:\n",
    "        return 'More than 200 months'\n",
    "df_final['Seniority Demographic'] = df_final['Seniority group'].apply(seniority_demographic)"
   ]
  },
  {
   "cell_type": "code",
   "execution_count": 35,
   "id": "db1bc85e",
   "metadata": {},
   "outputs": [
    {
     "name": "stdout",
     "output_type": "stream",
     "text": [
      "<class 'pandas.core.frame.DataFrame'>\n",
      "RangeIndex: 746563 entries, 0 to 746562\n",
      "Data columns (total 58 columns):\n",
      " #   Column                   Non-Null Count   Dtype  \n",
      "---  ------                   --------------   -----  \n",
      " 0   index                    746563 non-null  int64  \n",
      " 1   Saving account           746563 non-null  int64  \n",
      " 2   Guarantees               746563 non-null  int64  \n",
      " 3   Current account          746563 non-null  int64  \n",
      " 4   Derivada account         746563 non-null  int64  \n",
      " 5   Payroll account          746563 non-null  int64  \n",
      " 6   Junior account           746563 non-null  int64  \n",
      " 7   Most particular account  746563 non-null  int64  \n",
      " 8   Particular account       746563 non-null  int64  \n",
      " 9   Particular plus account  746563 non-null  int64  \n",
      " 10  Short-term deposits      746563 non-null  int64  \n",
      " 11  Medium-term deposits     746563 non-null  int64  \n",
      " 12  Long-term deposits       746563 non-null  int64  \n",
      " 13  e-account                746563 non-null  int64  \n",
      " 14  Funds                    746563 non-null  int64  \n",
      " 15  Mortage                  746563 non-null  int64  \n",
      " 16  Pensions_1               746563 non-null  int64  \n",
      " 17  Loans                    746563 non-null  int64  \n",
      " 18  Taxes                    746563 non-null  int64  \n",
      " 19  Credit card              746563 non-null  int64  \n",
      " 20  Securities               746563 non-null  int64  \n",
      " 21  Home account             746563 non-null  int64  \n",
      " 22  Payroll                  746563 non-null  int64  \n",
      " 23  Pensions_2               746563 non-null  int64  \n",
      " 24  Direct debit             746563 non-null  int64  \n",
      " 25  total_products           746563 non-null  int64  \n",
      " 26  Employee index           746563 non-null  int64  \n",
      " 27  Country                  746563 non-null  int64  \n",
      " 28  Sex                      746563 non-null  int64  \n",
      " 29  Age                      746563 non-null  int64  \n",
      " 30  Contract date            746563 non-null  int64  \n",
      " 31  New customer index       746563 non-null  int64  \n",
      " 32  Seniority(months)        746563 non-null  int64  \n",
      " 33  Primary                  746563 non-null  int64  \n",
      " 34  Customer type            746563 non-null  int64  \n",
      " 35  Customer relation type   746563 non-null  int64  \n",
      " 36  Residence index          746563 non-null  int64  \n",
      " 37  Foreigner index          746563 non-null  int64  \n",
      " 38  Channel                  746563 non-null  int64  \n",
      " 39  Deceased index           746563 non-null  object \n",
      " 40  Province name            746563 non-null  int64  \n",
      " 41  Activity index           746563 non-null  int64  \n",
      " 42  Income                   746563 non-null  float64\n",
      " 43  Age group                746563 non-null  int64  \n",
      " 44  Income group             746563 non-null  int64  \n",
      " 45  Seniority group          746563 non-null  int64  \n",
      " 46  Clusters                 746563 non-null  int64  \n",
      " 47  Age Demographic Group    746563 non-null  object \n",
      " 48  Gender                   746563 non-null  object \n",
      " 49  Income Demographic       746563 non-null  object \n",
      " 50  Marketing Channel        746563 non-null  object \n",
      " 51  Country name             746563 non-null  object \n",
      " 52  Employee Index           746563 non-null  object \n",
      " 53  New Customer Index       746563 non-null  object \n",
      " 54  Customer Relation Type   746563 non-null  object \n",
      " 55  Foreigner Index          746563 non-null  object \n",
      " 56  Activity Index           746563 non-null  object \n",
      " 57  Seniority Demographic    746563 non-null  object \n",
      "dtypes: float64(1), int64(45), object(12)\n",
      "memory usage: 330.4+ MB\n"
     ]
    }
   ],
   "source": [
    "df_final.info()"
   ]
  },
  {
   "cell_type": "code",
   "execution_count": 36,
   "id": "610e789f",
   "metadata": {},
   "outputs": [],
   "source": [
    "df_final = df_final.drop(['Employee index','Age group','Income group','Seniority group','Activity index','Country'\\\n",
    "                          ,'New customer index', 'Foreigner index','Customer relation type'],axis=1)"
   ]
  },
  {
   "cell_type": "code",
   "execution_count": 37,
   "id": "8d217896",
   "metadata": {},
   "outputs": [
    {
     "name": "stdout",
     "output_type": "stream",
     "text": [
      "<class 'pandas.core.frame.DataFrame'>\n",
      "RangeIndex: 746563 entries, 0 to 746562\n",
      "Data columns (total 49 columns):\n",
      " #   Column                   Non-Null Count   Dtype  \n",
      "---  ------                   --------------   -----  \n",
      " 0   index                    746563 non-null  int64  \n",
      " 1   Saving account           746563 non-null  int64  \n",
      " 2   Guarantees               746563 non-null  int64  \n",
      " 3   Current account          746563 non-null  int64  \n",
      " 4   Derivada account         746563 non-null  int64  \n",
      " 5   Payroll account          746563 non-null  int64  \n",
      " 6   Junior account           746563 non-null  int64  \n",
      " 7   Most particular account  746563 non-null  int64  \n",
      " 8   Particular account       746563 non-null  int64  \n",
      " 9   Particular plus account  746563 non-null  int64  \n",
      " 10  Short-term deposits      746563 non-null  int64  \n",
      " 11  Medium-term deposits     746563 non-null  int64  \n",
      " 12  Long-term deposits       746563 non-null  int64  \n",
      " 13  e-account                746563 non-null  int64  \n",
      " 14  Funds                    746563 non-null  int64  \n",
      " 15  Mortage                  746563 non-null  int64  \n",
      " 16  Pensions_1               746563 non-null  int64  \n",
      " 17  Loans                    746563 non-null  int64  \n",
      " 18  Taxes                    746563 non-null  int64  \n",
      " 19  Credit card              746563 non-null  int64  \n",
      " 20  Securities               746563 non-null  int64  \n",
      " 21  Home account             746563 non-null  int64  \n",
      " 22  Payroll                  746563 non-null  int64  \n",
      " 23  Pensions_2               746563 non-null  int64  \n",
      " 24  Direct debit             746563 non-null  int64  \n",
      " 25  total_products           746563 non-null  int64  \n",
      " 26  Sex                      746563 non-null  int64  \n",
      " 27  Age                      746563 non-null  int64  \n",
      " 28  Contract date            746563 non-null  int64  \n",
      " 29  Seniority(months)        746563 non-null  int64  \n",
      " 30  Primary                  746563 non-null  int64  \n",
      " 31  Customer type            746563 non-null  int64  \n",
      " 32  Residence index          746563 non-null  int64  \n",
      " 33  Channel                  746563 non-null  int64  \n",
      " 34  Deceased index           746563 non-null  object \n",
      " 35  Province name            746563 non-null  int64  \n",
      " 36  Income                   746563 non-null  float64\n",
      " 37  Clusters                 746563 non-null  int64  \n",
      " 38  Age Demographic Group    746563 non-null  object \n",
      " 39  Gender                   746563 non-null  object \n",
      " 40  Income Demographic       746563 non-null  object \n",
      " 41  Marketing Channel        746563 non-null  object \n",
      " 42  Country name             746563 non-null  object \n",
      " 43  Employee Index           746563 non-null  object \n",
      " 44  New Customer Index       746563 non-null  object \n",
      " 45  Customer Relation Type   746563 non-null  object \n",
      " 46  Foreigner Index          746563 non-null  object \n",
      " 47  Activity Index           746563 non-null  object \n",
      " 48  Seniority Demographic    746563 non-null  object \n",
      "dtypes: float64(1), int64(36), object(12)\n",
      "memory usage: 279.1+ MB\n"
     ]
    }
   ],
   "source": [
    "df_final.info()"
   ]
  },
  {
   "cell_type": "code",
   "execution_count": 11,
   "id": "9eb2ad7c",
   "metadata": {},
   "outputs": [],
   "source": [
    "def channel(x):\n",
    "    if x==0:\n",
    "        return 'KAA'\n",
    "    elif x==1:\n",
    "        return 'KAB'\n",
    "    elif x==2:\n",
    "        return 'KAG'\n",
    "    elif x==3:\n",
    "        return 'KAS'\n",
    "    elif x==4:\n",
    "        return 'KAT'\n",
    "    elif x==5:\n",
    "        return 'KAY'\n",
    "    elif x==6:\n",
    "        return 'KFA'\n",
    "    elif x==7:\n",
    "        return 'KFC'\n",
    "    elif x==8:\n",
    "        return 'KHE'\n",
    "    else:\n",
    "        return 'KHK'\n",
    "df_final['Marketing Channel'] = df_final['Channel'].apply(channel)"
   ]
  },
  {
   "cell_type": "code",
   "execution_count": 15,
   "id": "8bbd1c0e",
   "metadata": {},
   "outputs": [
    {
     "data": {
      "text/plain": [
       "0    746563\n",
       "Name: Country, dtype: int64"
      ]
     },
     "execution_count": 15,
     "metadata": {},
     "output_type": "execute_result"
    }
   ],
   "source": [
    "df_final['Country'].value_counts().head(10)"
   ]
  },
  {
   "cell_type": "code",
   "execution_count": 14,
   "id": "ed581331",
   "metadata": {},
   "outputs": [
    {
     "data": {
      "text/plain": [
       "28    297536\n",
       "7      71282\n",
       "41     33729\n",
       "46     33259\n",
       "29     20440\n",
       "49     19817\n",
       "31     18625\n",
       "16     18189\n",
       "1      15414\n",
       "10     15307\n",
       "3      13934\n",
       "47     12976\n",
       "36     12438\n",
       "35     11371\n",
       "20      9805\n",
       "45      9749\n",
       "5       9674\n",
       "15      8091\n",
       "38      8033\n",
       "11      7800\n",
       "9       6638\n",
       "22      6520\n",
       "14      6462\n",
       "Name: Province name, dtype: int64"
      ]
     },
     "execution_count": 14,
     "metadata": {},
     "output_type": "execute_result"
    }
   ],
   "source": [
    "df_final['Province name'].value_counts().head(23)"
   ]
  },
  {
   "cell_type": "code",
   "execution_count": null,
   "id": "1c594f7c",
   "metadata": {},
   "outputs": [],
   "source": [
    "#df_final['Channel'].value_counts().head(10)\n",
    "# 0 = KAA\n",
    "# 1 = KAB\n",
    "# 2 = KAG\n",
    "# 3 = KAS\n",
    "# 4 = KAT\n",
    "# 5 = KAY\n",
    "# 6 = KFA\n",
    "# 7 = KFC\n",
    "# 8 = KHE\n",
    "# 9 = KHK"
   ]
  },
  {
   "cell_type": "code",
   "execution_count": 9,
   "id": "84989da7",
   "metadata": {},
   "outputs": [
    {
     "data": {
      "text/html": [
       "<div>\n",
       "<style scoped>\n",
       "    .dataframe tbody tr th:only-of-type {\n",
       "        vertical-align: middle;\n",
       "    }\n",
       "\n",
       "    .dataframe tbody tr th {\n",
       "        vertical-align: top;\n",
       "    }\n",
       "\n",
       "    .dataframe thead th {\n",
       "        text-align: right;\n",
       "    }\n",
       "</style>\n",
       "<table border=\"1\" class=\"dataframe\">\n",
       "  <thead>\n",
       "    <tr style=\"text-align: right;\">\n",
       "      <th></th>\n",
       "      <th>index</th>\n",
       "      <th>Saving account</th>\n",
       "      <th>Guarantees</th>\n",
       "      <th>Current account</th>\n",
       "      <th>Derivada account</th>\n",
       "      <th>Payroll account</th>\n",
       "      <th>Junior account</th>\n",
       "      <th>Most particular account</th>\n",
       "      <th>Particular account</th>\n",
       "      <th>Particular plus account</th>\n",
       "      <th>...</th>\n",
       "      <th>Deceased index</th>\n",
       "      <th>Province name</th>\n",
       "      <th>Activity index</th>\n",
       "      <th>Income</th>\n",
       "      <th>Age group</th>\n",
       "      <th>Income group</th>\n",
       "      <th>Seniority group</th>\n",
       "      <th>Clusters</th>\n",
       "      <th>Age Demographic Group</th>\n",
       "      <th>Gender</th>\n",
       "    </tr>\n",
       "  </thead>\n",
       "  <tbody>\n",
       "    <tr>\n",
       "      <th>0</th>\n",
       "      <td>0</td>\n",
       "      <td>0</td>\n",
       "      <td>0</td>\n",
       "      <td>1</td>\n",
       "      <td>0</td>\n",
       "      <td>0</td>\n",
       "      <td>0</td>\n",
       "      <td>0</td>\n",
       "      <td>0</td>\n",
       "      <td>1</td>\n",
       "      <td>...</td>\n",
       "      <td>0</td>\n",
       "      <td>28</td>\n",
       "      <td>1</td>\n",
       "      <td>326124.90</td>\n",
       "      <td>2</td>\n",
       "      <td>0</td>\n",
       "      <td>4</td>\n",
       "      <td>4</td>\n",
       "      <td>41-65</td>\n",
       "      <td>F</td>\n",
       "    </tr>\n",
       "    <tr>\n",
       "      <th>1</th>\n",
       "      <td>0</td>\n",
       "      <td>0</td>\n",
       "      <td>0</td>\n",
       "      <td>1</td>\n",
       "      <td>0</td>\n",
       "      <td>0</td>\n",
       "      <td>0</td>\n",
       "      <td>0</td>\n",
       "      <td>0</td>\n",
       "      <td>1</td>\n",
       "      <td>...</td>\n",
       "      <td>0</td>\n",
       "      <td>28</td>\n",
       "      <td>1</td>\n",
       "      <td>326124.90</td>\n",
       "      <td>2</td>\n",
       "      <td>0</td>\n",
       "      <td>4</td>\n",
       "      <td>4</td>\n",
       "      <td>41-65</td>\n",
       "      <td>F</td>\n",
       "    </tr>\n",
       "    <tr>\n",
       "      <th>2</th>\n",
       "      <td>1</td>\n",
       "      <td>0</td>\n",
       "      <td>0</td>\n",
       "      <td>0</td>\n",
       "      <td>0</td>\n",
       "      <td>1</td>\n",
       "      <td>0</td>\n",
       "      <td>0</td>\n",
       "      <td>0</td>\n",
       "      <td>1</td>\n",
       "      <td>...</td>\n",
       "      <td>0</td>\n",
       "      <td>28</td>\n",
       "      <td>1</td>\n",
       "      <td>71461.20</td>\n",
       "      <td>2</td>\n",
       "      <td>2</td>\n",
       "      <td>4</td>\n",
       "      <td>3</td>\n",
       "      <td>41-65</td>\n",
       "      <td>F</td>\n",
       "    </tr>\n",
       "    <tr>\n",
       "      <th>3</th>\n",
       "      <td>1</td>\n",
       "      <td>0</td>\n",
       "      <td>0</td>\n",
       "      <td>0</td>\n",
       "      <td>0</td>\n",
       "      <td>1</td>\n",
       "      <td>0</td>\n",
       "      <td>0</td>\n",
       "      <td>0</td>\n",
       "      <td>1</td>\n",
       "      <td>...</td>\n",
       "      <td>0</td>\n",
       "      <td>28</td>\n",
       "      <td>1</td>\n",
       "      <td>71461.20</td>\n",
       "      <td>2</td>\n",
       "      <td>2</td>\n",
       "      <td>4</td>\n",
       "      <td>3</td>\n",
       "      <td>41-65</td>\n",
       "      <td>F</td>\n",
       "    </tr>\n",
       "    <tr>\n",
       "      <th>4</th>\n",
       "      <td>2</td>\n",
       "      <td>0</td>\n",
       "      <td>0</td>\n",
       "      <td>0</td>\n",
       "      <td>0</td>\n",
       "      <td>1</td>\n",
       "      <td>0</td>\n",
       "      <td>0</td>\n",
       "      <td>0</td>\n",
       "      <td>0</td>\n",
       "      <td>...</td>\n",
       "      <td>0</td>\n",
       "      <td>28</td>\n",
       "      <td>1</td>\n",
       "      <td>430477.41</td>\n",
       "      <td>2</td>\n",
       "      <td>0</td>\n",
       "      <td>4</td>\n",
       "      <td>3</td>\n",
       "      <td>41-65</td>\n",
       "      <td>M</td>\n",
       "    </tr>\n",
       "  </tbody>\n",
       "</table>\n",
       "<p>5 rows × 49 columns</p>\n",
       "</div>"
      ],
      "text/plain": [
       "   index  Saving account  Guarantees  Current account  Derivada account  \\\n",
       "0      0               0           0                1                 0   \n",
       "1      0               0           0                1                 0   \n",
       "2      1               0           0                0                 0   \n",
       "3      1               0           0                0                 0   \n",
       "4      2               0           0                0                 0   \n",
       "\n",
       "   Payroll account  Junior account  Most particular account  \\\n",
       "0                0               0                        0   \n",
       "1                0               0                        0   \n",
       "2                1               0                        0   \n",
       "3                1               0                        0   \n",
       "4                1               0                        0   \n",
       "\n",
       "   Particular account  Particular plus account  ...  Deceased index  \\\n",
       "0                   0                        1  ...               0   \n",
       "1                   0                        1  ...               0   \n",
       "2                   0                        1  ...               0   \n",
       "3                   0                        1  ...               0   \n",
       "4                   0                        0  ...               0   \n",
       "\n",
       "   Province name  Activity index     Income  Age group  Income group  \\\n",
       "0             28               1  326124.90          2             0   \n",
       "1             28               1  326124.90          2             0   \n",
       "2             28               1   71461.20          2             2   \n",
       "3             28               1   71461.20          2             2   \n",
       "4             28               1  430477.41          2             0   \n",
       "\n",
       "   Seniority group  Clusters  Age Demographic Group  Gender  \n",
       "0                4         4                  41-65       F  \n",
       "1                4         4                  41-65       F  \n",
       "2                4         3                  41-65       F  \n",
       "3                4         3                  41-65       F  \n",
       "4                4         3                  41-65       M  \n",
       "\n",
       "[5 rows x 49 columns]"
      ]
     },
     "execution_count": 9,
     "metadata": {},
     "output_type": "execute_result"
    }
   ],
   "source": [
    "df_final.head()"
   ]
  },
  {
   "cell_type": "code",
   "execution_count": 45,
   "id": "6a2a47a2",
   "metadata": {},
   "outputs": [],
   "source": [
    "df_final = df_final.drop(['Province name'],axis=1)"
   ]
  },
  {
   "cell_type": "code",
   "execution_count": 46,
   "id": "a1807f56",
   "metadata": {},
   "outputs": [],
   "source": [
    "df_province = pd.read_csv(\"C://Users//JCCLI//Downloads//cust_seg_provinces.csv\")"
   ]
  },
  {
   "cell_type": "code",
   "execution_count": 47,
   "id": "42e691a8",
   "metadata": {},
   "outputs": [
    {
     "data": {
      "text/html": [
       "<div>\n",
       "<style scoped>\n",
       "    .dataframe tbody tr th:only-of-type {\n",
       "        vertical-align: middle;\n",
       "    }\n",
       "\n",
       "    .dataframe tbody tr th {\n",
       "        vertical-align: top;\n",
       "    }\n",
       "\n",
       "    .dataframe thead th {\n",
       "        text-align: right;\n",
       "    }\n",
       "</style>\n",
       "<table border=\"1\" class=\"dataframe\">\n",
       "  <thead>\n",
       "    <tr style=\"text-align: right;\">\n",
       "      <th></th>\n",
       "      <th>Province name</th>\n",
       "    </tr>\n",
       "  </thead>\n",
       "  <tbody>\n",
       "    <tr>\n",
       "      <th>0</th>\n",
       "      <td>MADRID</td>\n",
       "    </tr>\n",
       "    <tr>\n",
       "      <th>1</th>\n",
       "      <td>MADRID</td>\n",
       "    </tr>\n",
       "    <tr>\n",
       "      <th>2</th>\n",
       "      <td>MADRID</td>\n",
       "    </tr>\n",
       "    <tr>\n",
       "      <th>3</th>\n",
       "      <td>MADRID</td>\n",
       "    </tr>\n",
       "    <tr>\n",
       "      <th>4</th>\n",
       "      <td>MADRID</td>\n",
       "    </tr>\n",
       "    <tr>\n",
       "      <th>5</th>\n",
       "      <td>MADRID</td>\n",
       "    </tr>\n",
       "    <tr>\n",
       "      <th>6</th>\n",
       "      <td>MADRID</td>\n",
       "    </tr>\n",
       "    <tr>\n",
       "      <th>7</th>\n",
       "      <td>MADRID</td>\n",
       "    </tr>\n",
       "    <tr>\n",
       "      <th>8</th>\n",
       "      <td>MADRID</td>\n",
       "    </tr>\n",
       "    <tr>\n",
       "      <th>9</th>\n",
       "      <td>MADRID</td>\n",
       "    </tr>\n",
       "  </tbody>\n",
       "</table>\n",
       "</div>"
      ],
      "text/plain": [
       "  Province name\n",
       "0        MADRID\n",
       "1        MADRID\n",
       "2        MADRID\n",
       "3        MADRID\n",
       "4        MADRID\n",
       "5        MADRID\n",
       "6        MADRID\n",
       "7        MADRID\n",
       "8        MADRID\n",
       "9        MADRID"
      ]
     },
     "execution_count": 47,
     "metadata": {},
     "output_type": "execute_result"
    }
   ],
   "source": [
    "df_province.head(10)"
   ]
  },
  {
   "cell_type": "code",
   "execution_count": 48,
   "id": "d7ac57d0",
   "metadata": {},
   "outputs": [],
   "source": [
    "# Merge final dataset\n",
    "final_df = pd.concat([df_final,df_province], axis = 1, join = \"outer\")"
   ]
  },
  {
   "cell_type": "code",
   "execution_count": 42,
   "id": "805198ca",
   "metadata": {},
   "outputs": [],
   "source": [
    "import seaborn as sns"
   ]
  },
  {
   "cell_type": "code",
   "execution_count": 49,
   "id": "081fd038",
   "metadata": {},
   "outputs": [
    {
     "name": "stdout",
     "output_type": "stream",
     "text": [
      "<class 'pandas.core.frame.DataFrame'>\n",
      "RangeIndex: 746563 entries, 0 to 746562\n",
      "Data columns (total 49 columns):\n",
      " #   Column                   Non-Null Count   Dtype  \n",
      "---  ------                   --------------   -----  \n",
      " 0   index                    746563 non-null  int64  \n",
      " 1   Saving account           746563 non-null  int64  \n",
      " 2   Guarantees               746563 non-null  int64  \n",
      " 3   Current account          746563 non-null  int64  \n",
      " 4   Derivada account         746563 non-null  int64  \n",
      " 5   Payroll account          746563 non-null  int64  \n",
      " 6   Junior account           746563 non-null  int64  \n",
      " 7   Most particular account  746563 non-null  int64  \n",
      " 8   Particular account       746563 non-null  int64  \n",
      " 9   Particular plus account  746563 non-null  int64  \n",
      " 10  Short-term deposits      746563 non-null  int64  \n",
      " 11  Medium-term deposits     746563 non-null  int64  \n",
      " 12  Long-term deposits       746563 non-null  int64  \n",
      " 13  e-account                746563 non-null  int64  \n",
      " 14  Funds                    746563 non-null  int64  \n",
      " 15  Mortage                  746563 non-null  int64  \n",
      " 16  Pensions_1               746563 non-null  int64  \n",
      " 17  Loans                    746563 non-null  int64  \n",
      " 18  Taxes                    746563 non-null  int64  \n",
      " 19  Credit card              746563 non-null  int64  \n",
      " 20  Securities               746563 non-null  int64  \n",
      " 21  Home account             746563 non-null  int64  \n",
      " 22  Payroll                  746563 non-null  int64  \n",
      " 23  Pensions_2               746563 non-null  int64  \n",
      " 24  Direct debit             746563 non-null  int64  \n",
      " 25  total_products           746563 non-null  int64  \n",
      " 26  Sex                      746563 non-null  int64  \n",
      " 27  Age                      746563 non-null  int64  \n",
      " 28  Contract date            746563 non-null  int64  \n",
      " 29  Seniority(months)        746563 non-null  int64  \n",
      " 30  Primary                  746563 non-null  int64  \n",
      " 31  Customer type            746563 non-null  int64  \n",
      " 32  Residence index          746563 non-null  int64  \n",
      " 33  Channel                  746563 non-null  int64  \n",
      " 34  Deceased index           746563 non-null  object \n",
      " 35  Income                   746563 non-null  float64\n",
      " 36  Clusters                 746563 non-null  int64  \n",
      " 37  Age Demographic Group    746563 non-null  object \n",
      " 38  Gender                   746563 non-null  object \n",
      " 39  Income Demographic       746563 non-null  object \n",
      " 40  Marketing Channel        746563 non-null  object \n",
      " 41  Country name             746563 non-null  object \n",
      " 42  Employee Index           746563 non-null  object \n",
      " 43  New Customer Index       746563 non-null  object \n",
      " 44  Customer Relation Type   746563 non-null  object \n",
      " 45  Foreigner Index          746563 non-null  object \n",
      " 46  Activity Index           746563 non-null  object \n",
      " 47  Seniority Demographic    746563 non-null  object \n",
      " 48  Province name            746563 non-null  object \n",
      "dtypes: float64(1), int64(35), object(13)\n",
      "memory usage: 279.1+ MB\n"
     ]
    }
   ],
   "source": [
    "final_df.info()"
   ]
  },
  {
   "cell_type": "code",
   "execution_count": 50,
   "id": "bfb9bf69",
   "metadata": {},
   "outputs": [
    {
     "data": {
      "text/plain": [
       "<AxesSubplot:xlabel='Province name', ylabel='count'>"
      ]
     },
     "execution_count": 50,
     "metadata": {},
     "output_type": "execute_result"
    },
    {
     "data": {
      "image/png": "[encoded data removed]",
      "text/plain": [
       "<Figure size 432x288 with 1 Axes>"
      ]
     },
     "metadata": {
      "needs_background": "light"
     },
     "output_type": "display_data"
    }
   ],
   "source": [
    "sns.countplot(x='Province name',data=final_df)"
   ]
  },
  {
   "cell_type": "code",
   "execution_count": 40,
   "id": "f882c77b",
   "metadata": {},
   "outputs": [
    {
     "data": {
      "text/html": [
       "<div>\n",
       "<style scoped>\n",
       "    .dataframe tbody tr th:only-of-type {\n",
       "        vertical-align: middle;\n",
       "    }\n",
       "\n",
       "    .dataframe tbody tr th {\n",
       "        vertical-align: top;\n",
       "    }\n",
       "\n",
       "    .dataframe thead th {\n",
       "        text-align: right;\n",
       "    }\n",
       "</style>\n",
       "<table border=\"1\" class=\"dataframe\">\n",
       "  <thead>\n",
       "    <tr style=\"text-align: right;\">\n",
       "      <th></th>\n",
       "      <th>index</th>\n",
       "      <th>Saving account</th>\n",
       "      <th>Guarantees</th>\n",
       "      <th>Current account</th>\n",
       "      <th>Derivada account</th>\n",
       "      <th>Payroll account</th>\n",
       "      <th>Junior account</th>\n",
       "      <th>Most particular account</th>\n",
       "      <th>Particular account</th>\n",
       "      <th>Particular plus account</th>\n",
       "      <th>...</th>\n",
       "      <th>Income Demographic</th>\n",
       "      <th>Marketing Channel</th>\n",
       "      <th>Country name</th>\n",
       "      <th>Employee Index</th>\n",
       "      <th>New Customer Index</th>\n",
       "      <th>Customer Relation Type</th>\n",
       "      <th>Foreigner Index</th>\n",
       "      <th>Activity Index</th>\n",
       "      <th>Seniority Demographic</th>\n",
       "      <th>Province name</th>\n",
       "    </tr>\n",
       "  </thead>\n",
       "  <tbody>\n",
       "    <tr>\n",
       "      <th>0</th>\n",
       "      <td>0</td>\n",
       "      <td>0</td>\n",
       "      <td>0</td>\n",
       "      <td>1</td>\n",
       "      <td>0</td>\n",
       "      <td>0</td>\n",
       "      <td>0</td>\n",
       "      <td>0</td>\n",
       "      <td>0</td>\n",
       "      <td>1</td>\n",
       "      <td>...</td>\n",
       "      <td>$100k-$500k</td>\n",
       "      <td>KAT</td>\n",
       "      <td>Spain</td>\n",
       "      <td>A</td>\n",
       "      <td>Not Registered last 6 months</td>\n",
       "      <td>A</td>\n",
       "      <td>N</td>\n",
       "      <td>Active</td>\n",
       "      <td>More than 200 months</td>\n",
       "      <td>MADRID</td>\n",
       "    </tr>\n",
       "    <tr>\n",
       "      <th>1</th>\n",
       "      <td>0</td>\n",
       "      <td>0</td>\n",
       "      <td>0</td>\n",
       "      <td>1</td>\n",
       "      <td>0</td>\n",
       "      <td>0</td>\n",
       "      <td>0</td>\n",
       "      <td>0</td>\n",
       "      <td>0</td>\n",
       "      <td>1</td>\n",
       "      <td>...</td>\n",
       "      <td>$100k-$500k</td>\n",
       "      <td>KAT</td>\n",
       "      <td>Spain</td>\n",
       "      <td>A</td>\n",
       "      <td>Not Registered last 6 months</td>\n",
       "      <td>A</td>\n",
       "      <td>N</td>\n",
       "      <td>Active</td>\n",
       "      <td>More than 200 months</td>\n",
       "      <td>MADRID</td>\n",
       "    </tr>\n",
       "    <tr>\n",
       "      <th>2</th>\n",
       "      <td>1</td>\n",
       "      <td>0</td>\n",
       "      <td>0</td>\n",
       "      <td>0</td>\n",
       "      <td>0</td>\n",
       "      <td>1</td>\n",
       "      <td>0</td>\n",
       "      <td>0</td>\n",
       "      <td>0</td>\n",
       "      <td>1</td>\n",
       "      <td>...</td>\n",
       "      <td>$50k-$100k</td>\n",
       "      <td>KAT</td>\n",
       "      <td>Spain</td>\n",
       "      <td>F</td>\n",
       "      <td>Not Registered last 6 months</td>\n",
       "      <td>A</td>\n",
       "      <td>N</td>\n",
       "      <td>Active</td>\n",
       "      <td>More than 200 months</td>\n",
       "      <td>MADRID</td>\n",
       "    </tr>\n",
       "    <tr>\n",
       "      <th>3</th>\n",
       "      <td>1</td>\n",
       "      <td>0</td>\n",
       "      <td>0</td>\n",
       "      <td>0</td>\n",
       "      <td>0</td>\n",
       "      <td>1</td>\n",
       "      <td>0</td>\n",
       "      <td>0</td>\n",
       "      <td>0</td>\n",
       "      <td>1</td>\n",
       "      <td>...</td>\n",
       "      <td>$50k-$100k</td>\n",
       "      <td>KAT</td>\n",
       "      <td>Spain</td>\n",
       "      <td>F</td>\n",
       "      <td>Not Registered last 6 months</td>\n",
       "      <td>A</td>\n",
       "      <td>N</td>\n",
       "      <td>Active</td>\n",
       "      <td>More than 200 months</td>\n",
       "      <td>MADRID</td>\n",
       "    </tr>\n",
       "    <tr>\n",
       "      <th>4</th>\n",
       "      <td>2</td>\n",
       "      <td>0</td>\n",
       "      <td>0</td>\n",
       "      <td>0</td>\n",
       "      <td>0</td>\n",
       "      <td>1</td>\n",
       "      <td>0</td>\n",
       "      <td>0</td>\n",
       "      <td>0</td>\n",
       "      <td>0</td>\n",
       "      <td>...</td>\n",
       "      <td>$100k-$500k</td>\n",
       "      <td>KAT</td>\n",
       "      <td>Spain</td>\n",
       "      <td>A</td>\n",
       "      <td>Not Registered last 6 months</td>\n",
       "      <td>A</td>\n",
       "      <td>N</td>\n",
       "      <td>Active</td>\n",
       "      <td>More than 200 months</td>\n",
       "      <td>MADRID</td>\n",
       "    </tr>\n",
       "  </tbody>\n",
       "</table>\n",
       "<p>5 rows × 50 columns</p>\n",
       "</div>"
      ],
      "text/plain": [
       "   index  Saving account  Guarantees  Current account  Derivada account  \\\n",
       "0      0               0           0                1                 0   \n",
       "1      0               0           0                1                 0   \n",
       "2      1               0           0                0                 0   \n",
       "3      1               0           0                0                 0   \n",
       "4      2               0           0                0                 0   \n",
       "\n",
       "   Payroll account  Junior account  Most particular account  \\\n",
       "0                0               0                        0   \n",
       "1                0               0                        0   \n",
       "2                1               0                        0   \n",
       "3                1               0                        0   \n",
       "4                1               0                        0   \n",
       "\n",
       "   Particular account  Particular plus account  ...  Income Demographic  \\\n",
       "0                   0                        1  ...         $100k-$500k   \n",
       "1                   0                        1  ...         $100k-$500k   \n",
       "2                   0                        1  ...          $50k-$100k   \n",
       "3                   0                        1  ...          $50k-$100k   \n",
       "4                   0                        0  ...         $100k-$500k   \n",
       "\n",
       "   Marketing Channel  Country name  Employee Index  \\\n",
       "0                KAT         Spain               A   \n",
       "1                KAT         Spain               A   \n",
       "2                KAT         Spain               F   \n",
       "3                KAT         Spain               F   \n",
       "4                KAT         Spain               A   \n",
       "\n",
       "             New Customer Index  Customer Relation Type  Foreigner Index  \\\n",
       "0  Not Registered last 6 months                       A                N   \n",
       "1  Not Registered last 6 months                       A                N   \n",
       "2  Not Registered last 6 months                       A                N   \n",
       "3  Not Registered last 6 months                       A                N   \n",
       "4  Not Registered last 6 months                       A                N   \n",
       "\n",
       "   Activity Index  Seniority Demographic  Province name  \n",
       "0          Active   More than 200 months         MADRID  \n",
       "1          Active   More than 200 months         MADRID  \n",
       "2          Active   More than 200 months         MADRID  \n",
       "3          Active   More than 200 months         MADRID  \n",
       "4          Active   More than 200 months         MADRID  \n",
       "\n",
       "[5 rows x 50 columns]"
      ]
     },
     "execution_count": 40,
     "metadata": {},
     "output_type": "execute_result"
    }
   ],
   "source": [
    "final_df.head()"
   ]
  },
  {
   "cell_type": "code",
   "execution_count": 17,
   "id": "9624c319",
   "metadata": {},
   "outputs": [],
   "source": [
    "def country(x):\n",
    "    if x == 0:\n",
    "        return \"Spain\"\n",
    "    else:\n",
    "        pass\n",
    "df_final[\"Country name\"] = df_final[\"Country\"].apply(country)"
   ]
  },
  {
   "cell_type": "code",
   "execution_count": 18,
   "id": "3292dbbd",
   "metadata": {},
   "outputs": [],
   "source": [
    "def employee_index(x):\n",
    "    if x==3:\n",
    "        return 'N'\n",
    "    elif x==1:\n",
    "        return 'B'\n",
    "    elif x==2:\n",
    "        return 'A'\n",
    "    elif x==0:\n",
    "        return 'F'\n",
    "    else:\n",
    "        return 'S'\n",
    "df_final['Employee Index'] = df_final['Employee index'].apply(employee_index)"
   ]
  },
  {
   "cell_type": "code",
   "execution_count": 20,
   "id": "252b43b2",
   "metadata": {},
   "outputs": [],
   "source": [
    "def new_cust_index(x):\n",
    "    if x==0:\n",
    "        return 'Not Registered last 6 months'\n",
    "    else:\n",
    "        return 'Registered last 6 months'\n",
    "df_final['New Customer Index'] = df_final['New customer index'].apply(new_cust_index)"
   ]
  },
  {
   "cell_type": "code",
   "execution_count": 23,
   "id": "5f0a9e78",
   "metadata": {},
   "outputs": [],
   "source": [
    "def cust_relation_type(x):\n",
    "    if x==0:\n",
    "        return 'A'\n",
    "    else:\n",
    "        return 'I'\n",
    "df_final['Customer Relation Type'] = df_final['Customer relation type'].apply(cust_relation_type)"
   ]
  },
  {
   "cell_type": "code",
   "execution_count": 26,
   "id": "8962e52f",
   "metadata": {},
   "outputs": [],
   "source": [
    "def foreigner(x):\n",
    "    if x ==0:\n",
    "        return 'N'\n",
    "    else:\n",
    "        return 'S'\n",
    "df_final['Foreigner Index'] = df_final['Foreigner index'].apply(foreigner)"
   ]
  },
  {
   "cell_type": "code",
   "execution_count": 28,
   "id": "87c4b391",
   "metadata": {},
   "outputs": [],
   "source": [
    "def deceased(x):\n",
    "    if x==0:\n",
    "        return 'N'\n",
    "    else:\n",
    "        return 'S'\n",
    "df_final['Deceased index'] = df_final['Deceased index'].apply(deceased)"
   ]
  },
  {
   "cell_type": "code",
   "execution_count": 30,
   "id": "ab621355",
   "metadata": {},
   "outputs": [],
   "source": [
    "def activity(x):\n",
    "    if x==1:\n",
    "        return 'Active'\n",
    "    else:\n",
    "        return 'Inactive'\n",
    "df_final['Activity Index'] = df_final['Activity index'].apply(activity)"
   ]
  },
  {
   "cell_type": "code",
   "execution_count": 29,
   "id": "8e709c84",
   "metadata": {},
   "outputs": [
    {
     "data": {
      "text/plain": [
       "1    427429\n",
       "0    319134\n",
       "Name: Activity index, dtype: int64"
      ]
     },
     "execution_count": 29,
     "metadata": {},
     "output_type": "execute_result"
    }
   ],
   "source": [
    "df_final['Activity index'].value_counts().head(10)"
   ]
  },
  {
   "cell_type": "code",
   "execution_count": 19,
   "id": "8da13c98",
   "metadata": {},
   "outputs": [
    {
     "data": {
      "text/plain": [
       "0    746332\n",
       "1       231\n",
       "Name: New customer index, dtype: int64"
      ]
     },
     "execution_count": 19,
     "metadata": {},
     "output_type": "execute_result"
    }
   ],
   "source": [
    "df_final['New customer index'].value_counts().head(10)"
   ]
  },
  {
   "cell_type": "code",
   "execution_count": 11,
   "id": "3c0b3895",
   "metadata": {},
   "outputs": [
    {
     "data": {
      "text/html": [
       "<div>\n",
       "<style scoped>\n",
       "    .dataframe tbody tr th:only-of-type {\n",
       "        vertical-align: middle;\n",
       "    }\n",
       "\n",
       "    .dataframe tbody tr th {\n",
       "        vertical-align: top;\n",
       "    }\n",
       "\n",
       "    .dataframe thead th {\n",
       "        text-align: right;\n",
       "    }\n",
       "</style>\n",
       "<table border=\"1\" class=\"dataframe\">\n",
       "  <thead>\n",
       "    <tr style=\"text-align: right;\">\n",
       "      <th></th>\n",
       "      <th>index</th>\n",
       "      <th>Saving account</th>\n",
       "      <th>Guarantees</th>\n",
       "      <th>Current account</th>\n",
       "      <th>Derivada account</th>\n",
       "      <th>Payroll account</th>\n",
       "      <th>Junior account</th>\n",
       "      <th>Most particular account</th>\n",
       "      <th>Particular account</th>\n",
       "      <th>Particular plus account</th>\n",
       "      <th>...</th>\n",
       "      <th>Province name</th>\n",
       "      <th>Activity index</th>\n",
       "      <th>Income</th>\n",
       "      <th>Age group</th>\n",
       "      <th>Income group</th>\n",
       "      <th>Seniority group</th>\n",
       "      <th>Clusters</th>\n",
       "      <th>Segment group</th>\n",
       "      <th>Province name</th>\n",
       "      <th>Country name</th>\n",
       "    </tr>\n",
       "  </thead>\n",
       "  <tbody>\n",
       "    <tr>\n",
       "      <th>0</th>\n",
       "      <td>0</td>\n",
       "      <td>0</td>\n",
       "      <td>0</td>\n",
       "      <td>1</td>\n",
       "      <td>0</td>\n",
       "      <td>0</td>\n",
       "      <td>0</td>\n",
       "      <td>0</td>\n",
       "      <td>0</td>\n",
       "      <td>1</td>\n",
       "      <td>...</td>\n",
       "      <td>28</td>\n",
       "      <td>1</td>\n",
       "      <td>326124.90</td>\n",
       "      <td>2</td>\n",
       "      <td>0</td>\n",
       "      <td>4</td>\n",
       "      <td>4</td>\n",
       "      <td>21 and older with no more than 11 products</td>\n",
       "      <td>MADRID</td>\n",
       "      <td>Spain</td>\n",
       "    </tr>\n",
       "    <tr>\n",
       "      <th>1</th>\n",
       "      <td>0</td>\n",
       "      <td>0</td>\n",
       "      <td>0</td>\n",
       "      <td>1</td>\n",
       "      <td>0</td>\n",
       "      <td>0</td>\n",
       "      <td>0</td>\n",
       "      <td>0</td>\n",
       "      <td>0</td>\n",
       "      <td>1</td>\n",
       "      <td>...</td>\n",
       "      <td>28</td>\n",
       "      <td>1</td>\n",
       "      <td>326124.90</td>\n",
       "      <td>2</td>\n",
       "      <td>0</td>\n",
       "      <td>4</td>\n",
       "      <td>4</td>\n",
       "      <td>21 and older with no more than 11 products</td>\n",
       "      <td>MADRID</td>\n",
       "      <td>Spain</td>\n",
       "    </tr>\n",
       "    <tr>\n",
       "      <th>2</th>\n",
       "      <td>1</td>\n",
       "      <td>0</td>\n",
       "      <td>0</td>\n",
       "      <td>0</td>\n",
       "      <td>0</td>\n",
       "      <td>1</td>\n",
       "      <td>0</td>\n",
       "      <td>0</td>\n",
       "      <td>0</td>\n",
       "      <td>1</td>\n",
       "      <td>...</td>\n",
       "      <td>28</td>\n",
       "      <td>1</td>\n",
       "      <td>71461.20</td>\n",
       "      <td>2</td>\n",
       "      <td>2</td>\n",
       "      <td>4</td>\n",
       "      <td>3</td>\n",
       "      <td>Most purchases</td>\n",
       "      <td>MADRID</td>\n",
       "      <td>Spain</td>\n",
       "    </tr>\n",
       "    <tr>\n",
       "      <th>3</th>\n",
       "      <td>1</td>\n",
       "      <td>0</td>\n",
       "      <td>0</td>\n",
       "      <td>0</td>\n",
       "      <td>0</td>\n",
       "      <td>1</td>\n",
       "      <td>0</td>\n",
       "      <td>0</td>\n",
       "      <td>0</td>\n",
       "      <td>1</td>\n",
       "      <td>...</td>\n",
       "      <td>28</td>\n",
       "      <td>1</td>\n",
       "      <td>71461.20</td>\n",
       "      <td>2</td>\n",
       "      <td>2</td>\n",
       "      <td>4</td>\n",
       "      <td>3</td>\n",
       "      <td>Most purchases</td>\n",
       "      <td>MADRID</td>\n",
       "      <td>Spain</td>\n",
       "    </tr>\n",
       "    <tr>\n",
       "      <th>4</th>\n",
       "      <td>2</td>\n",
       "      <td>0</td>\n",
       "      <td>0</td>\n",
       "      <td>0</td>\n",
       "      <td>0</td>\n",
       "      <td>1</td>\n",
       "      <td>0</td>\n",
       "      <td>0</td>\n",
       "      <td>0</td>\n",
       "      <td>0</td>\n",
       "      <td>...</td>\n",
       "      <td>28</td>\n",
       "      <td>1</td>\n",
       "      <td>430477.41</td>\n",
       "      <td>2</td>\n",
       "      <td>0</td>\n",
       "      <td>4</td>\n",
       "      <td>3</td>\n",
       "      <td>Most purchases</td>\n",
       "      <td>MADRID</td>\n",
       "      <td>Spain</td>\n",
       "    </tr>\n",
       "  </tbody>\n",
       "</table>\n",
       "<p>5 rows × 50 columns</p>\n",
       "</div>"
      ],
      "text/plain": [
       "   index  Saving account  Guarantees  Current account  Derivada account  \\\n",
       "0      0               0           0                1                 0   \n",
       "1      0               0           0                1                 0   \n",
       "2      1               0           0                0                 0   \n",
       "3      1               0           0                0                 0   \n",
       "4      2               0           0                0                 0   \n",
       "\n",
       "   Payroll account  Junior account  Most particular account  \\\n",
       "0                0               0                        0   \n",
       "1                0               0                        0   \n",
       "2                1               0                        0   \n",
       "3                1               0                        0   \n",
       "4                1               0                        0   \n",
       "\n",
       "   Particular account  Particular plus account  ...  Province name  \\\n",
       "0                   0                        1  ...             28   \n",
       "1                   0                        1  ...             28   \n",
       "2                   0                        1  ...             28   \n",
       "3                   0                        1  ...             28   \n",
       "4                   0                        0  ...             28   \n",
       "\n",
       "   Activity index     Income  Age group  Income group  Seniority group  \\\n",
       "0               1  326124.90          2             0                4   \n",
       "1               1  326124.90          2             0                4   \n",
       "2               1   71461.20          2             2                4   \n",
       "3               1   71461.20          2             2                4   \n",
       "4               1  430477.41          2             0                4   \n",
       "\n",
       "   Clusters                               Segment group  Province name  \\\n",
       "0         4  21 and older with no more than 11 products         MADRID   \n",
       "1         4  21 and older with no more than 11 products         MADRID   \n",
       "2         3                              Most purchases         MADRID   \n",
       "3         3                              Most purchases         MADRID   \n",
       "4         3                              Most purchases         MADRID   \n",
       "\n",
       "   Country name  \n",
       "0         Spain  \n",
       "1         Spain  \n",
       "2         Spain  \n",
       "3         Spain  \n",
       "4         Spain  \n",
       "\n",
       "[5 rows x 50 columns]"
      ]
     },
     "execution_count": 11,
     "metadata": {},
     "output_type": "execute_result"
    }
   ],
   "source": [
    "final_df.head()"
   ]
  },
  {
   "cell_type": "code",
   "execution_count": 51,
   "id": "97a17565",
   "metadata": {},
   "outputs": [],
   "source": [
    "final_df.to_csv('C://Users//JCCLI//Downloads//Customer_Segmentation_Final.csv', index=False, header=True)"
   ]
  },
  {
   "cell_type": "code",
   "execution_count": 33,
   "id": "71be7f73",
   "metadata": {},
   "outputs": [],
   "source": [
    "import xlsxwriter"
   ]
  },
  {
   "cell_type": "code",
   "execution_count": 32,
   "id": "e5694611",
   "metadata": {},
   "outputs": [
    {
     "name": "stdout",
     "output_type": "stream",
     "text": [
      "Collecting xlsxwriterNote: you may need to restart the kernel to use updated packages.\n",
      "\n",
      "  Downloading XlsxWriter-3.0.3-py3-none-any.whl (149 kB)\n",
      "Installing collected packages: xlsxwriter\n",
      "Successfully installed xlsxwriter-3.0.3\n"
     ]
    }
   ],
   "source": [
    "pip install xlsxwriter"
   ]
  },
  {
   "cell_type": "code",
   "execution_count": 54,
   "id": "25f05933",
   "metadata": {},
   "outputs": [
    {
     "data": {
      "text/plain": [
       "<AxesSubplot:xlabel='Income Demographic', ylabel='count'>"
      ]
     },
     "execution_count": 54,
     "metadata": {},
     "output_type": "execute_result"
    },
    {
     "data": {
      "image/png": "[encoded data removed]",
      "text/plain": [
       "<Figure size 432x288 with 1 Axes>"
      ]
     },
     "metadata": {
      "needs_background": "light"
     },
     "output_type": "display_data"
    }
   ],
   "source": [
    "sns.countplot(x='Income Demographic',hue='Clusters',data=final_df)"
   ]
  },
  {
   "cell_type": "code",
   "execution_count": 55,
   "id": "1a4ea1ae",
   "metadata": {},
   "outputs": [],
   "source": [
    "final_df_cluster_1 = final_df[final_df['Clusters']==0]"
   ]
  },
  {
   "cell_type": "code",
   "execution_count": null,
   "id": "a306e736",
   "metadata": {},
   "outputs": [],
   "source": [
    "fin"
   ]
  },
  {
   "cell_type": "code",
   "execution_count": 57,
   "id": "5a397a4d",
   "metadata": {},
   "outputs": [],
   "source": [
    "import matplotlib.pyplot as plt"
   ]
  },
  {
   "cell_type": "code",
   "execution_count": 58,
   "id": "bc1be8b4",
   "metadata": {},
   "outputs": [
    {
     "data": {
      "text/plain": [
       "(array([52829., 20370., 33605., 37263., 18763., 11073.,  7045.,  3718.,\n",
       "         2092.,  1415.]),\n",
       " array([18. , 25.3, 32.6, 39.9, 47.2, 54.5, 61.8, 69.1, 76.4, 83.7, 91. ]),\n",
       " <BarContainer object of 10 artists>)"
      ]
     },
     "execution_count": 58,
     "metadata": {},
     "output_type": "execute_result"
    },
    {
     "data": {
      "image/png": "[encoded data removed]",
      "text/plain": [
       "<Figure size 432x288 with 1 Axes>"
      ]
     },
     "metadata": {
      "needs_background": "light"
     },
     "output_type": "display_data"
    }
   ],
   "source": [
    "plt.hist(x='Age',data=final_df_cluster_1)"
   ]
  },
  {
   "cell_type": "code",
   "execution_count": 53,
   "id": "a06f2307",
   "metadata": {},
   "outputs": [],
   "source": [
    "final_df['Clusters'] = final_df['Clusters'].astype('category')"
   ]
  },
  {
   "cell_type": "code",
   "execution_count": null,
   "id": "ec79ff57",
   "metadata": {},
   "outputs": [],
   "source": []
  }
 ],
 "metadata": {
  "kernelspec": {
   "display_name": "Python 3 (ipykernel)",
   "language": "python",
   "name": "python3"
  },
  "language_info": {
   "codemirror_mode": {
    "name": "ipython",
    "version": 3
   },
   "file_extension": ".py",
   "mimetype": "text/x-python",
   "name": "python",
   "nbconvert_exporter": "python",
   "pygments_lexer": "ipython3",
   "version": "3.9.12"
  }
 },
 "nbformat": 4,
 "nbformat_minor": 5
}
