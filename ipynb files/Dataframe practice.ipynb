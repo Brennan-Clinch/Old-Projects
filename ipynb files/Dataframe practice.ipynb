{
 "cells": [
  {
   "cell_type": "code",
   "execution_count": 1,
   "metadata": {},
   "outputs": [
    {
     "name": "stdout",
     "output_type": "stream",
     "text": [
      "The first table is: \n",
      "           0         1         2         3\n",
      "0  0.619038  1.271438  0.721988  1.523947\n",
      "1  1.147199 -1.041049  0.767786 -0.842742\n",
      "2  0.271973  0.859720  0.836535 -0.745620\n",
      "3 -0.538185  0.216019 -1.453922  0.321943\n",
      "The second table is: \n",
      "           0         1         2         3\n",
      "0  1.698906  2.100118  0.628057  0.006789\n",
      "1 -0.893996 -1.070716  1.001877  1.846617\n",
      "2  1.405733 -0.071738  0.118419  1.486989\n",
      "3 -0.519996 -0.668519  0.234230  0.942479\n",
      "The third table, which is the sum of the first and second tables, is: \n",
      "           0         1         2         3\n",
      "0  2.317944  3.371556  1.350045  1.530736\n",
      "1  0.253202 -2.111765  1.769663  1.003875\n",
      "2  1.677706  0.787982  0.954954  0.741369\n",
      "3 -1.058181 -0.452501 -1.219692  1.264422\n"
     ]
    },
    {
     "data": {
      "text/html": [
       "<div>\n",
       "<style scoped>\n",
       "    .dataframe tbody tr th:only-of-type {\n",
       "        vertical-align: middle;\n",
       "    }\n",
       "\n",
       "    .dataframe tbody tr th {\n",
       "        vertical-align: top;\n",
       "    }\n",
       "\n",
       "    .dataframe thead th {\n",
       "        text-align: right;\n",
       "    }\n",
       "</style>\n",
       "<table border=\"1\" class=\"dataframe\">\n",
       "  <thead>\n",
       "    <tr style=\"text-align: right;\">\n",
       "      <th></th>\n",
       "      <th>0</th>\n",
       "      <th>1</th>\n",
       "      <th>2</th>\n",
       "    </tr>\n",
       "  </thead>\n",
       "  <tbody>\n",
       "    <tr>\n",
       "      <th>0</th>\n",
       "      <td>2.317944</td>\n",
       "      <td>3.371556</td>\n",
       "      <td>1.350045</td>\n",
       "    </tr>\n",
       "    <tr>\n",
       "      <th>1</th>\n",
       "      <td>0.253202</td>\n",
       "      <td>-2.111765</td>\n",
       "      <td>1.769663</td>\n",
       "    </tr>\n",
       "    <tr>\n",
       "      <th>2</th>\n",
       "      <td>1.677706</td>\n",
       "      <td>0.787982</td>\n",
       "      <td>0.954954</td>\n",
       "    </tr>\n",
       "    <tr>\n",
       "      <th>3</th>\n",
       "      <td>-1.058181</td>\n",
       "      <td>-0.452501</td>\n",
       "      <td>-1.219692</td>\n",
       "    </tr>\n",
       "  </tbody>\n",
       "</table>\n",
       "</div>"
      ],
      "text/plain": [
       "          0         1         2\n",
       "0  2.317944  3.371556  1.350045\n",
       "1  0.253202 -2.111765  1.769663\n",
       "2  1.677706  0.787982  0.954954\n",
       "3 -1.058181 -0.452501 -1.219692"
      ]
     },
     "execution_count": 1,
     "metadata": {},
     "output_type": "execute_result"
    }
   ],
   "source": [
    "import numpy as np\n",
    "import pandas as pd\n",
    "D = np.random.randn(4,4)\n",
    "R = np.random.randn(4,4)\n",
    "framefile = pd.DataFrame(data = D)\n",
    "print('The first table is:', '\\n',framefile)\n",
    "framefile2 = pd.DataFrame(data = R)\n",
    "print('The second table is:', '\\n',framefile2)\n",
    "framefile3 = framefile+framefile2\n",
    "print('The third table, which is the sum of the first and second tables, is:', '\\n',framefile3)\n",
    "framefile3.drop(3,axis = 1)"
   ]
  },
  {
   "cell_type": "code",
   "execution_count": null,
   "metadata": {},
   "outputs": [],
   "source": []
  }
 ],
 "metadata": {
  "kernelspec": {
   "display_name": "Python 3",
   "language": "python",
   "name": "python3"
  },
  "language_info": {
   "codemirror_mode": {
    "name": "ipython",
    "version": 3
   },
   "file_extension": ".py",
   "mimetype": "text/x-python",
   "name": "python",
   "nbconvert_exporter": "python",
   "pygments_lexer": "ipython3",
   "version": "3.7.3"
  }
 },
 "nbformat": 4,
 "nbformat_minor": 2
}
