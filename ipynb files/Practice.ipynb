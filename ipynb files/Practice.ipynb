{
 "cells": [
  {
   "cell_type": "code",
   "execution_count": null,
   "metadata": {},
   "outputs": [],
   "source": [
    "amount = 1\n",
    "while amount <= 20:\n",
    "    print(\"Hello python!\")\n",
    "    amount += 1\n"
   ]
  },
  {
   "cell_type": "code",
   "execution_count": null,
   "metadata": {},
   "outputs": [],
   "source": [
    "amount = 1\n",
    "L = [1,2,3,4,5]\n",
    "print(L)\n",
    "while amount != 0:\n",
    "    amount = L.pop()\n",
    "    print(L) \n",
    "    if L == []:\n",
    "        break\n",
    "\n",
    "\n",
    "    \n",
    "    \n",
    "    "
   ]
  },
  {
   "cell_type": "code",
   "execution_count": null,
   "metadata": {},
   "outputs": [],
   "source": [
    "\n",
    "    L = [x**2 for x in range (1,20)] \n",
    "    result = sum(L)\n",
    "    print(result)"
   ]
  },
  {
   "cell_type": "code",
   "execution_count": null,
   "metadata": {},
   "outputs": [],
   "source": [
    "\n"
   ]
  },
  {
   "cell_type": "code",
   "execution_count": null,
   "metadata": {},
   "outputs": [],
   "source": [
    "s = 'I love nintendo, mario, I love to play video games, and love math, I plan to pursue a major in statistics at Illinois State University.'\n",
    "def word_count(string):\n",
    "    string = string.split()\n",
    "    dict = {}\n",
    "    for word in string:\n",
    "        if word in dict:\n",
    "            dict[word] += 1\n",
    "        else:\n",
    "            dict[word] = 1\n",
    "    print(dict)\n",
    "word_count(s)\n"
   ]
  },
  {
   "cell_type": "code",
   "execution_count": null,
   "metadata": {},
   "outputs": [],
   "source": [
    "import random\n",
    "amount = 1\n",
    "L = [random.randint(1,50) for x in range(30)]\n",
    "print(L)\n",
    "while amount != 0:\n",
    "    amount = L.pop()\n",
    "    print(L)\n",
    "    if L == []:\n",
    "        break\n"
   ]
  },
  {
   "cell_type": "code",
   "execution_count": null,
   "metadata": {},
   "outputs": [],
   "source": [
    "matrix_A = [[1,8,9], [8,7,2]]\n",
    "matrix_B = [[3,9,9,8],[1,0,3,2], [4,8,7,5]]\n",
    "end_result = [[0,0,0,0], [0,0,0,0]]\n",
    "for i in range (len(matrix_A)):\n",
    "    for j in range (len(matrix_B[0])):\n",
    "        for k in range(len(matrix_B)):\n",
    "            end_result[i][j] += matrix_A[i][k]*matrix_B[k][j]\n",
    "print(end_result)"
   ]
  },
  {
   "cell_type": "code",
   "execution_count": null,
   "metadata": {},
   "outputs": [],
   "source": [
    "\n",
    "\n",
    "\n",
    "price = input(\"What is the capital of Illinois?: \")\n",
    "if price == \"Springfield\":\n",
    "     print(\"Correct\")\n",
    "else:\n",
    "    print(\"Incorrect\")\n",
    "if True:\n",
    "    integer = input(\"When is my birthday?\")\n",
    "    if integer == \"November 6\":\n",
    "        print(\"Correct\")\n",
    "    else:\n",
    "        print(\"Incorrect\")\n",
    "    \n",
    "    \n"
   ]
  },
  {
   "cell_type": "code",
   "execution_count": null,
   "metadata": {},
   "outputs": [],
   "source": [
    "def intersect(seq1,seq2):\n",
    "    res = []\n",
    "    for x in seq1:\n",
    "        if x in seq2:\n",
    "            res.append(x)\n",
    "    return res\n",
    "intersect(seq1,seq2)"
   ]
  },
  {
   "cell_type": "code",
   "execution_count": null,
   "metadata": {},
   "outputs": [],
   "source": [
    "def f1():\n",
    "    for y in range(10):\n",
    "        print(\"Hello world!\")\n",
    "f1()\n",
    "        "
   ]
  },
  {
   "cell_type": "code",
   "execution_count": null,
   "metadata": {},
   "outputs": [],
   "source": [
    "s = \"Brennan Clinch on math\"\n",
    "s[0]+s[5]+s[6]+ \" \" + s[5]+s[9]+s[12]+s[15]+s[13]+s[15]+s[9]\n"
   ]
  },
  {
   "cell_type": "code",
   "execution_count": null,
   "metadata": {},
   "outputs": [],
   "source": [
    "' '.join(['Brennan','Thomas','Clinch']"
   ]
  },
  {
   "cell_type": "code",
   "execution_count": null,
   "metadata": {},
   "outputs": [],
   "source": [
    "L = ['Brennan', 'Clinch']\n",
    "\n",
    "L.reverse()\n",
    "L"
   ]
  }
 ],
 "metadata": {
  "kernelspec": {
   "display_name": "Python 3",
   "language": "python",
   "name": "python3"
  },
  "language_info": {
   "codemirror_mode": {
    "name": "ipython",
    "version": 3
   },
   "file_extension": ".py",
   "mimetype": "text/x-python",
   "name": "python",
   "nbconvert_exporter": "python",
   "pygments_lexer": "ipython3",
   "version": "3.7.3"
  }
 },
 "nbformat": 4,
 "nbformat_minor": 2
}
