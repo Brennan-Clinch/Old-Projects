{
 "cells": [
  {
   "cell_type": "code",
   "execution_count": 1,
   "metadata": {},
   "outputs": [
    {
     "name": "stdout",
     "output_type": "stream",
     "text": [
      "Enter a ULID: b\n",
      "b consists of only alphabetical letters\n"
     ]
    }
   ],
   "source": [
    "#problem1\n",
    "ULID = input(\"Enter a ULID: \")\n",
    "numbers = [\"1\",\"2\",\"3\",\"4\",\"5\",\"6\",\"7\",\"8\",\"9\"]\n",
    "if ULID.isalpha():\n",
    "    print(ULID, \"consists of only alphabetical letters\")\n",
    "elif ULID[-1] in numbers:\n",
    "    print(ULID, \"ends with a number.\")\n",
    "    print(\"The reversed ULID is\", ULID[::-1])\n",
    "else:\n",
    "    print(ULID, \"is not a valid ULID\")\n",
    "\n",
    "    \n",
    "    \n",
    "    \n",
    "\n",
    "    "
   ]
  },
  {
   "cell_type": "code",
   "execution_count": 2,
   "metadata": {},
   "outputs": [
    {
     "name": "stdout",
     "output_type": "stream",
     "text": [
      "Enter a number:123\n",
      "It is an odd number and the value is  123.\n"
     ]
    }
   ],
   "source": [
    "#problem2\n",
    "number = input(\"Enter a number:\")\n",
    "even_number = \"It is an even number and the value is\"\n",
    "float_number = \"It is a floating point number and the value is\"\n",
    "odd_number = \"It is an odd number and the value is\"\n",
    "if \".\" in number:\n",
    "    print(float_number , \"\" ,number + \".\")\n",
    "elif abs(int(number)) % 2==0:\n",
    "    print(even_number , \"\" ,number + \".\")\n",
    "else:\n",
    "    print(odd_number, \"\",number + \".\")\n"
   ]
  },
  {
   "cell_type": "code",
   "execution_count": 6,
   "metadata": {},
   "outputs": [
    {
     "name": "stdout",
     "output_type": "stream",
     "text": [
      "Enter a number:-12.3\n",
      "-12.3  is a negative floating point number.\n"
     ]
    }
   ],
   "source": [
    "#problem3\n",
    "number = input(\"Enter a number:\")\n",
    "positive_even_number = \"is a positive even number.\"\n",
    "negative_even_number = \"is a negative even number.\"\n",
    "positive_float_number = \"is a positive floating point number.\"\n",
    "negative_float_number = \"is a negative floating point number.\"\n",
    "positive_odd_number = \"is a positive odd number.\"\n",
    "negative_odd_number = \"is a negative odd number.\"\n",
    "if \".\" in number:\n",
    "    if float(number) < 0:\n",
    "        print(number, \"\", negative_float_number)\n",
    "        \n",
    "    \n",
    "    else:\n",
    "        print(number, \"\", positive_float_number)\n",
    "elif abs(int(number)) % 2==0 and int(number)>0:\n",
    "        print(number, \"\", positive_even_number)\n",
    "\n",
    "elif abs(int(number)) % 2==0 and int(number) <0:\n",
    "        print(number, \"\", negative_even_number)\n",
    "    \n",
    "elif int(number) > 0:\n",
    "    print(number, \"\", positive_odd_number)\n",
    "else:\n",
    "    print(number, \"\", negative_odd_number)\n"
   ]
  },
  {
   "cell_type": "code",
   "execution_count": null,
   "metadata": {},
   "outputs": [],
   "source": []
  }
 ],
 "metadata": {
  "kernelspec": {
   "display_name": "Python 3",
   "language": "python",
   "name": "python3"
  },
  "language_info": {
   "codemirror_mode": {
    "name": "ipython",
    "version": 3
   },
   "file_extension": ".py",
   "mimetype": "text/x-python",
   "name": "python",
   "nbconvert_exporter": "python",
   "pygments_lexer": "ipython3",
   "version": "3.7.3"
  }
 },
 "nbformat": 4,
 "nbformat_minor": 2
}
