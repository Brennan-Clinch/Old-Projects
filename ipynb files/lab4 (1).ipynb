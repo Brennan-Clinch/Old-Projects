{
 "cells": [
  {
   "cell_type": "code",
   "execution_count": null,
   "metadata": {
    "scrolled": true
   },
   "outputs": [],
   "source": [
    "#problem1\n",
    "import random\n",
    "import math\n",
    "\n",
    "L = [random.randint(0,1000) for x in range (50)]\n",
    "print(\"The list is:\", L)\n",
    "mean = sum(L)/50\n",
    "for x in L:\n",
    "    stdv = math.sqrt(sum([(x-mean)**2])/len(L))\n",
    "print(\"Mean: \", mean)\n",
    "print(\"Standard deviation: \", round(stdv,2))"
   ]
  },
  {
   "cell_type": "code",
   "execution_count": null,
   "metadata": {},
   "outputs": [],
   "source": [
    "#problem2\n",
    "import math\n",
    "x = 10\n",
    "n = input(\"input number of expansions for maclaurin series for e**10:\")\n",
    "nn = int(n) + 1\n",
    "L = []\n",
    "for i in range (0,nn):\n",
    "    L.append((x**i)/math.factorial(i))\n",
    "print(\"The exponential is\", x)\n",
    "print(\"There are\", n, \"steps of expansions.\")\n",
    "print(\"The ground truth for e**10 is \", math.e**10)\n",
    "print(\"Our result is: \", sum(L))\n",
    "    "
   ]
  },
  {
   "cell_type": "code",
   "execution_count": 1,
   "metadata": {},
   "outputs": [
    {
     "name": "stdout",
     "output_type": "stream",
     "text": [
      "One of the solutions is: [7, 8, 4, 5, 4, 5, 3, 4, 2]\n"
     ]
    }
   ],
   "source": [
    "#problem3\n",
    "import random\n",
    "result= 0\n",
    "\n",
    "\n",
    "while result !=66:\n",
    "   \n",
    "    x = [random.randint(1,9) for x in range(9)]\n",
    "    result =x[0]+(13*x[1]/x[2])+x[3]+12*x[4]-x[5]+(x[6]*x[7]/x[8])-10-11\n",
    "print(\"One of the solutions is:\",x)\n",
    "        \n",
    "    \n",
    "    \n",
    "\n",
    "        \n",
    "    \n",
    "    \n",
    "    \n",
    "\n",
    "     \n",
    "    \n",
    "\n",
    "    \n",
    "        \n",
    "        \n",
    "        \n",
    "            \n",
    "    \n",
    "        \n",
    "    \n",
    "\n",
    "\n",
    "\n",
    "\n",
    "\n",
    "    \n",
    "\n",
    "  \n",
    "\n",
    "\n",
    "\n",
    "\n"
   ]
  },
  {
   "cell_type": "code",
   "execution_count": null,
   "metadata": {},
   "outputs": [],
   "source": []
  }
 ],
 "metadata": {
  "kernelspec": {
   "display_name": "Python 3",
   "language": "python",
   "name": "python3"
  },
  "language_info": {
   "codemirror_mode": {
    "name": "ipython",
    "version": 3
   },
   "file_extension": ".py",
   "mimetype": "text/x-python",
   "name": "python",
   "nbconvert_exporter": "python",
   "pygments_lexer": "ipython3",
   "version": "3.7.3"
  }
 },
 "nbformat": 4,
 "nbformat_minor": 2
}
