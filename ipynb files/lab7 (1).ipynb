{
 "cells": [
  {
   "cell_type": "code",
   "execution_count": 1,
   "metadata": {},
   "outputs": [
    {
     "name": "stdout",
     "output_type": "stream",
     "text": [
      "Make A Better Place...\n",
      "Make A Little Space\n",
      "\n",
      "For The Living\n",
      "\n",
      "If You Care Enough\n",
      "\n",
      "To Get There\n",
      "\n",
      "There Are Ways\n",
      "\n",
      "\n",
      "\n",
      "There's No Hurt Or Sorrow\n",
      "\n",
      "In This Place You'll Feel\n",
      "\n",
      "To Cry\n",
      "\n",
      "You'll Find There's No Need\n",
      "\n",
      "And If You Really Try\n",
      "\n",
      "Brighter Than Tomorrow\n",
      "\n",
      "Be Much\n",
      "\n",
      "And This Place Could\n",
      "\n",
      "And I Know That It Is Love\n",
      "\n",
      "Your Heart\n",
      "\n",
      "There's A Place In\n",
      "\n",
      "\n"
     ]
    }
   ],
   "source": [
    "class Reverse:\n",
    "    def __init__(self,file):\n",
    "        self.file = file\n",
    "    def reverse(x):\n",
    "        lines = x.file.readlines()    \n",
    "        with open('reversed_song.txt', 'w') as file:\n",
    "            for i in lines[::-1]:\n",
    "                file.write(i+ '\\n' )\n",
    "                \n",
    "                \n",
    "reverser = Reverse(open('song.txt'))\n",
    "reverser.reverse()\n",
    "\n",
    "\n",
    "with open('reversed_song.txt') as f:\n",
    "    print(f.read())"
   ]
  },
  {
   "cell_type": "code",
   "execution_count": 2,
   "metadata": {},
   "outputs": [
    {
     "name": "stdout",
     "output_type": "stream",
     "text": [
      "The list is: [2006, 4783, 6799]\n",
      "The dictionary is: {'Since': 1, 'reviews': 2, 'of': 3, 'much': 1, 'work': 2, 'on': 3, 'sentiment': 3, 'analysis': 1, 'have': 1, 'already': 1, 'been': 1, 'included': 1, 'in': 3, 'this': 1, 'section': 1, 'we': 1, 'will': 1, 'only': 1, 'review': 1, 'some': 2, 'previous': 1, 'upon': 1, 'which': 1, 'our': 1, 'research': 1, 'is': 4, 'essentially': 2, 'based': 3, 'Hu': 1, 'and': 4, 'Liu': 1, 'summarized': 1, 'a': 7, 'list': 4, 'positive': 3, 'words': 5, 'negative': 3, 'respectively': 1, 'customer': 1, 'The': 1, 'contains': 1, 'the': 2, 'has': 1, 'Both': 1, 'lists': 1, 'also': 1, 'include': 1, 'misspelled': 1, 'that': 3, 'are': 1, 'frequently': 1, 'present': 1, 'social': 1, 'media': 1, 'content': 2, 'Sentiment': 2, 'categorization': 1, 'classification': 2, 'problem': 1, 'where': 2, 'features': 1, 'contain': 1, 'opinions': 1, 'or': 2, 'information': 1, 'should': 1, 'be': 1, 'identified': 1, 'before': 1, 'For': 1, 'feature': 1, 'selection': 1, 'Pang': 1, 'Lee': 1, 'suggested': 1, 'to': 2, 'remove': 1, 'objective': 1, 'sentences': 1, 'by': 1, 'extracting': 1, 'subjective': 2, 'ones': 1, 'They': 1, 'proposed': 1, 'text-categorization': 1, 'technique': 1, 'able': 1, 'identify': 1, 'using': 1, 'minimum': 1, 'cut': 1, 'Gann': 1, 'et': 1, 'al.': 1, 'selected': 1, 'tokens': 1, 'Twitter': 1, 'data': 1, 'each': 1, 'token': 3, 'assigned': 1, 'score': 1, 'namely': 1, 'Total': 1, 'Index': 1, 'featuring': 1, 'itself': 1, 'as': 1}\n"
     ]
    }
   ],
   "source": [
    "#problem 2\n",
    "class FileParser:\n",
    "    def __init__(self,f):\n",
    "        self.f = f\n",
    "        self.list = []\n",
    "        self.dict = {}\n",
    "    def parse(self):\n",
    "        for line in self.f:\n",
    "            line = line.strip()\n",
    "            s = line.split()\n",
    "            for i in s:\n",
    "                try:\n",
    "                    n = int(i)\n",
    "                    self.list.append(n)\n",
    "                except ValueError:\n",
    "                    \n",
    "                    try:\n",
    "                        self.dict[i] += 1\n",
    "                    except KeyError:\n",
    "                         self.dict[i]= 1\n",
    "parser = FileParser(open('information.txt'))\n",
    "parser.parse()\n",
    "print(\"The list is:\", parser.list)\n",
    "print(\"The dictionary is:\", parser.dict)   \n",
    "    "
   ]
  },
  {
   "cell_type": "code",
   "execution_count": null,
   "metadata": {},
   "outputs": [],
   "source": []
  }
 ],
 "metadata": {
  "kernelspec": {
   "display_name": "Python 3",
   "language": "python",
   "name": "python3"
  },
  "language_info": {
   "codemirror_mode": {
    "name": "ipython",
    "version": 3
   },
   "file_extension": ".py",
   "mimetype": "text/x-python",
   "name": "python",
   "nbconvert_exporter": "python",
   "pygments_lexer": "ipython3",
   "version": "3.7.3"
  }
 },
 "nbformat": 4,
 "nbformat_minor": 2
}
