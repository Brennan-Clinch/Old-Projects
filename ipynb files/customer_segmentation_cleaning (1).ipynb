{
 "cells": [
  {
   "cell_type": "markdown",
   "id": "b7e0ac6a",
   "metadata": {},
   "source": [
    "## Read in the data"
   ]
  },
  {
   "cell_type": "code",
   "execution_count": 1,
   "id": "cdf94835",
   "metadata": {},
   "outputs": [
    {
     "name": "stderr",
     "output_type": "stream",
     "text": [
      "C:\\Users\\JCCLI\\Miniconda_3\\lib\\site-packages\\IPython\\core\\interactiveshell.py:3397: DtypeWarning: Columns (17) have mixed types.Specify dtype option on import or set low_memory=False.\n",
      "  exec(code_obj, self.user_global_ns, self.user_ns)\n"
     ]
    }
   ],
   "source": [
    "## Read in data, data type conversion done in R\n",
    "\n",
    "import pandas as pd\n",
    "import numpy as np\n",
    "import seaborn as sns\n",
    "import matplotlib.pyplot as plt\n",
    "\n",
    "cust = pd.read_csv(\"C://Users//JCCLI//Downloads//cust_seg_new.csv\")"
   ]
  },
  {
   "cell_type": "code",
   "execution_count": 2,
   "id": "0c8e829f",
   "metadata": {},
   "outputs": [
    {
     "data": {
      "text/html": [
       "<div>\n",
       "<style scoped>\n",
       "    .dataframe tbody tr th:only-of-type {\n",
       "        vertical-align: middle;\n",
       "    }\n",
       "\n",
       "    .dataframe tbody tr th {\n",
       "        vertical-align: top;\n",
       "    }\n",
       "\n",
       "    .dataframe thead th {\n",
       "        text-align: right;\n",
       "    }\n",
       "</style>\n",
       "<table border=\"1\" class=\"dataframe\">\n",
       "  <thead>\n",
       "    <tr style=\"text-align: right;\">\n",
       "      <th></th>\n",
       "      <th>Unnamed: 0</th>\n",
       "      <th>X</th>\n",
       "      <th>fecha_dato</th>\n",
       "      <th>ncodpers</th>\n",
       "      <th>ind_empleado</th>\n",
       "      <th>pais_residencia</th>\n",
       "      <th>sexo</th>\n",
       "      <th>age</th>\n",
       "      <th>fecha_alta</th>\n",
       "      <th>ind_nuevo</th>\n",
       "      <th>...</th>\n",
       "      <th>ind_hip_fin_ult1</th>\n",
       "      <th>ind_plan_fin_ult1</th>\n",
       "      <th>ind_pres_fin_ult1</th>\n",
       "      <th>ind_reca_fin_ult1</th>\n",
       "      <th>ind_tjcr_fin_ult1</th>\n",
       "      <th>ind_valo_fin_ult1</th>\n",
       "      <th>ind_viv_fin_ult1</th>\n",
       "      <th>ind_nomina_ult1</th>\n",
       "      <th>ind_nom_pens_ult1</th>\n",
       "      <th>ind_recibo_ult1</th>\n",
       "    </tr>\n",
       "  </thead>\n",
       "  <tbody>\n",
       "    <tr>\n",
       "      <th>0</th>\n",
       "      <td>1</td>\n",
       "      <td>0</td>\n",
       "      <td>2015-01-28</td>\n",
       "      <td>1375586</td>\n",
       "      <td>N</td>\n",
       "      <td>ES</td>\n",
       "      <td>H</td>\n",
       "      <td>34</td>\n",
       "      <td>2015-01-12</td>\n",
       "      <td>0.0</td>\n",
       "      <td>...</td>\n",
       "      <td>0</td>\n",
       "      <td>0</td>\n",
       "      <td>0</td>\n",
       "      <td>0</td>\n",
       "      <td>0</td>\n",
       "      <td>0</td>\n",
       "      <td>0</td>\n",
       "      <td>0.0</td>\n",
       "      <td>0.0</td>\n",
       "      <td>0</td>\n",
       "    </tr>\n",
       "    <tr>\n",
       "      <th>1</th>\n",
       "      <td>2</td>\n",
       "      <td>1</td>\n",
       "      <td>2015-01-28</td>\n",
       "      <td>1050611</td>\n",
       "      <td>N</td>\n",
       "      <td>ES</td>\n",
       "      <td>V</td>\n",
       "      <td>22</td>\n",
       "      <td>2012-08-10</td>\n",
       "      <td>0.0</td>\n",
       "      <td>...</td>\n",
       "      <td>0</td>\n",
       "      <td>0</td>\n",
       "      <td>0</td>\n",
       "      <td>0</td>\n",
       "      <td>0</td>\n",
       "      <td>0</td>\n",
       "      <td>0</td>\n",
       "      <td>0.0</td>\n",
       "      <td>0.0</td>\n",
       "      <td>0</td>\n",
       "    </tr>\n",
       "    <tr>\n",
       "      <th>2</th>\n",
       "      <td>3</td>\n",
       "      <td>2</td>\n",
       "      <td>2015-01-28</td>\n",
       "      <td>1050612</td>\n",
       "      <td>N</td>\n",
       "      <td>ES</td>\n",
       "      <td>V</td>\n",
       "      <td>22</td>\n",
       "      <td>2012-08-10</td>\n",
       "      <td>0.0</td>\n",
       "      <td>...</td>\n",
       "      <td>0</td>\n",
       "      <td>0</td>\n",
       "      <td>0</td>\n",
       "      <td>0</td>\n",
       "      <td>0</td>\n",
       "      <td>0</td>\n",
       "      <td>0</td>\n",
       "      <td>0.0</td>\n",
       "      <td>0.0</td>\n",
       "      <td>0</td>\n",
       "    </tr>\n",
       "    <tr>\n",
       "      <th>3</th>\n",
       "      <td>4</td>\n",
       "      <td>3</td>\n",
       "      <td>2015-01-28</td>\n",
       "      <td>1050613</td>\n",
       "      <td>N</td>\n",
       "      <td>ES</td>\n",
       "      <td>H</td>\n",
       "      <td>21</td>\n",
       "      <td>2012-08-10</td>\n",
       "      <td>0.0</td>\n",
       "      <td>...</td>\n",
       "      <td>0</td>\n",
       "      <td>0</td>\n",
       "      <td>0</td>\n",
       "      <td>0</td>\n",
       "      <td>0</td>\n",
       "      <td>0</td>\n",
       "      <td>0</td>\n",
       "      <td>0.0</td>\n",
       "      <td>0.0</td>\n",
       "      <td>0</td>\n",
       "    </tr>\n",
       "    <tr>\n",
       "      <th>4</th>\n",
       "      <td>5</td>\n",
       "      <td>4</td>\n",
       "      <td>2015-01-28</td>\n",
       "      <td>1050614</td>\n",
       "      <td>N</td>\n",
       "      <td>ES</td>\n",
       "      <td>V</td>\n",
       "      <td>22</td>\n",
       "      <td>2012-08-10</td>\n",
       "      <td>0.0</td>\n",
       "      <td>...</td>\n",
       "      <td>0</td>\n",
       "      <td>0</td>\n",
       "      <td>0</td>\n",
       "      <td>0</td>\n",
       "      <td>0</td>\n",
       "      <td>0</td>\n",
       "      <td>0</td>\n",
       "      <td>0.0</td>\n",
       "      <td>0.0</td>\n",
       "      <td>0</td>\n",
       "    </tr>\n",
       "    <tr>\n",
       "      <th>5</th>\n",
       "      <td>6</td>\n",
       "      <td>5</td>\n",
       "      <td>2015-01-28</td>\n",
       "      <td>1050615</td>\n",
       "      <td>N</td>\n",
       "      <td>ES</td>\n",
       "      <td>H</td>\n",
       "      <td>22</td>\n",
       "      <td>2012-08-10</td>\n",
       "      <td>0.0</td>\n",
       "      <td>...</td>\n",
       "      <td>0</td>\n",
       "      <td>0</td>\n",
       "      <td>0</td>\n",
       "      <td>0</td>\n",
       "      <td>0</td>\n",
       "      <td>0</td>\n",
       "      <td>0</td>\n",
       "      <td>0.0</td>\n",
       "      <td>0.0</td>\n",
       "      <td>0</td>\n",
       "    </tr>\n",
       "    <tr>\n",
       "      <th>6</th>\n",
       "      <td>7</td>\n",
       "      <td>6</td>\n",
       "      <td>2015-01-28</td>\n",
       "      <td>1050616</td>\n",
       "      <td>N</td>\n",
       "      <td>ES</td>\n",
       "      <td>H</td>\n",
       "      <td>22</td>\n",
       "      <td>2012-08-10</td>\n",
       "      <td>0.0</td>\n",
       "      <td>...</td>\n",
       "      <td>0</td>\n",
       "      <td>0</td>\n",
       "      <td>0</td>\n",
       "      <td>0</td>\n",
       "      <td>0</td>\n",
       "      <td>0</td>\n",
       "      <td>0</td>\n",
       "      <td>0.0</td>\n",
       "      <td>0.0</td>\n",
       "      <td>0</td>\n",
       "    </tr>\n",
       "    <tr>\n",
       "      <th>7</th>\n",
       "      <td>8</td>\n",
       "      <td>7</td>\n",
       "      <td>2015-01-28</td>\n",
       "      <td>1050617</td>\n",
       "      <td>N</td>\n",
       "      <td>ES</td>\n",
       "      <td>H</td>\n",
       "      <td>22</td>\n",
       "      <td>2012-08-10</td>\n",
       "      <td>0.0</td>\n",
       "      <td>...</td>\n",
       "      <td>0</td>\n",
       "      <td>0</td>\n",
       "      <td>0</td>\n",
       "      <td>0</td>\n",
       "      <td>0</td>\n",
       "      <td>0</td>\n",
       "      <td>0</td>\n",
       "      <td>0.0</td>\n",
       "      <td>0.0</td>\n",
       "      <td>0</td>\n",
       "    </tr>\n",
       "    <tr>\n",
       "      <th>8</th>\n",
       "      <td>9</td>\n",
       "      <td>8</td>\n",
       "      <td>2015-01-28</td>\n",
       "      <td>1050619</td>\n",
       "      <td>N</td>\n",
       "      <td>ES</td>\n",
       "      <td>H</td>\n",
       "      <td>23</td>\n",
       "      <td>2012-08-10</td>\n",
       "      <td>0.0</td>\n",
       "      <td>...</td>\n",
       "      <td>0</td>\n",
       "      <td>0</td>\n",
       "      <td>0</td>\n",
       "      <td>0</td>\n",
       "      <td>0</td>\n",
       "      <td>0</td>\n",
       "      <td>0</td>\n",
       "      <td>0.0</td>\n",
       "      <td>0.0</td>\n",
       "      <td>0</td>\n",
       "    </tr>\n",
       "    <tr>\n",
       "      <th>9</th>\n",
       "      <td>10</td>\n",
       "      <td>9</td>\n",
       "      <td>2015-01-28</td>\n",
       "      <td>1050620</td>\n",
       "      <td>N</td>\n",
       "      <td>ES</td>\n",
       "      <td>H</td>\n",
       "      <td>22</td>\n",
       "      <td>2012-08-10</td>\n",
       "      <td>0.0</td>\n",
       "      <td>...</td>\n",
       "      <td>0</td>\n",
       "      <td>0</td>\n",
       "      <td>0</td>\n",
       "      <td>0</td>\n",
       "      <td>0</td>\n",
       "      <td>0</td>\n",
       "      <td>0</td>\n",
       "      <td>0.0</td>\n",
       "      <td>0.0</td>\n",
       "      <td>0</td>\n",
       "    </tr>\n",
       "  </tbody>\n",
       "</table>\n",
       "<p>10 rows × 49 columns</p>\n",
       "</div>"
      ],
      "text/plain": [
       "   Unnamed: 0  X  fecha_dato  ncodpers ind_empleado pais_residencia sexo  age  \\\n",
       "0           1  0  2015-01-28   1375586            N              ES    H   34   \n",
       "1           2  1  2015-01-28   1050611            N              ES    V   22   \n",
       "2           3  2  2015-01-28   1050612            N              ES    V   22   \n",
       "3           4  3  2015-01-28   1050613            N              ES    H   21   \n",
       "4           5  4  2015-01-28   1050614            N              ES    V   22   \n",
       "5           6  5  2015-01-28   1050615            N              ES    H   22   \n",
       "6           7  6  2015-01-28   1050616            N              ES    H   22   \n",
       "7           8  7  2015-01-28   1050617            N              ES    H   22   \n",
       "8           9  8  2015-01-28   1050619            N              ES    H   23   \n",
       "9          10  9  2015-01-28   1050620            N              ES    H   22   \n",
       "\n",
       "   fecha_alta  ind_nuevo  ...  ind_hip_fin_ult1  ind_plan_fin_ult1  \\\n",
       "0  2015-01-12        0.0  ...                 0                  0   \n",
       "1  2012-08-10        0.0  ...                 0                  0   \n",
       "2  2012-08-10        0.0  ...                 0                  0   \n",
       "3  2012-08-10        0.0  ...                 0                  0   \n",
       "4  2012-08-10        0.0  ...                 0                  0   \n",
       "5  2012-08-10        0.0  ...                 0                  0   \n",
       "6  2012-08-10        0.0  ...                 0                  0   \n",
       "7  2012-08-10        0.0  ...                 0                  0   \n",
       "8  2012-08-10        0.0  ...                 0                  0   \n",
       "9  2012-08-10        0.0  ...                 0                  0   \n",
       "\n",
       "  ind_pres_fin_ult1  ind_reca_fin_ult1 ind_tjcr_fin_ult1 ind_valo_fin_ult1  \\\n",
       "0                 0                  0                 0                 0   \n",
       "1                 0                  0                 0                 0   \n",
       "2                 0                  0                 0                 0   \n",
       "3                 0                  0                 0                 0   \n",
       "4                 0                  0                 0                 0   \n",
       "5                 0                  0                 0                 0   \n",
       "6                 0                  0                 0                 0   \n",
       "7                 0                  0                 0                 0   \n",
       "8                 0                  0                 0                 0   \n",
       "9                 0                  0                 0                 0   \n",
       "\n",
       "  ind_viv_fin_ult1 ind_nomina_ult1 ind_nom_pens_ult1 ind_recibo_ult1  \n",
       "0                0             0.0               0.0               0  \n",
       "1                0             0.0               0.0               0  \n",
       "2                0             0.0               0.0               0  \n",
       "3                0             0.0               0.0               0  \n",
       "4                0             0.0               0.0               0  \n",
       "5                0             0.0               0.0               0  \n",
       "6                0             0.0               0.0               0  \n",
       "7                0             0.0               0.0               0  \n",
       "8                0             0.0               0.0               0  \n",
       "9                0             0.0               0.0               0  \n",
       "\n",
       "[10 rows x 49 columns]"
      ]
     },
     "execution_count": 2,
     "metadata": {},
     "output_type": "execute_result"
    }
   ],
   "source": [
    "cust.head(10)"
   ]
  },
  {
   "cell_type": "code",
   "execution_count": 3,
   "id": "a0e9df39",
   "metadata": {},
   "outputs": [
    {
     "name": "stdout",
     "output_type": "stream",
     "text": [
      "<class 'pandas.core.frame.DataFrame'>\n",
      "RangeIndex: 1000000 entries, 0 to 999999\n",
      "Data columns (total 49 columns):\n",
      " #   Column                 Non-Null Count    Dtype  \n",
      "---  ------                 --------------    -----  \n",
      " 0   Unnamed: 0             1000000 non-null  int64  \n",
      " 1   X                      1000000 non-null  int64  \n",
      " 2   fecha_dato             1000000 non-null  object \n",
      " 3   ncodpers               1000000 non-null  int64  \n",
      " 4   ind_empleado           989218 non-null   object \n",
      " 5   pais_residencia        989218 non-null   object \n",
      " 6   sexo                   989214 non-null   object \n",
      " 7   age                    1000000 non-null  int64  \n",
      " 8   fecha_alta             989218 non-null   object \n",
      " 9   ind_nuevo              989218 non-null   float64\n",
      " 10  antiguedad             1000000 non-null  int64  \n",
      " 11  indrel                 989218 non-null   float64\n",
      " 12  ult_fec_cli_1t         1101 non-null     object \n",
      " 13  indrel_1mes            989218 non-null   float64\n",
      " 14  tiprel_1mes            989218 non-null   object \n",
      " 15  indresi                989218 non-null   object \n",
      " 16  indext                 989218 non-null   object \n",
      " 17  conyuemp               178 non-null      object \n",
      " 18  canal_entrada          989139 non-null   object \n",
      " 19  indfall                989218 non-null   object \n",
      " 20  tipodom                989218 non-null   float64\n",
      " 21  cod_prov               982266 non-null   float64\n",
      " 22  nomprov                982266 non-null   object \n",
      " 23  ind_actividad_cliente  989218 non-null   float64\n",
      " 24  renta                  824817 non-null   float64\n",
      " 25  ind_ahor_fin_ult1      1000000 non-null  int64  \n",
      " 26  ind_aval_fin_ult1      1000000 non-null  int64  \n",
      " 27  ind_cco_fin_ult1       1000000 non-null  int64  \n",
      " 28  ind_cder_fin_ult1      1000000 non-null  int64  \n",
      " 29  ind_cno_fin_ult1       1000000 non-null  int64  \n",
      " 30  ind_ctju_fin_ult1      1000000 non-null  int64  \n",
      " 31  ind_ctma_fin_ult1      1000000 non-null  int64  \n",
      " 32  ind_ctop_fin_ult1      1000000 non-null  int64  \n",
      " 33  ind_ctpp_fin_ult1      1000000 non-null  int64  \n",
      " 34  ind_deco_fin_ult1      1000000 non-null  int64  \n",
      " 35  ind_deme_fin_ult1      1000000 non-null  int64  \n",
      " 36  ind_dela_fin_ult1      1000000 non-null  int64  \n",
      " 37  ind_ecue_fin_ult1      1000000 non-null  int64  \n",
      " 38  ind_fond_fin_ult1      1000000 non-null  int64  \n",
      " 39  ind_hip_fin_ult1       1000000 non-null  int64  \n",
      " 40  ind_plan_fin_ult1      1000000 non-null  int64  \n",
      " 41  ind_pres_fin_ult1      1000000 non-null  int64  \n",
      " 42  ind_reca_fin_ult1      1000000 non-null  int64  \n",
      " 43  ind_tjcr_fin_ult1      1000000 non-null  int64  \n",
      " 44  ind_valo_fin_ult1      1000000 non-null  int64  \n",
      " 45  ind_viv_fin_ult1       1000000 non-null  int64  \n",
      " 46  ind_nomina_ult1        994598 non-null   float64\n",
      " 47  ind_nom_pens_ult1      994598 non-null   float64\n",
      " 48  ind_recibo_ult1        1000000 non-null  int64  \n",
      "dtypes: float64(9), int64(27), object(13)\n",
      "memory usage: 373.8+ MB\n"
     ]
    }
   ],
   "source": [
    "cust.info()"
   ]
  },
  {
   "cell_type": "code",
   "execution_count": 4,
   "id": "30a0cff9",
   "metadata": {},
   "outputs": [
    {
     "data": {
      "text/plain": [
       "Unnamed: 0                0.0000\n",
       "X                         0.0000\n",
       "fecha_dato                0.0000\n",
       "ncodpers                  0.0000\n",
       "ind_empleado              1.0782\n",
       "pais_residencia           1.0782\n",
       "sexo                      1.0786\n",
       "age                       0.0000\n",
       "fecha_alta                1.0782\n",
       "ind_nuevo                 1.0782\n",
       "antiguedad                0.0000\n",
       "indrel                    1.0782\n",
       "ult_fec_cli_1t           99.8899\n",
       "indrel_1mes               1.0782\n",
       "tiprel_1mes               1.0782\n",
       "indresi                   1.0782\n",
       "indext                    1.0782\n",
       "conyuemp                 99.9822\n",
       "canal_entrada             1.0861\n",
       "indfall                   1.0782\n",
       "tipodom                   1.0782\n",
       "cod_prov                  1.7734\n",
       "nomprov                   1.7734\n",
       "ind_actividad_cliente     1.0782\n",
       "renta                    17.5183\n",
       "ind_ahor_fin_ult1         0.0000\n",
       "ind_aval_fin_ult1         0.0000\n",
       "ind_cco_fin_ult1          0.0000\n",
       "ind_cder_fin_ult1         0.0000\n",
       "ind_cno_fin_ult1          0.0000\n",
       "ind_ctju_fin_ult1         0.0000\n",
       "ind_ctma_fin_ult1         0.0000\n",
       "ind_ctop_fin_ult1         0.0000\n",
       "ind_ctpp_fin_ult1         0.0000\n",
       "ind_deco_fin_ult1         0.0000\n",
       "ind_deme_fin_ult1         0.0000\n",
       "ind_dela_fin_ult1         0.0000\n",
       "ind_ecue_fin_ult1         0.0000\n",
       "ind_fond_fin_ult1         0.0000\n",
       "ind_hip_fin_ult1          0.0000\n",
       "ind_plan_fin_ult1         0.0000\n",
       "ind_pres_fin_ult1         0.0000\n",
       "ind_reca_fin_ult1         0.0000\n",
       "ind_tjcr_fin_ult1         0.0000\n",
       "ind_valo_fin_ult1         0.0000\n",
       "ind_viv_fin_ult1          0.0000\n",
       "ind_nomina_ult1           0.5402\n",
       "ind_nom_pens_ult1         0.5402\n",
       "ind_recibo_ult1           0.0000\n",
       "dtype: float64"
      ]
     },
     "execution_count": 4,
     "metadata": {},
     "output_type": "execute_result"
    }
   ],
   "source": [
    "# Check missing values percentage\n",
    "cust.isnull().sum()/cust.shape[0]*100"
   ]
  },
  {
   "cell_type": "code",
   "execution_count": 5,
   "id": "42120100",
   "metadata": {},
   "outputs": [
    {
     "data": {
      "text/plain": [
       "0"
      ]
     },
     "execution_count": 5,
     "metadata": {},
     "output_type": "execute_result"
    }
   ],
   "source": [
    "cust.duplicated().sum()"
   ]
  },
  {
   "cell_type": "code",
   "execution_count": 6,
   "id": "6e2e9f9d",
   "metadata": {},
   "outputs": [
    {
     "data": {
      "text/html": [
       "<div>\n",
       "<style scoped>\n",
       "    .dataframe tbody tr th:only-of-type {\n",
       "        vertical-align: middle;\n",
       "    }\n",
       "\n",
       "    .dataframe tbody tr th {\n",
       "        vertical-align: top;\n",
       "    }\n",
       "\n",
       "    .dataframe thead th {\n",
       "        text-align: right;\n",
       "    }\n",
       "</style>\n",
       "<table border=\"1\" class=\"dataframe\">\n",
       "  <thead>\n",
       "    <tr style=\"text-align: right;\">\n",
       "      <th></th>\n",
       "      <th>Unnamed: 0</th>\n",
       "      <th>X</th>\n",
       "      <th>ncodpers</th>\n",
       "      <th>age</th>\n",
       "      <th>ind_nuevo</th>\n",
       "      <th>antiguedad</th>\n",
       "      <th>indrel</th>\n",
       "      <th>indrel_1mes</th>\n",
       "      <th>tipodom</th>\n",
       "      <th>cod_prov</th>\n",
       "      <th>...</th>\n",
       "      <th>ind_hip_fin_ult1</th>\n",
       "      <th>ind_plan_fin_ult1</th>\n",
       "      <th>ind_pres_fin_ult1</th>\n",
       "      <th>ind_reca_fin_ult1</th>\n",
       "      <th>ind_tjcr_fin_ult1</th>\n",
       "      <th>ind_valo_fin_ult1</th>\n",
       "      <th>ind_viv_fin_ult1</th>\n",
       "      <th>ind_nomina_ult1</th>\n",
       "      <th>ind_nom_pens_ult1</th>\n",
       "      <th>ind_recibo_ult1</th>\n",
       "    </tr>\n",
       "  </thead>\n",
       "  <tbody>\n",
       "    <tr>\n",
       "      <th>count</th>\n",
       "      <td>1000000.000000</td>\n",
       "      <td>1000000.000000</td>\n",
       "      <td>1.000000e+06</td>\n",
       "      <td>1000000.000000</td>\n",
       "      <td>989218.000000</td>\n",
       "      <td>1000000.000000</td>\n",
       "      <td>989218.000000</td>\n",
       "      <td>989218.000000</td>\n",
       "      <td>989218.0</td>\n",
       "      <td>982266.000000</td>\n",
       "      <td>...</td>\n",
       "      <td>1000000.000000</td>\n",
       "      <td>1000000.000000</td>\n",
       "      <td>1000000.000000</td>\n",
       "      <td>1000000.000000</td>\n",
       "      <td>1000000.000000</td>\n",
       "      <td>1000000.000000</td>\n",
       "      <td>1000000.000000</td>\n",
       "      <td>994598.000000</td>\n",
       "      <td>994598.000000</td>\n",
       "      <td>1000000.000000</td>\n",
       "    </tr>\n",
       "    <tr>\n",
       "      <th>mean</th>\n",
       "      <td>500000.500000</td>\n",
       "      <td>499999.500000</td>\n",
       "      <td>6.905967e+05</td>\n",
       "      <td>42.882479</td>\n",
       "      <td>0.000489</td>\n",
       "      <td>99.653742</td>\n",
       "      <td>1.109074</td>\n",
       "      <td>1.000085</td>\n",
       "      <td>1.0</td>\n",
       "      <td>26.852131</td>\n",
       "      <td>...</td>\n",
       "      <td>0.009982</td>\n",
       "      <td>0.014553</td>\n",
       "      <td>0.004661</td>\n",
       "      <td>0.072581</td>\n",
       "      <td>0.066084</td>\n",
       "      <td>0.039378</td>\n",
       "      <td>0.006442</td>\n",
       "      <td>0.071629</td>\n",
       "      <td>0.079543</td>\n",
       "      <td>0.166275</td>\n",
       "    </tr>\n",
       "    <tr>\n",
       "      <th>std</th>\n",
       "      <td>288675.278933</td>\n",
       "      <td>288675.278933</td>\n",
       "      <td>4.044084e+05</td>\n",
       "      <td>18.047236</td>\n",
       "      <td>0.022114</td>\n",
       "      <td>65.913086</td>\n",
       "      <td>3.267624</td>\n",
       "      <td>0.012954</td>\n",
       "      <td>0.0</td>\n",
       "      <td>12.422924</td>\n",
       "      <td>...</td>\n",
       "      <td>0.099410</td>\n",
       "      <td>0.119755</td>\n",
       "      <td>0.068112</td>\n",
       "      <td>0.259448</td>\n",
       "      <td>0.248429</td>\n",
       "      <td>0.194493</td>\n",
       "      <td>0.080003</td>\n",
       "      <td>0.257873</td>\n",
       "      <td>0.270584</td>\n",
       "      <td>0.372327</td>\n",
       "    </tr>\n",
       "    <tr>\n",
       "      <th>min</th>\n",
       "      <td>1.000000</td>\n",
       "      <td>0.000000</td>\n",
       "      <td>1.588900e+04</td>\n",
       "      <td>1.000000</td>\n",
       "      <td>0.000000</td>\n",
       "      <td>1.000000</td>\n",
       "      <td>1.000000</td>\n",
       "      <td>1.000000</td>\n",
       "      <td>1.0</td>\n",
       "      <td>1.000000</td>\n",
       "      <td>...</td>\n",
       "      <td>0.000000</td>\n",
       "      <td>0.000000</td>\n",
       "      <td>0.000000</td>\n",
       "      <td>0.000000</td>\n",
       "      <td>0.000000</td>\n",
       "      <td>0.000000</td>\n",
       "      <td>0.000000</td>\n",
       "      <td>0.000000</td>\n",
       "      <td>0.000000</td>\n",
       "      <td>0.000000</td>\n",
       "    </tr>\n",
       "    <tr>\n",
       "      <th>25%</th>\n",
       "      <td>250000.750000</td>\n",
       "      <td>249999.750000</td>\n",
       "      <td>3.364110e+05</td>\n",
       "      <td>26.000000</td>\n",
       "      <td>0.000000</td>\n",
       "      <td>35.000000</td>\n",
       "      <td>1.000000</td>\n",
       "      <td>1.000000</td>\n",
       "      <td>1.0</td>\n",
       "      <td>18.000000</td>\n",
       "      <td>...</td>\n",
       "      <td>0.000000</td>\n",
       "      <td>0.000000</td>\n",
       "      <td>0.000000</td>\n",
       "      <td>0.000000</td>\n",
       "      <td>0.000000</td>\n",
       "      <td>0.000000</td>\n",
       "      <td>0.000000</td>\n",
       "      <td>0.000000</td>\n",
       "      <td>0.000000</td>\n",
       "      <td>0.000000</td>\n",
       "    </tr>\n",
       "    <tr>\n",
       "      <th>50%</th>\n",
       "      <td>500000.500000</td>\n",
       "      <td>499999.500000</td>\n",
       "      <td>6.644760e+05</td>\n",
       "      <td>42.000000</td>\n",
       "      <td>0.000000</td>\n",
       "      <td>100.000000</td>\n",
       "      <td>1.000000</td>\n",
       "      <td>1.000000</td>\n",
       "      <td>1.0</td>\n",
       "      <td>28.000000</td>\n",
       "      <td>...</td>\n",
       "      <td>0.000000</td>\n",
       "      <td>0.000000</td>\n",
       "      <td>0.000000</td>\n",
       "      <td>0.000000</td>\n",
       "      <td>0.000000</td>\n",
       "      <td>0.000000</td>\n",
       "      <td>0.000000</td>\n",
       "      <td>0.000000</td>\n",
       "      <td>0.000000</td>\n",
       "      <td>0.000000</td>\n",
       "    </tr>\n",
       "    <tr>\n",
       "      <th>75%</th>\n",
       "      <td>750000.250000</td>\n",
       "      <td>749999.250000</td>\n",
       "      <td>1.074511e+06</td>\n",
       "      <td>53.000000</td>\n",
       "      <td>0.000000</td>\n",
       "      <td>159.000000</td>\n",
       "      <td>1.000000</td>\n",
       "      <td>1.000000</td>\n",
       "      <td>1.0</td>\n",
       "      <td>33.000000</td>\n",
       "      <td>...</td>\n",
       "      <td>0.000000</td>\n",
       "      <td>0.000000</td>\n",
       "      <td>0.000000</td>\n",
       "      <td>0.000000</td>\n",
       "      <td>0.000000</td>\n",
       "      <td>0.000000</td>\n",
       "      <td>0.000000</td>\n",
       "      <td>0.000000</td>\n",
       "      <td>0.000000</td>\n",
       "      <td>0.000000</td>\n",
       "    </tr>\n",
       "    <tr>\n",
       "      <th>max</th>\n",
       "      <td>1000000.000000</td>\n",
       "      <td>999999.000000</td>\n",
       "      <td>1.379131e+06</td>\n",
       "      <td>115.000000</td>\n",
       "      <td>1.000000</td>\n",
       "      <td>249.000000</td>\n",
       "      <td>99.000000</td>\n",
       "      <td>3.000000</td>\n",
       "      <td>1.0</td>\n",
       "      <td>52.000000</td>\n",
       "      <td>...</td>\n",
       "      <td>1.000000</td>\n",
       "      <td>1.000000</td>\n",
       "      <td>1.000000</td>\n",
       "      <td>1.000000</td>\n",
       "      <td>1.000000</td>\n",
       "      <td>1.000000</td>\n",
       "      <td>1.000000</td>\n",
       "      <td>1.000000</td>\n",
       "      <td>1.000000</td>\n",
       "      <td>1.000000</td>\n",
       "    </tr>\n",
       "  </tbody>\n",
       "</table>\n",
       "<p>8 rows × 36 columns</p>\n",
       "</div>"
      ],
      "text/plain": [
       "           Unnamed: 0               X      ncodpers             age  \\\n",
       "count  1000000.000000  1000000.000000  1.000000e+06  1000000.000000   \n",
       "mean    500000.500000   499999.500000  6.905967e+05       42.882479   \n",
       "std     288675.278933   288675.278933  4.044084e+05       18.047236   \n",
       "min          1.000000        0.000000  1.588900e+04        1.000000   \n",
       "25%     250000.750000   249999.750000  3.364110e+05       26.000000   \n",
       "50%     500000.500000   499999.500000  6.644760e+05       42.000000   \n",
       "75%     750000.250000   749999.250000  1.074511e+06       53.000000   \n",
       "max    1000000.000000   999999.000000  1.379131e+06      115.000000   \n",
       "\n",
       "           ind_nuevo      antiguedad         indrel    indrel_1mes   tipodom  \\\n",
       "count  989218.000000  1000000.000000  989218.000000  989218.000000  989218.0   \n",
       "mean        0.000489       99.653742       1.109074       1.000085       1.0   \n",
       "std         0.022114       65.913086       3.267624       0.012954       0.0   \n",
       "min         0.000000        1.000000       1.000000       1.000000       1.0   \n",
       "25%         0.000000       35.000000       1.000000       1.000000       1.0   \n",
       "50%         0.000000      100.000000       1.000000       1.000000       1.0   \n",
       "75%         0.000000      159.000000       1.000000       1.000000       1.0   \n",
       "max         1.000000      249.000000      99.000000       3.000000       1.0   \n",
       "\n",
       "            cod_prov  ...  ind_hip_fin_ult1  ind_plan_fin_ult1  \\\n",
       "count  982266.000000  ...    1000000.000000     1000000.000000   \n",
       "mean       26.852131  ...          0.009982           0.014553   \n",
       "std        12.422924  ...          0.099410           0.119755   \n",
       "min         1.000000  ...          0.000000           0.000000   \n",
       "25%        18.000000  ...          0.000000           0.000000   \n",
       "50%        28.000000  ...          0.000000           0.000000   \n",
       "75%        33.000000  ...          0.000000           0.000000   \n",
       "max        52.000000  ...          1.000000           1.000000   \n",
       "\n",
       "       ind_pres_fin_ult1  ind_reca_fin_ult1  ind_tjcr_fin_ult1  \\\n",
       "count     1000000.000000     1000000.000000     1000000.000000   \n",
       "mean            0.004661           0.072581           0.066084   \n",
       "std             0.068112           0.259448           0.248429   \n",
       "min             0.000000           0.000000           0.000000   \n",
       "25%             0.000000           0.000000           0.000000   \n",
       "50%             0.000000           0.000000           0.000000   \n",
       "75%             0.000000           0.000000           0.000000   \n",
       "max             1.000000           1.000000           1.000000   \n",
       "\n",
       "       ind_valo_fin_ult1  ind_viv_fin_ult1  ind_nomina_ult1  \\\n",
       "count     1000000.000000    1000000.000000    994598.000000   \n",
       "mean            0.039378          0.006442         0.071629   \n",
       "std             0.194493          0.080003         0.257873   \n",
       "min             0.000000          0.000000         0.000000   \n",
       "25%             0.000000          0.000000         0.000000   \n",
       "50%             0.000000          0.000000         0.000000   \n",
       "75%             0.000000          0.000000         0.000000   \n",
       "max             1.000000          1.000000         1.000000   \n",
       "\n",
       "       ind_nom_pens_ult1  ind_recibo_ult1  \n",
       "count      994598.000000   1000000.000000  \n",
       "mean            0.079543         0.166275  \n",
       "std             0.270584         0.372327  \n",
       "min             0.000000         0.000000  \n",
       "25%             0.000000         0.000000  \n",
       "50%             0.000000         0.000000  \n",
       "75%             0.000000         0.000000  \n",
       "max             1.000000         1.000000  \n",
       "\n",
       "[8 rows x 36 columns]"
      ]
     },
     "execution_count": 6,
     "metadata": {},
     "output_type": "execute_result"
    }
   ],
   "source": [
    "cust.describe()"
   ]
  },
  {
   "cell_type": "markdown",
   "id": "6d365abd",
   "metadata": {},
   "source": [
    "#### Things to note\n",
    "\n",
    "- Most columns only have 1% missing values. That won't affect the data too much, but we could remove them easily since they are only 1% of whole data.\n",
    "\n",
    "- conyuemp and ult_fec_cli_1t have 99% missing values. We will delete them from the dataset since they contain more than 50% null values and aren't important for the analysis. They aren't too important since they contain info on whether the customer is a spouse of an employee.\n",
    "\n",
    "- We can delete tipodom since it only contains 1 value.\n"
   ]
  },
  {
   "cell_type": "markdown",
   "id": "8896e2bf",
   "metadata": {},
   "source": [
    "## Data Cleaning"
   ]
  },
  {
   "cell_type": "code",
   "execution_count": 8,
   "id": "0177c6d4",
   "metadata": {},
   "outputs": [
    {
     "data": {
      "text/html": [
       "<div>\n",
       "<style scoped>\n",
       "    .dataframe tbody tr th:only-of-type {\n",
       "        vertical-align: middle;\n",
       "    }\n",
       "\n",
       "    .dataframe tbody tr th {\n",
       "        vertical-align: top;\n",
       "    }\n",
       "\n",
       "    .dataframe thead th {\n",
       "        text-align: right;\n",
       "    }\n",
       "</style>\n",
       "<table border=\"1\" class=\"dataframe\">\n",
       "  <thead>\n",
       "    <tr style=\"text-align: right;\">\n",
       "      <th></th>\n",
       "      <th>renta</th>\n",
       "    </tr>\n",
       "  </thead>\n",
       "  <tbody>\n",
       "    <tr>\n",
       "      <th>count</th>\n",
       "      <td>824817</td>\n",
       "    </tr>\n",
       "    <tr>\n",
       "      <th>mean</th>\n",
       "      <td>139646</td>\n",
       "    </tr>\n",
       "    <tr>\n",
       "      <th>std</th>\n",
       "      <td>238986</td>\n",
       "    </tr>\n",
       "    <tr>\n",
       "      <th>min</th>\n",
       "      <td>1203</td>\n",
       "    </tr>\n",
       "    <tr>\n",
       "      <th>25%</th>\n",
       "      <td>71572</td>\n",
       "    </tr>\n",
       "    <tr>\n",
       "      <th>50%</th>\n",
       "      <td>106652</td>\n",
       "    </tr>\n",
       "    <tr>\n",
       "      <th>75%</th>\n",
       "      <td>163432</td>\n",
       "    </tr>\n",
       "    <tr>\n",
       "      <th>max</th>\n",
       "      <td>28894396</td>\n",
       "    </tr>\n",
       "  </tbody>\n",
       "</table>\n",
       "</div>"
      ],
      "text/plain": [
       "          renta\n",
       "count    824817\n",
       "mean     139646\n",
       "std      238986\n",
       "min        1203\n",
       "25%       71572\n",
       "50%      106652\n",
       "75%      163432\n",
       "max    28894396"
      ]
     },
     "execution_count": 8,
     "metadata": {},
     "output_type": "execute_result"
    }
   ],
   "source": [
    "renta = ['renta']\n",
    "cust[renta].describe().apply(lambda s: s.apply('{0:.0f}'.format))"
   ]
  },
  {
   "cell_type": "code",
   "execution_count": 9,
   "id": "da35f726",
   "metadata": {},
   "outputs": [],
   "source": [
    "import seaborn as sns\n",
    "import matplotlib.pyplot as plt"
   ]
  },
  {
   "cell_type": "code",
   "execution_count": 10,
   "id": "49204025",
   "metadata": {},
   "outputs": [
    {
     "data": {
      "text/plain": [
       "<AxesSubplot:ylabel='age'>"
      ]
     },
     "execution_count": 10,
     "metadata": {},
     "output_type": "execute_result"
    },
    {
     "data": {
      "image/png": "[encoded data removed]",
      "text/plain": [
       "<Figure size 432x288 with 1 Axes>"
      ]
     },
     "metadata": {
      "needs_background": "light"
     },
     "output_type": "display_data"
    }
   ],
   "source": [
    "sns.boxplot(y = \"age\", data = cust)"
   ]
  },
  {
   "cell_type": "code",
   "execution_count": 11,
   "id": "5f1c8a7d",
   "metadata": {},
   "outputs": [
    {
     "data": {
      "text/plain": [
       "(array([6.38000e+02, 2.94200e+03, 4.93600e+03, 1.34060e+04, 1.69390e+05,\n",
       "        8.37400e+04, 4.12280e+04, 7.24370e+04, 1.27753e+05, 1.08427e+05,\n",
       "        1.05189e+05, 6.16260e+04, 5.50720e+04, 3.17790e+04, 3.37870e+04,\n",
       "        2.30170e+04, 1.91040e+04, 1.52570e+04, 8.47700e+03, 6.50300e+03,\n",
       "        2.66600e+03, 1.18530e+04, 5.44000e+02, 1.73000e+02, 5.60000e+01]),\n",
       " array([  1.  ,   5.56,  10.12,  14.68,  19.24,  23.8 ,  28.36,  32.92,\n",
       "         37.48,  42.04,  46.6 ,  51.16,  55.72,  60.28,  64.84,  69.4 ,\n",
       "         73.96,  78.52,  83.08,  87.64,  92.2 ,  96.76, 101.32, 105.88,\n",
       "        110.44, 115.  ]),\n",
       " <BarContainer object of 25 artists>)"
      ]
     },
     "execution_count": 11,
     "metadata": {},
     "output_type": "execute_result"
    },
    {
     "data": {
      "image/png": "[encoded data removed]",
      "text/plain": [
       "<Figure size 432x288 with 1 Axes>"
      ]
     },
     "metadata": {
      "needs_background": "light"
     },
     "output_type": "display_data"
    }
   ],
   "source": [
    "plt.hist(cust.age, bins = 25)"
   ]
  },
  {
   "cell_type": "code",
   "execution_count": 12,
   "id": "2727d460",
   "metadata": {},
   "outputs": [],
   "source": [
    "cust['age'] = np.where(cust['age'] < 19, 18, cust['age'])\n",
    "cust['age'] = np.where(cust['age'] > 90, 91, cust['age'])"
   ]
  },
  {
   "cell_type": "code",
   "execution_count": 13,
   "id": "08de3dbc",
   "metadata": {},
   "outputs": [
    {
     "data": {
      "text/plain": [
       "<AxesSubplot:ylabel='age'>"
      ]
     },
     "execution_count": 13,
     "metadata": {},
     "output_type": "execute_result"
    },
    {
     "data": {
      "image/png": "[encoded data removed]",
      "text/plain": [
       "<Figure size 432x288 with 1 Axes>"
      ]
     },
     "metadata": {
      "needs_background": "light"
     },
     "output_type": "display_data"
    }
   ],
   "source": [
    "sns.boxplot(y = \"age\",data = cust)"
   ]
  },
  {
   "cell_type": "markdown",
   "id": "7387212f",
   "metadata": {},
   "source": [
    "- We can see that the outliers are those whose age is greater than 90 years old. We will remove observations that are greater than 90 along with also subsetting for individuals that are 18 or older since it looks like young adults are the highest demographic"
   ]
  },
  {
   "cell_type": "code",
   "execution_count": 14,
   "id": "150d3859",
   "metadata": {},
   "outputs": [
    {
     "data": {
      "text/plain": [
       "<AxesSubplot:ylabel='antiguedad'>"
      ]
     },
     "execution_count": 14,
     "metadata": {},
     "output_type": "execute_result"
    },
    {
     "data": {
      "image/png": "[encoded data removed]",
      "text/plain": [
       "<Figure size 432x288 with 1 Axes>"
      ]
     },
     "metadata": {
      "needs_background": "light"
     },
     "output_type": "display_data"
    }
   ],
   "source": [
    "sns.boxplot(y = \"antiguedad\", data = cust)"
   ]
  },
  {
   "cell_type": "markdown",
   "id": "35f1a2c3",
   "metadata": {},
   "source": [
    "- Looks like this variable has no outliers along with a very normal shape. So no cleaning needs to be done on this variable"
   ]
  },
  {
   "cell_type": "code",
   "execution_count": 15,
   "id": "a46bc068",
   "metadata": {},
   "outputs": [
    {
     "data": {
      "text/plain": [
       "<AxesSubplot:ylabel='renta'>"
      ]
     },
     "execution_count": 15,
     "metadata": {},
     "output_type": "execute_result"
    },
    {
     "data": {
      "image/png": "[encoded data removed]",
      "text/plain": [
       "<Figure size 432x288 with 1 Axes>"
      ]
     },
     "metadata": {
      "needs_background": "light"
     },
     "output_type": "display_data"
    }
   ],
   "source": [
    "sns.boxplot(y = \"renta\",data = cust)"
   ]
  },
  {
   "cell_type": "code",
   "execution_count": 16,
   "id": "8a3128cd",
   "metadata": {},
   "outputs": [
    {
     "data": {
      "text/plain": [
       "(array([7.71672e+05, 4.53550e+04, 4.82200e+03, 1.50000e+03, 5.44000e+02,\n",
       "        2.48000e+02, 1.04000e+02, 5.60000e+01, 5.30000e+01, 4.40000e+01,\n",
       "        2.60000e+01, 4.80000e+01, 1.90000e+01, 3.20000e+01, 1.00000e+00,\n",
       "        2.70000e+01, 2.10000e+01, 2.30000e+01, 1.60000e+01, 7.00000e+00,\n",
       "        3.00000e+00, 1.10000e+01, 0.00000e+00, 0.00000e+00, 1.00000e+01,\n",
       "        0.00000e+00, 0.00000e+00, 2.00000e+00, 1.30000e+01, 2.10000e+01,\n",
       "        8.00000e+00, 8.00000e+00, 4.00000e+00, 1.60000e+01, 7.00000e+00,\n",
       "        2.00000e+00, 2.00000e+00, 0.00000e+00, 2.90000e+01, 1.40000e+01,\n",
       "        1.00000e+00, 5.00000e+00, 0.00000e+00, 0.00000e+00, 0.00000e+00,\n",
       "        7.00000e+00, 0.00000e+00, 0.00000e+00, 0.00000e+00, 0.00000e+00,\n",
       "        0.00000e+00, 0.00000e+00, 0.00000e+00, 0.00000e+00, 4.00000e+00,\n",
       "        4.00000e+00, 0.00000e+00, 0.00000e+00, 0.00000e+00, 0.00000e+00,\n",
       "        0.00000e+00, 2.00000e+00, 0.00000e+00, 0.00000e+00, 0.00000e+00,\n",
       "        0.00000e+00, 0.00000e+00, 0.00000e+00, 1.00000e+00, 0.00000e+00,\n",
       "        0.00000e+00, 0.00000e+00, 0.00000e+00, 0.00000e+00, 0.00000e+00,\n",
       "        2.00000e+00, 1.00000e+01, 0.00000e+00, 0.00000e+00, 0.00000e+00,\n",
       "        0.00000e+00, 0.00000e+00, 4.00000e+00, 1.00000e+00, 0.00000e+00,\n",
       "        0.00000e+00, 0.00000e+00, 0.00000e+00, 2.00000e+00, 0.00000e+00,\n",
       "        0.00000e+00, 0.00000e+00, 0.00000e+00, 0.00000e+00, 0.00000e+00,\n",
       "        0.00000e+00, 0.00000e+00, 0.00000e+00, 0.00000e+00, 6.00000e+00]),\n",
       " array([1.20273000e+03, 2.90134658e+05, 5.79066586e+05, 8.67998513e+05,\n",
       "        1.15693044e+06, 1.44586237e+06, 1.73479430e+06, 2.02372622e+06,\n",
       "        2.31265815e+06, 2.60159008e+06, 2.89052201e+06, 3.17945394e+06,\n",
       "        3.46838586e+06, 3.75731779e+06, 4.04624972e+06, 4.33518165e+06,\n",
       "        4.62411357e+06, 4.91304550e+06, 5.20197743e+06, 5.49090936e+06,\n",
       "        5.77984129e+06, 6.06877321e+06, 6.35770514e+06, 6.64663707e+06,\n",
       "        6.93556900e+06, 7.22450093e+06, 7.51343285e+06, 7.80236478e+06,\n",
       "        8.09129671e+06, 8.38022864e+06, 8.66916056e+06, 8.95809249e+06,\n",
       "        9.24702442e+06, 9.53595635e+06, 9.82488828e+06, 1.01138202e+07,\n",
       "        1.04027521e+07, 1.06916841e+07, 1.09806160e+07, 1.12695479e+07,\n",
       "        1.15584798e+07, 1.18474118e+07, 1.21363437e+07, 1.24252756e+07,\n",
       "        1.27142076e+07, 1.30031395e+07, 1.32920714e+07, 1.35810033e+07,\n",
       "        1.38699353e+07, 1.41588672e+07, 1.44477991e+07, 1.47367310e+07,\n",
       "        1.50256630e+07, 1.53145949e+07, 1.56035268e+07, 1.58924588e+07,\n",
       "        1.61813907e+07, 1.64703226e+07, 1.67592545e+07, 1.70481865e+07,\n",
       "        1.73371184e+07, 1.76260503e+07, 1.79149823e+07, 1.82039142e+07,\n",
       "        1.84928461e+07, 1.87817780e+07, 1.90707100e+07, 1.93596419e+07,\n",
       "        1.96485738e+07, 1.99375057e+07, 2.02264377e+07, 2.05153696e+07,\n",
       "        2.08043015e+07, 2.10932335e+07, 2.13821654e+07, 2.16710973e+07,\n",
       "        2.19600292e+07, 2.22489612e+07, 2.25378931e+07, 2.28268250e+07,\n",
       "        2.31157570e+07, 2.34046889e+07, 2.36936208e+07, 2.39825527e+07,\n",
       "        2.42714847e+07, 2.45604166e+07, 2.48493485e+07, 2.51382804e+07,\n",
       "        2.54272124e+07, 2.57161443e+07, 2.60050762e+07, 2.62940082e+07,\n",
       "        2.65829401e+07, 2.68718720e+07, 2.71608039e+07, 2.74497359e+07,\n",
       "        2.77386678e+07, 2.80275997e+07, 2.83165317e+07, 2.86054636e+07,\n",
       "        2.88943955e+07]),\n",
       " <BarContainer object of 100 artists>)"
      ]
     },
     "execution_count": 16,
     "metadata": {},
     "output_type": "execute_result"
    },
    {
     "data": {
      "image/png": "[encoded data removed]",
      "text/plain": [
       "<Figure size 432x288 with 1 Axes>"
      ]
     },
     "metadata": {
      "needs_background": "light"
     },
     "output_type": "display_data"
    }
   ],
   "source": [
    "plt.hist(cust.renta, bins = 100)"
   ]
  },
  {
   "cell_type": "markdown",
   "id": "1a6653e1",
   "metadata": {},
   "source": [
    "- This numeric variable definitely has a ton of outliers along with 17% missing values. We will not want to remove every single outlier but only ones that are past a certain range. We will first remove all outliers that are greater than Q3 + 5 * IQR and then try two methods for null value replacement/removal. The first one will be using the median values for the replacement for null values and the second method will be using the mean. We will then compare to see how much the distribution of the dataset will change when we replace the null values."
   ]
  },
  {
   "cell_type": "code",
   "execution_count": 17,
   "id": "669a4ea8",
   "metadata": {},
   "outputs": [],
   "source": [
    "IQR = 163432-71572"
   ]
  },
  {
   "cell_type": "code",
   "execution_count": 18,
   "id": "f5824dd4",
   "metadata": {},
   "outputs": [],
   "source": [
    "cust_new = cust[cust['renta'] < 163432 + 5 * IQR]"
   ]
  },
  {
   "cell_type": "code",
   "execution_count": 19,
   "id": "1507d235",
   "metadata": {},
   "outputs": [
    {
     "data": {
      "text/plain": [
       "(array([  6606.,  75511., 151496., 147505., 117279.,  85245.,  61975.,\n",
       "         45573.,  32711.,  23579.,  16331.,  12114.,   9230.,   6921.,\n",
       "          5561.,   4391.,   3658.,   3051.,   2930.,   1791.,   1360.,\n",
       "          1108.,    871.,    808.,    654.]),\n",
       " array([  1202.73  ,  26063.1948,  50923.6596,  75784.1244, 100644.5892,\n",
       "        125505.054 , 150365.5188, 175225.9836, 200086.4484, 224946.9132,\n",
       "        249807.378 , 274667.8428, 299528.3076, 324388.7724, 349249.2372,\n",
       "        374109.702 , 398970.1668, 423830.6316, 448691.0964, 473551.5612,\n",
       "        498412.026 , 523272.4908, 548132.9556, 572993.4204, 597853.8852,\n",
       "        622714.35  ]),\n",
       " <BarContainer object of 25 artists>)"
      ]
     },
     "execution_count": 19,
     "metadata": {},
     "output_type": "execute_result"
    },
    {
     "data": {
      "image/png": "[encoded data removed]",
      "text/plain": [
       "<Figure size 432x288 with 1 Axes>"
      ]
     },
     "metadata": {
      "needs_background": "light"
     },
     "output_type": "display_data"
    }
   ],
   "source": [
    "plt.hist(cust_new.renta,bins = 25)"
   ]
  },
  {
   "cell_type": "code",
   "execution_count": 20,
   "id": "09c49bb5",
   "metadata": {},
   "outputs": [
    {
     "data": {
      "text/plain": [
       "count    818259.000000\n",
       "mean     129793.225924\n",
       "std       86456.872164\n",
       "min        1202.730000\n",
       "25%       71309.100000\n",
       "50%      105990.390000\n",
       "75%      161415.765000\n",
       "max      622714.350000\n",
       "Name: renta, dtype: float64"
      ]
     },
     "execution_count": 20,
     "metadata": {},
     "output_type": "execute_result"
    }
   ],
   "source": [
    "cust_new.renta.describe()"
   ]
  },
  {
   "cell_type": "code",
   "execution_count": 21,
   "id": "8f1dfa94",
   "metadata": {},
   "outputs": [
    {
     "name": "stderr",
     "output_type": "stream",
     "text": [
      "C:\\Users\\JCCLI\\Miniconda_3\\lib\\site-packages\\pandas\\core\\generic.py:5516: SettingWithCopyWarning: \n",
      "A value is trying to be set on a copy of a slice from a DataFrame.\n",
      "Try using .loc[row_indexer,col_indexer] = value instead\n",
      "\n",
      "See the caveats in the documentation: https://pandas.pydata.org/pandas-docs/stable/user_guide/indexing.html#returning-a-view-versus-a-copy\n",
      "  self[name] = value\n"
     ]
    }
   ],
   "source": [
    "cust_new.renta = cust_new.renta.fillna(105990)"
   ]
  },
  {
   "cell_type": "code",
   "execution_count": 22,
   "id": "e839d283",
   "metadata": {},
   "outputs": [
    {
     "data": {
      "text/plain": [
       "count    818259.000000\n",
       "mean     129793.225924\n",
       "std       86456.872164\n",
       "min        1202.730000\n",
       "25%       71309.100000\n",
       "50%      105990.390000\n",
       "75%      161415.765000\n",
       "max      622714.350000\n",
       "Name: renta, dtype: float64"
      ]
     },
     "execution_count": 22,
     "metadata": {},
     "output_type": "execute_result"
    }
   ],
   "source": [
    "cust_new.renta.describe()"
   ]
  },
  {
   "cell_type": "code",
   "execution_count": 23,
   "id": "f63e772e",
   "metadata": {},
   "outputs": [],
   "source": [
    "cust.renta = cust.renta.fillna(139646)"
   ]
  },
  {
   "cell_type": "code",
   "execution_count": 24,
   "id": "df28abfd",
   "metadata": {},
   "outputs": [
    {
     "data": {
      "text/plain": [
       "count    818259.000000\n",
       "mean     129793.225924\n",
       "std       86456.872164\n",
       "min        1202.730000\n",
       "25%       71309.100000\n",
       "50%      105990.390000\n",
       "75%      161415.765000\n",
       "max      622714.350000\n",
       "Name: renta, dtype: float64"
      ]
     },
     "execution_count": 24,
     "metadata": {},
     "output_type": "execute_result"
    }
   ],
   "source": [
    "cust_new.renta.describe()"
   ]
  },
  {
   "cell_type": "markdown",
   "id": "e70002da",
   "metadata": {},
   "source": [
    "- We can see that the distribution doesn't really change if we input the mean vs median for na values. We will stick with median in this case\n",
    "- Let's check the other variables and see if we can do anything about the NA values"
   ]
  },
  {
   "cell_type": "code",
   "execution_count": 25,
   "id": "772bd5ec",
   "metadata": {},
   "outputs": [
    {
     "data": {
      "text/plain": [
       "MADRID       360131\n",
       "BARCELONA     87372\n",
       "Name: nomprov, dtype: int64"
      ]
     },
     "execution_count": 25,
     "metadata": {},
     "output_type": "execute_result"
    }
   ],
   "source": [
    "### nomprov/cod_prov\n",
    "cust.nomprov.value_counts().head(2)"
   ]
  },
  {
   "cell_type": "markdown",
   "id": "d6cca589",
   "metadata": {},
   "source": [
    "- Since we have only 1% of nomprov as null, we will replace the null values with MADRID"
   ]
  },
  {
   "cell_type": "code",
   "execution_count": 26,
   "id": "0d563e34",
   "metadata": {},
   "outputs": [],
   "source": [
    "cust_new.nomprov = cust_new.nomprov.fillna(\"MADRID\")"
   ]
  },
  {
   "cell_type": "code",
   "execution_count": 27,
   "id": "e1edce07",
   "metadata": {},
   "outputs": [],
   "source": [
    "cust_MADRID = cust_new[cust_new['nomprov'] == \"MADRID\"]"
   ]
  },
  {
   "cell_type": "code",
   "execution_count": 28,
   "id": "ccf2dcc2",
   "metadata": {},
   "outputs": [
    {
     "data": {
      "text/plain": [
       "count    329081.000000\n",
       "mean     164012.873631\n",
       "std       97065.229526\n",
       "min        3796.860000\n",
       "25%       94466.820000\n",
       "50%      141382.530000\n",
       "75%      205685.340000\n",
       "max      622697.730000\n",
       "Name: renta, dtype: float64"
      ]
     },
     "execution_count": 28,
     "metadata": {},
     "output_type": "execute_result"
    }
   ],
   "source": [
    "cust_MADRID.renta.describe()"
   ]
  },
  {
   "cell_type": "code",
   "execution_count": 29,
   "id": "ac189064",
   "metadata": {},
   "outputs": [],
   "source": [
    "cust_new.renta = cust_new.renta.fillna(141383.8)"
   ]
  },
  {
   "cell_type": "code",
   "execution_count": 30,
   "id": "24a2f9a5",
   "metadata": {},
   "outputs": [
    {
     "data": {
      "text/plain": [
       "count    818259.000000\n",
       "mean     129793.225924\n",
       "std       86456.872164\n",
       "min        1202.730000\n",
       "25%       71309.100000\n",
       "50%      105990.390000\n",
       "75%      161415.765000\n",
       "max      622714.350000\n",
       "Name: renta, dtype: float64"
      ]
     },
     "execution_count": 30,
     "metadata": {},
     "output_type": "execute_result"
    }
   ],
   "source": [
    "cust_new.renta.describe()"
   ]
  },
  {
   "cell_type": "markdown",
   "id": "9bcb543c",
   "metadata": {},
   "source": [
    "### We will use the value of the median for the gross income for those living in Madrid\n",
    "- Let's now replace the other NA values"
   ]
  },
  {
   "cell_type": "code",
   "execution_count": 34,
   "id": "166e4f05",
   "metadata": {},
   "outputs": [
    {
     "data": {
      "text/plain": [
       "KAT    262891\n",
       "KFC    215771\n",
       "KHE    201024\n",
       "KFA     32524\n",
       "KAS      7087\n",
       "KAG      6847\n",
       "KAA      5342\n",
       "KAB      5245\n",
       "KAY      4992\n",
       "KHK      4823\n",
       "KHD      4790\n",
       "KCC      4243\n",
       "KAE      4072\n",
       "KBZ      3824\n",
       "RED      3585\n",
       "Name: canal_entrada, dtype: int64"
      ]
     },
     "execution_count": 34,
     "metadata": {},
     "output_type": "execute_result"
    }
   ],
   "source": [
    "cust_new.canal_entrada.value_counts().head(15)"
   ]
  },
  {
   "cell_type": "code",
   "execution_count": 35,
   "id": "b416b669",
   "metadata": {},
   "outputs": [],
   "source": [
    "cust_new.canal_entrada = cust_new.canal_entrada.fillna(\"KAT\")"
   ]
  },
  {
   "cell_type": "code",
   "execution_count": 36,
   "id": "92554891",
   "metadata": {},
   "outputs": [
    {
     "name": "stdout",
     "output_type": "stream",
     "text": [
      "<class 'pandas.core.frame.DataFrame'>\n",
      "Int64Index: 818259 entries, 0 to 999999\n",
      "Data columns (total 49 columns):\n",
      " #   Column                 Non-Null Count   Dtype  \n",
      "---  ------                 --------------   -----  \n",
      " 0   Unnamed: 0             818259 non-null  int64  \n",
      " 1   X                      818259 non-null  int64  \n",
      " 2   fecha_dato             818259 non-null  object \n",
      " 3   ncodpers               818259 non-null  int64  \n",
      " 4   ind_empleado           818259 non-null  object \n",
      " 5   pais_residencia        818259 non-null  object \n",
      " 6   sexo                   818259 non-null  object \n",
      " 7   age                    818259 non-null  int64  \n",
      " 8   fecha_alta             818259 non-null  object \n",
      " 9   ind_nuevo              818259 non-null  float64\n",
      " 10  antiguedad             818259 non-null  int64  \n",
      " 11  indrel                 818259 non-null  float64\n",
      " 12  ult_fec_cli_1t         7 non-null       object \n",
      " 13  indrel_1mes            818259 non-null  float64\n",
      " 14  tiprel_1mes            818259 non-null  object \n",
      " 15  indresi                818259 non-null  object \n",
      " 16  indext                 818259 non-null  object \n",
      " 17  conyuemp               166 non-null     object \n",
      " 18  canal_entrada          818259 non-null  object \n",
      " 19  indfall                818259 non-null  object \n",
      " 20  tipodom                818259 non-null  float64\n",
      " 21  cod_prov               818251 non-null  float64\n",
      " 22  nomprov                818259 non-null  object \n",
      " 23  ind_actividad_cliente  818259 non-null  float64\n",
      " 24  renta                  818259 non-null  float64\n",
      " 25  ind_ahor_fin_ult1      818259 non-null  int64  \n",
      " 26  ind_aval_fin_ult1      818259 non-null  int64  \n",
      " 27  ind_cco_fin_ult1       818259 non-null  int64  \n",
      " 28  ind_cder_fin_ult1      818259 non-null  int64  \n",
      " 29  ind_cno_fin_ult1       818259 non-null  int64  \n",
      " 30  ind_ctju_fin_ult1      818259 non-null  int64  \n",
      " 31  ind_ctma_fin_ult1      818259 non-null  int64  \n",
      " 32  ind_ctop_fin_ult1      818259 non-null  int64  \n",
      " 33  ind_ctpp_fin_ult1      818259 non-null  int64  \n",
      " 34  ind_deco_fin_ult1      818259 non-null  int64  \n",
      " 35  ind_deme_fin_ult1      818259 non-null  int64  \n",
      " 36  ind_dela_fin_ult1      818259 non-null  int64  \n",
      " 37  ind_ecue_fin_ult1      818259 non-null  int64  \n",
      " 38  ind_fond_fin_ult1      818259 non-null  int64  \n",
      " 39  ind_hip_fin_ult1       818259 non-null  int64  \n",
      " 40  ind_plan_fin_ult1      818259 non-null  int64  \n",
      " 41  ind_pres_fin_ult1      818259 non-null  int64  \n",
      " 42  ind_reca_fin_ult1      818259 non-null  int64  \n",
      " 43  ind_tjcr_fin_ult1      818259 non-null  int64  \n",
      " 44  ind_valo_fin_ult1      818259 non-null  int64  \n",
      " 45  ind_viv_fin_ult1       818259 non-null  int64  \n",
      " 46  ind_nomina_ult1        818183 non-null  float64\n",
      " 47  ind_nom_pens_ult1      818183 non-null  float64\n",
      " 48  ind_recibo_ult1        818259 non-null  int64  \n",
      "dtypes: float64(9), int64(27), object(13)\n",
      "memory usage: 312.1+ MB\n"
     ]
    }
   ],
   "source": [
    "cust_new.info()"
   ]
  },
  {
   "cell_type": "code",
   "execution_count": 37,
   "id": "43cc3cba",
   "metadata": {},
   "outputs": [
    {
     "data": {
      "text/plain": [
       "0.0    755712\n",
       "1.0     62471\n",
       "Name: ind_nomina_ult1, dtype: int64"
      ]
     },
     "execution_count": 37,
     "metadata": {},
     "output_type": "execute_result"
    }
   ],
   "source": [
    "cust_new.ind_nomina_ult1.value_counts().head(15)"
   ]
  },
  {
   "cell_type": "code",
   "execution_count": 38,
   "id": "8727012c",
   "metadata": {},
   "outputs": [
    {
     "data": {
      "text/plain": [
       "0.0    748842\n",
       "1.0     69341\n",
       "Name: ind_nom_pens_ult1, dtype: int64"
      ]
     },
     "execution_count": 38,
     "metadata": {},
     "output_type": "execute_result"
    }
   ],
   "source": [
    "cust_new.ind_nom_pens_ult1.value_counts().head(15)"
   ]
  },
  {
   "cell_type": "code",
   "execution_count": 45,
   "id": "d195bf0a",
   "metadata": {},
   "outputs": [],
   "source": [
    "cust_new.ind_nom_pens_ult1 = cust_new.ind_nom_pens_ult1.fillna(0)\n",
    "cust_new.ind_nomina_ult1 = cust_new.ind_nomina_ult1.fillna(0)"
   ]
  },
  {
   "cell_type": "code",
   "execution_count": null,
   "id": "9d8b0619",
   "metadata": {},
   "outputs": [],
   "source": [
    "### Remove unnecessary variables\n",
    "cust_new.drop(['Unnamed: 0', 'conyuemp', 'tipodom', 'cod_prov', 'ult_fec_cli_1t'], axis=1, inplace=True)"
   ]
  },
  {
   "cell_type": "code",
   "execution_count": 42,
   "id": "174566a8",
   "metadata": {},
   "outputs": [],
   "source": [
    "cust_new.drop(['X'], axis=1, inplace=True)"
   ]
  },
  {
   "cell_type": "code",
   "execution_count": 43,
   "id": "5ba06cf2",
   "metadata": {},
   "outputs": [
    {
     "name": "stdout",
     "output_type": "stream",
     "text": [
      "<class 'pandas.core.frame.DataFrame'>\n",
      "Int64Index: 818259 entries, 0 to 999999\n",
      "Data columns (total 43 columns):\n",
      " #   Column                 Non-Null Count   Dtype  \n",
      "---  ------                 --------------   -----  \n",
      " 0   fecha_dato             818259 non-null  object \n",
      " 1   ncodpers               818259 non-null  int64  \n",
      " 2   ind_empleado           818259 non-null  object \n",
      " 3   pais_residencia        818259 non-null  object \n",
      " 4   sexo                   818259 non-null  object \n",
      " 5   age                    818259 non-null  int64  \n",
      " 6   fecha_alta             818259 non-null  object \n",
      " 7   ind_nuevo              818259 non-null  float64\n",
      " 8   antiguedad             818259 non-null  int64  \n",
      " 9   indrel                 818259 non-null  float64\n",
      " 10  indrel_1mes            818259 non-null  float64\n",
      " 11  tiprel_1mes            818259 non-null  object \n",
      " 12  indresi                818259 non-null  object \n",
      " 13  indext                 818259 non-null  object \n",
      " 14  canal_entrada          818259 non-null  object \n",
      " 15  indfall                818259 non-null  object \n",
      " 16  nomprov                818259 non-null  object \n",
      " 17  ind_actividad_cliente  818259 non-null  float64\n",
      " 18  renta                  818259 non-null  float64\n",
      " 19  ind_ahor_fin_ult1      818259 non-null  int64  \n",
      " 20  ind_aval_fin_ult1      818259 non-null  int64  \n",
      " 21  ind_cco_fin_ult1       818259 non-null  int64  \n",
      " 22  ind_cder_fin_ult1      818259 non-null  int64  \n",
      " 23  ind_cno_fin_ult1       818259 non-null  int64  \n",
      " 24  ind_ctju_fin_ult1      818259 non-null  int64  \n",
      " 25  ind_ctma_fin_ult1      818259 non-null  int64  \n",
      " 26  ind_ctop_fin_ult1      818259 non-null  int64  \n",
      " 27  ind_ctpp_fin_ult1      818259 non-null  int64  \n",
      " 28  ind_deco_fin_ult1      818259 non-null  int64  \n",
      " 29  ind_deme_fin_ult1      818259 non-null  int64  \n",
      " 30  ind_dela_fin_ult1      818259 non-null  int64  \n",
      " 31  ind_ecue_fin_ult1      818259 non-null  int64  \n",
      " 32  ind_fond_fin_ult1      818259 non-null  int64  \n",
      " 33  ind_hip_fin_ult1       818259 non-null  int64  \n",
      " 34  ind_plan_fin_ult1      818259 non-null  int64  \n",
      " 35  ind_pres_fin_ult1      818259 non-null  int64  \n",
      " 36  ind_reca_fin_ult1      818259 non-null  int64  \n",
      " 37  ind_tjcr_fin_ult1      818259 non-null  int64  \n",
      " 38  ind_valo_fin_ult1      818259 non-null  int64  \n",
      " 39  ind_viv_fin_ult1       818259 non-null  int64  \n",
      " 40  ind_nomina_ult1        818183 non-null  float64\n",
      " 41  ind_nom_pens_ult1      818183 non-null  float64\n",
      " 42  ind_recibo_ult1        818259 non-null  int64  \n",
      "dtypes: float64(7), int64(25), object(11)\n",
      "memory usage: 274.7+ MB\n"
     ]
    }
   ],
   "source": [
    "## Change columns to English translation\n",
    "cust_new.columns = ['Date', 'Customer_id', 'Employee index', 'Country', 'Gender', 'Age', 'Contract date', 'New customer index', 'Seniority(months)', 'Primary',\n",
    "                'Customer type', 'Customer relation type', 'Residence index', 'Foreigner index', 'Channel', 'Deceased index',\n",
    "               'Province name', 'Activity index', 'Income', 'Saving account', 'Guarantees', 'Current account', 'Derivada account',\n",
    "              'Payroll account', 'Junior account', 'Most particular account', 'Particular account', 'Particular plus account', 'Short-term deposits', 'Medium-term deposits',\n",
    "                'Long-term deposits', 'e-account', 'Funds', 'Mortage', 'Pensions_1', 'Loans', 'Taxes', 'Credit card', 'Securities', 'Home account', 'Payroll', 'Pensions_2', 'Direct debit']"
   ]
  },
  {
   "cell_type": "code",
   "execution_count": 46,
   "id": "23f22da4",
   "metadata": {},
   "outputs": [],
   "source": [
    "cust_new.to_csv('C://Users//JCCLI//Downloads//cust_seg_clean.csv', index=False, header=True)"
   ]
  },
  {
   "cell_type": "code",
   "execution_count": null,
   "id": "0667bb35",
   "metadata": {},
   "outputs": [],
   "source": []
  }
 ],
 "metadata": {
  "kernelspec": {
   "display_name": "Python 3 (ipykernel)",
   "language": "python",
   "name": "python3"
  },
  "language_info": {
   "codemirror_mode": {
    "name": "ipython",
    "version": 3
   },
   "file_extension": ".py",
   "mimetype": "text/x-python",
   "name": "python",
   "nbconvert_exporter": "python",
   "pygments_lexer": "ipython3",
   "version": "3.9.12"
  }
 },
 "nbformat": 4,
 "nbformat_minor": 5
}
