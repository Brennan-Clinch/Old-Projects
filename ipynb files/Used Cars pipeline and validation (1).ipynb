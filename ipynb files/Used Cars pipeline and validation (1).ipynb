{
 "cells": [
  {
   "cell_type": "markdown",
   "id": "6df526d0",
   "metadata": {},
   "source": [
    "# File ingestion and schema validation\n",
    "### Used Cars dataset taken from Kaggle: (66 columns, 3 million entrees)"
   ]
  },
  {
   "cell_type": "code",
   "execution_count": 1,
   "id": "769bf06d",
   "metadata": {},
   "outputs": [],
   "source": [
    "import os\n",
    "import time"
   ]
  },
  {
   "cell_type": "code",
   "execution_count": 2,
   "id": "8c384b6d",
   "metadata": {},
   "outputs": [
    {
     "data": {
      "text/plain": [
       "9980208148"
      ]
     },
     "execution_count": 2,
     "metadata": {},
     "output_type": "execute_result"
    }
   ],
   "source": [
    "#Size of the file\n",
    "os.path.getsize('C://Users//JCCLI//Downloads//used_cars_data.csv')"
   ]
  },
  {
   "cell_type": "markdown",
   "id": "1bb37608",
   "metadata": {},
   "source": [
    "### Read data with Dask\n",
    "\n",
    "- Since our data has 66 rows, we will only be focusing on 6 columns of the entire dataset for this file we want to create"
   ]
  },
  {
   "cell_type": "code",
   "execution_count": 3,
   "id": "c30a40e0",
   "metadata": {},
   "outputs": [
    {
     "name": "stdout",
     "output_type": "stream",
     "text": [
      "Time to read CSV using Dask: 0.15624594688415527 sec\n"
     ]
    }
   ],
   "source": [
    "cols = [\"vin\", \"body_type\",\"daysonmarket\",\"engine_displacement\",\"engine_type\",\"exterior_color\"]\n",
    "from dask import dataframe as dd\n",
    "start = time.time()\n",
    "dask_df = dd.read_csv('C://Users//JCCLI//Downloads//used_cars_data.csv',usecols = cols)\n",
    "end = time.time()\n",
    "print(\"Time to read CSV using Dask:\", (end-start), \"sec\")"
   ]
  },
  {
   "cell_type": "markdown",
   "id": "78cb9a0a",
   "metadata": {},
   "source": [
    "### Read data with Pandas\n"
   ]
  },
  {
   "cell_type": "code",
   "execution_count": 4,
   "id": "d165b1b9",
   "metadata": {},
   "outputs": [
    {
     "name": "stdout",
     "output_type": "stream",
     "text": [
      "Time to read CSV using Pandas: 282.5036242008209 sec\n"
     ]
    }
   ],
   "source": [
    "import pandas as pd\n",
    "start = time.time()\n",
    "pd_df = pd.read_csv('C://Users//JCCLI//Downloads//used_cars_data.csv',usecols = cols, nrows = 3000000)\n",
    "end = time.time()\n",
    "print(\"Time to read CSV using Pandas:\", (end-start), \"sec\")"
   ]
  },
  {
   "cell_type": "markdown",
   "id": "9eb22423",
   "metadata": {},
   "source": [
    "### Read data with modin and ray"
   ]
  },
  {
   "cell_type": "markdown",
   "id": "3da5f084",
   "metadata": {},
   "source": [
    "#### As you can see, we will use dask for the final file since it's speed is much much faster than pandas after getting rid of most of the columns"
   ]
  },
  {
   "cell_type": "code",
   "execution_count": 5,
   "id": "54a56c7d",
   "metadata": {},
   "outputs": [],
   "source": [
    "from dask import dataframe as dd\n",
    "df = dd.read_csv('C:/Users//JCCLI//Downloads//used_cars_data.csv', usecols = cols)"
   ]
  },
  {
   "cell_type": "code",
   "execution_count": 6,
   "id": "b2d2dd26",
   "metadata": {},
   "outputs": [
    {
     "data": {
      "text/plain": [
       "3000040"
      ]
     },
     "execution_count": 6,
     "metadata": {},
     "output_type": "execute_result"
    }
   ],
   "source": [
    "len(df.index)"
   ]
  },
  {
   "cell_type": "code",
   "execution_count": 7,
   "id": "6a18dd1b",
   "metadata": {},
   "outputs": [
    {
     "name": "stderr",
     "output_type": "stream",
     "text": [
      "C:\\Users\\JCCLI\\AppData\\Local\\Temp\\ipykernel_3896\\438036106.py:2: FutureWarning: The default value of regex will change from True to False in a future version.\n",
      "  df.columns=df.columns.str.replace('[_]','')\n"
     ]
    }
   ],
   "source": [
    "# remove underscores\n",
    "df.columns=df.columns.str.replace('[_]','')"
   ]
  },
  {
   "cell_type": "code",
   "execution_count": 8,
   "id": "5e682da2",
   "metadata": {},
   "outputs": [
    {
     "data": {
      "text/plain": [
       "Index(['vin', 'bodytype', 'daysonmarket', 'enginedisplacement', 'enginetype',\n",
       "       'exteriorcolor'],\n",
       "      dtype='object')"
      ]
     },
     "execution_count": 8,
     "metadata": {},
     "output_type": "execute_result"
    }
   ],
   "source": [
    "df.columns"
   ]
  },
  {
   "cell_type": "markdown",
   "id": "d041bef6",
   "metadata": {},
   "source": [
    "#### Data Validation\n",
    "- Here we will perform data validation. I saved the updated data frame as a csv so our final write contains only our selected columns"
   ]
  },
  {
   "cell_type": "code",
   "execution_count": 9,
   "id": "052d605c",
   "metadata": {},
   "outputs": [
    {
     "name": "stdout",
     "output_type": "stream",
     "text": [
      "Overwriting testutility.py\n"
     ]
    }
   ],
   "source": [
    "%%writefile testutility.py\n",
    "import logging\n",
    "import os\n",
    "import subprocess\n",
    "import yaml\n",
    "import pandas as pd\n",
    "import datetime \n",
    "import gc\n",
    "import re\n",
    "def read_config_file(filepath):\n",
    "    with open(filepath, 'r') as stream:\n",
    "        try:\n",
    "            return yaml.safe_load(stream)\n",
    "        except yaml.YAMLError as exc:\n",
    "            logging.error(exc)\n",
    "\n",
    "\n",
    "def replacer(string, char):\n",
    "    pattern = char + '{2,}'\n",
    "    string = re.sub(pattern, char, string) \n",
    "    return string\n",
    "\n",
    "def col_header_val(df,table_config):\n",
    "    '''\n",
    "    replace whitespaces in the column\n",
    "    and standardized column names\n",
    "    '''\n",
    "    df.columns = df.columns.str.lower()\n",
    "    df.columns = df.columns.str.replace('[^\\w]','_',regex=True)\n",
    "    df.columns = list(map(lambda x: x.strip('_'), list(df.columns)))\n",
    "    df.columns = list(map(lambda x: replacer(x,'_'), list(df.columns)))\n",
    "    expected_col = list(map(lambda x: x.lower(),  table_config['columns']))\n",
    "    expected_col.sort()\n",
    "    df.columns =list(map(lambda x: x.lower(), list(df.columns)))\n",
    "    df = df.reindex(sorted(df.columns), axis=1)\n",
    "    if len(df.columns) == len(expected_col) and list(expected_col)  == list(df.columns):\n",
    "        print(\"column name and column length validation passed\")\n",
    "        return 1\n",
    "    else:\n",
    "        print(\"column name and column length validation failed\")\n",
    "        mismatched_columns_file = list(set(df.columns).difference(expected_col))\n",
    "        print(\"Following File columns are not in the YAML file\",mismatched_columns_file)\n",
    "        missing_YAML_file = list(set(expected_col).difference(df.columns))\n",
    "        print(\"Following YAML columns are not in the file uploaded\",missing_YAML_file)\n",
    "        logging.info(f'df columns: {df.columns}')\n",
    "        logging.info(f'expected columns: {expected_col}')\n",
    "        return 0"
   ]
  },
  {
   "cell_type": "markdown",
   "id": "6dd4ff50",
   "metadata": {},
   "source": [
    "### YAML"
   ]
  },
  {
   "cell_type": "code",
   "execution_count": 10,
   "id": "9e3ab114",
   "metadata": {},
   "outputs": [
    {
     "name": "stdout",
     "output_type": "stream",
     "text": [
      "Overwriting file.yaml\n"
     ]
    }
   ],
   "source": [
    "%%writefile file.yaml\n",
    "file_type: csv\n",
    "dataset_name: file\n",
    "file_name: used_carsnew\n",
    "table_name: edsurv\n",
    "inbound_delimiter: \",\"\n",
    "outbound_delimiter: \"|\"\n",
    "skip_leading_rows: 1\n",
    "columns: \n",
    "    - vin\n",
    "    - bodytype\n",
    "    - daysonmarket\n",
    "    - enginedisplacement\n",
    "    - enginetype\n",
    "    - exteriorcolor"
   ]
  },
  {
   "cell_type": "code",
   "execution_count": 11,
   "id": "8d017fbb",
   "metadata": {},
   "outputs": [],
   "source": [
    "# Read config file\n",
    "import testutility as util\n",
    "config_data = util.read_config_file(\"file.yaml\")"
   ]
  },
  {
   "cell_type": "code",
   "execution_count": 12,
   "id": "98f769df",
   "metadata": {},
   "outputs": [
    {
     "data": {
      "text/plain": [
       "','"
      ]
     },
     "execution_count": 12,
     "metadata": {},
     "output_type": "execute_result"
    }
   ],
   "source": [
    "config_data['inbound_delimiter']"
   ]
  },
  {
   "cell_type": "code",
   "execution_count": 13,
   "id": "78024ec2",
   "metadata": {},
   "outputs": [
    {
     "data": {
      "text/plain": [
       "{'file_type': 'csv',\n",
       " 'dataset_name': 'file',\n",
       " 'file_name': 'used_carsnew',\n",
       " 'table_name': 'edsurv',\n",
       " 'inbound_delimiter': ',',\n",
       " 'outbound_delimiter': '|',\n",
       " 'skip_leading_rows': 1,\n",
       " 'columns': ['vin',\n",
       "  'bodytype',\n",
       "  'daysonmarket',\n",
       "  'enginedisplacement',\n",
       "  'enginetype',\n",
       "  'exteriorcolor']}"
      ]
     },
     "execution_count": 13,
     "metadata": {},
     "output_type": "execute_result"
    }
   ],
   "source": [
    "#inspecting data of config file\n",
    "config_data"
   ]
  },
  {
   "cell_type": "code",
   "execution_count": 14,
   "id": "7d592b44",
   "metadata": {},
   "outputs": [
    {
     "data": {
      "text/html": [
       "<div>\n",
       "<style scoped>\n",
       "    .dataframe tbody tr th:only-of-type {\n",
       "        vertical-align: middle;\n",
       "    }\n",
       "\n",
       "    .dataframe tbody tr th {\n",
       "        vertical-align: top;\n",
       "    }\n",
       "\n",
       "    .dataframe thead th {\n",
       "        text-align: right;\n",
       "    }\n",
       "</style>\n",
       "<table border=\"1\" class=\"dataframe\">\n",
       "  <thead>\n",
       "    <tr style=\"text-align: right;\">\n",
       "      <th></th>\n",
       "      <th>Unnamed: 0</th>\n",
       "      <th>vin</th>\n",
       "      <th>bodytype</th>\n",
       "      <th>daysonmarket</th>\n",
       "      <th>enginedisplacement</th>\n",
       "      <th>enginetype</th>\n",
       "      <th>exteriorcolor</th>\n",
       "    </tr>\n",
       "  </thead>\n",
       "  <tbody>\n",
       "    <tr>\n",
       "      <th>0</th>\n",
       "      <td>0</td>\n",
       "      <td>ZACNJABB5KPJ92081</td>\n",
       "      <td>SUV / Crossover</td>\n",
       "      <td>522</td>\n",
       "      <td>1300.0</td>\n",
       "      <td>I4</td>\n",
       "      <td>Solar Yellow</td>\n",
       "    </tr>\n",
       "    <tr>\n",
       "      <th>1</th>\n",
       "      <td>1</td>\n",
       "      <td>SALCJ2FX1LH858117</td>\n",
       "      <td>SUV / Crossover</td>\n",
       "      <td>207</td>\n",
       "      <td>2000.0</td>\n",
       "      <td>I4</td>\n",
       "      <td>Narvik Black</td>\n",
       "    </tr>\n",
       "    <tr>\n",
       "      <th>2</th>\n",
       "      <td>2</td>\n",
       "      <td>JF1VA2M67G9829723</td>\n",
       "      <td>Sedan</td>\n",
       "      <td>1233</td>\n",
       "      <td>2500.0</td>\n",
       "      <td>H4</td>\n",
       "      <td>None</td>\n",
       "    </tr>\n",
       "    <tr>\n",
       "      <th>3</th>\n",
       "      <td>3</td>\n",
       "      <td>SALRR2RV0L2433391</td>\n",
       "      <td>SUV / Crossover</td>\n",
       "      <td>196</td>\n",
       "      <td>3000.0</td>\n",
       "      <td>V6</td>\n",
       "      <td>Eiger Gray</td>\n",
       "    </tr>\n",
       "    <tr>\n",
       "      <th>4</th>\n",
       "      <td>4</td>\n",
       "      <td>SALCJ2FXXLH862327</td>\n",
       "      <td>SUV / Crossover</td>\n",
       "      <td>137</td>\n",
       "      <td>2000.0</td>\n",
       "      <td>I4</td>\n",
       "      <td>Narvik Black</td>\n",
       "    </tr>\n",
       "  </tbody>\n",
       "</table>\n",
       "</div>"
      ],
      "text/plain": [
       "   Unnamed: 0                vin         bodytype  daysonmarket  \\\n",
       "0           0  ZACNJABB5KPJ92081  SUV / Crossover           522   \n",
       "1           1  SALCJ2FX1LH858117  SUV / Crossover           207   \n",
       "2           2  JF1VA2M67G9829723            Sedan          1233   \n",
       "3           3  SALRR2RV0L2433391  SUV / Crossover           196   \n",
       "4           4  SALCJ2FXXLH862327  SUV / Crossover           137   \n",
       "\n",
       "   enginedisplacement enginetype exteriorcolor  \n",
       "0              1300.0         I4  Solar Yellow  \n",
       "1              2000.0         I4  Narvik Black  \n",
       "2              2500.0         H4          None  \n",
       "3              3000.0         V6    Eiger Gray  \n",
       "4              2000.0         I4  Narvik Black  "
      ]
     },
     "execution_count": 14,
     "metadata": {},
     "output_type": "execute_result"
    }
   ],
   "source": [
    "# Normal reading process of the file\n",
    "import dask.dataframe as dd\n",
    "df_sample = dd.read_csv(\"used_carsnew.csv\",delimiter=',')\n",
    "df_sample.head()"
   ]
  },
  {
   "cell_type": "code",
   "execution_count": 15,
   "id": "b3165a06",
   "metadata": {},
   "outputs": [
    {
     "name": "stderr",
     "output_type": "stream",
     "text": [
      "C:\\Users\\JCCLI\\Miniconda_3\\lib\\site-packages\\IPython\\core\\interactiveshell.py:3397: FutureWarning: In a future version of pandas all arguments of read_csv except for the argument 'filepath_or_buffer' will be keyword-only\n",
      "  exec(code_obj, self.user_global_ns, self.user_ns)\n"
     ]
    },
    {
     "data": {
      "text/html": [
       "<div>\n",
       "<style scoped>\n",
       "    .dataframe tbody tr th:only-of-type {\n",
       "        vertical-align: middle;\n",
       "    }\n",
       "\n",
       "    .dataframe tbody tr th {\n",
       "        vertical-align: top;\n",
       "    }\n",
       "\n",
       "    .dataframe thead th {\n",
       "        text-align: right;\n",
       "    }\n",
       "</style>\n",
       "<table border=\"1\" class=\"dataframe\">\n",
       "  <thead>\n",
       "    <tr style=\"text-align: right;\">\n",
       "      <th></th>\n",
       "      <th>Unnamed: 0</th>\n",
       "      <th>vin</th>\n",
       "      <th>bodytype</th>\n",
       "      <th>daysonmarket</th>\n",
       "      <th>enginedisplacement</th>\n",
       "      <th>enginetype</th>\n",
       "      <th>exteriorcolor</th>\n",
       "    </tr>\n",
       "  </thead>\n",
       "  <tbody>\n",
       "    <tr>\n",
       "      <th>0</th>\n",
       "      <td>0</td>\n",
       "      <td>ZACNJABB5KPJ92081</td>\n",
       "      <td>SUV / Crossover</td>\n",
       "      <td>522</td>\n",
       "      <td>1300.0</td>\n",
       "      <td>I4</td>\n",
       "      <td>Solar Yellow</td>\n",
       "    </tr>\n",
       "    <tr>\n",
       "      <th>1</th>\n",
       "      <td>1</td>\n",
       "      <td>SALCJ2FX1LH858117</td>\n",
       "      <td>SUV / Crossover</td>\n",
       "      <td>207</td>\n",
       "      <td>2000.0</td>\n",
       "      <td>I4</td>\n",
       "      <td>Narvik Black</td>\n",
       "    </tr>\n",
       "    <tr>\n",
       "      <th>2</th>\n",
       "      <td>2</td>\n",
       "      <td>JF1VA2M67G9829723</td>\n",
       "      <td>Sedan</td>\n",
       "      <td>1233</td>\n",
       "      <td>2500.0</td>\n",
       "      <td>H4</td>\n",
       "      <td>None</td>\n",
       "    </tr>\n",
       "    <tr>\n",
       "      <th>3</th>\n",
       "      <td>3</td>\n",
       "      <td>SALRR2RV0L2433391</td>\n",
       "      <td>SUV / Crossover</td>\n",
       "      <td>196</td>\n",
       "      <td>3000.0</td>\n",
       "      <td>V6</td>\n",
       "      <td>Eiger Gray</td>\n",
       "    </tr>\n",
       "    <tr>\n",
       "      <th>4</th>\n",
       "      <td>4</td>\n",
       "      <td>SALCJ2FXXLH862327</td>\n",
       "      <td>SUV / Crossover</td>\n",
       "      <td>137</td>\n",
       "      <td>2000.0</td>\n",
       "      <td>I4</td>\n",
       "      <td>Narvik Black</td>\n",
       "    </tr>\n",
       "  </tbody>\n",
       "</table>\n",
       "</div>"
      ],
      "text/plain": [
       "   Unnamed: 0                vin         bodytype  daysonmarket  \\\n",
       "0           0  ZACNJABB5KPJ92081  SUV / Crossover           522   \n",
       "1           1  SALCJ2FX1LH858117  SUV / Crossover           207   \n",
       "2           2  JF1VA2M67G9829723            Sedan          1233   \n",
       "3           3  SALRR2RV0L2433391  SUV / Crossover           196   \n",
       "4           4  SALCJ2FXXLH862327  SUV / Crossover           137   \n",
       "\n",
       "   enginedisplacement enginetype exteriorcolor  \n",
       "0              1300.0         I4  Solar Yellow  \n",
       "1              2000.0         I4  Narvik Black  \n",
       "2              2500.0         H4          None  \n",
       "3              3000.0         V6    Eiger Gray  \n",
       "4              2000.0         I4  Narvik Black  "
      ]
     },
     "execution_count": 15,
     "metadata": {},
     "output_type": "execute_result"
    }
   ],
   "source": [
    "# read the file using config file\n",
    "file_type = config_data['file_type']\n",
    "source_file = \"./\" + config_data['file_name'] + f'.{file_type}'\n",
    "#print(\"\",source_file)\n",
    "df = pd.read_csv(source_file,config_data['inbound_delimiter'])\n",
    "df.head()"
   ]
  },
  {
   "cell_type": "code",
   "execution_count": 16,
   "id": "b9254747",
   "metadata": {},
   "outputs": [
    {
     "name": "stdout",
     "output_type": "stream",
     "text": [
      "column name and column length validation failed\n",
      "Following File columns are not in the YAML file ['unnamed_0']\n",
      "Following YAML columns are not in the file uploaded []\n"
     ]
    },
    {
     "data": {
      "text/plain": [
       "0"
      ]
     },
     "execution_count": 16,
     "metadata": {},
     "output_type": "execute_result"
    }
   ],
   "source": [
    "#validate the header of the file\n",
    "util.col_header_val(df,config_data)"
   ]
  },
  {
   "cell_type": "code",
   "execution_count": 17,
   "id": "e157252b",
   "metadata": {},
   "outputs": [
    {
     "name": "stdout",
     "output_type": "stream",
     "text": [
      "columns of files are: Index(['unnamed_0', 'vin', 'bodytype', 'daysonmarket', 'enginedisplacement',\n",
      "       'enginetype', 'exteriorcolor'],\n",
      "      dtype='object')\n",
      "columns of YAML are: ['vin', 'bodytype', 'daysonmarket', 'enginedisplacement', 'enginetype', 'exteriorcolor']\n"
     ]
    }
   ],
   "source": [
    "print(\"columns of files are:\" ,df.columns)\n",
    "print(\"columns of YAML are:\" ,config_data['columns'])"
   ]
  },
  {
   "cell_type": "code",
   "execution_count": 18,
   "id": "aebf009b",
   "metadata": {},
   "outputs": [
    {
     "name": "stdout",
     "output_type": "stream",
     "text": [
      "column name and column length validation failed\n",
      "Following File columns are not in the YAML file ['unnamed_0']\n",
      "Following YAML columns are not in the file uploaded []\n",
      "validation failed\n"
     ]
    }
   ],
   "source": [
    "if util.col_header_val(df,config_data)==0:\n",
    "    print(\"validation failed\")\n",
    "    # write code to reject the file\n",
    "else:\n",
    "    print(\"col validation passed\")\n",
    "    # write the code to perform further action\n",
    "    # in the pipleine"
   ]
  },
  {
   "cell_type": "code",
   "execution_count": 32,
   "id": "32f17e8d",
   "metadata": {},
   "outputs": [
    {
     "data": {
      "text/plain": [
       "['C:\\\\Users\\\\JCCLI\\\\used_carsnew.csv.gz\\\\0.part',\n",
       " 'C:\\\\Users\\\\JCCLI\\\\used_carsnew.csv.gz\\\\1.part',\n",
       " 'C:\\\\Users\\\\JCCLI\\\\used_carsnew.csv.gz\\\\2.part']"
      ]
     },
     "execution_count": 32,
     "metadata": {},
     "output_type": "execute_result"
    }
   ],
   "source": [
    "# Write our csv file in gz format (pipe separated \"|\")\n",
    "import csv\n",
    "import datetime\n",
    "import gzip\n",
    "\n",
    "from dask import dataframe as dd\n",
    "df = dd.read_csv('used_carsnew.csv',delimiter=',')\n",
    "\n",
    "df.to_csv('used_carsnew.csv.gz',\n",
    "          sep='|',\n",
    "          header=True,\n",
    "          index=False,\n",
    "          quoting=csv.QUOTE_ALL,\n",
    "          compression='gzip',\n",
    "          quotechar='\"',\n",
    "          doublequote=True,\n",
    "          line_terminator='\\n')"
   ]
  },
  {
   "cell_type": "code",
   "execution_count": 23,
   "id": "82ce8a05",
   "metadata": {},
   "outputs": [
    {
     "name": "stdout",
     "output_type": "stream",
     "text": [
      "0.part\n",
      "1.part\n",
      "2.part\n"
     ]
    }
   ],
   "source": [
    "# checking number of files in gz format folder\n",
    "import os\n",
    "partitions = os.listdir('used_carsnew.csv.gz/')\n",
    "for partition in partitions:\n",
    "    print(partition)"
   ]
  },
  {
   "cell_type": "code",
   "execution_count": 24,
   "id": "11aee05d",
   "metadata": {},
   "outputs": [
    {
     "data": {
      "text/plain": [
       "4096"
      ]
     },
     "execution_count": 24,
     "metadata": {},
     "output_type": "execute_result"
    }
   ],
   "source": [
    "#size of the gz format folder\n",
    "os.path.getsize('used_carsnew.csv.gz')"
   ]
  },
  {
   "cell_type": "code",
   "execution_count": 34,
   "id": "8212d800",
   "metadata": {},
   "outputs": [
    {
     "ename": "PermissionError",
     "evalue": "[Errno 13] Permission denied: 'used_carsnew.csv.gz'",
     "output_type": "error",
     "traceback": [
      "\u001b[1;31m---------------------------------------------------------------------------\u001b[0m",
      "\u001b[1;31mPermissionError\u001b[0m                           Traceback (most recent call last)",
      "Input \u001b[1;32mIn [34]\u001b[0m, in \u001b[0;36m<cell line: 3>\u001b[1;34m()\u001b[0m\n\u001b[0;32m      1\u001b[0m \u001b[38;5;28;01mimport\u001b[39;00m \u001b[38;5;21;01mgzip\u001b[39;00m\n\u001b[0;32m      2\u001b[0m file \u001b[38;5;241m=\u001b[39m \u001b[38;5;124m'\u001b[39m\u001b[38;5;124mused_carsnew.csv.gz\u001b[39m\u001b[38;5;124m'\u001b[39m\n\u001b[1;32m----> 3\u001b[0m \u001b[38;5;28;01mwith\u001b[39;00m \u001b[43mgzip\u001b[49m\u001b[38;5;241;43m.\u001b[39;49m\u001b[43mopen\u001b[49m\u001b[43m(\u001b[49m\u001b[43mfile\u001b[49m\u001b[43m,\u001b[49m\u001b[43m \u001b[49m\u001b[38;5;124;43m'\u001b[39;49m\u001b[38;5;124;43mrt\u001b[39;49m\u001b[38;5;124;43m'\u001b[39;49m\u001b[43m)\u001b[49m \u001b[38;5;28;01mas\u001b[39;00m f:\n\u001b[0;32m      4\u001b[0m     \u001b[38;5;28;01mfor\u001b[39;00m i, l \u001b[38;5;129;01min\u001b[39;00m \u001b[38;5;28menumerate\u001b[39m(f):\n\u001b[0;32m      5\u001b[0m         \u001b[38;5;28;01mpass\u001b[39;00m\n",
      "File \u001b[1;32m~\\Miniconda_3\\lib\\gzip.py:58\u001b[0m, in \u001b[0;36mopen\u001b[1;34m(filename, mode, compresslevel, encoding, errors, newline)\u001b[0m\n\u001b[0;32m     56\u001b[0m gz_mode \u001b[38;5;241m=\u001b[39m mode\u001b[38;5;241m.\u001b[39mreplace(\u001b[38;5;124m\"\u001b[39m\u001b[38;5;124mt\u001b[39m\u001b[38;5;124m\"\u001b[39m, \u001b[38;5;124m\"\u001b[39m\u001b[38;5;124m\"\u001b[39m)\n\u001b[0;32m     57\u001b[0m \u001b[38;5;28;01mif\u001b[39;00m \u001b[38;5;28misinstance\u001b[39m(filename, (\u001b[38;5;28mstr\u001b[39m, \u001b[38;5;28mbytes\u001b[39m, os\u001b[38;5;241m.\u001b[39mPathLike)):\n\u001b[1;32m---> 58\u001b[0m     binary_file \u001b[38;5;241m=\u001b[39m \u001b[43mGzipFile\u001b[49m\u001b[43m(\u001b[49m\u001b[43mfilename\u001b[49m\u001b[43m,\u001b[49m\u001b[43m \u001b[49m\u001b[43mgz_mode\u001b[49m\u001b[43m,\u001b[49m\u001b[43m \u001b[49m\u001b[43mcompresslevel\u001b[49m\u001b[43m)\u001b[49m\n\u001b[0;32m     59\u001b[0m \u001b[38;5;28;01melif\u001b[39;00m \u001b[38;5;28mhasattr\u001b[39m(filename, \u001b[38;5;124m\"\u001b[39m\u001b[38;5;124mread\u001b[39m\u001b[38;5;124m\"\u001b[39m) \u001b[38;5;129;01mor\u001b[39;00m \u001b[38;5;28mhasattr\u001b[39m(filename, \u001b[38;5;124m\"\u001b[39m\u001b[38;5;124mwrite\u001b[39m\u001b[38;5;124m\"\u001b[39m):\n\u001b[0;32m     60\u001b[0m     binary_file \u001b[38;5;241m=\u001b[39m GzipFile(\u001b[38;5;28;01mNone\u001b[39;00m, gz_mode, compresslevel, filename)\n",
      "File \u001b[1;32m~\\Miniconda_3\\lib\\gzip.py:173\u001b[0m, in \u001b[0;36mGzipFile.__init__\u001b[1;34m(self, filename, mode, compresslevel, fileobj, mtime)\u001b[0m\n\u001b[0;32m    171\u001b[0m     mode \u001b[38;5;241m+\u001b[39m\u001b[38;5;241m=\u001b[39m \u001b[38;5;124m'\u001b[39m\u001b[38;5;124mb\u001b[39m\u001b[38;5;124m'\u001b[39m\n\u001b[0;32m    172\u001b[0m \u001b[38;5;28;01mif\u001b[39;00m fileobj \u001b[38;5;129;01mis\u001b[39;00m \u001b[38;5;28;01mNone\u001b[39;00m:\n\u001b[1;32m--> 173\u001b[0m     fileobj \u001b[38;5;241m=\u001b[39m \u001b[38;5;28mself\u001b[39m\u001b[38;5;241m.\u001b[39mmyfileobj \u001b[38;5;241m=\u001b[39m \u001b[43mbuiltins\u001b[49m\u001b[38;5;241;43m.\u001b[39;49m\u001b[43mopen\u001b[49m\u001b[43m(\u001b[49m\u001b[43mfilename\u001b[49m\u001b[43m,\u001b[49m\u001b[43m \u001b[49m\u001b[43mmode\u001b[49m\u001b[43m \u001b[49m\u001b[38;5;129;43;01mor\u001b[39;49;00m\u001b[43m \u001b[49m\u001b[38;5;124;43m'\u001b[39;49m\u001b[38;5;124;43mrb\u001b[39;49m\u001b[38;5;124;43m'\u001b[39;49m\u001b[43m)\u001b[49m\n\u001b[0;32m    174\u001b[0m \u001b[38;5;28;01mif\u001b[39;00m filename \u001b[38;5;129;01mis\u001b[39;00m \u001b[38;5;28;01mNone\u001b[39;00m:\n\u001b[0;32m    175\u001b[0m     filename \u001b[38;5;241m=\u001b[39m \u001b[38;5;28mgetattr\u001b[39m(fileobj, \u001b[38;5;124m'\u001b[39m\u001b[38;5;124mname\u001b[39m\u001b[38;5;124m'\u001b[39m, \u001b[38;5;124m'\u001b[39m\u001b[38;5;124m'\u001b[39m)\n",
      "\u001b[1;31mPermissionError\u001b[0m: [Errno 13] Permission denied: 'used_carsnew.csv.gz'"
     ]
    }
   ],
   "source": []
  },
  {
   "cell_type": "code",
   "execution_count": null,
   "id": "2bed2c94",
   "metadata": {},
   "outputs": [],
   "source": []
  }
 ],
 "metadata": {
  "kernelspec": {
   "display_name": "Python 3 (ipykernel)",
   "language": "python",
   "name": "python3"
  },
  "language_info": {
   "codemirror_mode": {
    "name": "ipython",
    "version": 3
   },
   "file_extension": ".py",
   "mimetype": "text/x-python",
   "name": "python",
   "nbconvert_exporter": "python",
   "pygments_lexer": "ipython3",
   "version": "3.9.12"
  }
 },
 "nbformat": 4,
 "nbformat_minor": 5
}
