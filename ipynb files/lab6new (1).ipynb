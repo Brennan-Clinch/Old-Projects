{
 "cells": [
  {
   "cell_type": "code",
   "execution_count": 4,
   "metadata": {},
   "outputs": [
    {
     "name": "stdout",
     "output_type": "stream",
     "text": [
      "52\n"
     ]
    }
   ],
   "source": [
    "#Problem 1\n",
    "#Use a Python loop to compute:\n",
    "#   1+2-3+4-5+⋯-99+100\n",
    "#\n",
    "#Your solution goes below:\n",
    "result = 1\n",
    "for x in range (2,101):\n",
    "    if x%2 ==0:\n",
    "        result += x\n",
    "    else:\n",
    "        result -= x\n",
    "print(result)\n",
    "result = 0"
   ]
  },
  {
   "cell_type": "code",
   "execution_count": 3,
   "metadata": {},
   "outputs": [
    {
     "name": "stdout",
     "output_type": "stream",
     "text": [
      "The list is: [57, 91, 5, 88, 27, 36, 24, 60, 32, 85, 54, 43, 22, 20, 92, 44, 6, 2, 54, 45, 80, 36, 97, 13, 66, 2, 50, 7, 61, 15, 39, 46, 89, 72, 29, 63, 96, 32, 87, 65, 21, 48, 6, 30, 74, 77, 27, 97, 32, 77, 93, 100, 85, 74, 1, 4, 55, 25, 69, 84, 64, 77, 7, 26, 66, 17, 79, 28, 83, 11, 67, 75, 91, 90, 4, 85, 38, 99, 13, 39, 43, 51, 18, 0, 51, 98, 44, 86, 66, 2, 14, 9, 16, 82, 44, 33, 31, 10, 79, 81]\n",
      "The Difference list is: [34, -86, 83, -61, 9, -12, 36, -28, 53, -31, -11, -21, -2, 72, -48, -38, -4, 52, -9, 35, -44, 61, -84, 53, -64, 48, -43, 54, -46, 24, 7, 43, -17, -43, 34, 33, -64, 55, -22, -44, 27, -42, 24, 44, 3, -50, 70, -65, 45, 16, 7, -15, -11, -73, 3, 51, -30, 44, 15, -20, 13, -70, 19, 40, -49, 62, -51, 55, -72, 56, 8, 16, -1, -86, 81, -47, 61, -86, 26, 4, 8, -33, -18, 51, 47, -54, 42, -20, -64, 12, -5, 7, 66, -38, -11, -2, -21, 69, 2]\n"
     ]
    }
   ],
   "source": [
    "#Problem 2\n",
    "\n",
    "import random\n",
    "List = [random.randint(0,100) for _i in range(100)]\n",
    "Difference = []\n",
    "def difference(List):\n",
    "    #Your solution goes below:\n",
    "    for i in range(len(List)-1):\n",
    "        x = List[i+1]-List[i]\n",
    "        Difference.append(x)\n",
    "difference(List)\n",
    "print(\"The list is:\", List)\n",
    "print(\"The Difference list is:\", Difference)"
   ]
  },
  {
   "cell_type": "code",
   "execution_count": 2,
   "metadata": {},
   "outputs": [
    {
     "name": "stdout",
     "output_type": "stream",
     "text": [
      "The volume of the sphere with radius 12 is 603.1857894892403 cubic units.\n",
      "The volume of the sphere with radius 4 is 67.02064327658225 cubic units.\n",
      "The volume of the sphere with radius 8 is 268.082573106329 cubic units.\n"
     ]
    }
   ],
   "source": [
    "#Problem 3\n",
    "#Your solution goes below:\n",
    "import math, random\n",
    "def volume_sphere(r):\n",
    "    volume = (4/3)*math.pi*(r**2)\n",
    "    return volume\n",
    "    \n",
    "x = random.randint(1,30)\n",
    "y = random.randint(1,30)\n",
    "z = random.randint(1,30)\n",
    "print(\"The volume of the sphere with radius\", x, \"is\", volume_sphere(x), \"cubic units.\")\n",
    "print(\"The volume of the sphere with radius\", y, \"is\", volume_sphere(y), \"cubic units.\")\n",
    "print(\"The volume of the sphere with radius\", z, \"is\", volume_sphere(z), \"cubic units.\")"
   ]
  },
  {
   "cell_type": "code",
   "execution_count": 1,
   "metadata": {},
   "outputs": [
    {
     "name": "stdout",
     "output_type": "stream",
     "text": [
      "The youngest is: Hason\n",
      "The oldest is : Evan\n"
     ]
    }
   ],
   "source": [
    "#Problem 4\n",
    "infor = {'Alice':20,'Bob':25,'Caro':40,'David':32,'Evan':60,'Frank':38,'Greg':45,'Hason':12,'Izzy':33,'Jason':17,'Kyle':23}\n",
    "#Your solution goes below:\n",
    "age = sorted(infor, key=infor.get)\n",
    "print(\"The youngest is:\", age[0]) \n",
    "print(\"The oldest is :\", age[10])\n"
   ]
  },
  {
   "cell_type": "code",
   "execution_count": null,
   "metadata": {},
   "outputs": [],
   "source": []
  }
 ],
 "metadata": {
  "kernelspec": {
   "display_name": "Python 3",
   "language": "python",
   "name": "python3"
  },
  "language_info": {
   "codemirror_mode": {
    "name": "ipython",
    "version": 3
   },
   "file_extension": ".py",
   "mimetype": "text/x-python",
   "name": "python",
   "nbconvert_exporter": "python",
   "pygments_lexer": "ipython3",
   "version": "3.7.3"
  }
 },
 "nbformat": 4,
 "nbformat_minor": 2
}
