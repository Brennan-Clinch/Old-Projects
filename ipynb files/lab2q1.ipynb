{
 "cells": [
  {
   "cell_type": "code",
   "execution_count": 1,
   "metadata": {},
   "outputs": [
    {
     "name": "stdout",
     "output_type": "stream",
     "text": [
      "< 0.46 > < -6.18 >\n"
     ]
    }
   ],
   "source": [
    "#problem1\n",
    "a = 3.5\n",
    "b = 20\n",
    "c = -10\n",
    "import math\n",
    "x = (-b + math.sqrt((b**2)-4*a*c))/(2*a)\n",
    "y = (-b - math.sqrt((b**2)-4*a*c))/(2*a)\n",
    "root1 = round(x, 2)\n",
    "root2 = round(y, 2)\n",
    "root1, root2\n",
    "str(root1)\n",
    "str(root2)\n",
    "print(\"<\",root1,\">\", \"<\",root2,\">\")"
   ]
  },
  {
   "cell_type": "code",
   "execution_count": null,
   "metadata": {},
   "outputs": [],
   "source": []
  }
 ],
 "metadata": {
  "kernelspec": {
   "display_name": "Python 3",
   "language": "python",
   "name": "python3"
  },
  "language_info": {
   "codemirror_mode": {
    "name": "ipython",
    "version": 3
   },
   "file_extension": ".py",
   "mimetype": "text/x-python",
   "name": "python",
   "nbconvert_exporter": "python",
   "pygments_lexer": "ipython3",
   "version": "3.7.3"
  }
 },
 "nbformat": 4,
 "nbformat_minor": 2
}
