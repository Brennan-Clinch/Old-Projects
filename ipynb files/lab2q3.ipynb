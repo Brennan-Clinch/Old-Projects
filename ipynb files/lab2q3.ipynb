{
 "cells": [
  {
   "cell_type": "code",
   "execution_count": 1,
   "metadata": {},
   "outputs": [
    {
     "name": "stdout",
     "output_type": "stream",
     "text": [
      "Name: Brennan Clinch\n",
      "Age: 20\n",
      "Courses attending this semester: ECO 225 ECO 240 IT 166 MAT 351\n"
     ]
    }
   ],
   "source": [
    "#problem3\n",
    "information_list = [\"Brennan\", \"Clinch\", 20 , \"ECO 225\", \"ECO 240\", \"IT 166\", \"MAT 351\"]\n",
    "print (\"Name:\", information_list[0], information_list[1])\n",
    "print (\"Age:\", information_list[2])\n",
    "print (\"Courses attending this semester:\", information_list[3], information_list[4], information_list[5], information_list[6])"
   ]
  },
  {
   "cell_type": "code",
   "execution_count": null,
   "metadata": {},
   "outputs": [],
   "source": [
    "\n"
   ]
  },
  {
   "cell_type": "code",
   "execution_count": null,
   "metadata": {},
   "outputs": [],
   "source": []
  }
 ],
 "metadata": {
  "kernelspec": {
   "display_name": "Python 3",
   "language": "python",
   "name": "python3"
  },
  "language_info": {
   "codemirror_mode": {
    "name": "ipython",
    "version": 3
   },
   "file_extension": ".py",
   "mimetype": "text/x-python",
   "name": "python",
   "nbconvert_exporter": "python",
   "pygments_lexer": "ipython3",
   "version": "3.7.3"
  }
 },
 "nbformat": 4,
 "nbformat_minor": 2
}
