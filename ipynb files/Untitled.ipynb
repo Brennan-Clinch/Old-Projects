{
 "cells": [
  {
   "cell_type": "code",
   "execution_count": null,
   "metadata": {},
   "outputs": [],
   "source": [
    "import socket\n",
    "from Crypto.PublicKey import RSA\n",
    "from Crypto.Cipher import AES\n",
    "from Crypto import Random\n",
    "from Crypto.Hash import SHA256\n",
    "random_generator = Random.new().read\n",
    "\n",
    "\n",
    "def main():\n",
    "    host = '127.0.0.1'\n",
    "    port = 5000\n",
    "\n",
    "    s = socket.socket()\n",
    "    s.bind((host,port))\n",
    "\n",
    "    s.listen(1)\n",
    "    c, addr = s.accept()\n",
    "    print (\"Connection from: \",addr)\n",
    "    while True:\n",
    "\n",
    "        data = c.recv(1024)\n",
    "        if not data:\n",
    "            break\n",
    "        print (\"from connected user: \",data.decode())\n",
    "        print (\"Start the SSL handshake...\")\n",
    "        input (\"Press Enter to generate the key pair.\")\n",
    "        key = RSA.generate(1024, random_generator)\n",
    "        public_key = key.publickey()\n",
    "        print (\"Key pair generated.\")\n",
    "        input (\"Press Enter to send the public key to the client.\")\n",
    "        print (\"Sending the public key...\")\n",
    "        c.send(public_key.exportkey())\n",
    "        print (\"Public key sent.\")\n",
    "        print (\"Waiting for the secret list...\")\n",
    "        if c.recv(1024):\n",
    "            print (\"List received.\")\n",
    "        input (\"Press Enter to check the information from the list.\")\n",
    "        print (\"Sending the cipher text...\")\n",
    "        #data = str(data).upper()\n",
    "        print (\"sending: \",data.decode())\n",
    "        c.send(data.decode().upper().encode())\n",
    "        print (\"Cipher text sent\")\n",
    "        \n",
    "if __name__ == '__main__':\n",
    "    main()"
   ]
  },
  {
   "cell_type": "code",
   "execution_count": null,
   "metadata": {},
   "outputs": [],
   "source": []
  }
 ],
 "metadata": {
  "kernelspec": {
   "display_name": "Python 3",
   "language": "python",
   "name": "python3"
  },
  "language_info": {
   "codemirror_mode": {
    "name": "ipython",
    "version": 3
   },
   "file_extension": ".py",
   "mimetype": "text/x-python",
   "name": "python",
   "nbconvert_exporter": "python",
   "pygments_lexer": "ipython3",
   "version": "3.7.3"
  }
 },
 "nbformat": 4,
 "nbformat_minor": 2
}
