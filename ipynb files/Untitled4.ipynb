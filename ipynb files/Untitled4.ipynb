{
 "cells": [
  {
   "cell_type": "code",
   "execution_count": 1,
   "metadata": {},
   "outputs": [
    {
     "name": "stdout",
     "output_type": "stream",
     "text": [
      "Encrypted text: ks betweeneehteUetthdeeuto eotkorberet hdohtshuteehers tooeoretvUstetesbehtste rht orteUetnoreectsrrorudhoteoteUet hdohcetrUde theooedseorcte ooeeedhoteUsethotdddeudseetehutdetdhtedoUet orteUets eotdhu eer cet ohoeeeteerdbetdhtuersueehtkUeteeewsrbtdhtes bet o  oneuteeters tus eto tretoreeuttrooreeetweeneehteUetenotedueehtkUe tUoteteotresrUtsthent o ra esrtues htkerr ttdeeeecteUettdrettreedueheto teUetthdeeuto eotkorberet hdohtheooedsedhoteesdcteehetst eeeerteotdedweretdduus td hus tes dhoteUseteUet hdoht o huteUetrodtsh cet seeeetrohersrettrotoes teotweteoes   t hsrretesw eteoteUet hdohh\n",
      "\n",
      "\n"
     ]
    },
    {
     "ename": "NameError",
     "evalue": "name 'alphabet' is not defined",
     "output_type": "error",
     "traceback": [
      "\u001b[1;31m---------------------------------------------------------------------------\u001b[0m",
      "\u001b[1;31mNameError\u001b[0m                                 Traceback (most recent call last)",
      "\u001b[1;32m<ipython-input-1-3f47a4883d4a>\u001b[0m in \u001b[0;36m<module>\u001b[1;34m\u001b[0m\n\u001b[0;32m     58\u001b[0m     \u001b[0mprint\u001b[0m\u001b[1;33m(\u001b[0m\u001b[1;34m\"Encrypted text: \"\u001b[0m \u001b[1;33m+\u001b[0m\u001b[0mcaesar\u001b[0m\u001b[1;33m.\u001b[0m\u001b[0mencrypt\u001b[0m\u001b[1;33m(\u001b[0m\u001b[0mplain_text\u001b[0m\u001b[1;33m)\u001b[0m\u001b[1;33m)\u001b[0m\u001b[1;33m\u001b[0m\u001b[1;33m\u001b[0m\u001b[0m\n\u001b[0;32m     59\u001b[0m     \u001b[0mprint\u001b[0m\u001b[1;33m(\u001b[0m\u001b[1;34m'\\n'\u001b[0m\u001b[1;33m)\u001b[0m\u001b[1;33m\u001b[0m\u001b[1;33m\u001b[0m\u001b[0m\n\u001b[1;32m---> 60\u001b[1;33m     \u001b[0mprint\u001b[0m\u001b[1;33m(\u001b[0m\u001b[1;34m\"Decrypted text: \"\u001b[0m\u001b[1;33m+\u001b[0m\u001b[0mcaesar\u001b[0m\u001b[1;33m.\u001b[0m\u001b[0mdecrypt\u001b[0m\u001b[1;33m(\u001b[0m\u001b[1;33m)\u001b[0m\u001b[1;33m)\u001b[0m\u001b[1;33m\u001b[0m\u001b[1;33m\u001b[0m\u001b[0m\n\u001b[0m\u001b[0;32m     61\u001b[0m \u001b[1;33m\u001b[0m\u001b[0m\n\u001b[0;32m     62\u001b[0m     \u001b[0mvigenere\u001b[0m \u001b[1;33m=\u001b[0m \u001b[0mVigenereCipher\u001b[0m\u001b[1;33m(\u001b[0m\u001b[0mplain_text\u001b[0m\u001b[1;33m[\u001b[0m\u001b[1;33m:\u001b[0m\u001b[1;36m5\u001b[0m\u001b[1;33m]\u001b[0m\u001b[1;33m,\u001b[0m\u001b[0mlook_up_list_gen\u001b[0m\u001b[1;33m(\u001b[0m\u001b[0mplain_text\u001b[0m\u001b[1;33m)\u001b[0m\u001b[1;33m)\u001b[0m\u001b[1;33m\u001b[0m\u001b[1;33m\u001b[0m\u001b[0m\n",
      "\u001b[1;32m<ipython-input-1-3f47a4883d4a>\u001b[0m in \u001b[0;36mdecrypt\u001b[1;34m(self)\u001b[0m\n\u001b[0;32m     28\u001b[0m \u001b[1;33m\u001b[0m\u001b[0m\n\u001b[0;32m     29\u001b[0m         \u001b[1;32mfor\u001b[0m \u001b[0mj\u001b[0m \u001b[1;32min\u001b[0m \u001b[0mplain_text\u001b[0m\u001b[1;33m:\u001b[0m\u001b[1;33m\u001b[0m\u001b[1;33m\u001b[0m\u001b[0m\n\u001b[1;32m---> 30\u001b[1;33m             \u001b[1;32mif\u001b[0m \u001b[0mj\u001b[0m \u001b[1;32min\u001b[0m \u001b[0malphabet\u001b[0m\u001b[1;33m:\u001b[0m\u001b[1;33m\u001b[0m\u001b[1;33m\u001b[0m\u001b[0m\n\u001b[0m\u001b[0;32m     31\u001b[0m \u001b[1;33m\u001b[0m\u001b[0m\n\u001b[0;32m     32\u001b[0m                 \u001b[0mindex\u001b[0m \u001b[1;33m=\u001b[0m \u001b[1;33m(\u001b[0m\u001b[0malphabet\u001b[0m\u001b[1;33m.\u001b[0m\u001b[0mfind\u001b[0m\u001b[1;33m(\u001b[0m\u001b[0mj\u001b[0m\u001b[1;33m)\u001b[0m \u001b[1;33m-\u001b[0m \u001b[0mself\u001b[0m\u001b[1;33m.\u001b[0m\u001b[0mkey\u001b[0m\u001b[1;33m)\u001b[0m\u001b[1;33m%\u001b[0m\u001b[0mlen\u001b[0m\u001b[1;33m(\u001b[0m\u001b[0malphabet\u001b[0m\u001b[1;33m)\u001b[0m\u001b[1;33m\u001b[0m\u001b[1;33m\u001b[0m\u001b[0m\n",
      "\u001b[1;31mNameError\u001b[0m: name 'alphabet' is not defined"
     ]
    }
   ],
   "source": [
    "plain_text = \"Talks between the United Auto Workers union and General Motors \\\"have taken a turn for the worse, according to the union's chief negotiator, suggesting that no immediate end is in sight for the auto industry's longest strike in decades. The setback in talks followed several days of reported progress between the two sides. They hope to reach a new four-year deal. Terry Dittes, the vice president of the United Auto Workers union negotiating team, sent a letter to members midday Sunday saying that the union found the company's latest contract proposal to be totally unacceptable to the union.\"\n",
    "\n",
    "def look_up_list_gen(text):\n",
    "    return list(set(text))\n",
    "\n",
    "\n",
    "class CaesarCipher:\n",
    "    def __init__(self, key, look_up_list):\n",
    "        assert(key > 0 and type(key) == int)\n",
    "        self.key = 3\n",
    "        self.look_up_list = look_up_list_gen(plain_text)\n",
    "    def encrypt(self, plain_text):\n",
    "        cipher_text = ''\n",
    "        for i in plain_text:\n",
    "                if i.isalpha:\n",
    "                    index = (plain_text.find(i)+self.key)%len(plain_text)\n",
    "                    cipher_text = cipher_text + plain_text[index]\n",
    "                    \n",
    "                else:\n",
    "                    cipher_text = cipher_text + i\n",
    "        return cipher_text\n",
    "        \n",
    "        \n",
    "    def decrypt(self):\n",
    "        cipher_text = '' \n",
    "       \n",
    "       \n",
    "       \n",
    "        for j in plain_text:\n",
    "            if j in alphabet:\n",
    "            \n",
    "                index = (alphabet.find(j) - self.key)%len(alphabet)\n",
    "                cipher_text = cipher_text + alphabet[index]\n",
    "                self.look_up_list = cipher_text\n",
    "            else:\n",
    "                cipher_text = cipher_text + j\n",
    "        return cipher_text\n",
    "\n",
    "\n",
    "class VigenereCipher:\n",
    "    def __init__(self, key, look_up_list):\n",
    "        assert(type(key) == str)\n",
    "        self.key = ''\n",
    "        self.look_up_list = []\n",
    "    def encrypt(self, plain_text):\n",
    "        assert(len(self.key) <= len(plain_text))\n",
    "       \n",
    "       \n",
    "       \n",
    "            \n",
    "                 \n",
    "    def decrypt(self):\n",
    "        g           \n",
    "            \n",
    "if __name__ == \"__main__\":\n",
    "    caesar = CaesarCipher(89000,look_up_list_gen(plain_text))\n",
    "    caesar.encrypt(plain_text)\n",
    "    print(\"Encrypted text: \" +caesar.encrypt(plain_text))\n",
    "    print('\\n')\n",
    "    print(\"Decrypted text: \"+caesar.decrypt())\n",
    "\n",
    "    vigenere = VigenereCipher(plain_text[:5],look_up_list_gen(plain_text))\n",
    "    vigenere.encrypt(plain_text)\n",
    "    print(\"Encrypted text: \"+ vigener.encrypt_text)\n",
    "    print(\"Decrypted text: \"+vigener.decrypt())                      "
   ]
  },
  {
   "cell_type": "code",
   "execution_count": null,
   "metadata": {},
   "outputs": [],
   "source": []
  },
  {
   "cell_type": "code",
   "execution_count": null,
   "metadata": {},
   "outputs": [],
   "source": []
  }
 ],
 "metadata": {
  "kernelspec": {
   "display_name": "Python 3",
   "language": "python",
   "name": "python3"
  },
  "language_info": {
   "codemirror_mode": {
    "name": "ipython",
    "version": 3
   },
   "file_extension": ".py",
   "mimetype": "text/x-python",
   "name": "python",
   "nbconvert_exporter": "python",
   "pygments_lexer": "ipython3",
   "version": "3.7.3"
  }
 },
 "nbformat": 4,
 "nbformat_minor": 2
}
